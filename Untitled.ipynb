{
  "cells": [
    {
      "cell_type": "markdown",
      "metadata": {
        "id": "view-in-github",
        "colab_type": "text"
      },
      "source": [
        "<a href=\"https://colab.research.google.com/github/mr-rojit/movies-reviews-sentiment-analysis/blob/main/Untitled.ipynb\" target=\"_parent\"><img src=\"https://colab.research.google.com/assets/colab-badge.svg\" alt=\"Open In Colab\"/></a>"
      ]
    },
    {
      "cell_type": "code",
      "execution_count": 1,
      "id": "2a34e22f-983e-449d-84fa-a79fcf629ecb",
      "metadata": {
        "id": "2a34e22f-983e-449d-84fa-a79fcf629ecb"
      },
      "outputs": [],
      "source": [
        "import numpy as np\n",
        "import pandas as pd\n",
        "import seaborn as sns\n",
        "import plotly.express as px\n",
        "import matplotlib.pyplot as plt\n",
        "import string\n",
        "import re\n",
        "\n",
        "from nltk.corpus import stopwords\n",
        "from nltk.tokenize import word_tokenize\n",
        "from nltk.stem import WordNetLemmatizer\n",
        "\n",
        "from gensim.models import word2vec"
      ]
    },
    {
      "cell_type": "markdown",
      "id": "fefcfe55-31e2-4aea-aed6-aa91dcc42a21",
      "metadata": {
        "id": "fefcfe55-31e2-4aea-aed6-aa91dcc42a21"
      },
      "source": [
        "### Exploratory Data Analysis"
      ]
    },
    {
      "cell_type": "code",
      "execution_count": 2,
      "id": "5acbe48c-c200-4ced-903d-b5f7a42c6cdf",
      "metadata": {
        "colab": {
          "base_uri": "https://localhost:8080/",
          "height": 363
        },
        "id": "5acbe48c-c200-4ced-903d-b5f7a42c6cdf",
        "outputId": "44930cff-1354-487e-ba32-32c265fea933"
      },
      "outputs": [
        {
          "output_type": "execute_result",
          "data": {
            "text/plain": [
              "                 user       date_review  stars  \\\n",
              "0        MovieWarfare  17 February 2024   1/10   \n",
              "1             syntory  15 February 2024   2/10   \n",
              "2            AlsExGal  17 February 2024   2/10   \n",
              "3     Orlando_Gardner      19 July 2023   9/10   \n",
              "4          AfricanBro  26 February 2024   9/10   \n",
              "5             her5066  26 February 2024  10/10   \n",
              "6       and_mikkelsen  28 February 2024  10/10   \n",
              "7            parksiet  31 December 2023   4/10   \n",
              "8  Pjtaylor-96-138044   23 January 2024   5/10   \n",
              "9  ThereelscoopwithKK     12 March 2024   1/10   \n",
              "\n",
              "                                        title_review  \\\n",
              "0          Makes Morbius look like The Dark Knight\\n   \n",
              "1   How are bad writers able to continually get h...   \n",
              "2   I had a bad feeling about this one, going in....   \n",
              "3                            Murphy is exceptional\\n   \n",
              "4                           Long live the fighters\\n   \n",
              "5                    This is what Hollywood needs!\\n   \n",
              "6   Ladies and gentleman.. the PEAK of filmmaking...   \n",
              "7                                       Not for me\\n   \n",
              "8   Turns out the real poor things were the audie...   \n",
              "9                            Pompous and Grotesque\\n   \n",
              "\n",
              "                                              review  \n",
              "0  I would absolutely love to be in these Sony me...  \n",
              "1  Look at the profiles for the writers that wrot...  \n",
              "2  ... when I saw Dakota Johnson was starring in ...  \n",
              "3  You'll have to have your wits about you and yo...  \n",
              "4  Phenomenal stuff. I'll probably calm down tomo...  \n",
              "5  This is what Hollywood needs. A great story wi...  \n",
              "6  This is the kind of movie that is impossible t...  \n",
              "7  Poor Things simply just wasn't for me. I reall...  \n",
              "8  Poor Things (2023) is an ostensibly feminist f...  \n",
              "9  A movie that's decorated as something special ...  "
            ],
            "text/html": [
              "\n",
              "  <div id=\"df-40f10cb7-8d62-4b3d-ba6c-5c84dd4d2b65\" class=\"colab-df-container\">\n",
              "    <div>\n",
              "<style scoped>\n",
              "    .dataframe tbody tr th:only-of-type {\n",
              "        vertical-align: middle;\n",
              "    }\n",
              "\n",
              "    .dataframe tbody tr th {\n",
              "        vertical-align: top;\n",
              "    }\n",
              "\n",
              "    .dataframe thead th {\n",
              "        text-align: right;\n",
              "    }\n",
              "</style>\n",
              "<table border=\"1\" class=\"dataframe\">\n",
              "  <thead>\n",
              "    <tr style=\"text-align: right;\">\n",
              "      <th></th>\n",
              "      <th>user</th>\n",
              "      <th>date_review</th>\n",
              "      <th>stars</th>\n",
              "      <th>title_review</th>\n",
              "      <th>review</th>\n",
              "    </tr>\n",
              "  </thead>\n",
              "  <tbody>\n",
              "    <tr>\n",
              "      <th>0</th>\n",
              "      <td>MovieWarfare</td>\n",
              "      <td>17 February 2024</td>\n",
              "      <td>1/10</td>\n",
              "      <td>Makes Morbius look like The Dark Knight\\n</td>\n",
              "      <td>I would absolutely love to be in these Sony me...</td>\n",
              "    </tr>\n",
              "    <tr>\n",
              "      <th>1</th>\n",
              "      <td>syntory</td>\n",
              "      <td>15 February 2024</td>\n",
              "      <td>2/10</td>\n",
              "      <td>How are bad writers able to continually get h...</td>\n",
              "      <td>Look at the profiles for the writers that wrot...</td>\n",
              "    </tr>\n",
              "    <tr>\n",
              "      <th>2</th>\n",
              "      <td>AlsExGal</td>\n",
              "      <td>17 February 2024</td>\n",
              "      <td>2/10</td>\n",
              "      <td>I had a bad feeling about this one, going in....</td>\n",
              "      <td>... when I saw Dakota Johnson was starring in ...</td>\n",
              "    </tr>\n",
              "    <tr>\n",
              "      <th>3</th>\n",
              "      <td>Orlando_Gardner</td>\n",
              "      <td>19 July 2023</td>\n",
              "      <td>9/10</td>\n",
              "      <td>Murphy is exceptional\\n</td>\n",
              "      <td>You'll have to have your wits about you and yo...</td>\n",
              "    </tr>\n",
              "    <tr>\n",
              "      <th>4</th>\n",
              "      <td>AfricanBro</td>\n",
              "      <td>26 February 2024</td>\n",
              "      <td>9/10</td>\n",
              "      <td>Long live the fighters\\n</td>\n",
              "      <td>Phenomenal stuff. I'll probably calm down tomo...</td>\n",
              "    </tr>\n",
              "    <tr>\n",
              "      <th>5</th>\n",
              "      <td>her5066</td>\n",
              "      <td>26 February 2024</td>\n",
              "      <td>10/10</td>\n",
              "      <td>This is what Hollywood needs!\\n</td>\n",
              "      <td>This is what Hollywood needs. A great story wi...</td>\n",
              "    </tr>\n",
              "    <tr>\n",
              "      <th>6</th>\n",
              "      <td>and_mikkelsen</td>\n",
              "      <td>28 February 2024</td>\n",
              "      <td>10/10</td>\n",
              "      <td>Ladies and gentleman.. the PEAK of filmmaking...</td>\n",
              "      <td>This is the kind of movie that is impossible t...</td>\n",
              "    </tr>\n",
              "    <tr>\n",
              "      <th>7</th>\n",
              "      <td>parksiet</td>\n",
              "      <td>31 December 2023</td>\n",
              "      <td>4/10</td>\n",
              "      <td>Not for me\\n</td>\n",
              "      <td>Poor Things simply just wasn't for me. I reall...</td>\n",
              "    </tr>\n",
              "    <tr>\n",
              "      <th>8</th>\n",
              "      <td>Pjtaylor-96-138044</td>\n",
              "      <td>23 January 2024</td>\n",
              "      <td>5/10</td>\n",
              "      <td>Turns out the real poor things were the audie...</td>\n",
              "      <td>Poor Things (2023) is an ostensibly feminist f...</td>\n",
              "    </tr>\n",
              "    <tr>\n",
              "      <th>9</th>\n",
              "      <td>ThereelscoopwithKK</td>\n",
              "      <td>12 March 2024</td>\n",
              "      <td>1/10</td>\n",
              "      <td>Pompous and Grotesque\\n</td>\n",
              "      <td>A movie that's decorated as something special ...</td>\n",
              "    </tr>\n",
              "  </tbody>\n",
              "</table>\n",
              "</div>\n",
              "    <div class=\"colab-df-buttons\">\n",
              "\n",
              "  <div class=\"colab-df-container\">\n",
              "    <button class=\"colab-df-convert\" onclick=\"convertToInteractive('df-40f10cb7-8d62-4b3d-ba6c-5c84dd4d2b65')\"\n",
              "            title=\"Convert this dataframe to an interactive table.\"\n",
              "            style=\"display:none;\">\n",
              "\n",
              "  <svg xmlns=\"http://www.w3.org/2000/svg\" height=\"24px\" viewBox=\"0 -960 960 960\">\n",
              "    <path d=\"M120-120v-720h720v720H120Zm60-500h600v-160H180v160Zm220 220h160v-160H400v160Zm0 220h160v-160H400v160ZM180-400h160v-160H180v160Zm440 0h160v-160H620v160ZM180-180h160v-160H180v160Zm440 0h160v-160H620v160Z\"/>\n",
              "  </svg>\n",
              "    </button>\n",
              "\n",
              "  <style>\n",
              "    .colab-df-container {\n",
              "      display:flex;\n",
              "      gap: 12px;\n",
              "    }\n",
              "\n",
              "    .colab-df-convert {\n",
              "      background-color: #E8F0FE;\n",
              "      border: none;\n",
              "      border-radius: 50%;\n",
              "      cursor: pointer;\n",
              "      display: none;\n",
              "      fill: #1967D2;\n",
              "      height: 32px;\n",
              "      padding: 0 0 0 0;\n",
              "      width: 32px;\n",
              "    }\n",
              "\n",
              "    .colab-df-convert:hover {\n",
              "      background-color: #E2EBFA;\n",
              "      box-shadow: 0px 1px 2px rgba(60, 64, 67, 0.3), 0px 1px 3px 1px rgba(60, 64, 67, 0.15);\n",
              "      fill: #174EA6;\n",
              "    }\n",
              "\n",
              "    .colab-df-buttons div {\n",
              "      margin-bottom: 4px;\n",
              "    }\n",
              "\n",
              "    [theme=dark] .colab-df-convert {\n",
              "      background-color: #3B4455;\n",
              "      fill: #D2E3FC;\n",
              "    }\n",
              "\n",
              "    [theme=dark] .colab-df-convert:hover {\n",
              "      background-color: #434B5C;\n",
              "      box-shadow: 0px 1px 3px 1px rgba(0, 0, 0, 0.15);\n",
              "      filter: drop-shadow(0px 1px 2px rgba(0, 0, 0, 0.3));\n",
              "      fill: #FFFFFF;\n",
              "    }\n",
              "  </style>\n",
              "\n",
              "    <script>\n",
              "      const buttonEl =\n",
              "        document.querySelector('#df-40f10cb7-8d62-4b3d-ba6c-5c84dd4d2b65 button.colab-df-convert');\n",
              "      buttonEl.style.display =\n",
              "        google.colab.kernel.accessAllowed ? 'block' : 'none';\n",
              "\n",
              "      async function convertToInteractive(key) {\n",
              "        const element = document.querySelector('#df-40f10cb7-8d62-4b3d-ba6c-5c84dd4d2b65');\n",
              "        const dataTable =\n",
              "          await google.colab.kernel.invokeFunction('convertToInteractive',\n",
              "                                                    [key], {});\n",
              "        if (!dataTable) return;\n",
              "\n",
              "        const docLinkHtml = 'Like what you see? Visit the ' +\n",
              "          '<a target=\"_blank\" href=https://colab.research.google.com/notebooks/data_table.ipynb>data table notebook</a>'\n",
              "          + ' to learn more about interactive tables.';\n",
              "        element.innerHTML = '';\n",
              "        dataTable['output_type'] = 'display_data';\n",
              "        await google.colab.output.renderOutput(dataTable, element);\n",
              "        const docLink = document.createElement('div');\n",
              "        docLink.innerHTML = docLinkHtml;\n",
              "        element.appendChild(docLink);\n",
              "      }\n",
              "    </script>\n",
              "  </div>\n",
              "\n",
              "\n",
              "<div id=\"df-0ce38653-64e6-47b8-9caf-962948ce6a28\">\n",
              "  <button class=\"colab-df-quickchart\" onclick=\"quickchart('df-0ce38653-64e6-47b8-9caf-962948ce6a28')\"\n",
              "            title=\"Suggest charts\"\n",
              "            style=\"display:none;\">\n",
              "\n",
              "<svg xmlns=\"http://www.w3.org/2000/svg\" height=\"24px\"viewBox=\"0 0 24 24\"\n",
              "     width=\"24px\">\n",
              "    <g>\n",
              "        <path d=\"M19 3H5c-1.1 0-2 .9-2 2v14c0 1.1.9 2 2 2h14c1.1 0 2-.9 2-2V5c0-1.1-.9-2-2-2zM9 17H7v-7h2v7zm4 0h-2V7h2v10zm4 0h-2v-4h2v4z\"/>\n",
              "    </g>\n",
              "</svg>\n",
              "  </button>\n",
              "\n",
              "<style>\n",
              "  .colab-df-quickchart {\n",
              "      --bg-color: #E8F0FE;\n",
              "      --fill-color: #1967D2;\n",
              "      --hover-bg-color: #E2EBFA;\n",
              "      --hover-fill-color: #174EA6;\n",
              "      --disabled-fill-color: #AAA;\n",
              "      --disabled-bg-color: #DDD;\n",
              "  }\n",
              "\n",
              "  [theme=dark] .colab-df-quickchart {\n",
              "      --bg-color: #3B4455;\n",
              "      --fill-color: #D2E3FC;\n",
              "      --hover-bg-color: #434B5C;\n",
              "      --hover-fill-color: #FFFFFF;\n",
              "      --disabled-bg-color: #3B4455;\n",
              "      --disabled-fill-color: #666;\n",
              "  }\n",
              "\n",
              "  .colab-df-quickchart {\n",
              "    background-color: var(--bg-color);\n",
              "    border: none;\n",
              "    border-radius: 50%;\n",
              "    cursor: pointer;\n",
              "    display: none;\n",
              "    fill: var(--fill-color);\n",
              "    height: 32px;\n",
              "    padding: 0;\n",
              "    width: 32px;\n",
              "  }\n",
              "\n",
              "  .colab-df-quickchart:hover {\n",
              "    background-color: var(--hover-bg-color);\n",
              "    box-shadow: 0 1px 2px rgba(60, 64, 67, 0.3), 0 1px 3px 1px rgba(60, 64, 67, 0.15);\n",
              "    fill: var(--button-hover-fill-color);\n",
              "  }\n",
              "\n",
              "  .colab-df-quickchart-complete:disabled,\n",
              "  .colab-df-quickchart-complete:disabled:hover {\n",
              "    background-color: var(--disabled-bg-color);\n",
              "    fill: var(--disabled-fill-color);\n",
              "    box-shadow: none;\n",
              "  }\n",
              "\n",
              "  .colab-df-spinner {\n",
              "    border: 2px solid var(--fill-color);\n",
              "    border-color: transparent;\n",
              "    border-bottom-color: var(--fill-color);\n",
              "    animation:\n",
              "      spin 1s steps(1) infinite;\n",
              "  }\n",
              "\n",
              "  @keyframes spin {\n",
              "    0% {\n",
              "      border-color: transparent;\n",
              "      border-bottom-color: var(--fill-color);\n",
              "      border-left-color: var(--fill-color);\n",
              "    }\n",
              "    20% {\n",
              "      border-color: transparent;\n",
              "      border-left-color: var(--fill-color);\n",
              "      border-top-color: var(--fill-color);\n",
              "    }\n",
              "    30% {\n",
              "      border-color: transparent;\n",
              "      border-left-color: var(--fill-color);\n",
              "      border-top-color: var(--fill-color);\n",
              "      border-right-color: var(--fill-color);\n",
              "    }\n",
              "    40% {\n",
              "      border-color: transparent;\n",
              "      border-right-color: var(--fill-color);\n",
              "      border-top-color: var(--fill-color);\n",
              "    }\n",
              "    60% {\n",
              "      border-color: transparent;\n",
              "      border-right-color: var(--fill-color);\n",
              "    }\n",
              "    80% {\n",
              "      border-color: transparent;\n",
              "      border-right-color: var(--fill-color);\n",
              "      border-bottom-color: var(--fill-color);\n",
              "    }\n",
              "    90% {\n",
              "      border-color: transparent;\n",
              "      border-bottom-color: var(--fill-color);\n",
              "    }\n",
              "  }\n",
              "</style>\n",
              "\n",
              "  <script>\n",
              "    async function quickchart(key) {\n",
              "      const quickchartButtonEl =\n",
              "        document.querySelector('#' + key + ' button');\n",
              "      quickchartButtonEl.disabled = true;  // To prevent multiple clicks.\n",
              "      quickchartButtonEl.classList.add('colab-df-spinner');\n",
              "      try {\n",
              "        const charts = await google.colab.kernel.invokeFunction(\n",
              "            'suggestCharts', [key], {});\n",
              "      } catch (error) {\n",
              "        console.error('Error during call to suggestCharts:', error);\n",
              "      }\n",
              "      quickchartButtonEl.classList.remove('colab-df-spinner');\n",
              "      quickchartButtonEl.classList.add('colab-df-quickchart-complete');\n",
              "    }\n",
              "    (() => {\n",
              "      let quickchartButtonEl =\n",
              "        document.querySelector('#df-0ce38653-64e6-47b8-9caf-962948ce6a28 button');\n",
              "      quickchartButtonEl.style.display =\n",
              "        google.colab.kernel.accessAllowed ? 'block' : 'none';\n",
              "    })();\n",
              "  </script>\n",
              "</div>\n",
              "\n",
              "    </div>\n",
              "  </div>\n"
            ],
            "application/vnd.google.colaboratory.intrinsic+json": {
              "type": "dataframe",
              "variable_name": "df",
              "summary": "{\n  \"name\": \"df\",\n  \"rows\": 5058,\n  \"fields\": [\n    {\n      \"column\": \"user\",\n      \"properties\": {\n        \"dtype\": \"category\",\n        \"num_unique_values\": 2184,\n        \"samples\": [\n          \"eamon-hennedy\",\n          \"jordynnaef\",\n          \"RJBrez\"\n        ],\n        \"semantic_type\": \"\",\n        \"description\": \"\"\n      }\n    },\n    {\n      \"column\": \"date_review\",\n      \"properties\": {\n        \"dtype\": \"object\",\n        \"num_unique_values\": 3462,\n        \"samples\": [\n          \"31 May 2007\",\n          \"1 July 2005\",\n          \"23 February 2007\"\n        ],\n        \"semantic_type\": \"\",\n        \"description\": \"\"\n      }\n    },\n    {\n      \"column\": \"stars\",\n      \"properties\": {\n        \"dtype\": \"category\",\n        \"num_unique_values\": 7,\n        \"samples\": [\n          \"1/10\",\n          \"2/10\",\n          \"5/10\"\n        ],\n        \"semantic_type\": \"\",\n        \"description\": \"\"\n      }\n    },\n    {\n      \"column\": \"title_review\",\n      \"properties\": {\n        \"dtype\": \"string\",\n        \"num_unique_values\": 4995,\n        \"samples\": [\n          \" Can you really even call it a movie?\\n\",\n          \" Holy . . . one of the best movies I have ever seen.\\n\",\n          \" Utterly depressing...\\n\"\n        ],\n        \"semantic_type\": \"\",\n        \"description\": \"\"\n      }\n    },\n    {\n      \"column\": \"review\",\n      \"properties\": {\n        \"dtype\": \"string\",\n        \"num_unique_values\": 5058,\n        \"samples\": [\n          \"In my 61 years, I have seen many science fiction films. Few have exceeded my expectations as this film did. I remember seeing it in a theater (something I rarely trouble myself with these days), and finding myself at times gripping the armrests in excitement. This film builds like great stories should. However, even the best stories can collapse under the weight of a bad script, poor acting, or shoddy editing. I'm happy to say that none of these issues plagued this film. Ms. Foster delivers an extremely powerful performance and is a wonderful role model for women in science. All of the other actors also deliver memorable performances, but make no mistake, it is Ms. Foster's polished performance you will be thinking about when this film ends.Much has been made of the last 1/4 of this film, with many viewers feeling a let down. I get that. The amazing build up and tension in the third quarter of the film is quite unexpected, but if you approach the final quarter thoughtfully, you'll see that it makes perfect scientific sense. That's rare in any science fiction film pitched to mass audiences. As such, this film makes an amazing contribution to the entire genera.\",\n          \"One word that sums up this whole film is \\\"Magnificent\\\".This was Kaif's one of the best performance I've seen. And, no doubt in Sethupati sir's act as well. The whole cast did an amazing work. Stellar performance from every actors who were seen on the screen.I have always been an enthusiast of crime thriller noir cinema and this is a film which I will add up to my list.The first half of the films was just 2 characters having conversation and some might feel tedious, but that part of the film did okay for me. It was kind of like Before Sunrise. I knew that it was creating an unhurried build-up for the second half. It really tests your ability to stay patience. As it was sir Raghavan's sir film I was pretty sure that the characters were hiding something which we are going to experience with some massive twists and turns in the second half.And when the second half hit the show not even a single person that were watching the film in theater got distracted, they were wholly into the film.The cinematography and the direction of the whole film was top notch. It really was offering a beautiful shots with momentous secrets of the characters.I was expecting more people to be on theater for this film. But, sadly there were only few. And If I am not wrong people will talk more about this film after it comes on OTT.\",\n          \"This was the final film that played at the Fantasy Filmfest in Germany (and will be playing in a few more cities after Berlin and Stuttgart to be more precise, in the next couple of weeks) - and what a film it is. It reminded me of some really good slow paced and creepy horror movies I have seen - and a bit of Stephen King (in more than one way).We got a foreword by the director and she sort of said ... well revealed something major - a twist that is. I will not do that, even though apparently the movie has been misused to spread a certain kind of message. To that I can only say: do not read too much into certain things! This is a horror movie and while it does have something to say overall, this is not (covid) pandemic related.Great actors and if you are like me and do not read anything about this ... quite a few surprises coming your way ... with a lot of Christmas songs to counter the mood - but no Last Christmas or Rudolph the Red Nosed Reindeer ... in case you were wondering.\"\n        ],\n        \"semantic_type\": \"\",\n        \"description\": \"\"\n      }\n    }\n  ]\n}"
            }
          },
          "metadata": {},
          "execution_count": 2
        }
      ],
      "source": [
        "df = pd.read_csv('movies_reviews_final.csv')\n",
        "df.head(10)"
      ]
    },
    {
      "cell_type": "code",
      "execution_count": 3,
      "id": "88a96d11-c0cf-41a2-b89b-0aa7e9593657",
      "metadata": {
        "colab": {
          "base_uri": "https://localhost:8080/"
        },
        "id": "88a96d11-c0cf-41a2-b89b-0aa7e9593657",
        "outputId": "708d4a34-544a-4cb3-f2f1-09635befd620"
      },
      "outputs": [
        {
          "output_type": "execute_result",
          "data": {
            "text/plain": [
              "(5058, 5)"
            ]
          },
          "metadata": {},
          "execution_count": 3
        }
      ],
      "source": [
        "df.shape"
      ]
    },
    {
      "cell_type": "code",
      "execution_count": 4,
      "id": "26d6f204-8409-4f3c-a00f-0f81a7bfac39",
      "metadata": {
        "colab": {
          "base_uri": "https://localhost:8080/"
        },
        "id": "26d6f204-8409-4f3c-a00f-0f81a7bfac39",
        "outputId": "7297da0b-5fff-4add-d1b3-d30008e79448"
      },
      "outputs": [
        {
          "output_type": "stream",
          "name": "stdout",
          "text": [
            "<class 'pandas.core.frame.DataFrame'>\n",
            "RangeIndex: 5058 entries, 0 to 5057\n",
            "Data columns (total 5 columns):\n",
            " #   Column        Non-Null Count  Dtype \n",
            "---  ------        --------------  ----- \n",
            " 0   user          5058 non-null   object\n",
            " 1   date_review   5058 non-null   object\n",
            " 2   stars         5058 non-null   object\n",
            " 3   title_review  5058 non-null   object\n",
            " 4   review        5058 non-null   object\n",
            "dtypes: object(5)\n",
            "memory usage: 197.7+ KB\n"
          ]
        }
      ],
      "source": [
        "df.info()"
      ]
    },
    {
      "cell_type": "markdown",
      "id": "8ac1b158-85f1-45bc-83a4-5b4591f270c4",
      "metadata": {
        "id": "8ac1b158-85f1-45bc-83a4-5b4591f270c4"
      },
      "source": [
        "### Transforming stars column(extracting star provied by user)"
      ]
    },
    {
      "cell_type": "code",
      "execution_count": 5,
      "id": "9d64172b-27c2-496d-87d2-d315cf2213e4",
      "metadata": {
        "id": "9d64172b-27c2-496d-87d2-d315cf2213e4"
      },
      "outputs": [],
      "source": [
        "def extract_stars(data):\n",
        "    star = int(data.split('/')[0])\n",
        "    return 0 if star<=5 else 1\n",
        ""
      ]
    },
    {
      "cell_type": "code",
      "execution_count": 6,
      "id": "2b611e67-afae-48b0-9934-7ce350608fcc",
      "metadata": {
        "id": "2b611e67-afae-48b0-9934-7ce350608fcc"
      },
      "outputs": [],
      "source": [
        "df['sentiment'] = df['stars'].apply(extract_stars)"
      ]
    },
    {
      "cell_type": "code",
      "execution_count": 7,
      "id": "42f9b725-565a-46dc-ad9b-a2c854c6482c",
      "metadata": {
        "colab": {
          "base_uri": "https://localhost:8080/",
          "height": 206
        },
        "id": "42f9b725-565a-46dc-ad9b-a2c854c6482c",
        "outputId": "6345e498-a4f1-47a0-c589-61f266c2e65b"
      },
      "outputs": [
        {
          "output_type": "execute_result",
          "data": {
            "text/plain": [
              "              user       date_review stars  \\\n",
              "0     MovieWarfare  17 February 2024  1/10   \n",
              "1          syntory  15 February 2024  2/10   \n",
              "2         AlsExGal  17 February 2024  2/10   \n",
              "3  Orlando_Gardner      19 July 2023  9/10   \n",
              "4       AfricanBro  26 February 2024  9/10   \n",
              "\n",
              "                                        title_review  \\\n",
              "0          Makes Morbius look like The Dark Knight\\n   \n",
              "1   How are bad writers able to continually get h...   \n",
              "2   I had a bad feeling about this one, going in....   \n",
              "3                            Murphy is exceptional\\n   \n",
              "4                           Long live the fighters\\n   \n",
              "\n",
              "                                              review  sentiment  \n",
              "0  I would absolutely love to be in these Sony me...          0  \n",
              "1  Look at the profiles for the writers that wrot...          0  \n",
              "2  ... when I saw Dakota Johnson was starring in ...          0  \n",
              "3  You'll have to have your wits about you and yo...          1  \n",
              "4  Phenomenal stuff. I'll probably calm down tomo...          1  "
            ],
            "text/html": [
              "\n",
              "  <div id=\"df-c0ef09ab-ddef-45f6-a1d9-a63eef5a9e06\" class=\"colab-df-container\">\n",
              "    <div>\n",
              "<style scoped>\n",
              "    .dataframe tbody tr th:only-of-type {\n",
              "        vertical-align: middle;\n",
              "    }\n",
              "\n",
              "    .dataframe tbody tr th {\n",
              "        vertical-align: top;\n",
              "    }\n",
              "\n",
              "    .dataframe thead th {\n",
              "        text-align: right;\n",
              "    }\n",
              "</style>\n",
              "<table border=\"1\" class=\"dataframe\">\n",
              "  <thead>\n",
              "    <tr style=\"text-align: right;\">\n",
              "      <th></th>\n",
              "      <th>user</th>\n",
              "      <th>date_review</th>\n",
              "      <th>stars</th>\n",
              "      <th>title_review</th>\n",
              "      <th>review</th>\n",
              "      <th>sentiment</th>\n",
              "    </tr>\n",
              "  </thead>\n",
              "  <tbody>\n",
              "    <tr>\n",
              "      <th>0</th>\n",
              "      <td>MovieWarfare</td>\n",
              "      <td>17 February 2024</td>\n",
              "      <td>1/10</td>\n",
              "      <td>Makes Morbius look like The Dark Knight\\n</td>\n",
              "      <td>I would absolutely love to be in these Sony me...</td>\n",
              "      <td>0</td>\n",
              "    </tr>\n",
              "    <tr>\n",
              "      <th>1</th>\n",
              "      <td>syntory</td>\n",
              "      <td>15 February 2024</td>\n",
              "      <td>2/10</td>\n",
              "      <td>How are bad writers able to continually get h...</td>\n",
              "      <td>Look at the profiles for the writers that wrot...</td>\n",
              "      <td>0</td>\n",
              "    </tr>\n",
              "    <tr>\n",
              "      <th>2</th>\n",
              "      <td>AlsExGal</td>\n",
              "      <td>17 February 2024</td>\n",
              "      <td>2/10</td>\n",
              "      <td>I had a bad feeling about this one, going in....</td>\n",
              "      <td>... when I saw Dakota Johnson was starring in ...</td>\n",
              "      <td>0</td>\n",
              "    </tr>\n",
              "    <tr>\n",
              "      <th>3</th>\n",
              "      <td>Orlando_Gardner</td>\n",
              "      <td>19 July 2023</td>\n",
              "      <td>9/10</td>\n",
              "      <td>Murphy is exceptional\\n</td>\n",
              "      <td>You'll have to have your wits about you and yo...</td>\n",
              "      <td>1</td>\n",
              "    </tr>\n",
              "    <tr>\n",
              "      <th>4</th>\n",
              "      <td>AfricanBro</td>\n",
              "      <td>26 February 2024</td>\n",
              "      <td>9/10</td>\n",
              "      <td>Long live the fighters\\n</td>\n",
              "      <td>Phenomenal stuff. I'll probably calm down tomo...</td>\n",
              "      <td>1</td>\n",
              "    </tr>\n",
              "  </tbody>\n",
              "</table>\n",
              "</div>\n",
              "    <div class=\"colab-df-buttons\">\n",
              "\n",
              "  <div class=\"colab-df-container\">\n",
              "    <button class=\"colab-df-convert\" onclick=\"convertToInteractive('df-c0ef09ab-ddef-45f6-a1d9-a63eef5a9e06')\"\n",
              "            title=\"Convert this dataframe to an interactive table.\"\n",
              "            style=\"display:none;\">\n",
              "\n",
              "  <svg xmlns=\"http://www.w3.org/2000/svg\" height=\"24px\" viewBox=\"0 -960 960 960\">\n",
              "    <path d=\"M120-120v-720h720v720H120Zm60-500h600v-160H180v160Zm220 220h160v-160H400v160Zm0 220h160v-160H400v160ZM180-400h160v-160H180v160Zm440 0h160v-160H620v160ZM180-180h160v-160H180v160Zm440 0h160v-160H620v160Z\"/>\n",
              "  </svg>\n",
              "    </button>\n",
              "\n",
              "  <style>\n",
              "    .colab-df-container {\n",
              "      display:flex;\n",
              "      gap: 12px;\n",
              "    }\n",
              "\n",
              "    .colab-df-convert {\n",
              "      background-color: #E8F0FE;\n",
              "      border: none;\n",
              "      border-radius: 50%;\n",
              "      cursor: pointer;\n",
              "      display: none;\n",
              "      fill: #1967D2;\n",
              "      height: 32px;\n",
              "      padding: 0 0 0 0;\n",
              "      width: 32px;\n",
              "    }\n",
              "\n",
              "    .colab-df-convert:hover {\n",
              "      background-color: #E2EBFA;\n",
              "      box-shadow: 0px 1px 2px rgba(60, 64, 67, 0.3), 0px 1px 3px 1px rgba(60, 64, 67, 0.15);\n",
              "      fill: #174EA6;\n",
              "    }\n",
              "\n",
              "    .colab-df-buttons div {\n",
              "      margin-bottom: 4px;\n",
              "    }\n",
              "\n",
              "    [theme=dark] .colab-df-convert {\n",
              "      background-color: #3B4455;\n",
              "      fill: #D2E3FC;\n",
              "    }\n",
              "\n",
              "    [theme=dark] .colab-df-convert:hover {\n",
              "      background-color: #434B5C;\n",
              "      box-shadow: 0px 1px 3px 1px rgba(0, 0, 0, 0.15);\n",
              "      filter: drop-shadow(0px 1px 2px rgba(0, 0, 0, 0.3));\n",
              "      fill: #FFFFFF;\n",
              "    }\n",
              "  </style>\n",
              "\n",
              "    <script>\n",
              "      const buttonEl =\n",
              "        document.querySelector('#df-c0ef09ab-ddef-45f6-a1d9-a63eef5a9e06 button.colab-df-convert');\n",
              "      buttonEl.style.display =\n",
              "        google.colab.kernel.accessAllowed ? 'block' : 'none';\n",
              "\n",
              "      async function convertToInteractive(key) {\n",
              "        const element = document.querySelector('#df-c0ef09ab-ddef-45f6-a1d9-a63eef5a9e06');\n",
              "        const dataTable =\n",
              "          await google.colab.kernel.invokeFunction('convertToInteractive',\n",
              "                                                    [key], {});\n",
              "        if (!dataTable) return;\n",
              "\n",
              "        const docLinkHtml = 'Like what you see? Visit the ' +\n",
              "          '<a target=\"_blank\" href=https://colab.research.google.com/notebooks/data_table.ipynb>data table notebook</a>'\n",
              "          + ' to learn more about interactive tables.';\n",
              "        element.innerHTML = '';\n",
              "        dataTable['output_type'] = 'display_data';\n",
              "        await google.colab.output.renderOutput(dataTable, element);\n",
              "        const docLink = document.createElement('div');\n",
              "        docLink.innerHTML = docLinkHtml;\n",
              "        element.appendChild(docLink);\n",
              "      }\n",
              "    </script>\n",
              "  </div>\n",
              "\n",
              "\n",
              "<div id=\"df-682a5de8-5597-4c0e-bd42-786e5582f5d0\">\n",
              "  <button class=\"colab-df-quickchart\" onclick=\"quickchart('df-682a5de8-5597-4c0e-bd42-786e5582f5d0')\"\n",
              "            title=\"Suggest charts\"\n",
              "            style=\"display:none;\">\n",
              "\n",
              "<svg xmlns=\"http://www.w3.org/2000/svg\" height=\"24px\"viewBox=\"0 0 24 24\"\n",
              "     width=\"24px\">\n",
              "    <g>\n",
              "        <path d=\"M19 3H5c-1.1 0-2 .9-2 2v14c0 1.1.9 2 2 2h14c1.1 0 2-.9 2-2V5c0-1.1-.9-2-2-2zM9 17H7v-7h2v7zm4 0h-2V7h2v10zm4 0h-2v-4h2v4z\"/>\n",
              "    </g>\n",
              "</svg>\n",
              "  </button>\n",
              "\n",
              "<style>\n",
              "  .colab-df-quickchart {\n",
              "      --bg-color: #E8F0FE;\n",
              "      --fill-color: #1967D2;\n",
              "      --hover-bg-color: #E2EBFA;\n",
              "      --hover-fill-color: #174EA6;\n",
              "      --disabled-fill-color: #AAA;\n",
              "      --disabled-bg-color: #DDD;\n",
              "  }\n",
              "\n",
              "  [theme=dark] .colab-df-quickchart {\n",
              "      --bg-color: #3B4455;\n",
              "      --fill-color: #D2E3FC;\n",
              "      --hover-bg-color: #434B5C;\n",
              "      --hover-fill-color: #FFFFFF;\n",
              "      --disabled-bg-color: #3B4455;\n",
              "      --disabled-fill-color: #666;\n",
              "  }\n",
              "\n",
              "  .colab-df-quickchart {\n",
              "    background-color: var(--bg-color);\n",
              "    border: none;\n",
              "    border-radius: 50%;\n",
              "    cursor: pointer;\n",
              "    display: none;\n",
              "    fill: var(--fill-color);\n",
              "    height: 32px;\n",
              "    padding: 0;\n",
              "    width: 32px;\n",
              "  }\n",
              "\n",
              "  .colab-df-quickchart:hover {\n",
              "    background-color: var(--hover-bg-color);\n",
              "    box-shadow: 0 1px 2px rgba(60, 64, 67, 0.3), 0 1px 3px 1px rgba(60, 64, 67, 0.15);\n",
              "    fill: var(--button-hover-fill-color);\n",
              "  }\n",
              "\n",
              "  .colab-df-quickchart-complete:disabled,\n",
              "  .colab-df-quickchart-complete:disabled:hover {\n",
              "    background-color: var(--disabled-bg-color);\n",
              "    fill: var(--disabled-fill-color);\n",
              "    box-shadow: none;\n",
              "  }\n",
              "\n",
              "  .colab-df-spinner {\n",
              "    border: 2px solid var(--fill-color);\n",
              "    border-color: transparent;\n",
              "    border-bottom-color: var(--fill-color);\n",
              "    animation:\n",
              "      spin 1s steps(1) infinite;\n",
              "  }\n",
              "\n",
              "  @keyframes spin {\n",
              "    0% {\n",
              "      border-color: transparent;\n",
              "      border-bottom-color: var(--fill-color);\n",
              "      border-left-color: var(--fill-color);\n",
              "    }\n",
              "    20% {\n",
              "      border-color: transparent;\n",
              "      border-left-color: var(--fill-color);\n",
              "      border-top-color: var(--fill-color);\n",
              "    }\n",
              "    30% {\n",
              "      border-color: transparent;\n",
              "      border-left-color: var(--fill-color);\n",
              "      border-top-color: var(--fill-color);\n",
              "      border-right-color: var(--fill-color);\n",
              "    }\n",
              "    40% {\n",
              "      border-color: transparent;\n",
              "      border-right-color: var(--fill-color);\n",
              "      border-top-color: var(--fill-color);\n",
              "    }\n",
              "    60% {\n",
              "      border-color: transparent;\n",
              "      border-right-color: var(--fill-color);\n",
              "    }\n",
              "    80% {\n",
              "      border-color: transparent;\n",
              "      border-right-color: var(--fill-color);\n",
              "      border-bottom-color: var(--fill-color);\n",
              "    }\n",
              "    90% {\n",
              "      border-color: transparent;\n",
              "      border-bottom-color: var(--fill-color);\n",
              "    }\n",
              "  }\n",
              "</style>\n",
              "\n",
              "  <script>\n",
              "    async function quickchart(key) {\n",
              "      const quickchartButtonEl =\n",
              "        document.querySelector('#' + key + ' button');\n",
              "      quickchartButtonEl.disabled = true;  // To prevent multiple clicks.\n",
              "      quickchartButtonEl.classList.add('colab-df-spinner');\n",
              "      try {\n",
              "        const charts = await google.colab.kernel.invokeFunction(\n",
              "            'suggestCharts', [key], {});\n",
              "      } catch (error) {\n",
              "        console.error('Error during call to suggestCharts:', error);\n",
              "      }\n",
              "      quickchartButtonEl.classList.remove('colab-df-spinner');\n",
              "      quickchartButtonEl.classList.add('colab-df-quickchart-complete');\n",
              "    }\n",
              "    (() => {\n",
              "      let quickchartButtonEl =\n",
              "        document.querySelector('#df-682a5de8-5597-4c0e-bd42-786e5582f5d0 button');\n",
              "      quickchartButtonEl.style.display =\n",
              "        google.colab.kernel.accessAllowed ? 'block' : 'none';\n",
              "    })();\n",
              "  </script>\n",
              "</div>\n",
              "\n",
              "    </div>\n",
              "  </div>\n"
            ],
            "application/vnd.google.colaboratory.intrinsic+json": {
              "type": "dataframe",
              "variable_name": "df",
              "summary": "{\n  \"name\": \"df\",\n  \"rows\": 5058,\n  \"fields\": [\n    {\n      \"column\": \"user\",\n      \"properties\": {\n        \"dtype\": \"category\",\n        \"num_unique_values\": 2184,\n        \"samples\": [\n          \"eamon-hennedy\",\n          \"jordynnaef\",\n          \"RJBrez\"\n        ],\n        \"semantic_type\": \"\",\n        \"description\": \"\"\n      }\n    },\n    {\n      \"column\": \"date_review\",\n      \"properties\": {\n        \"dtype\": \"object\",\n        \"num_unique_values\": 3462,\n        \"samples\": [\n          \"31 May 2007\",\n          \"1 July 2005\",\n          \"23 February 2007\"\n        ],\n        \"semantic_type\": \"\",\n        \"description\": \"\"\n      }\n    },\n    {\n      \"column\": \"stars\",\n      \"properties\": {\n        \"dtype\": \"category\",\n        \"num_unique_values\": 7,\n        \"samples\": [\n          \"1/10\",\n          \"2/10\",\n          \"5/10\"\n        ],\n        \"semantic_type\": \"\",\n        \"description\": \"\"\n      }\n    },\n    {\n      \"column\": \"title_review\",\n      \"properties\": {\n        \"dtype\": \"string\",\n        \"num_unique_values\": 4995,\n        \"samples\": [\n          \" Can you really even call it a movie?\\n\",\n          \" Holy . . . one of the best movies I have ever seen.\\n\",\n          \" Utterly depressing...\\n\"\n        ],\n        \"semantic_type\": \"\",\n        \"description\": \"\"\n      }\n    },\n    {\n      \"column\": \"review\",\n      \"properties\": {\n        \"dtype\": \"string\",\n        \"num_unique_values\": 5058,\n        \"samples\": [\n          \"In my 61 years, I have seen many science fiction films. Few have exceeded my expectations as this film did. I remember seeing it in a theater (something I rarely trouble myself with these days), and finding myself at times gripping the armrests in excitement. This film builds like great stories should. However, even the best stories can collapse under the weight of a bad script, poor acting, or shoddy editing. I'm happy to say that none of these issues plagued this film. Ms. Foster delivers an extremely powerful performance and is a wonderful role model for women in science. All of the other actors also deliver memorable performances, but make no mistake, it is Ms. Foster's polished performance you will be thinking about when this film ends.Much has been made of the last 1/4 of this film, with many viewers feeling a let down. I get that. The amazing build up and tension in the third quarter of the film is quite unexpected, but if you approach the final quarter thoughtfully, you'll see that it makes perfect scientific sense. That's rare in any science fiction film pitched to mass audiences. As such, this film makes an amazing contribution to the entire genera.\",\n          \"One word that sums up this whole film is \\\"Magnificent\\\".This was Kaif's one of the best performance I've seen. And, no doubt in Sethupati sir's act as well. The whole cast did an amazing work. Stellar performance from every actors who were seen on the screen.I have always been an enthusiast of crime thriller noir cinema and this is a film which I will add up to my list.The first half of the films was just 2 characters having conversation and some might feel tedious, but that part of the film did okay for me. It was kind of like Before Sunrise. I knew that it was creating an unhurried build-up for the second half. It really tests your ability to stay patience. As it was sir Raghavan's sir film I was pretty sure that the characters were hiding something which we are going to experience with some massive twists and turns in the second half.And when the second half hit the show not even a single person that were watching the film in theater got distracted, they were wholly into the film.The cinematography and the direction of the whole film was top notch. It really was offering a beautiful shots with momentous secrets of the characters.I was expecting more people to be on theater for this film. But, sadly there were only few. And If I am not wrong people will talk more about this film after it comes on OTT.\",\n          \"This was the final film that played at the Fantasy Filmfest in Germany (and will be playing in a few more cities after Berlin and Stuttgart to be more precise, in the next couple of weeks) - and what a film it is. It reminded me of some really good slow paced and creepy horror movies I have seen - and a bit of Stephen King (in more than one way).We got a foreword by the director and she sort of said ... well revealed something major - a twist that is. I will not do that, even though apparently the movie has been misused to spread a certain kind of message. To that I can only say: do not read too much into certain things! This is a horror movie and while it does have something to say overall, this is not (covid) pandemic related.Great actors and if you are like me and do not read anything about this ... quite a few surprises coming your way ... with a lot of Christmas songs to counter the mood - but no Last Christmas or Rudolph the Red Nosed Reindeer ... in case you were wondering.\"\n        ],\n        \"semantic_type\": \"\",\n        \"description\": \"\"\n      }\n    },\n    {\n      \"column\": \"sentiment\",\n      \"properties\": {\n        \"dtype\": \"number\",\n        \"std\": 0,\n        \"min\": 0,\n        \"max\": 1,\n        \"num_unique_values\": 2,\n        \"samples\": [\n          1,\n          0\n        ],\n        \"semantic_type\": \"\",\n        \"description\": \"\"\n      }\n    }\n  ]\n}"
            }
          },
          "metadata": {},
          "execution_count": 7
        }
      ],
      "source": [
        "df.head()"
      ]
    },
    {
      "cell_type": "code",
      "execution_count": 8,
      "id": "9924372d-1cea-4022-841e-adfb97757d8b",
      "metadata": {
        "colab": {
          "base_uri": "https://localhost:8080/",
          "height": 517
        },
        "id": "9924372d-1cea-4022-841e-adfb97757d8b",
        "outputId": "69f3dff7-5afd-4d22-8c1a-ecc9421bab1d"
      },
      "outputs": [
        {
          "output_type": "display_data",
          "data": {
            "text/html": [
              "<html>\n",
              "<head><meta charset=\"utf-8\" /></head>\n",
              "<body>\n",
              "    <div>            <script src=\"https://cdnjs.cloudflare.com/ajax/libs/mathjax/2.7.5/MathJax.js?config=TeX-AMS-MML_SVG\"></script><script type=\"text/javascript\">if (window.MathJax && window.MathJax.Hub && window.MathJax.Hub.Config) {window.MathJax.Hub.Config({SVG: {font: \"STIX-Web\"}});}</script>                <script type=\"text/javascript\">window.PlotlyConfig = {MathJaxConfig: 'local'};</script>\n",
              "        <script charset=\"utf-8\" src=\"https://cdn.plot.ly/plotly-2.24.1.min.js\"></script>                <div id=\"25deffc6-a12e-4048-8c8e-f37c6f67fe67\" class=\"plotly-graph-div\" style=\"height:500px; width:100%;\"></div>            <script type=\"text/javascript\">                                    window.PLOTLYENV=window.PLOTLYENV || {};                                    if (document.getElementById(\"25deffc6-a12e-4048-8c8e-f37c6f67fe67\")) {                    Plotly.newPlot(                        \"25deffc6-a12e-4048-8c8e-f37c6f67fe67\",                        [{\"alignmentgroup\":\"True\",\"bingroup\":\"x\",\"hovertemplate\":\"stars=%{x}\\u003cbr\\u003ecount=%{y}\\u003cextra\\u003e\\u003c\\u002fextra\\u003e\",\"legendgroup\":\"1\\u002f10\",\"marker\":{\"color\":\"#636efa\",\"pattern\":{\"shape\":\"\"}},\"name\":\"1\\u002f10\",\"offsetgroup\":\"1\\u002f10\",\"orientation\":\"v\",\"showlegend\":true,\"x\":[\"1\\u002f10\",\"1\\u002f10\",\"1\\u002f10\",\"1\\u002f10\",\"1\\u002f10\",\"1\\u002f10\",\"1\\u002f10\",\"1\\u002f10\",\"1\\u002f10\",\"1\\u002f10\",\"1\\u002f10\",\"1\\u002f10\",\"1\\u002f10\",\"1\\u002f10\",\"1\\u002f10\",\"1\\u002f10\",\"1\\u002f10\",\"1\\u002f10\",\"1\\u002f10\",\"1\\u002f10\",\"1\\u002f10\",\"1\\u002f10\",\"1\\u002f10\",\"1\\u002f10\",\"1\\u002f10\",\"1\\u002f10\",\"1\\u002f10\",\"1\\u002f10\",\"1\\u002f10\",\"1\\u002f10\",\"1\\u002f10\",\"1\\u002f10\",\"1\\u002f10\",\"1\\u002f10\",\"1\\u002f10\",\"1\\u002f10\",\"1\\u002f10\",\"1\\u002f10\",\"1\\u002f10\",\"1\\u002f10\",\"1\\u002f10\",\"1\\u002f10\",\"1\\u002f10\",\"1\\u002f10\",\"1\\u002f10\",\"1\\u002f10\",\"1\\u002f10\",\"1\\u002f10\",\"1\\u002f10\",\"1\\u002f10\",\"1\\u002f10\",\"1\\u002f10\",\"1\\u002f10\",\"1\\u002f10\",\"1\\u002f10\",\"1\\u002f10\",\"1\\u002f10\",\"1\\u002f10\",\"1\\u002f10\",\"1\\u002f10\",\"1\\u002f10\",\"1\\u002f10\",\"1\\u002f10\",\"1\\u002f10\",\"1\\u002f10\",\"1\\u002f10\",\"1\\u002f10\",\"1\\u002f10\",\"1\\u002f10\",\"1\\u002f10\",\"1\\u002f10\",\"1\\u002f10\",\"1\\u002f10\",\"1\\u002f10\",\"1\\u002f10\",\"1\\u002f10\",\"1\\u002f10\",\"1\\u002f10\",\"1\\u002f10\",\"1\\u002f10\",\"1\\u002f10\",\"1\\u002f10\",\"1\\u002f10\",\"1\\u002f10\",\"1\\u002f10\",\"1\\u002f10\",\"1\\u002f10\",\"1\\u002f10\",\"1\\u002f10\",\"1\\u002f10\",\"1\\u002f10\",\"1\\u002f10\",\"1\\u002f10\",\"1\\u002f10\",\"1\\u002f10\",\"1\\u002f10\",\"1\\u002f10\",\"1\\u002f10\",\"1\\u002f10\",\"1\\u002f10\",\"1\\u002f10\",\"1\\u002f10\",\"1\\u002f10\",\"1\\u002f10\",\"1\\u002f10\",\"1\\u002f10\",\"1\\u002f10\",\"1\\u002f10\",\"1\\u002f10\",\"1\\u002f10\",\"1\\u002f10\",\"1\\u002f10\",\"1\\u002f10\",\"1\\u002f10\",\"1\\u002f10\",\"1\\u002f10\",\"1\\u002f10\",\"1\\u002f10\",\"1\\u002f10\",\"1\\u002f10\",\"1\\u002f10\",\"1\\u002f10\",\"1\\u002f10\",\"1\\u002f10\",\"1\\u002f10\",\"1\\u002f10\",\"1\\u002f10\",\"1\\u002f10\",\"1\\u002f10\",\"1\\u002f10\",\"1\\u002f10\",\"1\\u002f10\",\"1\\u002f10\",\"1\\u002f10\",\"1\\u002f10\",\"1\\u002f10\",\"1\\u002f10\",\"1\\u002f10\",\"1\\u002f10\",\"1\\u002f10\",\"1\\u002f10\",\"1\\u002f10\",\"1\\u002f10\",\"1\\u002f10\",\"1\\u002f10\",\"1\\u002f10\",\"1\\u002f10\",\"1\\u002f10\",\"1\\u002f10\",\"1\\u002f10\",\"1\\u002f10\",\"1\\u002f10\",\"1\\u002f10\",\"1\\u002f10\",\"1\\u002f10\",\"1\\u002f10\",\"1\\u002f10\",\"1\\u002f10\",\"1\\u002f10\",\"1\\u002f10\",\"1\\u002f10\",\"1\\u002f10\",\"1\\u002f10\",\"1\\u002f10\",\"1\\u002f10\",\"1\\u002f10\",\"1\\u002f10\",\"1\\u002f10\",\"1\\u002f10\",\"1\\u002f10\",\"1\\u002f10\",\"1\\u002f10\",\"1\\u002f10\",\"1\\u002f10\",\"1\\u002f10\",\"1\\u002f10\",\"1\\u002f10\",\"1\\u002f10\",\"1\\u002f10\",\"1\\u002f10\",\"1\\u002f10\",\"1\\u002f10\",\"1\\u002f10\",\"1\\u002f10\",\"1\\u002f10\",\"1\\u002f10\",\"1\\u002f10\",\"1\\u002f10\",\"1\\u002f10\",\"1\\u002f10\",\"1\\u002f10\",\"1\\u002f10\",\"1\\u002f10\",\"1\\u002f10\",\"1\\u002f10\",\"1\\u002f10\",\"1\\u002f10\",\"1\\u002f10\",\"1\\u002f10\",\"1\\u002f10\",\"1\\u002f10\",\"1\\u002f10\",\"1\\u002f10\"],\"xaxis\":\"x\",\"yaxis\":\"y\",\"type\":\"histogram\"},{\"alignmentgroup\":\"True\",\"bingroup\":\"x\",\"hovertemplate\":\"stars=%{x}\\u003cbr\\u003ecount=%{y}\\u003cextra\\u003e\\u003c\\u002fextra\\u003e\",\"legendgroup\":\"2\\u002f10\",\"marker\":{\"color\":\"#EF553B\",\"pattern\":{\"shape\":\"\"}},\"name\":\"2\\u002f10\",\"offsetgroup\":\"2\\u002f10\",\"orientation\":\"v\",\"showlegend\":true,\"x\":[\"2\\u002f10\",\"2\\u002f10\",\"2\\u002f10\",\"2\\u002f10\",\"2\\u002f10\",\"2\\u002f10\",\"2\\u002f10\",\"2\\u002f10\",\"2\\u002f10\",\"2\\u002f10\",\"2\\u002f10\",\"2\\u002f10\",\"2\\u002f10\",\"2\\u002f10\",\"2\\u002f10\",\"2\\u002f10\",\"2\\u002f10\",\"2\\u002f10\",\"2\\u002f10\",\"2\\u002f10\",\"2\\u002f10\",\"2\\u002f10\",\"2\\u002f10\",\"2\\u002f10\",\"2\\u002f10\",\"2\\u002f10\",\"2\\u002f10\",\"2\\u002f10\",\"2\\u002f10\",\"2\\u002f10\",\"2\\u002f10\",\"2\\u002f10\",\"2\\u002f10\",\"2\\u002f10\",\"2\\u002f10\",\"2\\u002f10\",\"2\\u002f10\",\"2\\u002f10\",\"2\\u002f10\",\"2\\u002f10\",\"2\\u002f10\",\"2\\u002f10\",\"2\\u002f10\",\"2\\u002f10\",\"2\\u002f10\",\"2\\u002f10\",\"2\\u002f10\",\"2\\u002f10\",\"2\\u002f10\",\"2\\u002f10\",\"2\\u002f10\",\"2\\u002f10\",\"2\\u002f10\",\"2\\u002f10\",\"2\\u002f10\",\"2\\u002f10\",\"2\\u002f10\",\"2\\u002f10\",\"2\\u002f10\",\"2\\u002f10\",\"2\\u002f10\",\"2\\u002f10\",\"2\\u002f10\",\"2\\u002f10\",\"2\\u002f10\",\"2\\u002f10\",\"2\\u002f10\",\"2\\u002f10\",\"2\\u002f10\",\"2\\u002f10\",\"2\\u002f10\",\"2\\u002f10\",\"2\\u002f10\",\"2\\u002f10\",\"2\\u002f10\",\"2\\u002f10\",\"2\\u002f10\",\"2\\u002f10\",\"2\\u002f10\",\"2\\u002f10\",\"2\\u002f10\",\"2\\u002f10\",\"2\\u002f10\",\"2\\u002f10\",\"2\\u002f10\",\"2\\u002f10\",\"2\\u002f10\",\"2\\u002f10\",\"2\\u002f10\",\"2\\u002f10\",\"2\\u002f10\",\"2\\u002f10\",\"2\\u002f10\",\"2\\u002f10\",\"2\\u002f10\",\"2\\u002f10\",\"2\\u002f10\",\"2\\u002f10\",\"2\\u002f10\",\"2\\u002f10\",\"2\\u002f10\",\"2\\u002f10\",\"2\\u002f10\",\"2\\u002f10\",\"2\\u002f10\",\"2\\u002f10\",\"2\\u002f10\",\"2\\u002f10\",\"2\\u002f10\",\"2\\u002f10\",\"2\\u002f10\",\"2\\u002f10\",\"2\\u002f10\",\"2\\u002f10\",\"2\\u002f10\",\"2\\u002f10\",\"2\\u002f10\",\"2\\u002f10\",\"2\\u002f10\",\"2\\u002f10\",\"2\\u002f10\",\"2\\u002f10\",\"2\\u002f10\",\"2\\u002f10\",\"2\\u002f10\",\"2\\u002f10\",\"2\\u002f10\",\"2\\u002f10\",\"2\\u002f10\",\"2\\u002f10\",\"2\\u002f10\",\"2\\u002f10\",\"2\\u002f10\",\"2\\u002f10\",\"2\\u002f10\",\"2\\u002f10\",\"2\\u002f10\",\"2\\u002f10\",\"2\\u002f10\",\"2\\u002f10\",\"2\\u002f10\",\"2\\u002f10\",\"2\\u002f10\",\"2\\u002f10\",\"2\\u002f10\",\"2\\u002f10\",\"2\\u002f10\",\"2\\u002f10\",\"2\\u002f10\",\"2\\u002f10\",\"2\\u002f10\",\"2\\u002f10\",\"2\\u002f10\",\"2\\u002f10\",\"2\\u002f10\",\"2\\u002f10\",\"2\\u002f10\",\"2\\u002f10\",\"2\\u002f10\",\"2\\u002f10\",\"2\\u002f10\",\"2\\u002f10\",\"2\\u002f10\",\"2\\u002f10\",\"2\\u002f10\",\"2\\u002f10\",\"2\\u002f10\",\"2\\u002f10\",\"2\\u002f10\",\"2\\u002f10\",\"2\\u002f10\",\"2\\u002f10\",\"2\\u002f10\",\"2\\u002f10\",\"2\\u002f10\",\"2\\u002f10\",\"2\\u002f10\",\"2\\u002f10\",\"2\\u002f10\",\"2\\u002f10\",\"2\\u002f10\",\"2\\u002f10\",\"2\\u002f10\",\"2\\u002f10\",\"2\\u002f10\",\"2\\u002f10\"],\"xaxis\":\"x\",\"yaxis\":\"y\",\"type\":\"histogram\"},{\"alignmentgroup\":\"True\",\"bingroup\":\"x\",\"hovertemplate\":\"stars=%{x}\\u003cbr\\u003ecount=%{y}\\u003cextra\\u003e\\u003c\\u002fextra\\u003e\",\"legendgroup\":\"9\\u002f10\",\"marker\":{\"color\":\"#00cc96\",\"pattern\":{\"shape\":\"\"}},\"name\":\"9\\u002f10\",\"offsetgroup\":\"9\\u002f10\",\"orientation\":\"v\",\"showlegend\":true,\"x\":[\"9\\u002f10\",\"9\\u002f10\",\"9\\u002f10\",\"9\\u002f10\",\"9\\u002f10\",\"9\\u002f10\",\"9\\u002f10\",\"9\\u002f10\",\"9\\u002f10\",\"9\\u002f10\",\"9\\u002f10\",\"9\\u002f10\",\"9\\u002f10\",\"9\\u002f10\",\"9\\u002f10\",\"9\\u002f10\",\"9\\u002f10\",\"9\\u002f10\",\"9\\u002f10\",\"9\\u002f10\",\"9\\u002f10\",\"9\\u002f10\",\"9\\u002f10\",\"9\\u002f10\",\"9\\u002f10\",\"9\\u002f10\",\"9\\u002f10\",\"9\\u002f10\",\"9\\u002f10\",\"9\\u002f10\",\"9\\u002f10\",\"9\\u002f10\",\"9\\u002f10\",\"9\\u002f10\",\"9\\u002f10\",\"9\\u002f10\",\"9\\u002f10\",\"9\\u002f10\",\"9\\u002f10\",\"9\\u002f10\",\"9\\u002f10\",\"9\\u002f10\",\"9\\u002f10\",\"9\\u002f10\",\"9\\u002f10\",\"9\\u002f10\",\"9\\u002f10\",\"9\\u002f10\",\"9\\u002f10\",\"9\\u002f10\",\"9\\u002f10\",\"9\\u002f10\",\"9\\u002f10\",\"9\\u002f10\",\"9\\u002f10\",\"9\\u002f10\",\"9\\u002f10\",\"9\\u002f10\",\"9\\u002f10\",\"9\\u002f10\",\"9\\u002f10\",\"9\\u002f10\",\"9\\u002f10\",\"9\\u002f10\",\"9\\u002f10\",\"9\\u002f10\",\"9\\u002f10\",\"9\\u002f10\",\"9\\u002f10\",\"9\\u002f10\",\"9\\u002f10\",\"9\\u002f10\",\"9\\u002f10\",\"9\\u002f10\",\"9\\u002f10\",\"9\\u002f10\",\"9\\u002f10\",\"9\\u002f10\",\"9\\u002f10\",\"9\\u002f10\",\"9\\u002f10\",\"9\\u002f10\",\"9\\u002f10\",\"9\\u002f10\",\"9\\u002f10\",\"9\\u002f10\",\"9\\u002f10\",\"9\\u002f10\",\"9\\u002f10\",\"9\\u002f10\",\"9\\u002f10\",\"9\\u002f10\",\"9\\u002f10\",\"9\\u002f10\",\"9\\u002f10\",\"9\\u002f10\",\"9\\u002f10\",\"9\\u002f10\",\"9\\u002f10\",\"9\\u002f10\",\"9\\u002f10\",\"9\\u002f10\",\"9\\u002f10\",\"9\\u002f10\",\"9\\u002f10\",\"9\\u002f10\",\"9\\u002f10\",\"9\\u002f10\",\"9\\u002f10\",\"9\\u002f10\",\"9\\u002f10\",\"9\\u002f10\",\"9\\u002f10\",\"9\\u002f10\",\"9\\u002f10\",\"9\\u002f10\",\"9\\u002f10\",\"9\\u002f10\",\"9\\u002f10\",\"9\\u002f10\",\"9\\u002f10\",\"9\\u002f10\",\"9\\u002f10\",\"9\\u002f10\",\"9\\u002f10\",\"9\\u002f10\",\"9\\u002f10\",\"9\\u002f10\",\"9\\u002f10\",\"9\\u002f10\",\"9\\u002f10\",\"9\\u002f10\",\"9\\u002f10\",\"9\\u002f10\",\"9\\u002f10\",\"9\\u002f10\",\"9\\u002f10\",\"9\\u002f10\",\"9\\u002f10\",\"9\\u002f10\",\"9\\u002f10\",\"9\\u002f10\",\"9\\u002f10\",\"9\\u002f10\",\"9\\u002f10\",\"9\\u002f10\",\"9\\u002f10\",\"9\\u002f10\",\"9\\u002f10\",\"9\\u002f10\",\"9\\u002f10\",\"9\\u002f10\",\"9\\u002f10\",\"9\\u002f10\",\"9\\u002f10\",\"9\\u002f10\",\"9\\u002f10\",\"9\\u002f10\",\"9\\u002f10\",\"9\\u002f10\",\"9\\u002f10\",\"9\\u002f10\",\"9\\u002f10\",\"9\\u002f10\",\"9\\u002f10\",\"9\\u002f10\",\"9\\u002f10\",\"9\\u002f10\",\"9\\u002f10\",\"9\\u002f10\",\"9\\u002f10\",\"9\\u002f10\",\"9\\u002f10\",\"9\\u002f10\",\"9\\u002f10\",\"9\\u002f10\",\"9\\u002f10\",\"9\\u002f10\",\"9\\u002f10\",\"9\\u002f10\",\"9\\u002f10\",\"9\\u002f10\",\"9\\u002f10\",\"9\\u002f10\",\"9\\u002f10\",\"9\\u002f10\",\"9\\u002f10\",\"9\\u002f10\",\"9\\u002f10\",\"9\\u002f10\",\"9\\u002f10\",\"9\\u002f10\",\"9\\u002f10\",\"9\\u002f10\",\"9\\u002f10\",\"9\\u002f10\",\"9\\u002f10\",\"9\\u002f10\",\"9\\u002f10\",\"9\\u002f10\",\"9\\u002f10\",\"9\\u002f10\",\"9\\u002f10\",\"9\\u002f10\",\"9\\u002f10\",\"9\\u002f10\",\"9\\u002f10\",\"9\\u002f10\",\"9\\u002f10\",\"9\\u002f10\",\"9\\u002f10\",\"9\\u002f10\",\"9\\u002f10\",\"9\\u002f10\",\"9\\u002f10\",\"9\\u002f10\",\"9\\u002f10\",\"9\\u002f10\",\"9\\u002f10\",\"9\\u002f10\",\"9\\u002f10\",\"9\\u002f10\",\"9\\u002f10\",\"9\\u002f10\",\"9\\u002f10\",\"9\\u002f10\",\"9\\u002f10\",\"9\\u002f10\",\"9\\u002f10\",\"9\\u002f10\",\"9\\u002f10\",\"9\\u002f10\",\"9\\u002f10\",\"9\\u002f10\",\"9\\u002f10\",\"9\\u002f10\",\"9\\u002f10\",\"9\\u002f10\",\"9\\u002f10\",\"9\\u002f10\",\"9\\u002f10\",\"9\\u002f10\",\"9\\u002f10\",\"9\\u002f10\",\"9\\u002f10\",\"9\\u002f10\",\"9\\u002f10\",\"9\\u002f10\",\"9\\u002f10\",\"9\\u002f10\",\"9\\u002f10\",\"9\\u002f10\",\"9\\u002f10\",\"9\\u002f10\",\"9\\u002f10\",\"9\\u002f10\",\"9\\u002f10\",\"9\\u002f10\",\"9\\u002f10\",\"9\\u002f10\",\"9\\u002f10\",\"9\\u002f10\",\"9\\u002f10\",\"9\\u002f10\",\"9\\u002f10\",\"9\\u002f10\",\"9\\u002f10\",\"9\\u002f10\",\"9\\u002f10\",\"9\\u002f10\",\"9\\u002f10\",\"9\\u002f10\",\"9\\u002f10\",\"9\\u002f10\",\"9\\u002f10\",\"9\\u002f10\",\"9\\u002f10\",\"9\\u002f10\",\"9\\u002f10\",\"9\\u002f10\",\"9\\u002f10\",\"9\\u002f10\",\"9\\u002f10\",\"9\\u002f10\",\"9\\u002f10\",\"9\\u002f10\",\"9\\u002f10\",\"9\\u002f10\",\"9\\u002f10\",\"9\\u002f10\",\"9\\u002f10\",\"9\\u002f10\",\"9\\u002f10\",\"9\\u002f10\",\"9\\u002f10\",\"9\\u002f10\",\"9\\u002f10\",\"9\\u002f10\",\"9\\u002f10\",\"9\\u002f10\",\"9\\u002f10\",\"9\\u002f10\",\"9\\u002f10\",\"9\\u002f10\",\"9\\u002f10\",\"9\\u002f10\",\"9\\u002f10\",\"9\\u002f10\",\"9\\u002f10\",\"9\\u002f10\",\"9\\u002f10\",\"9\\u002f10\",\"9\\u002f10\",\"9\\u002f10\",\"9\\u002f10\",\"9\\u002f10\",\"9\\u002f10\",\"9\\u002f10\",\"9\\u002f10\",\"9\\u002f10\",\"9\\u002f10\",\"9\\u002f10\",\"9\\u002f10\",\"9\\u002f10\",\"9\\u002f10\",\"9\\u002f10\",\"9\\u002f10\",\"9\\u002f10\",\"9\\u002f10\",\"9\\u002f10\",\"9\\u002f10\",\"9\\u002f10\",\"9\\u002f10\",\"9\\u002f10\",\"9\\u002f10\",\"9\\u002f10\",\"9\\u002f10\",\"9\\u002f10\",\"9\\u002f10\",\"9\\u002f10\",\"9\\u002f10\",\"9\\u002f10\",\"9\\u002f10\",\"9\\u002f10\",\"9\\u002f10\",\"9\\u002f10\",\"9\\u002f10\",\"9\\u002f10\",\"9\\u002f10\",\"9\\u002f10\",\"9\\u002f10\",\"9\\u002f10\",\"9\\u002f10\",\"9\\u002f10\",\"9\\u002f10\",\"9\\u002f10\",\"9\\u002f10\",\"9\\u002f10\",\"9\\u002f10\",\"9\\u002f10\",\"9\\u002f10\",\"9\\u002f10\",\"9\\u002f10\",\"9\\u002f10\",\"9\\u002f10\",\"9\\u002f10\",\"9\\u002f10\",\"9\\u002f10\",\"9\\u002f10\",\"9\\u002f10\",\"9\\u002f10\",\"9\\u002f10\",\"9\\u002f10\",\"9\\u002f10\",\"9\\u002f10\",\"9\\u002f10\",\"9\\u002f10\",\"9\\u002f10\",\"9\\u002f10\",\"9\\u002f10\",\"9\\u002f10\",\"9\\u002f10\",\"9\\u002f10\",\"9\\u002f10\",\"9\\u002f10\",\"9\\u002f10\",\"9\\u002f10\",\"9\\u002f10\",\"9\\u002f10\",\"9\\u002f10\",\"9\\u002f10\",\"9\\u002f10\",\"9\\u002f10\",\"9\\u002f10\",\"9\\u002f10\",\"9\\u002f10\",\"9\\u002f10\",\"9\\u002f10\",\"9\\u002f10\",\"9\\u002f10\",\"9\\u002f10\",\"9\\u002f10\",\"9\\u002f10\",\"9\\u002f10\",\"9\\u002f10\",\"9\\u002f10\",\"9\\u002f10\",\"9\\u002f10\",\"9\\u002f10\",\"9\\u002f10\",\"9\\u002f10\",\"9\\u002f10\",\"9\\u002f10\",\"9\\u002f10\",\"9\\u002f10\",\"9\\u002f10\",\"9\\u002f10\",\"9\\u002f10\",\"9\\u002f10\",\"9\\u002f10\",\"9\\u002f10\",\"9\\u002f10\",\"9\\u002f10\",\"9\\u002f10\",\"9\\u002f10\",\"9\\u002f10\",\"9\\u002f10\",\"9\\u002f10\",\"9\\u002f10\",\"9\\u002f10\",\"9\\u002f10\",\"9\\u002f10\",\"9\\u002f10\",\"9\\u002f10\",\"9\\u002f10\",\"9\\u002f10\",\"9\\u002f10\",\"9\\u002f10\",\"9\\u002f10\",\"9\\u002f10\",\"9\\u002f10\",\"9\\u002f10\",\"9\\u002f10\",\"9\\u002f10\",\"9\\u002f10\",\"9\\u002f10\",\"9\\u002f10\",\"9\\u002f10\",\"9\\u002f10\",\"9\\u002f10\",\"9\\u002f10\",\"9\\u002f10\",\"9\\u002f10\",\"9\\u002f10\",\"9\\u002f10\",\"9\\u002f10\",\"9\\u002f10\",\"9\\u002f10\",\"9\\u002f10\",\"9\\u002f10\",\"9\\u002f10\",\"9\\u002f10\",\"9\\u002f10\",\"9\\u002f10\",\"9\\u002f10\",\"9\\u002f10\",\"9\\u002f10\",\"9\\u002f10\",\"9\\u002f10\",\"9\\u002f10\",\"9\\u002f10\",\"9\\u002f10\",\"9\\u002f10\",\"9\\u002f10\",\"9\\u002f10\",\"9\\u002f10\",\"9\\u002f10\",\"9\\u002f10\",\"9\\u002f10\",\"9\\u002f10\",\"9\\u002f10\",\"9\\u002f10\",\"9\\u002f10\",\"9\\u002f10\",\"9\\u002f10\",\"9\\u002f10\",\"9\\u002f10\",\"9\\u002f10\",\"9\\u002f10\",\"9\\u002f10\",\"9\\u002f10\",\"9\\u002f10\",\"9\\u002f10\",\"9\\u002f10\",\"9\\u002f10\",\"9\\u002f10\",\"9\\u002f10\",\"9\\u002f10\",\"9\\u002f10\",\"9\\u002f10\",\"9\\u002f10\",\"9\\u002f10\",\"9\\u002f10\",\"9\\u002f10\",\"9\\u002f10\",\"9\\u002f10\",\"9\\u002f10\",\"9\\u002f10\",\"9\\u002f10\",\"9\\u002f10\",\"9\\u002f10\",\"9\\u002f10\",\"9\\u002f10\",\"9\\u002f10\",\"9\\u002f10\",\"9\\u002f10\",\"9\\u002f10\",\"9\\u002f10\",\"9\\u002f10\",\"9\\u002f10\",\"9\\u002f10\",\"9\\u002f10\",\"9\\u002f10\",\"9\\u002f10\",\"9\\u002f10\",\"9\\u002f10\",\"9\\u002f10\",\"9\\u002f10\",\"9\\u002f10\",\"9\\u002f10\",\"9\\u002f10\",\"9\\u002f10\",\"9\\u002f10\",\"9\\u002f10\",\"9\\u002f10\",\"9\\u002f10\",\"9\\u002f10\",\"9\\u002f10\",\"9\\u002f10\",\"9\\u002f10\",\"9\\u002f10\",\"9\\u002f10\",\"9\\u002f10\",\"9\\u002f10\",\"9\\u002f10\",\"9\\u002f10\",\"9\\u002f10\",\"9\\u002f10\",\"9\\u002f10\",\"9\\u002f10\",\"9\\u002f10\",\"9\\u002f10\",\"9\\u002f10\",\"9\\u002f10\",\"9\\u002f10\",\"9\\u002f10\",\"9\\u002f10\",\"9\\u002f10\",\"9\\u002f10\",\"9\\u002f10\",\"9\\u002f10\",\"9\\u002f10\",\"9\\u002f10\",\"9\\u002f10\",\"9\\u002f10\",\"9\\u002f10\",\"9\\u002f10\",\"9\\u002f10\",\"9\\u002f10\",\"9\\u002f10\",\"9\\u002f10\",\"9\\u002f10\",\"9\\u002f10\",\"9\\u002f10\",\"9\\u002f10\",\"9\\u002f10\",\"9\\u002f10\",\"9\\u002f10\",\"9\\u002f10\",\"9\\u002f10\",\"9\\u002f10\",\"9\\u002f10\",\"9\\u002f10\",\"9\\u002f10\",\"9\\u002f10\",\"9\\u002f10\",\"9\\u002f10\",\"9\\u002f10\",\"9\\u002f10\",\"9\\u002f10\",\"9\\u002f10\",\"9\\u002f10\",\"9\\u002f10\",\"9\\u002f10\",\"9\\u002f10\",\"9\\u002f10\",\"9\\u002f10\",\"9\\u002f10\",\"9\\u002f10\",\"9\\u002f10\",\"9\\u002f10\",\"9\\u002f10\",\"9\\u002f10\",\"9\\u002f10\",\"9\\u002f10\",\"9\\u002f10\",\"9\\u002f10\",\"9\\u002f10\",\"9\\u002f10\",\"9\\u002f10\",\"9\\u002f10\",\"9\\u002f10\",\"9\\u002f10\",\"9\\u002f10\",\"9\\u002f10\",\"9\\u002f10\",\"9\\u002f10\",\"9\\u002f10\",\"9\\u002f10\",\"9\\u002f10\",\"9\\u002f10\",\"9\\u002f10\",\"9\\u002f10\",\"9\\u002f10\",\"9\\u002f10\",\"9\\u002f10\",\"9\\u002f10\",\"9\\u002f10\",\"9\\u002f10\",\"9\\u002f10\",\"9\\u002f10\",\"9\\u002f10\",\"9\\u002f10\",\"9\\u002f10\",\"9\\u002f10\",\"9\\u002f10\",\"9\\u002f10\",\"9\\u002f10\",\"9\\u002f10\",\"9\\u002f10\",\"9\\u002f10\",\"9\\u002f10\",\"9\\u002f10\",\"9\\u002f10\",\"9\\u002f10\",\"9\\u002f10\",\"9\\u002f10\",\"9\\u002f10\",\"9\\u002f10\",\"9\\u002f10\",\"9\\u002f10\",\"9\\u002f10\",\"9\\u002f10\",\"9\\u002f10\",\"9\\u002f10\",\"9\\u002f10\",\"9\\u002f10\",\"9\\u002f10\",\"9\\u002f10\",\"9\\u002f10\",\"9\\u002f10\",\"9\\u002f10\",\"9\\u002f10\",\"9\\u002f10\",\"9\\u002f10\",\"9\\u002f10\",\"9\\u002f10\",\"9\\u002f10\",\"9\\u002f10\",\"9\\u002f10\",\"9\\u002f10\",\"9\\u002f10\",\"9\\u002f10\",\"9\\u002f10\",\"9\\u002f10\",\"9\\u002f10\",\"9\\u002f10\",\"9\\u002f10\",\"9\\u002f10\",\"9\\u002f10\",\"9\\u002f10\",\"9\\u002f10\",\"9\\u002f10\",\"9\\u002f10\",\"9\\u002f10\",\"9\\u002f10\",\"9\\u002f10\",\"9\\u002f10\",\"9\\u002f10\",\"9\\u002f10\",\"9\\u002f10\",\"9\\u002f10\",\"9\\u002f10\",\"9\\u002f10\",\"9\\u002f10\",\"9\\u002f10\",\"9\\u002f10\",\"9\\u002f10\",\"9\\u002f10\",\"9\\u002f10\",\"9\\u002f10\",\"9\\u002f10\",\"9\\u002f10\",\"9\\u002f10\",\"9\\u002f10\",\"9\\u002f10\",\"9\\u002f10\",\"9\\u002f10\",\"9\\u002f10\",\"9\\u002f10\",\"9\\u002f10\",\"9\\u002f10\",\"9\\u002f10\",\"9\\u002f10\",\"9\\u002f10\",\"9\\u002f10\",\"9\\u002f10\",\"9\\u002f10\",\"9\\u002f10\",\"9\\u002f10\",\"9\\u002f10\",\"9\\u002f10\",\"9\\u002f10\",\"9\\u002f10\",\"9\\u002f10\",\"9\\u002f10\",\"9\\u002f10\",\"9\\u002f10\",\"9\\u002f10\",\"9\\u002f10\",\"9\\u002f10\",\"9\\u002f10\",\"9\\u002f10\",\"9\\u002f10\",\"9\\u002f10\",\"9\\u002f10\",\"9\\u002f10\",\"9\\u002f10\",\"9\\u002f10\",\"9\\u002f10\",\"9\\u002f10\",\"9\\u002f10\",\"9\\u002f10\",\"9\\u002f10\",\"9\\u002f10\",\"9\\u002f10\",\"9\\u002f10\",\"9\\u002f10\",\"9\\u002f10\",\"9\\u002f10\",\"9\\u002f10\",\"9\\u002f10\",\"9\\u002f10\",\"9\\u002f10\",\"9\\u002f10\",\"9\\u002f10\",\"9\\u002f10\",\"9\\u002f10\",\"9\\u002f10\",\"9\\u002f10\",\"9\\u002f10\",\"9\\u002f10\",\"9\\u002f10\",\"9\\u002f10\",\"9\\u002f10\",\"9\\u002f10\",\"9\\u002f10\",\"9\\u002f10\",\"9\\u002f10\",\"9\\u002f10\",\"9\\u002f10\",\"9\\u002f10\",\"9\\u002f10\",\"9\\u002f10\",\"9\\u002f10\",\"9\\u002f10\",\"9\\u002f10\",\"9\\u002f10\",\"9\\u002f10\",\"9\\u002f10\",\"9\\u002f10\",\"9\\u002f10\",\"9\\u002f10\",\"9\\u002f10\",\"9\\u002f10\",\"9\\u002f10\",\"9\\u002f10\",\"9\\u002f10\",\"9\\u002f10\",\"9\\u002f10\",\"9\\u002f10\",\"9\\u002f10\",\"9\\u002f10\",\"9\\u002f10\",\"9\\u002f10\",\"9\\u002f10\",\"9\\u002f10\",\"9\\u002f10\",\"9\\u002f10\",\"9\\u002f10\",\"9\\u002f10\",\"9\\u002f10\",\"9\\u002f10\",\"9\\u002f10\",\"9\\u002f10\",\"9\\u002f10\",\"9\\u002f10\",\"9\\u002f10\",\"9\\u002f10\",\"9\\u002f10\",\"9\\u002f10\",\"9\\u002f10\",\"9\\u002f10\",\"9\\u002f10\",\"9\\u002f10\",\"9\\u002f10\",\"9\\u002f10\",\"9\\u002f10\",\"9\\u002f10\",\"9\\u002f10\",\"9\\u002f10\",\"9\\u002f10\",\"9\\u002f10\",\"9\\u002f10\",\"9\\u002f10\",\"9\\u002f10\",\"9\\u002f10\",\"9\\u002f10\",\"9\\u002f10\",\"9\\u002f10\",\"9\\u002f10\",\"9\\u002f10\",\"9\\u002f10\",\"9\\u002f10\",\"9\\u002f10\",\"9\\u002f10\",\"9\\u002f10\",\"9\\u002f10\",\"9\\u002f10\",\"9\\u002f10\",\"9\\u002f10\",\"9\\u002f10\",\"9\\u002f10\",\"9\\u002f10\",\"9\\u002f10\",\"9\\u002f10\",\"9\\u002f10\",\"9\\u002f10\",\"9\\u002f10\",\"9\\u002f10\",\"9\\u002f10\",\"9\\u002f10\",\"9\\u002f10\",\"9\\u002f10\",\"9\\u002f10\",\"9\\u002f10\",\"9\\u002f10\",\"9\\u002f10\",\"9\\u002f10\",\"9\\u002f10\",\"9\\u002f10\",\"9\\u002f10\",\"9\\u002f10\",\"9\\u002f10\",\"9\\u002f10\",\"9\\u002f10\",\"9\\u002f10\",\"9\\u002f10\",\"9\\u002f10\",\"9\\u002f10\",\"9\\u002f10\",\"9\\u002f10\",\"9\\u002f10\",\"9\\u002f10\",\"9\\u002f10\",\"9\\u002f10\",\"9\\u002f10\",\"9\\u002f10\",\"9\\u002f10\",\"9\\u002f10\",\"9\\u002f10\",\"9\\u002f10\",\"9\\u002f10\",\"9\\u002f10\",\"9\\u002f10\",\"9\\u002f10\",\"9\\u002f10\",\"9\\u002f10\",\"9\\u002f10\",\"9\\u002f10\",\"9\\u002f10\",\"9\\u002f10\",\"9\\u002f10\",\"9\\u002f10\",\"9\\u002f10\",\"9\\u002f10\",\"9\\u002f10\",\"9\\u002f10\",\"9\\u002f10\",\"9\\u002f10\",\"9\\u002f10\",\"9\\u002f10\",\"9\\u002f10\",\"9\\u002f10\",\"9\\u002f10\",\"9\\u002f10\",\"9\\u002f10\",\"9\\u002f10\",\"9\\u002f10\",\"9\\u002f10\",\"9\\u002f10\",\"9\\u002f10\",\"9\\u002f10\",\"9\\u002f10\",\"9\\u002f10\",\"9\\u002f10\",\"9\\u002f10\",\"9\\u002f10\",\"9\\u002f10\",\"9\\u002f10\",\"9\\u002f10\",\"9\\u002f10\",\"9\\u002f10\",\"9\\u002f10\",\"9\\u002f10\",\"9\\u002f10\",\"9\\u002f10\",\"9\\u002f10\",\"9\\u002f10\",\"9\\u002f10\",\"9\\u002f10\",\"9\\u002f10\",\"9\\u002f10\",\"9\\u002f10\",\"9\\u002f10\",\"9\\u002f10\",\"9\\u002f10\",\"9\\u002f10\",\"9\\u002f10\",\"9\\u002f10\",\"9\\u002f10\",\"9\\u002f10\",\"9\\u002f10\",\"9\\u002f10\",\"9\\u002f10\",\"9\\u002f10\",\"9\\u002f10\",\"9\\u002f10\",\"9\\u002f10\",\"9\\u002f10\",\"9\\u002f10\",\"9\\u002f10\",\"9\\u002f10\",\"9\\u002f10\",\"9\\u002f10\",\"9\\u002f10\",\"9\\u002f10\",\"9\\u002f10\",\"9\\u002f10\",\"9\\u002f10\",\"9\\u002f10\",\"9\\u002f10\",\"9\\u002f10\",\"9\\u002f10\",\"9\\u002f10\",\"9\\u002f10\",\"9\\u002f10\",\"9\\u002f10\",\"9\\u002f10\",\"9\\u002f10\",\"9\\u002f10\",\"9\\u002f10\",\"9\\u002f10\",\"9\\u002f10\",\"9\\u002f10\",\"9\\u002f10\",\"9\\u002f10\",\"9\\u002f10\",\"9\\u002f10\",\"9\\u002f10\",\"9\\u002f10\",\"9\\u002f10\",\"9\\u002f10\",\"9\\u002f10\",\"9\\u002f10\",\"9\\u002f10\",\"9\\u002f10\",\"9\\u002f10\",\"9\\u002f10\",\"9\\u002f10\",\"9\\u002f10\",\"9\\u002f10\",\"9\\u002f10\",\"9\\u002f10\",\"9\\u002f10\",\"9\\u002f10\",\"9\\u002f10\",\"9\\u002f10\",\"9\\u002f10\",\"9\\u002f10\",\"9\\u002f10\",\"9\\u002f10\",\"9\\u002f10\",\"9\\u002f10\",\"9\\u002f10\",\"9\\u002f10\",\"9\\u002f10\",\"9\\u002f10\",\"9\\u002f10\",\"9\\u002f10\",\"9\\u002f10\",\"9\\u002f10\",\"9\\u002f10\",\"9\\u002f10\",\"9\\u002f10\",\"9\\u002f10\",\"9\\u002f10\",\"9\\u002f10\",\"9\\u002f10\",\"9\\u002f10\",\"9\\u002f10\",\"9\\u002f10\",\"9\\u002f10\",\"9\\u002f10\",\"9\\u002f10\",\"9\\u002f10\",\"9\\u002f10\",\"9\\u002f10\",\"9\\u002f10\",\"9\\u002f10\",\"9\\u002f10\",\"9\\u002f10\",\"9\\u002f10\",\"9\\u002f10\",\"9\\u002f10\",\"9\\u002f10\",\"9\\u002f10\",\"9\\u002f10\",\"9\\u002f10\",\"9\\u002f10\",\"9\\u002f10\",\"9\\u002f10\",\"9\\u002f10\",\"9\\u002f10\",\"9\\u002f10\",\"9\\u002f10\",\"9\\u002f10\",\"9\\u002f10\",\"9\\u002f10\",\"9\\u002f10\",\"9\\u002f10\",\"9\\u002f10\",\"9\\u002f10\",\"9\\u002f10\",\"9\\u002f10\",\"9\\u002f10\",\"9\\u002f10\",\"9\\u002f10\",\"9\\u002f10\",\"9\\u002f10\",\"9\\u002f10\",\"9\\u002f10\",\"9\\u002f10\",\"9\\u002f10\",\"9\\u002f10\",\"9\\u002f10\",\"9\\u002f10\",\"9\\u002f10\",\"9\\u002f10\",\"9\\u002f10\",\"9\\u002f10\",\"9\\u002f10\",\"9\\u002f10\",\"9\\u002f10\",\"9\\u002f10\",\"9\\u002f10\",\"9\\u002f10\",\"9\\u002f10\",\"9\\u002f10\",\"9\\u002f10\",\"9\\u002f10\",\"9\\u002f10\",\"9\\u002f10\",\"9\\u002f10\",\"9\\u002f10\",\"9\\u002f10\",\"9\\u002f10\",\"9\\u002f10\",\"9\\u002f10\",\"9\\u002f10\",\"9\\u002f10\",\"9\\u002f10\",\"9\\u002f10\",\"9\\u002f10\",\"9\\u002f10\",\"9\\u002f10\",\"9\\u002f10\",\"9\\u002f10\",\"9\\u002f10\",\"9\\u002f10\",\"9\\u002f10\",\"9\\u002f10\",\"9\\u002f10\",\"9\\u002f10\",\"9\\u002f10\",\"9\\u002f10\",\"9\\u002f10\",\"9\\u002f10\",\"9\\u002f10\",\"9\\u002f10\",\"9\\u002f10\",\"9\\u002f10\",\"9\\u002f10\",\"9\\u002f10\",\"9\\u002f10\",\"9\\u002f10\",\"9\\u002f10\",\"9\\u002f10\",\"9\\u002f10\",\"9\\u002f10\",\"9\\u002f10\",\"9\\u002f10\",\"9\\u002f10\",\"9\\u002f10\",\"9\\u002f10\",\"9\\u002f10\",\"9\\u002f10\",\"9\\u002f10\",\"9\\u002f10\",\"9\\u002f10\",\"9\\u002f10\",\"9\\u002f10\",\"9\\u002f10\",\"9\\u002f10\",\"9\\u002f10\",\"9\\u002f10\",\"9\\u002f10\",\"9\\u002f10\",\"9\\u002f10\",\"9\\u002f10\",\"9\\u002f10\",\"9\\u002f10\",\"9\\u002f10\",\"9\\u002f10\",\"9\\u002f10\",\"9\\u002f10\",\"9\\u002f10\",\"9\\u002f10\",\"9\\u002f10\",\"9\\u002f10\",\"9\\u002f10\",\"9\\u002f10\",\"9\\u002f10\",\"9\\u002f10\",\"9\\u002f10\",\"9\\u002f10\",\"9\\u002f10\",\"9\\u002f10\",\"9\\u002f10\",\"9\\u002f10\",\"9\\u002f10\",\"9\\u002f10\",\"9\\u002f10\",\"9\\u002f10\",\"9\\u002f10\",\"9\\u002f10\",\"9\\u002f10\",\"9\\u002f10\",\"9\\u002f10\",\"9\\u002f10\",\"9\\u002f10\",\"9\\u002f10\",\"9\\u002f10\",\"9\\u002f10\",\"9\\u002f10\",\"9\\u002f10\",\"9\\u002f10\",\"9\\u002f10\",\"9\\u002f10\",\"9\\u002f10\",\"9\\u002f10\",\"9\\u002f10\",\"9\\u002f10\",\"9\\u002f10\",\"9\\u002f10\",\"9\\u002f10\",\"9\\u002f10\",\"9\\u002f10\",\"9\\u002f10\",\"9\\u002f10\",\"9\\u002f10\",\"9\\u002f10\",\"9\\u002f10\",\"9\\u002f10\",\"9\\u002f10\",\"9\\u002f10\",\"9\\u002f10\",\"9\\u002f10\",\"9\\u002f10\",\"9\\u002f10\",\"9\\u002f10\",\"9\\u002f10\",\"9\\u002f10\",\"9\\u002f10\",\"9\\u002f10\",\"9\\u002f10\",\"9\\u002f10\",\"9\\u002f10\",\"9\\u002f10\",\"9\\u002f10\",\"9\\u002f10\",\"9\\u002f10\",\"9\\u002f10\",\"9\\u002f10\",\"9\\u002f10\",\"9\\u002f10\",\"9\\u002f10\",\"9\\u002f10\",\"9\\u002f10\",\"9\\u002f10\",\"9\\u002f10\",\"9\\u002f10\",\"9\\u002f10\",\"9\\u002f10\",\"9\\u002f10\",\"9\\u002f10\",\"9\\u002f10\",\"9\\u002f10\",\"9\\u002f10\",\"9\\u002f10\",\"9\\u002f10\",\"9\\u002f10\",\"9\\u002f10\",\"9\\u002f10\",\"9\\u002f10\",\"9\\u002f10\",\"9\\u002f10\",\"9\\u002f10\",\"9\\u002f10\",\"9\\u002f10\",\"9\\u002f10\",\"9\\u002f10\",\"9\\u002f10\",\"9\\u002f10\",\"9\\u002f10\",\"9\\u002f10\",\"9\\u002f10\",\"9\\u002f10\",\"9\\u002f10\",\"9\\u002f10\",\"9\\u002f10\",\"9\\u002f10\",\"9\\u002f10\",\"9\\u002f10\",\"9\\u002f10\",\"9\\u002f10\",\"9\\u002f10\",\"9\\u002f10\",\"9\\u002f10\",\"9\\u002f10\",\"9\\u002f10\",\"9\\u002f10\",\"9\\u002f10\",\"9\\u002f10\",\"9\\u002f10\",\"9\\u002f10\",\"9\\u002f10\",\"9\\u002f10\",\"9\\u002f10\",\"9\\u002f10\",\"9\\u002f10\",\"9\\u002f10\",\"9\\u002f10\",\"9\\u002f10\",\"9\\u002f10\",\"9\\u002f10\",\"9\\u002f10\",\"9\\u002f10\",\"9\\u002f10\",\"9\\u002f10\",\"9\\u002f10\",\"9\\u002f10\",\"9\\u002f10\",\"9\\u002f10\",\"9\\u002f10\",\"9\\u002f10\",\"9\\u002f10\",\"9\\u002f10\",\"9\\u002f10\",\"9\\u002f10\",\"9\\u002f10\",\"9\\u002f10\",\"9\\u002f10\",\"9\\u002f10\",\"9\\u002f10\",\"9\\u002f10\",\"9\\u002f10\",\"9\\u002f10\",\"9\\u002f10\",\"9\\u002f10\",\"9\\u002f10\",\"9\\u002f10\",\"9\\u002f10\",\"9\\u002f10\",\"9\\u002f10\",\"9\\u002f10\",\"9\\u002f10\",\"9\\u002f10\",\"9\\u002f10\",\"9\\u002f10\",\"9\\u002f10\",\"9\\u002f10\",\"9\\u002f10\",\"9\\u002f10\",\"9\\u002f10\",\"9\\u002f10\",\"9\\u002f10\",\"9\\u002f10\",\"9\\u002f10\",\"9\\u002f10\",\"9\\u002f10\",\"9\\u002f10\",\"9\\u002f10\",\"9\\u002f10\",\"9\\u002f10\",\"9\\u002f10\",\"9\\u002f10\",\"9\\u002f10\",\"9\\u002f10\",\"9\\u002f10\",\"9\\u002f10\",\"9\\u002f10\",\"9\\u002f10\",\"9\\u002f10\",\"9\\u002f10\",\"9\\u002f10\",\"9\\u002f10\",\"9\\u002f10\",\"9\\u002f10\",\"9\\u002f10\",\"9\\u002f10\",\"9\\u002f10\",\"9\\u002f10\",\"9\\u002f10\",\"9\\u002f10\",\"9\\u002f10\",\"9\\u002f10\",\"9\\u002f10\",\"9\\u002f10\",\"9\\u002f10\",\"9\\u002f10\",\"9\\u002f10\",\"9\\u002f10\",\"9\\u002f10\",\"9\\u002f10\",\"9\\u002f10\",\"9\\u002f10\",\"9\\u002f10\",\"9\\u002f10\",\"9\\u002f10\",\"9\\u002f10\",\"9\\u002f10\",\"9\\u002f10\",\"9\\u002f10\",\"9\\u002f10\",\"9\\u002f10\",\"9\\u002f10\",\"9\\u002f10\",\"9\\u002f10\",\"9\\u002f10\",\"9\\u002f10\",\"9\\u002f10\",\"9\\u002f10\",\"9\\u002f10\",\"9\\u002f10\",\"9\\u002f10\",\"9\\u002f10\",\"9\\u002f10\",\"9\\u002f10\",\"9\\u002f10\",\"9\\u002f10\",\"9\\u002f10\",\"9\\u002f10\",\"9\\u002f10\",\"9\\u002f10\",\"9\\u002f10\",\"9\\u002f10\",\"9\\u002f10\",\"9\\u002f10\",\"9\\u002f10\",\"9\\u002f10\",\"9\\u002f10\",\"9\\u002f10\",\"9\\u002f10\",\"9\\u002f10\",\"9\\u002f10\",\"9\\u002f10\",\"9\\u002f10\",\"9\\u002f10\",\"9\\u002f10\",\"9\\u002f10\",\"9\\u002f10\",\"9\\u002f10\",\"9\\u002f10\",\"9\\u002f10\",\"9\\u002f10\",\"9\\u002f10\",\"9\\u002f10\",\"9\\u002f10\",\"9\\u002f10\",\"9\\u002f10\",\"9\\u002f10\",\"9\\u002f10\",\"9\\u002f10\",\"9\\u002f10\",\"9\\u002f10\",\"9\\u002f10\",\"9\\u002f10\",\"9\\u002f10\",\"9\\u002f10\",\"9\\u002f10\",\"9\\u002f10\",\"9\\u002f10\",\"9\\u002f10\",\"9\\u002f10\",\"9\\u002f10\",\"9\\u002f10\",\"9\\u002f10\",\"9\\u002f10\",\"9\\u002f10\",\"9\\u002f10\",\"9\\u002f10\",\"9\\u002f10\",\"9\\u002f10\",\"9\\u002f10\",\"9\\u002f10\",\"9\\u002f10\",\"9\\u002f10\",\"9\\u002f10\",\"9\\u002f10\",\"9\\u002f10\",\"9\\u002f10\",\"9\\u002f10\",\"9\\u002f10\",\"9\\u002f10\",\"9\\u002f10\",\"9\\u002f10\",\"9\\u002f10\",\"9\\u002f10\",\"9\\u002f10\",\"9\\u002f10\",\"9\\u002f10\",\"9\\u002f10\",\"9\\u002f10\",\"9\\u002f10\",\"9\\u002f10\",\"9\\u002f10\",\"9\\u002f10\",\"9\\u002f10\",\"9\\u002f10\",\"9\\u002f10\",\"9\\u002f10\",\"9\\u002f10\",\"9\\u002f10\",\"9\\u002f10\",\"9\\u002f10\",\"9\\u002f10\",\"9\\u002f10\",\"9\\u002f10\",\"9\\u002f10\",\"9\\u002f10\",\"9\\u002f10\",\"9\\u002f10\",\"9\\u002f10\",\"9\\u002f10\",\"9\\u002f10\",\"9\\u002f10\",\"9\\u002f10\",\"9\\u002f10\",\"9\\u002f10\",\"9\\u002f10\",\"9\\u002f10\",\"9\\u002f10\",\"9\\u002f10\",\"9\\u002f10\",\"9\\u002f10\",\"9\\u002f10\",\"9\\u002f10\",\"9\\u002f10\",\"9\\u002f10\",\"9\\u002f10\",\"9\\u002f10\",\"9\\u002f10\",\"9\\u002f10\",\"9\\u002f10\",\"9\\u002f10\",\"9\\u002f10\",\"9\\u002f10\",\"9\\u002f10\",\"9\\u002f10\",\"9\\u002f10\",\"9\\u002f10\",\"9\\u002f10\",\"9\\u002f10\",\"9\\u002f10\",\"9\\u002f10\",\"9\\u002f10\",\"9\\u002f10\",\"9\\u002f10\",\"9\\u002f10\",\"9\\u002f10\",\"9\\u002f10\",\"9\\u002f10\",\"9\\u002f10\",\"9\\u002f10\",\"9\\u002f10\",\"9\\u002f10\",\"9\\u002f10\",\"9\\u002f10\",\"9\\u002f10\",\"9\\u002f10\",\"9\\u002f10\",\"9\\u002f10\",\"9\\u002f10\",\"9\\u002f10\",\"9\\u002f10\",\"9\\u002f10\",\"9\\u002f10\",\"9\\u002f10\",\"9\\u002f10\",\"9\\u002f10\",\"9\\u002f10\",\"9\\u002f10\",\"9\\u002f10\",\"9\\u002f10\",\"9\\u002f10\",\"9\\u002f10\",\"9\\u002f10\",\"9\\u002f10\",\"9\\u002f10\",\"9\\u002f10\",\"9\\u002f10\",\"9\\u002f10\",\"9\\u002f10\",\"9\\u002f10\",\"9\\u002f10\",\"9\\u002f10\",\"9\\u002f10\",\"9\\u002f10\",\"9\\u002f10\",\"9\\u002f10\",\"9\\u002f10\",\"9\\u002f10\",\"9\\u002f10\",\"9\\u002f10\",\"9\\u002f10\",\"9\\u002f10\",\"9\\u002f10\",\"9\\u002f10\",\"9\\u002f10\",\"9\\u002f10\",\"9\\u002f10\",\"9\\u002f10\",\"9\\u002f10\",\"9\\u002f10\",\"9\\u002f10\",\"9\\u002f10\",\"9\\u002f10\",\"9\\u002f10\",\"9\\u002f10\",\"9\\u002f10\",\"9\\u002f10\",\"9\\u002f10\",\"9\\u002f10\",\"9\\u002f10\",\"9\\u002f10\",\"9\\u002f10\",\"9\\u002f10\",\"9\\u002f10\",\"9\\u002f10\",\"9\\u002f10\",\"9\\u002f10\",\"9\\u002f10\",\"9\\u002f10\",\"9\\u002f10\",\"9\\u002f10\",\"9\\u002f10\",\"9\\u002f10\",\"9\\u002f10\",\"9\\u002f10\",\"9\\u002f10\",\"9\\u002f10\",\"9\\u002f10\",\"9\\u002f10\",\"9\\u002f10\",\"9\\u002f10\",\"9\\u002f10\",\"9\\u002f10\",\"9\\u002f10\",\"9\\u002f10\",\"9\\u002f10\",\"9\\u002f10\",\"9\\u002f10\",\"9\\u002f10\",\"9\\u002f10\",\"9\\u002f10\",\"9\\u002f10\",\"9\\u002f10\",\"9\\u002f10\",\"9\\u002f10\",\"9\\u002f10\",\"9\\u002f10\",\"9\\u002f10\",\"9\\u002f10\",\"9\\u002f10\",\"9\\u002f10\",\"9\\u002f10\",\"9\\u002f10\",\"9\\u002f10\",\"9\\u002f10\",\"9\\u002f10\",\"9\\u002f10\",\"9\\u002f10\",\"9\\u002f10\",\"9\\u002f10\",\"9\\u002f10\",\"9\\u002f10\",\"9\\u002f10\",\"9\\u002f10\",\"9\\u002f10\",\"9\\u002f10\",\"9\\u002f10\",\"9\\u002f10\",\"9\\u002f10\",\"9\\u002f10\",\"9\\u002f10\",\"9\\u002f10\",\"9\\u002f10\",\"9\\u002f10\",\"9\\u002f10\",\"9\\u002f10\",\"9\\u002f10\",\"9\\u002f10\",\"9\\u002f10\",\"9\\u002f10\",\"9\\u002f10\",\"9\\u002f10\",\"9\\u002f10\",\"9\\u002f10\",\"9\\u002f10\",\"9\\u002f10\",\"9\\u002f10\",\"9\\u002f10\",\"9\\u002f10\",\"9\\u002f10\",\"9\\u002f10\",\"9\\u002f10\",\"9\\u002f10\",\"9\\u002f10\",\"9\\u002f10\",\"9\\u002f10\",\"9\\u002f10\",\"9\\u002f10\",\"9\\u002f10\",\"9\\u002f10\",\"9\\u002f10\",\"9\\u002f10\",\"9\\u002f10\",\"9\\u002f10\",\"9\\u002f10\",\"9\\u002f10\",\"9\\u002f10\",\"9\\u002f10\",\"9\\u002f10\",\"9\\u002f10\",\"9\\u002f10\",\"9\\u002f10\",\"9\\u002f10\",\"9\\u002f10\",\"9\\u002f10\",\"9\\u002f10\",\"9\\u002f10\",\"9\\u002f10\",\"9\\u002f10\",\"9\\u002f10\",\"9\\u002f10\",\"9\\u002f10\",\"9\\u002f10\",\"9\\u002f10\",\"9\\u002f10\",\"9\\u002f10\",\"9\\u002f10\",\"9\\u002f10\",\"9\\u002f10\",\"9\\u002f10\",\"9\\u002f10\",\"9\\u002f10\",\"9\\u002f10\",\"9\\u002f10\",\"9\\u002f10\",\"9\\u002f10\",\"9\\u002f10\",\"9\\u002f10\",\"9\\u002f10\",\"9\\u002f10\",\"9\\u002f10\",\"9\\u002f10\",\"9\\u002f10\",\"9\\u002f10\",\"9\\u002f10\",\"9\\u002f10\",\"9\\u002f10\",\"9\\u002f10\",\"9\\u002f10\",\"9\\u002f10\",\"9\\u002f10\",\"9\\u002f10\",\"9\\u002f10\",\"9\\u002f10\",\"9\\u002f10\",\"9\\u002f10\",\"9\\u002f10\",\"9\\u002f10\",\"9\\u002f10\",\"9\\u002f10\",\"9\\u002f10\",\"9\\u002f10\",\"9\\u002f10\",\"9\\u002f10\",\"9\\u002f10\",\"9\\u002f10\",\"9\\u002f10\",\"9\\u002f10\",\"9\\u002f10\",\"9\\u002f10\",\"9\\u002f10\",\"9\\u002f10\",\"9\\u002f10\",\"9\\u002f10\",\"9\\u002f10\",\"9\\u002f10\",\"9\\u002f10\",\"9\\u002f10\",\"9\\u002f10\",\"9\\u002f10\",\"9\\u002f10\",\"9\\u002f10\",\"9\\u002f10\",\"9\\u002f10\",\"9\\u002f10\",\"9\\u002f10\",\"9\\u002f10\",\"9\\u002f10\",\"9\\u002f10\",\"9\\u002f10\",\"9\\u002f10\",\"9\\u002f10\",\"9\\u002f10\",\"9\\u002f10\",\"9\\u002f10\",\"9\\u002f10\",\"9\\u002f10\"],\"xaxis\":\"x\",\"yaxis\":\"y\",\"type\":\"histogram\"},{\"alignmentgroup\":\"True\",\"bingroup\":\"x\",\"hovertemplate\":\"stars=%{x}\\u003cbr\\u003ecount=%{y}\\u003cextra\\u003e\\u003c\\u002fextra\\u003e\",\"legendgroup\":\"10\\u002f10\",\"marker\":{\"color\":\"#ab63fa\",\"pattern\":{\"shape\":\"\"}},\"name\":\"10\\u002f10\",\"offsetgroup\":\"10\\u002f10\",\"orientation\":\"v\",\"showlegend\":true,\"x\":[\"10\\u002f10\",\"10\\u002f10\",\"10\\u002f10\",\"10\\u002f10\",\"10\\u002f10\",\"10\\u002f10\",\"10\\u002f10\",\"10\\u002f10\",\"10\\u002f10\",\"10\\u002f10\",\"10\\u002f10\",\"10\\u002f10\",\"10\\u002f10\",\"10\\u002f10\",\"10\\u002f10\",\"10\\u002f10\",\"10\\u002f10\",\"10\\u002f10\",\"10\\u002f10\",\"10\\u002f10\",\"10\\u002f10\",\"10\\u002f10\",\"10\\u002f10\",\"10\\u002f10\",\"10\\u002f10\",\"10\\u002f10\",\"10\\u002f10\",\"10\\u002f10\",\"10\\u002f10\",\"10\\u002f10\",\"10\\u002f10\",\"10\\u002f10\",\"10\\u002f10\",\"10\\u002f10\",\"10\\u002f10\",\"10\\u002f10\",\"10\\u002f10\",\"10\\u002f10\",\"10\\u002f10\",\"10\\u002f10\",\"10\\u002f10\",\"10\\u002f10\",\"10\\u002f10\",\"10\\u002f10\",\"10\\u002f10\",\"10\\u002f10\",\"10\\u002f10\",\"10\\u002f10\",\"10\\u002f10\",\"10\\u002f10\",\"10\\u002f10\",\"10\\u002f10\",\"10\\u002f10\",\"10\\u002f10\",\"10\\u002f10\",\"10\\u002f10\",\"10\\u002f10\",\"10\\u002f10\",\"10\\u002f10\",\"10\\u002f10\",\"10\\u002f10\",\"10\\u002f10\",\"10\\u002f10\",\"10\\u002f10\",\"10\\u002f10\",\"10\\u002f10\",\"10\\u002f10\",\"10\\u002f10\",\"10\\u002f10\",\"10\\u002f10\",\"10\\u002f10\",\"10\\u002f10\",\"10\\u002f10\",\"10\\u002f10\",\"10\\u002f10\",\"10\\u002f10\",\"10\\u002f10\",\"10\\u002f10\",\"10\\u002f10\",\"10\\u002f10\",\"10\\u002f10\",\"10\\u002f10\",\"10\\u002f10\",\"10\\u002f10\",\"10\\u002f10\",\"10\\u002f10\",\"10\\u002f10\",\"10\\u002f10\",\"10\\u002f10\",\"10\\u002f10\",\"10\\u002f10\",\"10\\u002f10\",\"10\\u002f10\",\"10\\u002f10\",\"10\\u002f10\",\"10\\u002f10\",\"10\\u002f10\",\"10\\u002f10\",\"10\\u002f10\",\"10\\u002f10\",\"10\\u002f10\",\"10\\u002f10\",\"10\\u002f10\",\"10\\u002f10\",\"10\\u002f10\",\"10\\u002f10\",\"10\\u002f10\",\"10\\u002f10\",\"10\\u002f10\",\"10\\u002f10\",\"10\\u002f10\",\"10\\u002f10\",\"10\\u002f10\",\"10\\u002f10\",\"10\\u002f10\",\"10\\u002f10\",\"10\\u002f10\",\"10\\u002f10\",\"10\\u002f10\",\"10\\u002f10\",\"10\\u002f10\",\"10\\u002f10\",\"10\\u002f10\",\"10\\u002f10\",\"10\\u002f10\",\"10\\u002f10\",\"10\\u002f10\",\"10\\u002f10\",\"10\\u002f10\",\"10\\u002f10\",\"10\\u002f10\",\"10\\u002f10\",\"10\\u002f10\",\"10\\u002f10\",\"10\\u002f10\",\"10\\u002f10\",\"10\\u002f10\",\"10\\u002f10\",\"10\\u002f10\",\"10\\u002f10\",\"10\\u002f10\",\"10\\u002f10\",\"10\\u002f10\",\"10\\u002f10\",\"10\\u002f10\",\"10\\u002f10\",\"10\\u002f10\",\"10\\u002f10\",\"10\\u002f10\",\"10\\u002f10\",\"10\\u002f10\",\"10\\u002f10\",\"10\\u002f10\",\"10\\u002f10\",\"10\\u002f10\",\"10\\u002f10\",\"10\\u002f10\",\"10\\u002f10\",\"10\\u002f10\",\"10\\u002f10\",\"10\\u002f10\",\"10\\u002f10\",\"10\\u002f10\",\"10\\u002f10\",\"10\\u002f10\",\"10\\u002f10\",\"10\\u002f10\",\"10\\u002f10\",\"10\\u002f10\",\"10\\u002f10\",\"10\\u002f10\",\"10\\u002f10\",\"10\\u002f10\",\"10\\u002f10\",\"10\\u002f10\",\"10\\u002f10\",\"10\\u002f10\",\"10\\u002f10\",\"10\\u002f10\",\"10\\u002f10\",\"10\\u002f10\",\"10\\u002f10\",\"10\\u002f10\",\"10\\u002f10\",\"10\\u002f10\",\"10\\u002f10\",\"10\\u002f10\",\"10\\u002f10\",\"10\\u002f10\",\"10\\u002f10\",\"10\\u002f10\",\"10\\u002f10\",\"10\\u002f10\",\"10\\u002f10\",\"10\\u002f10\",\"10\\u002f10\",\"10\\u002f10\",\"10\\u002f10\",\"10\\u002f10\",\"10\\u002f10\",\"10\\u002f10\",\"10\\u002f10\",\"10\\u002f10\",\"10\\u002f10\",\"10\\u002f10\",\"10\\u002f10\",\"10\\u002f10\",\"10\\u002f10\",\"10\\u002f10\",\"10\\u002f10\",\"10\\u002f10\",\"10\\u002f10\",\"10\\u002f10\",\"10\\u002f10\",\"10\\u002f10\",\"10\\u002f10\",\"10\\u002f10\",\"10\\u002f10\",\"10\\u002f10\",\"10\\u002f10\",\"10\\u002f10\",\"10\\u002f10\",\"10\\u002f10\",\"10\\u002f10\",\"10\\u002f10\",\"10\\u002f10\",\"10\\u002f10\",\"10\\u002f10\",\"10\\u002f10\",\"10\\u002f10\",\"10\\u002f10\",\"10\\u002f10\",\"10\\u002f10\",\"10\\u002f10\",\"10\\u002f10\",\"10\\u002f10\",\"10\\u002f10\",\"10\\u002f10\",\"10\\u002f10\",\"10\\u002f10\",\"10\\u002f10\",\"10\\u002f10\",\"10\\u002f10\",\"10\\u002f10\",\"10\\u002f10\",\"10\\u002f10\",\"10\\u002f10\",\"10\\u002f10\",\"10\\u002f10\",\"10\\u002f10\",\"10\\u002f10\",\"10\\u002f10\",\"10\\u002f10\",\"10\\u002f10\",\"10\\u002f10\",\"10\\u002f10\",\"10\\u002f10\",\"10\\u002f10\",\"10\\u002f10\",\"10\\u002f10\",\"10\\u002f10\",\"10\\u002f10\",\"10\\u002f10\",\"10\\u002f10\",\"10\\u002f10\",\"10\\u002f10\",\"10\\u002f10\",\"10\\u002f10\",\"10\\u002f10\",\"10\\u002f10\",\"10\\u002f10\",\"10\\u002f10\",\"10\\u002f10\",\"10\\u002f10\",\"10\\u002f10\",\"10\\u002f10\",\"10\\u002f10\",\"10\\u002f10\",\"10\\u002f10\",\"10\\u002f10\",\"10\\u002f10\",\"10\\u002f10\",\"10\\u002f10\",\"10\\u002f10\",\"10\\u002f10\",\"10\\u002f10\",\"10\\u002f10\",\"10\\u002f10\",\"10\\u002f10\",\"10\\u002f10\",\"10\\u002f10\",\"10\\u002f10\",\"10\\u002f10\",\"10\\u002f10\",\"10\\u002f10\",\"10\\u002f10\",\"10\\u002f10\",\"10\\u002f10\",\"10\\u002f10\",\"10\\u002f10\",\"10\\u002f10\",\"10\\u002f10\",\"10\\u002f10\",\"10\\u002f10\",\"10\\u002f10\",\"10\\u002f10\",\"10\\u002f10\",\"10\\u002f10\",\"10\\u002f10\",\"10\\u002f10\",\"10\\u002f10\",\"10\\u002f10\",\"10\\u002f10\",\"10\\u002f10\",\"10\\u002f10\",\"10\\u002f10\",\"10\\u002f10\",\"10\\u002f10\",\"10\\u002f10\",\"10\\u002f10\",\"10\\u002f10\",\"10\\u002f10\",\"10\\u002f10\",\"10\\u002f10\",\"10\\u002f10\",\"10\\u002f10\",\"10\\u002f10\",\"10\\u002f10\",\"10\\u002f10\",\"10\\u002f10\",\"10\\u002f10\",\"10\\u002f10\",\"10\\u002f10\",\"10\\u002f10\",\"10\\u002f10\",\"10\\u002f10\",\"10\\u002f10\",\"10\\u002f10\",\"10\\u002f10\",\"10\\u002f10\",\"10\\u002f10\",\"10\\u002f10\",\"10\\u002f10\",\"10\\u002f10\",\"10\\u002f10\",\"10\\u002f10\",\"10\\u002f10\",\"10\\u002f10\",\"10\\u002f10\",\"10\\u002f10\",\"10\\u002f10\",\"10\\u002f10\",\"10\\u002f10\",\"10\\u002f10\",\"10\\u002f10\",\"10\\u002f10\",\"10\\u002f10\",\"10\\u002f10\",\"10\\u002f10\",\"10\\u002f10\",\"10\\u002f10\",\"10\\u002f10\",\"10\\u002f10\",\"10\\u002f10\",\"10\\u002f10\",\"10\\u002f10\",\"10\\u002f10\",\"10\\u002f10\",\"10\\u002f10\",\"10\\u002f10\",\"10\\u002f10\",\"10\\u002f10\",\"10\\u002f10\",\"10\\u002f10\",\"10\\u002f10\",\"10\\u002f10\",\"10\\u002f10\",\"10\\u002f10\",\"10\\u002f10\",\"10\\u002f10\",\"10\\u002f10\",\"10\\u002f10\",\"10\\u002f10\",\"10\\u002f10\",\"10\\u002f10\",\"10\\u002f10\",\"10\\u002f10\",\"10\\u002f10\",\"10\\u002f10\",\"10\\u002f10\",\"10\\u002f10\",\"10\\u002f10\",\"10\\u002f10\",\"10\\u002f10\",\"10\\u002f10\",\"10\\u002f10\",\"10\\u002f10\",\"10\\u002f10\",\"10\\u002f10\",\"10\\u002f10\",\"10\\u002f10\",\"10\\u002f10\",\"10\\u002f10\",\"10\\u002f10\",\"10\\u002f10\",\"10\\u002f10\",\"10\\u002f10\",\"10\\u002f10\",\"10\\u002f10\",\"10\\u002f10\",\"10\\u002f10\",\"10\\u002f10\",\"10\\u002f10\",\"10\\u002f10\",\"10\\u002f10\",\"10\\u002f10\",\"10\\u002f10\",\"10\\u002f10\",\"10\\u002f10\",\"10\\u002f10\",\"10\\u002f10\",\"10\\u002f10\",\"10\\u002f10\",\"10\\u002f10\",\"10\\u002f10\",\"10\\u002f10\",\"10\\u002f10\",\"10\\u002f10\",\"10\\u002f10\",\"10\\u002f10\",\"10\\u002f10\",\"10\\u002f10\",\"10\\u002f10\",\"10\\u002f10\",\"10\\u002f10\",\"10\\u002f10\",\"10\\u002f10\",\"10\\u002f10\",\"10\\u002f10\",\"10\\u002f10\",\"10\\u002f10\",\"10\\u002f10\",\"10\\u002f10\",\"10\\u002f10\",\"10\\u002f10\",\"10\\u002f10\",\"10\\u002f10\",\"10\\u002f10\",\"10\\u002f10\",\"10\\u002f10\",\"10\\u002f10\",\"10\\u002f10\",\"10\\u002f10\",\"10\\u002f10\",\"10\\u002f10\",\"10\\u002f10\",\"10\\u002f10\",\"10\\u002f10\",\"10\\u002f10\",\"10\\u002f10\",\"10\\u002f10\",\"10\\u002f10\",\"10\\u002f10\",\"10\\u002f10\",\"10\\u002f10\",\"10\\u002f10\",\"10\\u002f10\",\"10\\u002f10\",\"10\\u002f10\",\"10\\u002f10\",\"10\\u002f10\",\"10\\u002f10\",\"10\\u002f10\",\"10\\u002f10\",\"10\\u002f10\",\"10\\u002f10\",\"10\\u002f10\",\"10\\u002f10\",\"10\\u002f10\",\"10\\u002f10\",\"10\\u002f10\",\"10\\u002f10\",\"10\\u002f10\",\"10\\u002f10\",\"10\\u002f10\",\"10\\u002f10\",\"10\\u002f10\",\"10\\u002f10\",\"10\\u002f10\",\"10\\u002f10\",\"10\\u002f10\",\"10\\u002f10\",\"10\\u002f10\",\"10\\u002f10\",\"10\\u002f10\",\"10\\u002f10\",\"10\\u002f10\",\"10\\u002f10\",\"10\\u002f10\",\"10\\u002f10\",\"10\\u002f10\",\"10\\u002f10\",\"10\\u002f10\",\"10\\u002f10\",\"10\\u002f10\",\"10\\u002f10\",\"10\\u002f10\",\"10\\u002f10\",\"10\\u002f10\",\"10\\u002f10\",\"10\\u002f10\",\"10\\u002f10\",\"10\\u002f10\",\"10\\u002f10\",\"10\\u002f10\",\"10\\u002f10\",\"10\\u002f10\",\"10\\u002f10\",\"10\\u002f10\",\"10\\u002f10\",\"10\\u002f10\",\"10\\u002f10\",\"10\\u002f10\",\"10\\u002f10\",\"10\\u002f10\",\"10\\u002f10\",\"10\\u002f10\",\"10\\u002f10\",\"10\\u002f10\",\"10\\u002f10\",\"10\\u002f10\",\"10\\u002f10\",\"10\\u002f10\",\"10\\u002f10\",\"10\\u002f10\",\"10\\u002f10\",\"10\\u002f10\",\"10\\u002f10\",\"10\\u002f10\",\"10\\u002f10\",\"10\\u002f10\",\"10\\u002f10\",\"10\\u002f10\",\"10\\u002f10\",\"10\\u002f10\",\"10\\u002f10\",\"10\\u002f10\",\"10\\u002f10\",\"10\\u002f10\",\"10\\u002f10\",\"10\\u002f10\",\"10\\u002f10\",\"10\\u002f10\",\"10\\u002f10\",\"10\\u002f10\",\"10\\u002f10\",\"10\\u002f10\",\"10\\u002f10\",\"10\\u002f10\",\"10\\u002f10\",\"10\\u002f10\",\"10\\u002f10\",\"10\\u002f10\",\"10\\u002f10\",\"10\\u002f10\",\"10\\u002f10\",\"10\\u002f10\",\"10\\u002f10\",\"10\\u002f10\",\"10\\u002f10\",\"10\\u002f10\",\"10\\u002f10\",\"10\\u002f10\",\"10\\u002f10\",\"10\\u002f10\",\"10\\u002f10\",\"10\\u002f10\",\"10\\u002f10\",\"10\\u002f10\",\"10\\u002f10\",\"10\\u002f10\",\"10\\u002f10\",\"10\\u002f10\",\"10\\u002f10\",\"10\\u002f10\",\"10\\u002f10\",\"10\\u002f10\",\"10\\u002f10\",\"10\\u002f10\",\"10\\u002f10\",\"10\\u002f10\",\"10\\u002f10\",\"10\\u002f10\",\"10\\u002f10\",\"10\\u002f10\",\"10\\u002f10\",\"10\\u002f10\",\"10\\u002f10\",\"10\\u002f10\",\"10\\u002f10\",\"10\\u002f10\",\"10\\u002f10\",\"10\\u002f10\",\"10\\u002f10\",\"10\\u002f10\",\"10\\u002f10\",\"10\\u002f10\",\"10\\u002f10\",\"10\\u002f10\",\"10\\u002f10\",\"10\\u002f10\",\"10\\u002f10\",\"10\\u002f10\",\"10\\u002f10\",\"10\\u002f10\",\"10\\u002f10\",\"10\\u002f10\",\"10\\u002f10\",\"10\\u002f10\",\"10\\u002f10\",\"10\\u002f10\",\"10\\u002f10\",\"10\\u002f10\",\"10\\u002f10\",\"10\\u002f10\",\"10\\u002f10\",\"10\\u002f10\",\"10\\u002f10\",\"10\\u002f10\",\"10\\u002f10\",\"10\\u002f10\",\"10\\u002f10\",\"10\\u002f10\",\"10\\u002f10\",\"10\\u002f10\",\"10\\u002f10\",\"10\\u002f10\",\"10\\u002f10\",\"10\\u002f10\",\"10\\u002f10\",\"10\\u002f10\",\"10\\u002f10\",\"10\\u002f10\",\"10\\u002f10\",\"10\\u002f10\",\"10\\u002f10\",\"10\\u002f10\",\"10\\u002f10\",\"10\\u002f10\",\"10\\u002f10\",\"10\\u002f10\",\"10\\u002f10\",\"10\\u002f10\",\"10\\u002f10\",\"10\\u002f10\",\"10\\u002f10\",\"10\\u002f10\",\"10\\u002f10\",\"10\\u002f10\",\"10\\u002f10\",\"10\\u002f10\",\"10\\u002f10\",\"10\\u002f10\",\"10\\u002f10\",\"10\\u002f10\",\"10\\u002f10\",\"10\\u002f10\",\"10\\u002f10\",\"10\\u002f10\",\"10\\u002f10\",\"10\\u002f10\",\"10\\u002f10\",\"10\\u002f10\",\"10\\u002f10\",\"10\\u002f10\",\"10\\u002f10\",\"10\\u002f10\",\"10\\u002f10\",\"10\\u002f10\",\"10\\u002f10\",\"10\\u002f10\",\"10\\u002f10\",\"10\\u002f10\",\"10\\u002f10\",\"10\\u002f10\",\"10\\u002f10\",\"10\\u002f10\",\"10\\u002f10\",\"10\\u002f10\",\"10\\u002f10\",\"10\\u002f10\",\"10\\u002f10\",\"10\\u002f10\",\"10\\u002f10\",\"10\\u002f10\",\"10\\u002f10\",\"10\\u002f10\",\"10\\u002f10\",\"10\\u002f10\",\"10\\u002f10\",\"10\\u002f10\",\"10\\u002f10\",\"10\\u002f10\",\"10\\u002f10\",\"10\\u002f10\",\"10\\u002f10\",\"10\\u002f10\",\"10\\u002f10\",\"10\\u002f10\",\"10\\u002f10\",\"10\\u002f10\",\"10\\u002f10\",\"10\\u002f10\",\"10\\u002f10\",\"10\\u002f10\",\"10\\u002f10\",\"10\\u002f10\",\"10\\u002f10\",\"10\\u002f10\",\"10\\u002f10\",\"10\\u002f10\",\"10\\u002f10\",\"10\\u002f10\",\"10\\u002f10\",\"10\\u002f10\",\"10\\u002f10\",\"10\\u002f10\",\"10\\u002f10\",\"10\\u002f10\",\"10\\u002f10\",\"10\\u002f10\",\"10\\u002f10\",\"10\\u002f10\",\"10\\u002f10\",\"10\\u002f10\",\"10\\u002f10\",\"10\\u002f10\",\"10\\u002f10\",\"10\\u002f10\",\"10\\u002f10\",\"10\\u002f10\",\"10\\u002f10\",\"10\\u002f10\",\"10\\u002f10\",\"10\\u002f10\",\"10\\u002f10\",\"10\\u002f10\",\"10\\u002f10\",\"10\\u002f10\",\"10\\u002f10\",\"10\\u002f10\",\"10\\u002f10\",\"10\\u002f10\",\"10\\u002f10\",\"10\\u002f10\",\"10\\u002f10\",\"10\\u002f10\",\"10\\u002f10\",\"10\\u002f10\",\"10\\u002f10\",\"10\\u002f10\",\"10\\u002f10\",\"10\\u002f10\",\"10\\u002f10\",\"10\\u002f10\",\"10\\u002f10\",\"10\\u002f10\",\"10\\u002f10\",\"10\\u002f10\",\"10\\u002f10\",\"10\\u002f10\",\"10\\u002f10\",\"10\\u002f10\",\"10\\u002f10\",\"10\\u002f10\",\"10\\u002f10\",\"10\\u002f10\",\"10\\u002f10\",\"10\\u002f10\",\"10\\u002f10\",\"10\\u002f10\",\"10\\u002f10\",\"10\\u002f10\",\"10\\u002f10\",\"10\\u002f10\",\"10\\u002f10\",\"10\\u002f10\",\"10\\u002f10\",\"10\\u002f10\",\"10\\u002f10\",\"10\\u002f10\",\"10\\u002f10\",\"10\\u002f10\",\"10\\u002f10\",\"10\\u002f10\",\"10\\u002f10\",\"10\\u002f10\",\"10\\u002f10\",\"10\\u002f10\",\"10\\u002f10\",\"10\\u002f10\",\"10\\u002f10\",\"10\\u002f10\",\"10\\u002f10\",\"10\\u002f10\",\"10\\u002f10\",\"10\\u002f10\",\"10\\u002f10\",\"10\\u002f10\",\"10\\u002f10\",\"10\\u002f10\",\"10\\u002f10\",\"10\\u002f10\",\"10\\u002f10\",\"10\\u002f10\",\"10\\u002f10\",\"10\\u002f10\",\"10\\u002f10\",\"10\\u002f10\",\"10\\u002f10\",\"10\\u002f10\",\"10\\u002f10\",\"10\\u002f10\",\"10\\u002f10\",\"10\\u002f10\",\"10\\u002f10\",\"10\\u002f10\",\"10\\u002f10\",\"10\\u002f10\",\"10\\u002f10\",\"10\\u002f10\",\"10\\u002f10\",\"10\\u002f10\",\"10\\u002f10\",\"10\\u002f10\",\"10\\u002f10\",\"10\\u002f10\",\"10\\u002f10\",\"10\\u002f10\",\"10\\u002f10\",\"10\\u002f10\",\"10\\u002f10\",\"10\\u002f10\",\"10\\u002f10\",\"10\\u002f10\",\"10\\u002f10\",\"10\\u002f10\",\"10\\u002f10\",\"10\\u002f10\",\"10\\u002f10\",\"10\\u002f10\",\"10\\u002f10\",\"10\\u002f10\",\"10\\u002f10\",\"10\\u002f10\",\"10\\u002f10\",\"10\\u002f10\",\"10\\u002f10\",\"10\\u002f10\",\"10\\u002f10\",\"10\\u002f10\",\"10\\u002f10\",\"10\\u002f10\",\"10\\u002f10\",\"10\\u002f10\",\"10\\u002f10\",\"10\\u002f10\",\"10\\u002f10\",\"10\\u002f10\",\"10\\u002f10\",\"10\\u002f10\",\"10\\u002f10\",\"10\\u002f10\",\"10\\u002f10\",\"10\\u002f10\",\"10\\u002f10\",\"10\\u002f10\",\"10\\u002f10\",\"10\\u002f10\",\"10\\u002f10\",\"10\\u002f10\",\"10\\u002f10\",\"10\\u002f10\",\"10\\u002f10\",\"10\\u002f10\",\"10\\u002f10\",\"10\\u002f10\",\"10\\u002f10\",\"10\\u002f10\",\"10\\u002f10\",\"10\\u002f10\",\"10\\u002f10\",\"10\\u002f10\",\"10\\u002f10\",\"10\\u002f10\",\"10\\u002f10\",\"10\\u002f10\",\"10\\u002f10\",\"10\\u002f10\",\"10\\u002f10\",\"10\\u002f10\",\"10\\u002f10\",\"10\\u002f10\",\"10\\u002f10\",\"10\\u002f10\",\"10\\u002f10\",\"10\\u002f10\",\"10\\u002f10\",\"10\\u002f10\",\"10\\u002f10\",\"10\\u002f10\",\"10\\u002f10\",\"10\\u002f10\",\"10\\u002f10\",\"10\\u002f10\",\"10\\u002f10\",\"10\\u002f10\",\"10\\u002f10\",\"10\\u002f10\",\"10\\u002f10\",\"10\\u002f10\",\"10\\u002f10\",\"10\\u002f10\",\"10\\u002f10\",\"10\\u002f10\",\"10\\u002f10\",\"10\\u002f10\",\"10\\u002f10\",\"10\\u002f10\",\"10\\u002f10\",\"10\\u002f10\",\"10\\u002f10\",\"10\\u002f10\",\"10\\u002f10\",\"10\\u002f10\",\"10\\u002f10\",\"10\\u002f10\",\"10\\u002f10\",\"10\\u002f10\",\"10\\u002f10\",\"10\\u002f10\",\"10\\u002f10\",\"10\\u002f10\",\"10\\u002f10\",\"10\\u002f10\",\"10\\u002f10\",\"10\\u002f10\",\"10\\u002f10\",\"10\\u002f10\",\"10\\u002f10\",\"10\\u002f10\",\"10\\u002f10\",\"10\\u002f10\",\"10\\u002f10\",\"10\\u002f10\",\"10\\u002f10\",\"10\\u002f10\",\"10\\u002f10\",\"10\\u002f10\",\"10\\u002f10\",\"10\\u002f10\",\"10\\u002f10\",\"10\\u002f10\",\"10\\u002f10\",\"10\\u002f10\",\"10\\u002f10\",\"10\\u002f10\",\"10\\u002f10\",\"10\\u002f10\",\"10\\u002f10\",\"10\\u002f10\",\"10\\u002f10\",\"10\\u002f10\",\"10\\u002f10\",\"10\\u002f10\",\"10\\u002f10\",\"10\\u002f10\",\"10\\u002f10\",\"10\\u002f10\",\"10\\u002f10\",\"10\\u002f10\",\"10\\u002f10\",\"10\\u002f10\",\"10\\u002f10\",\"10\\u002f10\",\"10\\u002f10\",\"10\\u002f10\",\"10\\u002f10\",\"10\\u002f10\",\"10\\u002f10\",\"10\\u002f10\",\"10\\u002f10\",\"10\\u002f10\",\"10\\u002f10\",\"10\\u002f10\",\"10\\u002f10\",\"10\\u002f10\",\"10\\u002f10\",\"10\\u002f10\",\"10\\u002f10\",\"10\\u002f10\",\"10\\u002f10\",\"10\\u002f10\",\"10\\u002f10\",\"10\\u002f10\",\"10\\u002f10\",\"10\\u002f10\",\"10\\u002f10\",\"10\\u002f10\",\"10\\u002f10\",\"10\\u002f10\",\"10\\u002f10\",\"10\\u002f10\",\"10\\u002f10\",\"10\\u002f10\",\"10\\u002f10\",\"10\\u002f10\",\"10\\u002f10\",\"10\\u002f10\",\"10\\u002f10\",\"10\\u002f10\",\"10\\u002f10\",\"10\\u002f10\",\"10\\u002f10\",\"10\\u002f10\",\"10\\u002f10\",\"10\\u002f10\",\"10\\u002f10\",\"10\\u002f10\",\"10\\u002f10\",\"10\\u002f10\",\"10\\u002f10\",\"10\\u002f10\",\"10\\u002f10\",\"10\\u002f10\",\"10\\u002f10\",\"10\\u002f10\",\"10\\u002f10\",\"10\\u002f10\",\"10\\u002f10\",\"10\\u002f10\",\"10\\u002f10\",\"10\\u002f10\",\"10\\u002f10\",\"10\\u002f10\",\"10\\u002f10\",\"10\\u002f10\",\"10\\u002f10\",\"10\\u002f10\",\"10\\u002f10\",\"10\\u002f10\",\"10\\u002f10\",\"10\\u002f10\",\"10\\u002f10\",\"10\\u002f10\",\"10\\u002f10\",\"10\\u002f10\",\"10\\u002f10\",\"10\\u002f10\",\"10\\u002f10\",\"10\\u002f10\",\"10\\u002f10\",\"10\\u002f10\",\"10\\u002f10\",\"10\\u002f10\",\"10\\u002f10\",\"10\\u002f10\",\"10\\u002f10\",\"10\\u002f10\",\"10\\u002f10\",\"10\\u002f10\",\"10\\u002f10\",\"10\\u002f10\",\"10\\u002f10\",\"10\\u002f10\",\"10\\u002f10\",\"10\\u002f10\",\"10\\u002f10\",\"10\\u002f10\",\"10\\u002f10\",\"10\\u002f10\",\"10\\u002f10\",\"10\\u002f10\",\"10\\u002f10\",\"10\\u002f10\",\"10\\u002f10\",\"10\\u002f10\",\"10\\u002f10\",\"10\\u002f10\",\"10\\u002f10\",\"10\\u002f10\",\"10\\u002f10\",\"10\\u002f10\",\"10\\u002f10\",\"10\\u002f10\",\"10\\u002f10\",\"10\\u002f10\",\"10\\u002f10\",\"10\\u002f10\",\"10\\u002f10\",\"10\\u002f10\",\"10\\u002f10\",\"10\\u002f10\",\"10\\u002f10\",\"10\\u002f10\",\"10\\u002f10\",\"10\\u002f10\",\"10\\u002f10\",\"10\\u002f10\",\"10\\u002f10\",\"10\\u002f10\",\"10\\u002f10\",\"10\\u002f10\",\"10\\u002f10\",\"10\\u002f10\",\"10\\u002f10\",\"10\\u002f10\",\"10\\u002f10\",\"10\\u002f10\",\"10\\u002f10\",\"10\\u002f10\",\"10\\u002f10\",\"10\\u002f10\",\"10\\u002f10\",\"10\\u002f10\",\"10\\u002f10\",\"10\\u002f10\",\"10\\u002f10\",\"10\\u002f10\",\"10\\u002f10\",\"10\\u002f10\",\"10\\u002f10\",\"10\\u002f10\",\"10\\u002f10\",\"10\\u002f10\",\"10\\u002f10\",\"10\\u002f10\",\"10\\u002f10\",\"10\\u002f10\",\"10\\u002f10\",\"10\\u002f10\",\"10\\u002f10\",\"10\\u002f10\",\"10\\u002f10\",\"10\\u002f10\",\"10\\u002f10\",\"10\\u002f10\",\"10\\u002f10\",\"10\\u002f10\",\"10\\u002f10\",\"10\\u002f10\",\"10\\u002f10\",\"10\\u002f10\",\"10\\u002f10\",\"10\\u002f10\",\"10\\u002f10\",\"10\\u002f10\",\"10\\u002f10\",\"10\\u002f10\",\"10\\u002f10\",\"10\\u002f10\",\"10\\u002f10\",\"10\\u002f10\",\"10\\u002f10\",\"10\\u002f10\",\"10\\u002f10\",\"10\\u002f10\",\"10\\u002f10\",\"10\\u002f10\",\"10\\u002f10\",\"10\\u002f10\",\"10\\u002f10\",\"10\\u002f10\",\"10\\u002f10\",\"10\\u002f10\",\"10\\u002f10\",\"10\\u002f10\",\"10\\u002f10\",\"10\\u002f10\",\"10\\u002f10\",\"10\\u002f10\",\"10\\u002f10\",\"10\\u002f10\",\"10\\u002f10\",\"10\\u002f10\",\"10\\u002f10\",\"10\\u002f10\",\"10\\u002f10\",\"10\\u002f10\",\"10\\u002f10\",\"10\\u002f10\",\"10\\u002f10\",\"10\\u002f10\",\"10\\u002f10\",\"10\\u002f10\",\"10\\u002f10\",\"10\\u002f10\",\"10\\u002f10\",\"10\\u002f10\",\"10\\u002f10\",\"10\\u002f10\",\"10\\u002f10\",\"10\\u002f10\",\"10\\u002f10\",\"10\\u002f10\",\"10\\u002f10\",\"10\\u002f10\",\"10\\u002f10\",\"10\\u002f10\",\"10\\u002f10\",\"10\\u002f10\",\"10\\u002f10\",\"10\\u002f10\",\"10\\u002f10\",\"10\\u002f10\",\"10\\u002f10\",\"10\\u002f10\",\"10\\u002f10\",\"10\\u002f10\",\"10\\u002f10\",\"10\\u002f10\",\"10\\u002f10\",\"10\\u002f10\",\"10\\u002f10\",\"10\\u002f10\",\"10\\u002f10\",\"10\\u002f10\",\"10\\u002f10\",\"10\\u002f10\",\"10\\u002f10\",\"10\\u002f10\",\"10\\u002f10\",\"10\\u002f10\",\"10\\u002f10\",\"10\\u002f10\",\"10\\u002f10\",\"10\\u002f10\",\"10\\u002f10\",\"10\\u002f10\",\"10\\u002f10\",\"10\\u002f10\",\"10\\u002f10\",\"10\\u002f10\",\"10\\u002f10\",\"10\\u002f10\",\"10\\u002f10\",\"10\\u002f10\",\"10\\u002f10\",\"10\\u002f10\",\"10\\u002f10\",\"10\\u002f10\",\"10\\u002f10\",\"10\\u002f10\",\"10\\u002f10\",\"10\\u002f10\",\"10\\u002f10\",\"10\\u002f10\",\"10\\u002f10\",\"10\\u002f10\",\"10\\u002f10\",\"10\\u002f10\",\"10\\u002f10\",\"10\\u002f10\",\"10\\u002f10\",\"10\\u002f10\",\"10\\u002f10\",\"10\\u002f10\",\"10\\u002f10\",\"10\\u002f10\",\"10\\u002f10\",\"10\\u002f10\",\"10\\u002f10\",\"10\\u002f10\",\"10\\u002f10\",\"10\\u002f10\",\"10\\u002f10\",\"10\\u002f10\",\"10\\u002f10\",\"10\\u002f10\",\"10\\u002f10\",\"10\\u002f10\",\"10\\u002f10\",\"10\\u002f10\",\"10\\u002f10\",\"10\\u002f10\",\"10\\u002f10\",\"10\\u002f10\",\"10\\u002f10\",\"10\\u002f10\",\"10\\u002f10\",\"10\\u002f10\",\"10\\u002f10\",\"10\\u002f10\",\"10\\u002f10\",\"10\\u002f10\",\"10\\u002f10\",\"10\\u002f10\",\"10\\u002f10\",\"10\\u002f10\",\"10\\u002f10\",\"10\\u002f10\",\"10\\u002f10\",\"10\\u002f10\",\"10\\u002f10\",\"10\\u002f10\",\"10\\u002f10\",\"10\\u002f10\",\"10\\u002f10\",\"10\\u002f10\",\"10\\u002f10\",\"10\\u002f10\",\"10\\u002f10\",\"10\\u002f10\",\"10\\u002f10\",\"10\\u002f10\",\"10\\u002f10\",\"10\\u002f10\",\"10\\u002f10\",\"10\\u002f10\",\"10\\u002f10\",\"10\\u002f10\",\"10\\u002f10\",\"10\\u002f10\",\"10\\u002f10\",\"10\\u002f10\",\"10\\u002f10\",\"10\\u002f10\",\"10\\u002f10\",\"10\\u002f10\",\"10\\u002f10\",\"10\\u002f10\",\"10\\u002f10\",\"10\\u002f10\",\"10\\u002f10\",\"10\\u002f10\",\"10\\u002f10\",\"10\\u002f10\",\"10\\u002f10\",\"10\\u002f10\",\"10\\u002f10\",\"10\\u002f10\",\"10\\u002f10\",\"10\\u002f10\",\"10\\u002f10\",\"10\\u002f10\",\"10\\u002f10\",\"10\\u002f10\",\"10\\u002f10\",\"10\\u002f10\",\"10\\u002f10\",\"10\\u002f10\",\"10\\u002f10\",\"10\\u002f10\",\"10\\u002f10\",\"10\\u002f10\",\"10\\u002f10\",\"10\\u002f10\",\"10\\u002f10\",\"10\\u002f10\",\"10\\u002f10\",\"10\\u002f10\",\"10\\u002f10\",\"10\\u002f10\",\"10\\u002f10\",\"10\\u002f10\",\"10\\u002f10\",\"10\\u002f10\",\"10\\u002f10\",\"10\\u002f10\",\"10\\u002f10\",\"10\\u002f10\",\"10\\u002f10\",\"10\\u002f10\",\"10\\u002f10\",\"10\\u002f10\",\"10\\u002f10\",\"10\\u002f10\",\"10\\u002f10\",\"10\\u002f10\",\"10\\u002f10\",\"10\\u002f10\",\"10\\u002f10\",\"10\\u002f10\",\"10\\u002f10\",\"10\\u002f10\",\"10\\u002f10\",\"10\\u002f10\",\"10\\u002f10\",\"10\\u002f10\",\"10\\u002f10\",\"10\\u002f10\",\"10\\u002f10\",\"10\\u002f10\",\"10\\u002f10\",\"10\\u002f10\",\"10\\u002f10\",\"10\\u002f10\",\"10\\u002f10\",\"10\\u002f10\",\"10\\u002f10\",\"10\\u002f10\",\"10\\u002f10\",\"10\\u002f10\",\"10\\u002f10\",\"10\\u002f10\",\"10\\u002f10\",\"10\\u002f10\",\"10\\u002f10\",\"10\\u002f10\",\"10\\u002f10\",\"10\\u002f10\",\"10\\u002f10\",\"10\\u002f10\",\"10\\u002f10\",\"10\\u002f10\",\"10\\u002f10\",\"10\\u002f10\",\"10\\u002f10\",\"10\\u002f10\",\"10\\u002f10\",\"10\\u002f10\",\"10\\u002f10\",\"10\\u002f10\",\"10\\u002f10\",\"10\\u002f10\",\"10\\u002f10\",\"10\\u002f10\",\"10\\u002f10\",\"10\\u002f10\",\"10\\u002f10\",\"10\\u002f10\",\"10\\u002f10\",\"10\\u002f10\",\"10\\u002f10\",\"10\\u002f10\",\"10\\u002f10\",\"10\\u002f10\",\"10\\u002f10\",\"10\\u002f10\",\"10\\u002f10\",\"10\\u002f10\",\"10\\u002f10\",\"10\\u002f10\",\"10\\u002f10\",\"10\\u002f10\",\"10\\u002f10\",\"10\\u002f10\",\"10\\u002f10\",\"10\\u002f10\",\"10\\u002f10\",\"10\\u002f10\",\"10\\u002f10\",\"10\\u002f10\",\"10\\u002f10\",\"10\\u002f10\",\"10\\u002f10\",\"10\\u002f10\",\"10\\u002f10\",\"10\\u002f10\",\"10\\u002f10\",\"10\\u002f10\",\"10\\u002f10\",\"10\\u002f10\",\"10\\u002f10\",\"10\\u002f10\",\"10\\u002f10\",\"10\\u002f10\",\"10\\u002f10\",\"10\\u002f10\",\"10\\u002f10\",\"10\\u002f10\",\"10\\u002f10\",\"10\\u002f10\",\"10\\u002f10\",\"10\\u002f10\",\"10\\u002f10\",\"10\\u002f10\",\"10\\u002f10\",\"10\\u002f10\",\"10\\u002f10\",\"10\\u002f10\",\"10\\u002f10\",\"10\\u002f10\",\"10\\u002f10\",\"10\\u002f10\",\"10\\u002f10\",\"10\\u002f10\",\"10\\u002f10\",\"10\\u002f10\",\"10\\u002f10\",\"10\\u002f10\",\"10\\u002f10\",\"10\\u002f10\",\"10\\u002f10\",\"10\\u002f10\",\"10\\u002f10\",\"10\\u002f10\",\"10\\u002f10\",\"10\\u002f10\",\"10\\u002f10\",\"10\\u002f10\",\"10\\u002f10\",\"10\\u002f10\",\"10\\u002f10\",\"10\\u002f10\",\"10\\u002f10\",\"10\\u002f10\",\"10\\u002f10\",\"10\\u002f10\",\"10\\u002f10\",\"10\\u002f10\",\"10\\u002f10\",\"10\\u002f10\",\"10\\u002f10\",\"10\\u002f10\",\"10\\u002f10\",\"10\\u002f10\",\"10\\u002f10\",\"10\\u002f10\",\"10\\u002f10\",\"10\\u002f10\",\"10\\u002f10\",\"10\\u002f10\",\"10\\u002f10\",\"10\\u002f10\",\"10\\u002f10\",\"10\\u002f10\",\"10\\u002f10\",\"10\\u002f10\",\"10\\u002f10\",\"10\\u002f10\",\"10\\u002f10\",\"10\\u002f10\",\"10\\u002f10\",\"10\\u002f10\",\"10\\u002f10\",\"10\\u002f10\",\"10\\u002f10\",\"10\\u002f10\",\"10\\u002f10\",\"10\\u002f10\",\"10\\u002f10\",\"10\\u002f10\",\"10\\u002f10\",\"10\\u002f10\",\"10\\u002f10\",\"10\\u002f10\",\"10\\u002f10\",\"10\\u002f10\",\"10\\u002f10\",\"10\\u002f10\",\"10\\u002f10\",\"10\\u002f10\",\"10\\u002f10\",\"10\\u002f10\",\"10\\u002f10\",\"10\\u002f10\",\"10\\u002f10\",\"10\\u002f10\",\"10\\u002f10\",\"10\\u002f10\",\"10\\u002f10\",\"10\\u002f10\",\"10\\u002f10\",\"10\\u002f10\",\"10\\u002f10\",\"10\\u002f10\",\"10\\u002f10\",\"10\\u002f10\",\"10\\u002f10\",\"10\\u002f10\",\"10\\u002f10\",\"10\\u002f10\",\"10\\u002f10\",\"10\\u002f10\",\"10\\u002f10\",\"10\\u002f10\",\"10\\u002f10\",\"10\\u002f10\",\"10\\u002f10\",\"10\\u002f10\",\"10\\u002f10\",\"10\\u002f10\",\"10\\u002f10\",\"10\\u002f10\",\"10\\u002f10\",\"10\\u002f10\",\"10\\u002f10\",\"10\\u002f10\",\"10\\u002f10\",\"10\\u002f10\",\"10\\u002f10\",\"10\\u002f10\",\"10\\u002f10\",\"10\\u002f10\",\"10\\u002f10\",\"10\\u002f10\",\"10\\u002f10\",\"10\\u002f10\",\"10\\u002f10\",\"10\\u002f10\",\"10\\u002f10\",\"10\\u002f10\",\"10\\u002f10\",\"10\\u002f10\",\"10\\u002f10\",\"10\\u002f10\",\"10\\u002f10\",\"10\\u002f10\",\"10\\u002f10\",\"10\\u002f10\",\"10\\u002f10\",\"10\\u002f10\",\"10\\u002f10\",\"10\\u002f10\",\"10\\u002f10\",\"10\\u002f10\",\"10\\u002f10\",\"10\\u002f10\",\"10\\u002f10\",\"10\\u002f10\",\"10\\u002f10\",\"10\\u002f10\",\"10\\u002f10\",\"10\\u002f10\",\"10\\u002f10\",\"10\\u002f10\",\"10\\u002f10\",\"10\\u002f10\",\"10\\u002f10\",\"10\\u002f10\",\"10\\u002f10\",\"10\\u002f10\",\"10\\u002f10\",\"10\\u002f10\",\"10\\u002f10\",\"10\\u002f10\",\"10\\u002f10\",\"10\\u002f10\",\"10\\u002f10\",\"10\\u002f10\",\"10\\u002f10\",\"10\\u002f10\",\"10\\u002f10\",\"10\\u002f10\",\"10\\u002f10\",\"10\\u002f10\",\"10\\u002f10\",\"10\\u002f10\",\"10\\u002f10\",\"10\\u002f10\",\"10\\u002f10\",\"10\\u002f10\",\"10\\u002f10\",\"10\\u002f10\",\"10\\u002f10\",\"10\\u002f10\",\"10\\u002f10\",\"10\\u002f10\",\"10\\u002f10\",\"10\\u002f10\",\"10\\u002f10\",\"10\\u002f10\",\"10\\u002f10\",\"10\\u002f10\",\"10\\u002f10\",\"10\\u002f10\",\"10\\u002f10\",\"10\\u002f10\",\"10\\u002f10\",\"10\\u002f10\",\"10\\u002f10\",\"10\\u002f10\",\"10\\u002f10\",\"10\\u002f10\",\"10\\u002f10\",\"10\\u002f10\",\"10\\u002f10\",\"10\\u002f10\",\"10\\u002f10\",\"10\\u002f10\",\"10\\u002f10\",\"10\\u002f10\",\"10\\u002f10\",\"10\\u002f10\",\"10\\u002f10\",\"10\\u002f10\",\"10\\u002f10\",\"10\\u002f10\",\"10\\u002f10\",\"10\\u002f10\",\"10\\u002f10\",\"10\\u002f10\",\"10\\u002f10\",\"10\\u002f10\",\"10\\u002f10\",\"10\\u002f10\",\"10\\u002f10\",\"10\\u002f10\",\"10\\u002f10\",\"10\\u002f10\",\"10\\u002f10\",\"10\\u002f10\",\"10\\u002f10\",\"10\\u002f10\",\"10\\u002f10\",\"10\\u002f10\",\"10\\u002f10\",\"10\\u002f10\",\"10\\u002f10\",\"10\\u002f10\",\"10\\u002f10\",\"10\\u002f10\",\"10\\u002f10\",\"10\\u002f10\",\"10\\u002f10\",\"10\\u002f10\",\"10\\u002f10\",\"10\\u002f10\",\"10\\u002f10\",\"10\\u002f10\",\"10\\u002f10\",\"10\\u002f10\",\"10\\u002f10\",\"10\\u002f10\",\"10\\u002f10\",\"10\\u002f10\",\"10\\u002f10\",\"10\\u002f10\",\"10\\u002f10\",\"10\\u002f10\",\"10\\u002f10\",\"10\\u002f10\",\"10\\u002f10\",\"10\\u002f10\",\"10\\u002f10\",\"10\\u002f10\",\"10\\u002f10\",\"10\\u002f10\",\"10\\u002f10\",\"10\\u002f10\",\"10\\u002f10\",\"10\\u002f10\",\"10\\u002f10\",\"10\\u002f10\",\"10\\u002f10\",\"10\\u002f10\",\"10\\u002f10\",\"10\\u002f10\",\"10\\u002f10\",\"10\\u002f10\",\"10\\u002f10\",\"10\\u002f10\",\"10\\u002f10\",\"10\\u002f10\",\"10\\u002f10\",\"10\\u002f10\",\"10\\u002f10\",\"10\\u002f10\",\"10\\u002f10\",\"10\\u002f10\",\"10\\u002f10\",\"10\\u002f10\",\"10\\u002f10\",\"10\\u002f10\",\"10\\u002f10\",\"10\\u002f10\",\"10\\u002f10\",\"10\\u002f10\",\"10\\u002f10\",\"10\\u002f10\",\"10\\u002f10\",\"10\\u002f10\",\"10\\u002f10\",\"10\\u002f10\",\"10\\u002f10\",\"10\\u002f10\",\"10\\u002f10\",\"10\\u002f10\",\"10\\u002f10\",\"10\\u002f10\",\"10\\u002f10\",\"10\\u002f10\",\"10\\u002f10\",\"10\\u002f10\",\"10\\u002f10\",\"10\\u002f10\",\"10\\u002f10\",\"10\\u002f10\",\"10\\u002f10\",\"10\\u002f10\",\"10\\u002f10\",\"10\\u002f10\",\"10\\u002f10\",\"10\\u002f10\",\"10\\u002f10\",\"10\\u002f10\",\"10\\u002f10\",\"10\\u002f10\",\"10\\u002f10\",\"10\\u002f10\",\"10\\u002f10\",\"10\\u002f10\",\"10\\u002f10\",\"10\\u002f10\",\"10\\u002f10\",\"10\\u002f10\",\"10\\u002f10\",\"10\\u002f10\",\"10\\u002f10\",\"10\\u002f10\",\"10\\u002f10\",\"10\\u002f10\",\"10\\u002f10\",\"10\\u002f10\",\"10\\u002f10\",\"10\\u002f10\",\"10\\u002f10\",\"10\\u002f10\",\"10\\u002f10\",\"10\\u002f10\",\"10\\u002f10\",\"10\\u002f10\",\"10\\u002f10\",\"10\\u002f10\",\"10\\u002f10\",\"10\\u002f10\",\"10\\u002f10\",\"10\\u002f10\",\"10\\u002f10\",\"10\\u002f10\",\"10\\u002f10\",\"10\\u002f10\",\"10\\u002f10\",\"10\\u002f10\",\"10\\u002f10\",\"10\\u002f10\",\"10\\u002f10\",\"10\\u002f10\",\"10\\u002f10\",\"10\\u002f10\",\"10\\u002f10\",\"10\\u002f10\",\"10\\u002f10\",\"10\\u002f10\",\"10\\u002f10\",\"10\\u002f10\",\"10\\u002f10\",\"10\\u002f10\",\"10\\u002f10\",\"10\\u002f10\",\"10\\u002f10\",\"10\\u002f10\",\"10\\u002f10\",\"10\\u002f10\",\"10\\u002f10\",\"10\\u002f10\",\"10\\u002f10\"],\"xaxis\":\"x\",\"yaxis\":\"y\",\"type\":\"histogram\"},{\"alignmentgroup\":\"True\",\"bingroup\":\"x\",\"hovertemplate\":\"stars=%{x}\\u003cbr\\u003ecount=%{y}\\u003cextra\\u003e\\u003c\\u002fextra\\u003e\",\"legendgroup\":\"4\\u002f10\",\"marker\":{\"color\":\"#FFA15A\",\"pattern\":{\"shape\":\"\"}},\"name\":\"4\\u002f10\",\"offsetgroup\":\"4\\u002f10\",\"orientation\":\"v\",\"showlegend\":true,\"x\":[\"4\\u002f10\",\"4\\u002f10\",\"4\\u002f10\",\"4\\u002f10\",\"4\\u002f10\",\"4\\u002f10\",\"4\\u002f10\",\"4\\u002f10\",\"4\\u002f10\",\"4\\u002f10\",\"4\\u002f10\",\"4\\u002f10\",\"4\\u002f10\",\"4\\u002f10\",\"4\\u002f10\",\"4\\u002f10\",\"4\\u002f10\",\"4\\u002f10\",\"4\\u002f10\",\"4\\u002f10\",\"4\\u002f10\",\"4\\u002f10\",\"4\\u002f10\",\"4\\u002f10\",\"4\\u002f10\",\"4\\u002f10\",\"4\\u002f10\",\"4\\u002f10\",\"4\\u002f10\",\"4\\u002f10\",\"4\\u002f10\",\"4\\u002f10\",\"4\\u002f10\",\"4\\u002f10\",\"4\\u002f10\",\"4\\u002f10\",\"4\\u002f10\",\"4\\u002f10\",\"4\\u002f10\",\"4\\u002f10\",\"4\\u002f10\",\"4\\u002f10\",\"4\\u002f10\",\"4\\u002f10\",\"4\\u002f10\",\"4\\u002f10\",\"4\\u002f10\",\"4\\u002f10\",\"4\\u002f10\",\"4\\u002f10\",\"4\\u002f10\",\"4\\u002f10\",\"4\\u002f10\",\"4\\u002f10\",\"4\\u002f10\",\"4\\u002f10\",\"4\\u002f10\",\"4\\u002f10\",\"4\\u002f10\",\"4\\u002f10\",\"4\\u002f10\",\"4\\u002f10\",\"4\\u002f10\",\"4\\u002f10\",\"4\\u002f10\",\"4\\u002f10\",\"4\\u002f10\",\"4\\u002f10\",\"4\\u002f10\",\"4\\u002f10\",\"4\\u002f10\",\"4\\u002f10\",\"4\\u002f10\",\"4\\u002f10\",\"4\\u002f10\",\"4\\u002f10\",\"4\\u002f10\",\"4\\u002f10\",\"4\\u002f10\",\"4\\u002f10\",\"4\\u002f10\",\"4\\u002f10\",\"4\\u002f10\",\"4\\u002f10\",\"4\\u002f10\",\"4\\u002f10\",\"4\\u002f10\",\"4\\u002f10\",\"4\\u002f10\",\"4\\u002f10\",\"4\\u002f10\",\"4\\u002f10\",\"4\\u002f10\",\"4\\u002f10\",\"4\\u002f10\",\"4\\u002f10\",\"4\\u002f10\",\"4\\u002f10\",\"4\\u002f10\",\"4\\u002f10\",\"4\\u002f10\",\"4\\u002f10\",\"4\\u002f10\",\"4\\u002f10\",\"4\\u002f10\",\"4\\u002f10\",\"4\\u002f10\",\"4\\u002f10\",\"4\\u002f10\",\"4\\u002f10\",\"4\\u002f10\",\"4\\u002f10\",\"4\\u002f10\",\"4\\u002f10\",\"4\\u002f10\",\"4\\u002f10\",\"4\\u002f10\",\"4\\u002f10\",\"4\\u002f10\",\"4\\u002f10\",\"4\\u002f10\",\"4\\u002f10\",\"4\\u002f10\",\"4\\u002f10\",\"4\\u002f10\",\"4\\u002f10\",\"4\\u002f10\",\"4\\u002f10\",\"4\\u002f10\",\"4\\u002f10\",\"4\\u002f10\",\"4\\u002f10\",\"4\\u002f10\",\"4\\u002f10\",\"4\\u002f10\",\"4\\u002f10\",\"4\\u002f10\",\"4\\u002f10\",\"4\\u002f10\",\"4\\u002f10\",\"4\\u002f10\",\"4\\u002f10\",\"4\\u002f10\",\"4\\u002f10\",\"4\\u002f10\",\"4\\u002f10\",\"4\\u002f10\",\"4\\u002f10\",\"4\\u002f10\",\"4\\u002f10\",\"4\\u002f10\",\"4\\u002f10\",\"4\\u002f10\",\"4\\u002f10\",\"4\\u002f10\",\"4\\u002f10\",\"4\\u002f10\",\"4\\u002f10\",\"4\\u002f10\",\"4\\u002f10\",\"4\\u002f10\",\"4\\u002f10\",\"4\\u002f10\",\"4\\u002f10\",\"4\\u002f10\",\"4\\u002f10\",\"4\\u002f10\",\"4\\u002f10\",\"4\\u002f10\",\"4\\u002f10\",\"4\\u002f10\",\"4\\u002f10\",\"4\\u002f10\",\"4\\u002f10\",\"4\\u002f10\",\"4\\u002f10\",\"4\\u002f10\",\"4\\u002f10\",\"4\\u002f10\",\"4\\u002f10\",\"4\\u002f10\",\"4\\u002f10\",\"4\\u002f10\",\"4\\u002f10\",\"4\\u002f10\",\"4\\u002f10\",\"4\\u002f10\",\"4\\u002f10\",\"4\\u002f10\",\"4\\u002f10\",\"4\\u002f10\",\"4\\u002f10\",\"4\\u002f10\",\"4\\u002f10\",\"4\\u002f10\",\"4\\u002f10\",\"4\\u002f10\",\"4\\u002f10\",\"4\\u002f10\",\"4\\u002f10\",\"4\\u002f10\",\"4\\u002f10\",\"4\\u002f10\",\"4\\u002f10\",\"4\\u002f10\",\"4\\u002f10\",\"4\\u002f10\",\"4\\u002f10\",\"4\\u002f10\",\"4\\u002f10\",\"4\\u002f10\",\"4\\u002f10\",\"4\\u002f10\",\"4\\u002f10\",\"4\\u002f10\",\"4\\u002f10\",\"4\\u002f10\",\"4\\u002f10\",\"4\\u002f10\",\"4\\u002f10\",\"4\\u002f10\",\"4\\u002f10\",\"4\\u002f10\",\"4\\u002f10\",\"4\\u002f10\",\"4\\u002f10\",\"4\\u002f10\",\"4\\u002f10\",\"4\\u002f10\",\"4\\u002f10\",\"4\\u002f10\",\"4\\u002f10\",\"4\\u002f10\",\"4\\u002f10\",\"4\\u002f10\",\"4\\u002f10\",\"4\\u002f10\",\"4\\u002f10\",\"4\\u002f10\",\"4\\u002f10\",\"4\\u002f10\",\"4\\u002f10\",\"4\\u002f10\",\"4\\u002f10\",\"4\\u002f10\",\"4\\u002f10\",\"4\\u002f10\",\"4\\u002f10\",\"4\\u002f10\",\"4\\u002f10\",\"4\\u002f10\",\"4\\u002f10\",\"4\\u002f10\",\"4\\u002f10\",\"4\\u002f10\",\"4\\u002f10\",\"4\\u002f10\",\"4\\u002f10\",\"4\\u002f10\",\"4\\u002f10\",\"4\\u002f10\",\"4\\u002f10\",\"4\\u002f10\",\"4\\u002f10\",\"4\\u002f10\",\"4\\u002f10\",\"4\\u002f10\",\"4\\u002f10\",\"4\\u002f10\",\"4\\u002f10\",\"4\\u002f10\",\"4\\u002f10\",\"4\\u002f10\",\"4\\u002f10\",\"4\\u002f10\",\"4\\u002f10\",\"4\\u002f10\",\"4\\u002f10\",\"4\\u002f10\",\"4\\u002f10\",\"4\\u002f10\",\"4\\u002f10\",\"4\\u002f10\",\"4\\u002f10\",\"4\\u002f10\",\"4\\u002f10\",\"4\\u002f10\",\"4\\u002f10\",\"4\\u002f10\",\"4\\u002f10\",\"4\\u002f10\",\"4\\u002f10\",\"4\\u002f10\",\"4\\u002f10\",\"4\\u002f10\",\"4\\u002f10\",\"4\\u002f10\",\"4\\u002f10\",\"4\\u002f10\",\"4\\u002f10\",\"4\\u002f10\",\"4\\u002f10\",\"4\\u002f10\",\"4\\u002f10\",\"4\\u002f10\",\"4\\u002f10\",\"4\\u002f10\",\"4\\u002f10\",\"4\\u002f10\",\"4\\u002f10\",\"4\\u002f10\",\"4\\u002f10\",\"4\\u002f10\",\"4\\u002f10\",\"4\\u002f10\",\"4\\u002f10\",\"4\\u002f10\",\"4\\u002f10\",\"4\\u002f10\",\"4\\u002f10\",\"4\\u002f10\",\"4\\u002f10\",\"4\\u002f10\",\"4\\u002f10\",\"4\\u002f10\"],\"xaxis\":\"x\",\"yaxis\":\"y\",\"type\":\"histogram\"},{\"alignmentgroup\":\"True\",\"bingroup\":\"x\",\"hovertemplate\":\"stars=%{x}\\u003cbr\\u003ecount=%{y}\\u003cextra\\u003e\\u003c\\u002fextra\\u003e\",\"legendgroup\":\"5\\u002f10\",\"marker\":{\"color\":\"#19d3f3\",\"pattern\":{\"shape\":\"\"}},\"name\":\"5\\u002f10\",\"offsetgroup\":\"5\\u002f10\",\"orientation\":\"v\",\"showlegend\":true,\"x\":[\"5\\u002f10\",\"5\\u002f10\",\"5\\u002f10\",\"5\\u002f10\",\"5\\u002f10\",\"5\\u002f10\",\"5\\u002f10\",\"5\\u002f10\",\"5\\u002f10\",\"5\\u002f10\",\"5\\u002f10\",\"5\\u002f10\",\"5\\u002f10\",\"5\\u002f10\",\"5\\u002f10\",\"5\\u002f10\",\"5\\u002f10\",\"5\\u002f10\",\"5\\u002f10\",\"5\\u002f10\",\"5\\u002f10\",\"5\\u002f10\",\"5\\u002f10\",\"5\\u002f10\",\"5\\u002f10\",\"5\\u002f10\",\"5\\u002f10\",\"5\\u002f10\",\"5\\u002f10\",\"5\\u002f10\",\"5\\u002f10\",\"5\\u002f10\",\"5\\u002f10\",\"5\\u002f10\",\"5\\u002f10\",\"5\\u002f10\",\"5\\u002f10\",\"5\\u002f10\",\"5\\u002f10\",\"5\\u002f10\",\"5\\u002f10\",\"5\\u002f10\",\"5\\u002f10\",\"5\\u002f10\",\"5\\u002f10\",\"5\\u002f10\",\"5\\u002f10\",\"5\\u002f10\",\"5\\u002f10\",\"5\\u002f10\",\"5\\u002f10\",\"5\\u002f10\",\"5\\u002f10\",\"5\\u002f10\",\"5\\u002f10\",\"5\\u002f10\",\"5\\u002f10\",\"5\\u002f10\",\"5\\u002f10\",\"5\\u002f10\",\"5\\u002f10\",\"5\\u002f10\",\"5\\u002f10\",\"5\\u002f10\",\"5\\u002f10\",\"5\\u002f10\",\"5\\u002f10\",\"5\\u002f10\",\"5\\u002f10\",\"5\\u002f10\",\"5\\u002f10\",\"5\\u002f10\",\"5\\u002f10\",\"5\\u002f10\",\"5\\u002f10\",\"5\\u002f10\",\"5\\u002f10\",\"5\\u002f10\",\"5\\u002f10\",\"5\\u002f10\",\"5\\u002f10\",\"5\\u002f10\",\"5\\u002f10\",\"5\\u002f10\",\"5\\u002f10\",\"5\\u002f10\",\"5\\u002f10\",\"5\\u002f10\",\"5\\u002f10\",\"5\\u002f10\",\"5\\u002f10\",\"5\\u002f10\",\"5\\u002f10\",\"5\\u002f10\",\"5\\u002f10\",\"5\\u002f10\",\"5\\u002f10\",\"5\\u002f10\",\"5\\u002f10\",\"5\\u002f10\",\"5\\u002f10\",\"5\\u002f10\",\"5\\u002f10\",\"5\\u002f10\",\"5\\u002f10\",\"5\\u002f10\",\"5\\u002f10\",\"5\\u002f10\",\"5\\u002f10\",\"5\\u002f10\",\"5\\u002f10\",\"5\\u002f10\",\"5\\u002f10\",\"5\\u002f10\",\"5\\u002f10\",\"5\\u002f10\",\"5\\u002f10\",\"5\\u002f10\",\"5\\u002f10\",\"5\\u002f10\",\"5\\u002f10\",\"5\\u002f10\",\"5\\u002f10\",\"5\\u002f10\",\"5\\u002f10\",\"5\\u002f10\",\"5\\u002f10\",\"5\\u002f10\",\"5\\u002f10\",\"5\\u002f10\",\"5\\u002f10\",\"5\\u002f10\",\"5\\u002f10\",\"5\\u002f10\",\"5\\u002f10\",\"5\\u002f10\",\"5\\u002f10\",\"5\\u002f10\",\"5\\u002f10\",\"5\\u002f10\",\"5\\u002f10\",\"5\\u002f10\",\"5\\u002f10\",\"5\\u002f10\",\"5\\u002f10\",\"5\\u002f10\",\"5\\u002f10\",\"5\\u002f10\",\"5\\u002f10\",\"5\\u002f10\",\"5\\u002f10\",\"5\\u002f10\",\"5\\u002f10\",\"5\\u002f10\",\"5\\u002f10\",\"5\\u002f10\",\"5\\u002f10\",\"5\\u002f10\",\"5\\u002f10\",\"5\\u002f10\",\"5\\u002f10\",\"5\\u002f10\",\"5\\u002f10\",\"5\\u002f10\",\"5\\u002f10\",\"5\\u002f10\",\"5\\u002f10\",\"5\\u002f10\",\"5\\u002f10\",\"5\\u002f10\",\"5\\u002f10\",\"5\\u002f10\",\"5\\u002f10\",\"5\\u002f10\",\"5\\u002f10\",\"5\\u002f10\",\"5\\u002f10\",\"5\\u002f10\",\"5\\u002f10\",\"5\\u002f10\",\"5\\u002f10\",\"5\\u002f10\",\"5\\u002f10\",\"5\\u002f10\",\"5\\u002f10\",\"5\\u002f10\",\"5\\u002f10\",\"5\\u002f10\",\"5\\u002f10\",\"5\\u002f10\",\"5\\u002f10\",\"5\\u002f10\",\"5\\u002f10\",\"5\\u002f10\",\"5\\u002f10\",\"5\\u002f10\",\"5\\u002f10\",\"5\\u002f10\",\"5\\u002f10\",\"5\\u002f10\",\"5\\u002f10\",\"5\\u002f10\",\"5\\u002f10\",\"5\\u002f10\",\"5\\u002f10\",\"5\\u002f10\",\"5\\u002f10\",\"5\\u002f10\",\"5\\u002f10\",\"5\\u002f10\",\"5\\u002f10\",\"5\\u002f10\",\"5\\u002f10\",\"5\\u002f10\",\"5\\u002f10\",\"5\\u002f10\",\"5\\u002f10\",\"5\\u002f10\",\"5\\u002f10\",\"5\\u002f10\",\"5\\u002f10\",\"5\\u002f10\",\"5\\u002f10\",\"5\\u002f10\",\"5\\u002f10\",\"5\\u002f10\",\"5\\u002f10\",\"5\\u002f10\",\"5\\u002f10\",\"5\\u002f10\",\"5\\u002f10\",\"5\\u002f10\",\"5\\u002f10\",\"5\\u002f10\",\"5\\u002f10\",\"5\\u002f10\",\"5\\u002f10\",\"5\\u002f10\",\"5\\u002f10\",\"5\\u002f10\",\"5\\u002f10\",\"5\\u002f10\",\"5\\u002f10\",\"5\\u002f10\",\"5\\u002f10\",\"5\\u002f10\",\"5\\u002f10\",\"5\\u002f10\",\"5\\u002f10\",\"5\\u002f10\",\"5\\u002f10\",\"5\\u002f10\",\"5\\u002f10\",\"5\\u002f10\",\"5\\u002f10\",\"5\\u002f10\",\"5\\u002f10\",\"5\\u002f10\",\"5\\u002f10\",\"5\\u002f10\",\"5\\u002f10\",\"5\\u002f10\",\"5\\u002f10\",\"5\\u002f10\",\"5\\u002f10\",\"5\\u002f10\",\"5\\u002f10\",\"5\\u002f10\",\"5\\u002f10\",\"5\\u002f10\",\"5\\u002f10\",\"5\\u002f10\",\"5\\u002f10\",\"5\\u002f10\",\"5\\u002f10\",\"5\\u002f10\",\"5\\u002f10\",\"5\\u002f10\",\"5\\u002f10\",\"5\\u002f10\",\"5\\u002f10\",\"5\\u002f10\",\"5\\u002f10\",\"5\\u002f10\",\"5\\u002f10\",\"5\\u002f10\",\"5\\u002f10\",\"5\\u002f10\",\"5\\u002f10\",\"5\\u002f10\",\"5\\u002f10\",\"5\\u002f10\",\"5\\u002f10\",\"5\\u002f10\",\"5\\u002f10\",\"5\\u002f10\",\"5\\u002f10\",\"5\\u002f10\",\"5\\u002f10\",\"5\\u002f10\",\"5\\u002f10\",\"5\\u002f10\",\"5\\u002f10\",\"5\\u002f10\",\"5\\u002f10\",\"5\\u002f10\",\"5\\u002f10\",\"5\\u002f10\",\"5\\u002f10\",\"5\\u002f10\",\"5\\u002f10\",\"5\\u002f10\",\"5\\u002f10\",\"5\\u002f10\",\"5\\u002f10\",\"5\\u002f10\",\"5\\u002f10\",\"5\\u002f10\",\"5\\u002f10\",\"5\\u002f10\",\"5\\u002f10\",\"5\\u002f10\",\"5\\u002f10\",\"5\\u002f10\",\"5\\u002f10\",\"5\\u002f10\",\"5\\u002f10\",\"5\\u002f10\",\"5\\u002f10\",\"5\\u002f10\",\"5\\u002f10\",\"5\\u002f10\",\"5\\u002f10\",\"5\\u002f10\",\"5\\u002f10\",\"5\\u002f10\",\"5\\u002f10\",\"5\\u002f10\",\"5\\u002f10\",\"5\\u002f10\",\"5\\u002f10\",\"5\\u002f10\",\"5\\u002f10\",\"5\\u002f10\",\"5\\u002f10\",\"5\\u002f10\",\"5\\u002f10\",\"5\\u002f10\",\"5\\u002f10\",\"5\\u002f10\",\"5\\u002f10\",\"5\\u002f10\",\"5\\u002f10\",\"5\\u002f10\",\"5\\u002f10\",\"5\\u002f10\",\"5\\u002f10\",\"5\\u002f10\",\"5\\u002f10\",\"5\\u002f10\",\"5\\u002f10\",\"5\\u002f10\",\"5\\u002f10\",\"5\\u002f10\",\"5\\u002f10\",\"5\\u002f10\",\"5\\u002f10\",\"5\\u002f10\",\"5\\u002f10\",\"5\\u002f10\",\"5\\u002f10\",\"5\\u002f10\",\"5\\u002f10\",\"5\\u002f10\",\"5\\u002f10\",\"5\\u002f10\",\"5\\u002f10\",\"5\\u002f10\",\"5\\u002f10\",\"5\\u002f10\",\"5\\u002f10\",\"5\\u002f10\",\"5\\u002f10\",\"5\\u002f10\",\"5\\u002f10\",\"5\\u002f10\",\"5\\u002f10\",\"5\\u002f10\",\"5\\u002f10\",\"5\\u002f10\",\"5\\u002f10\",\"5\\u002f10\",\"5\\u002f10\",\"5\\u002f10\",\"5\\u002f10\",\"5\\u002f10\",\"5\\u002f10\",\"5\\u002f10\",\"5\\u002f10\",\"5\\u002f10\",\"5\\u002f10\",\"5\\u002f10\",\"5\\u002f10\",\"5\\u002f10\",\"5\\u002f10\",\"5\\u002f10\",\"5\\u002f10\",\"5\\u002f10\",\"5\\u002f10\",\"5\\u002f10\",\"5\\u002f10\",\"5\\u002f10\",\"5\\u002f10\",\"5\\u002f10\",\"5\\u002f10\",\"5\\u002f10\",\"5\\u002f10\",\"5\\u002f10\",\"5\\u002f10\",\"5\\u002f10\",\"5\\u002f10\",\"5\\u002f10\",\"5\\u002f10\",\"5\\u002f10\",\"5\\u002f10\",\"5\\u002f10\",\"5\\u002f10\",\"5\\u002f10\",\"5\\u002f10\",\"5\\u002f10\",\"5\\u002f10\",\"5\\u002f10\",\"5\\u002f10\",\"5\\u002f10\",\"5\\u002f10\",\"5\\u002f10\",\"5\\u002f10\",\"5\\u002f10\",\"5\\u002f10\",\"5\\u002f10\",\"5\\u002f10\",\"5\\u002f10\",\"5\\u002f10\",\"5\\u002f10\",\"5\\u002f10\",\"5\\u002f10\",\"5\\u002f10\",\"5\\u002f10\",\"5\\u002f10\",\"5\\u002f10\",\"5\\u002f10\",\"5\\u002f10\",\"5\\u002f10\",\"5\\u002f10\",\"5\\u002f10\",\"5\\u002f10\",\"5\\u002f10\",\"5\\u002f10\",\"5\\u002f10\",\"5\\u002f10\",\"5\\u002f10\",\"5\\u002f10\",\"5\\u002f10\",\"5\\u002f10\",\"5\\u002f10\",\"5\\u002f10\",\"5\\u002f10\",\"5\\u002f10\",\"5\\u002f10\",\"5\\u002f10\",\"5\\u002f10\",\"5\\u002f10\",\"5\\u002f10\"],\"xaxis\":\"x\",\"yaxis\":\"y\",\"type\":\"histogram\"},{\"alignmentgroup\":\"True\",\"bingroup\":\"x\",\"hovertemplate\":\"stars=%{x}\\u003cbr\\u003ecount=%{y}\\u003cextra\\u003e\\u003c\\u002fextra\\u003e\",\"legendgroup\":\"3\\u002f10\",\"marker\":{\"color\":\"#FF6692\",\"pattern\":{\"shape\":\"\"}},\"name\":\"3\\u002f10\",\"offsetgroup\":\"3\\u002f10\",\"orientation\":\"v\",\"showlegend\":true,\"x\":[\"3\\u002f10\",\"3\\u002f10\",\"3\\u002f10\",\"3\\u002f10\",\"3\\u002f10\",\"3\\u002f10\",\"3\\u002f10\",\"3\\u002f10\",\"3\\u002f10\",\"3\\u002f10\",\"3\\u002f10\",\"3\\u002f10\",\"3\\u002f10\",\"3\\u002f10\",\"3\\u002f10\",\"3\\u002f10\",\"3\\u002f10\",\"3\\u002f10\",\"3\\u002f10\",\"3\\u002f10\",\"3\\u002f10\",\"3\\u002f10\",\"3\\u002f10\",\"3\\u002f10\",\"3\\u002f10\",\"3\\u002f10\",\"3\\u002f10\",\"3\\u002f10\",\"3\\u002f10\",\"3\\u002f10\",\"3\\u002f10\",\"3\\u002f10\",\"3\\u002f10\",\"3\\u002f10\",\"3\\u002f10\",\"3\\u002f10\",\"3\\u002f10\",\"3\\u002f10\",\"3\\u002f10\",\"3\\u002f10\",\"3\\u002f10\",\"3\\u002f10\",\"3\\u002f10\",\"3\\u002f10\",\"3\\u002f10\",\"3\\u002f10\",\"3\\u002f10\",\"3\\u002f10\",\"3\\u002f10\",\"3\\u002f10\",\"3\\u002f10\",\"3\\u002f10\",\"3\\u002f10\",\"3\\u002f10\",\"3\\u002f10\",\"3\\u002f10\",\"3\\u002f10\",\"3\\u002f10\",\"3\\u002f10\",\"3\\u002f10\",\"3\\u002f10\",\"3\\u002f10\",\"3\\u002f10\",\"3\\u002f10\",\"3\\u002f10\",\"3\\u002f10\",\"3\\u002f10\",\"3\\u002f10\",\"3\\u002f10\",\"3\\u002f10\",\"3\\u002f10\",\"3\\u002f10\",\"3\\u002f10\",\"3\\u002f10\",\"3\\u002f10\",\"3\\u002f10\",\"3\\u002f10\",\"3\\u002f10\",\"3\\u002f10\",\"3\\u002f10\",\"3\\u002f10\",\"3\\u002f10\",\"3\\u002f10\",\"3\\u002f10\",\"3\\u002f10\",\"3\\u002f10\",\"3\\u002f10\",\"3\\u002f10\",\"3\\u002f10\",\"3\\u002f10\",\"3\\u002f10\",\"3\\u002f10\",\"3\\u002f10\",\"3\\u002f10\",\"3\\u002f10\",\"3\\u002f10\",\"3\\u002f10\",\"3\\u002f10\",\"3\\u002f10\",\"3\\u002f10\",\"3\\u002f10\",\"3\\u002f10\",\"3\\u002f10\",\"3\\u002f10\",\"3\\u002f10\",\"3\\u002f10\",\"3\\u002f10\",\"3\\u002f10\",\"3\\u002f10\",\"3\\u002f10\",\"3\\u002f10\",\"3\\u002f10\",\"3\\u002f10\",\"3\\u002f10\",\"3\\u002f10\",\"3\\u002f10\",\"3\\u002f10\",\"3\\u002f10\",\"3\\u002f10\",\"3\\u002f10\",\"3\\u002f10\",\"3\\u002f10\",\"3\\u002f10\",\"3\\u002f10\",\"3\\u002f10\",\"3\\u002f10\",\"3\\u002f10\",\"3\\u002f10\",\"3\\u002f10\",\"3\\u002f10\",\"3\\u002f10\",\"3\\u002f10\",\"3\\u002f10\",\"3\\u002f10\",\"3\\u002f10\",\"3\\u002f10\",\"3\\u002f10\",\"3\\u002f10\",\"3\\u002f10\",\"3\\u002f10\",\"3\\u002f10\",\"3\\u002f10\",\"3\\u002f10\",\"3\\u002f10\",\"3\\u002f10\",\"3\\u002f10\",\"3\\u002f10\",\"3\\u002f10\",\"3\\u002f10\",\"3\\u002f10\",\"3\\u002f10\",\"3\\u002f10\",\"3\\u002f10\",\"3\\u002f10\",\"3\\u002f10\",\"3\\u002f10\",\"3\\u002f10\",\"3\\u002f10\",\"3\\u002f10\",\"3\\u002f10\",\"3\\u002f10\",\"3\\u002f10\",\"3\\u002f10\",\"3\\u002f10\",\"3\\u002f10\",\"3\\u002f10\",\"3\\u002f10\",\"3\\u002f10\",\"3\\u002f10\",\"3\\u002f10\",\"3\\u002f10\",\"3\\u002f10\",\"3\\u002f10\",\"3\\u002f10\",\"3\\u002f10\",\"3\\u002f10\",\"3\\u002f10\",\"3\\u002f10\",\"3\\u002f10\",\"3\\u002f10\",\"3\\u002f10\",\"3\\u002f10\",\"3\\u002f10\",\"3\\u002f10\",\"3\\u002f10\",\"3\\u002f10\",\"3\\u002f10\",\"3\\u002f10\",\"3\\u002f10\",\"3\\u002f10\",\"3\\u002f10\",\"3\\u002f10\",\"3\\u002f10\",\"3\\u002f10\",\"3\\u002f10\",\"3\\u002f10\",\"3\\u002f10\",\"3\\u002f10\",\"3\\u002f10\",\"3\\u002f10\",\"3\\u002f10\",\"3\\u002f10\",\"3\\u002f10\",\"3\\u002f10\",\"3\\u002f10\",\"3\\u002f10\",\"3\\u002f10\",\"3\\u002f10\",\"3\\u002f10\",\"3\\u002f10\",\"3\\u002f10\",\"3\\u002f10\",\"3\\u002f10\",\"3\\u002f10\",\"3\\u002f10\",\"3\\u002f10\",\"3\\u002f10\",\"3\\u002f10\",\"3\\u002f10\",\"3\\u002f10\",\"3\\u002f10\",\"3\\u002f10\",\"3\\u002f10\",\"3\\u002f10\",\"3\\u002f10\",\"3\\u002f10\",\"3\\u002f10\",\"3\\u002f10\",\"3\\u002f10\",\"3\\u002f10\",\"3\\u002f10\",\"3\\u002f10\",\"3\\u002f10\",\"3\\u002f10\",\"3\\u002f10\",\"3\\u002f10\",\"3\\u002f10\",\"3\\u002f10\",\"3\\u002f10\",\"3\\u002f10\",\"3\\u002f10\",\"3\\u002f10\",\"3\\u002f10\",\"3\\u002f10\",\"3\\u002f10\",\"3\\u002f10\",\"3\\u002f10\",\"3\\u002f10\",\"3\\u002f10\",\"3\\u002f10\",\"3\\u002f10\"],\"xaxis\":\"x\",\"yaxis\":\"y\",\"type\":\"histogram\"}],                        {\"template\":{\"data\":{\"histogram2dcontour\":[{\"type\":\"histogram2dcontour\",\"colorbar\":{\"outlinewidth\":0,\"ticks\":\"\"},\"colorscale\":[[0.0,\"#0d0887\"],[0.1111111111111111,\"#46039f\"],[0.2222222222222222,\"#7201a8\"],[0.3333333333333333,\"#9c179e\"],[0.4444444444444444,\"#bd3786\"],[0.5555555555555556,\"#d8576b\"],[0.6666666666666666,\"#ed7953\"],[0.7777777777777778,\"#fb9f3a\"],[0.8888888888888888,\"#fdca26\"],[1.0,\"#f0f921\"]]}],\"choropleth\":[{\"type\":\"choropleth\",\"colorbar\":{\"outlinewidth\":0,\"ticks\":\"\"}}],\"histogram2d\":[{\"type\":\"histogram2d\",\"colorbar\":{\"outlinewidth\":0,\"ticks\":\"\"},\"colorscale\":[[0.0,\"#0d0887\"],[0.1111111111111111,\"#46039f\"],[0.2222222222222222,\"#7201a8\"],[0.3333333333333333,\"#9c179e\"],[0.4444444444444444,\"#bd3786\"],[0.5555555555555556,\"#d8576b\"],[0.6666666666666666,\"#ed7953\"],[0.7777777777777778,\"#fb9f3a\"],[0.8888888888888888,\"#fdca26\"],[1.0,\"#f0f921\"]]}],\"heatmap\":[{\"type\":\"heatmap\",\"colorbar\":{\"outlinewidth\":0,\"ticks\":\"\"},\"colorscale\":[[0.0,\"#0d0887\"],[0.1111111111111111,\"#46039f\"],[0.2222222222222222,\"#7201a8\"],[0.3333333333333333,\"#9c179e\"],[0.4444444444444444,\"#bd3786\"],[0.5555555555555556,\"#d8576b\"],[0.6666666666666666,\"#ed7953\"],[0.7777777777777778,\"#fb9f3a\"],[0.8888888888888888,\"#fdca26\"],[1.0,\"#f0f921\"]]}],\"heatmapgl\":[{\"type\":\"heatmapgl\",\"colorbar\":{\"outlinewidth\":0,\"ticks\":\"\"},\"colorscale\":[[0.0,\"#0d0887\"],[0.1111111111111111,\"#46039f\"],[0.2222222222222222,\"#7201a8\"],[0.3333333333333333,\"#9c179e\"],[0.4444444444444444,\"#bd3786\"],[0.5555555555555556,\"#d8576b\"],[0.6666666666666666,\"#ed7953\"],[0.7777777777777778,\"#fb9f3a\"],[0.8888888888888888,\"#fdca26\"],[1.0,\"#f0f921\"]]}],\"contourcarpet\":[{\"type\":\"contourcarpet\",\"colorbar\":{\"outlinewidth\":0,\"ticks\":\"\"}}],\"contour\":[{\"type\":\"contour\",\"colorbar\":{\"outlinewidth\":0,\"ticks\":\"\"},\"colorscale\":[[0.0,\"#0d0887\"],[0.1111111111111111,\"#46039f\"],[0.2222222222222222,\"#7201a8\"],[0.3333333333333333,\"#9c179e\"],[0.4444444444444444,\"#bd3786\"],[0.5555555555555556,\"#d8576b\"],[0.6666666666666666,\"#ed7953\"],[0.7777777777777778,\"#fb9f3a\"],[0.8888888888888888,\"#fdca26\"],[1.0,\"#f0f921\"]]}],\"surface\":[{\"type\":\"surface\",\"colorbar\":{\"outlinewidth\":0,\"ticks\":\"\"},\"colorscale\":[[0.0,\"#0d0887\"],[0.1111111111111111,\"#46039f\"],[0.2222222222222222,\"#7201a8\"],[0.3333333333333333,\"#9c179e\"],[0.4444444444444444,\"#bd3786\"],[0.5555555555555556,\"#d8576b\"],[0.6666666666666666,\"#ed7953\"],[0.7777777777777778,\"#fb9f3a\"],[0.8888888888888888,\"#fdca26\"],[1.0,\"#f0f921\"]]}],\"mesh3d\":[{\"type\":\"mesh3d\",\"colorbar\":{\"outlinewidth\":0,\"ticks\":\"\"}}],\"scatter\":[{\"fillpattern\":{\"fillmode\":\"overlay\",\"size\":10,\"solidity\":0.2},\"type\":\"scatter\"}],\"parcoords\":[{\"type\":\"parcoords\",\"line\":{\"colorbar\":{\"outlinewidth\":0,\"ticks\":\"\"}}}],\"scatterpolargl\":[{\"type\":\"scatterpolargl\",\"marker\":{\"colorbar\":{\"outlinewidth\":0,\"ticks\":\"\"}}}],\"bar\":[{\"error_x\":{\"color\":\"#2a3f5f\"},\"error_y\":{\"color\":\"#2a3f5f\"},\"marker\":{\"line\":{\"color\":\"#E5ECF6\",\"width\":0.5},\"pattern\":{\"fillmode\":\"overlay\",\"size\":10,\"solidity\":0.2}},\"type\":\"bar\"}],\"scattergeo\":[{\"type\":\"scattergeo\",\"marker\":{\"colorbar\":{\"outlinewidth\":0,\"ticks\":\"\"}}}],\"scatterpolar\":[{\"type\":\"scatterpolar\",\"marker\":{\"colorbar\":{\"outlinewidth\":0,\"ticks\":\"\"}}}],\"histogram\":[{\"marker\":{\"pattern\":{\"fillmode\":\"overlay\",\"size\":10,\"solidity\":0.2}},\"type\":\"histogram\"}],\"scattergl\":[{\"type\":\"scattergl\",\"marker\":{\"colorbar\":{\"outlinewidth\":0,\"ticks\":\"\"}}}],\"scatter3d\":[{\"type\":\"scatter3d\",\"line\":{\"colorbar\":{\"outlinewidth\":0,\"ticks\":\"\"}},\"marker\":{\"colorbar\":{\"outlinewidth\":0,\"ticks\":\"\"}}}],\"scattermapbox\":[{\"type\":\"scattermapbox\",\"marker\":{\"colorbar\":{\"outlinewidth\":0,\"ticks\":\"\"}}}],\"scatterternary\":[{\"type\":\"scatterternary\",\"marker\":{\"colorbar\":{\"outlinewidth\":0,\"ticks\":\"\"}}}],\"scattercarpet\":[{\"type\":\"scattercarpet\",\"marker\":{\"colorbar\":{\"outlinewidth\":0,\"ticks\":\"\"}}}],\"carpet\":[{\"aaxis\":{\"endlinecolor\":\"#2a3f5f\",\"gridcolor\":\"white\",\"linecolor\":\"white\",\"minorgridcolor\":\"white\",\"startlinecolor\":\"#2a3f5f\"},\"baxis\":{\"endlinecolor\":\"#2a3f5f\",\"gridcolor\":\"white\",\"linecolor\":\"white\",\"minorgridcolor\":\"white\",\"startlinecolor\":\"#2a3f5f\"},\"type\":\"carpet\"}],\"table\":[{\"cells\":{\"fill\":{\"color\":\"#EBF0F8\"},\"line\":{\"color\":\"white\"}},\"header\":{\"fill\":{\"color\":\"#C8D4E3\"},\"line\":{\"color\":\"white\"}},\"type\":\"table\"}],\"barpolar\":[{\"marker\":{\"line\":{\"color\":\"#E5ECF6\",\"width\":0.5},\"pattern\":{\"fillmode\":\"overlay\",\"size\":10,\"solidity\":0.2}},\"type\":\"barpolar\"}],\"pie\":[{\"automargin\":true,\"type\":\"pie\"}]},\"layout\":{\"autotypenumbers\":\"strict\",\"colorway\":[\"#636efa\",\"#EF553B\",\"#00cc96\",\"#ab63fa\",\"#FFA15A\",\"#19d3f3\",\"#FF6692\",\"#B6E880\",\"#FF97FF\",\"#FECB52\"],\"font\":{\"color\":\"#2a3f5f\"},\"hovermode\":\"closest\",\"hoverlabel\":{\"align\":\"left\"},\"paper_bgcolor\":\"white\",\"plot_bgcolor\":\"#E5ECF6\",\"polar\":{\"bgcolor\":\"#E5ECF6\",\"angularaxis\":{\"gridcolor\":\"white\",\"linecolor\":\"white\",\"ticks\":\"\"},\"radialaxis\":{\"gridcolor\":\"white\",\"linecolor\":\"white\",\"ticks\":\"\"}},\"ternary\":{\"bgcolor\":\"#E5ECF6\",\"aaxis\":{\"gridcolor\":\"white\",\"linecolor\":\"white\",\"ticks\":\"\"},\"baxis\":{\"gridcolor\":\"white\",\"linecolor\":\"white\",\"ticks\":\"\"},\"caxis\":{\"gridcolor\":\"white\",\"linecolor\":\"white\",\"ticks\":\"\"}},\"coloraxis\":{\"colorbar\":{\"outlinewidth\":0,\"ticks\":\"\"}},\"colorscale\":{\"sequential\":[[0.0,\"#0d0887\"],[0.1111111111111111,\"#46039f\"],[0.2222222222222222,\"#7201a8\"],[0.3333333333333333,\"#9c179e\"],[0.4444444444444444,\"#bd3786\"],[0.5555555555555556,\"#d8576b\"],[0.6666666666666666,\"#ed7953\"],[0.7777777777777778,\"#fb9f3a\"],[0.8888888888888888,\"#fdca26\"],[1.0,\"#f0f921\"]],\"sequentialminus\":[[0.0,\"#0d0887\"],[0.1111111111111111,\"#46039f\"],[0.2222222222222222,\"#7201a8\"],[0.3333333333333333,\"#9c179e\"],[0.4444444444444444,\"#bd3786\"],[0.5555555555555556,\"#d8576b\"],[0.6666666666666666,\"#ed7953\"],[0.7777777777777778,\"#fb9f3a\"],[0.8888888888888888,\"#fdca26\"],[1.0,\"#f0f921\"]],\"diverging\":[[0,\"#8e0152\"],[0.1,\"#c51b7d\"],[0.2,\"#de77ae\"],[0.3,\"#f1b6da\"],[0.4,\"#fde0ef\"],[0.5,\"#f7f7f7\"],[0.6,\"#e6f5d0\"],[0.7,\"#b8e186\"],[0.8,\"#7fbc41\"],[0.9,\"#4d9221\"],[1,\"#276419\"]]},\"xaxis\":{\"gridcolor\":\"white\",\"linecolor\":\"white\",\"ticks\":\"\",\"title\":{\"standoff\":15},\"zerolinecolor\":\"white\",\"automargin\":true,\"zerolinewidth\":2},\"yaxis\":{\"gridcolor\":\"white\",\"linecolor\":\"white\",\"ticks\":\"\",\"title\":{\"standoff\":15},\"zerolinecolor\":\"white\",\"automargin\":true,\"zerolinewidth\":2},\"scene\":{\"xaxis\":{\"backgroundcolor\":\"#E5ECF6\",\"gridcolor\":\"white\",\"linecolor\":\"white\",\"showbackground\":true,\"ticks\":\"\",\"zerolinecolor\":\"white\",\"gridwidth\":2},\"yaxis\":{\"backgroundcolor\":\"#E5ECF6\",\"gridcolor\":\"white\",\"linecolor\":\"white\",\"showbackground\":true,\"ticks\":\"\",\"zerolinecolor\":\"white\",\"gridwidth\":2},\"zaxis\":{\"backgroundcolor\":\"#E5ECF6\",\"gridcolor\":\"white\",\"linecolor\":\"white\",\"showbackground\":true,\"ticks\":\"\",\"zerolinecolor\":\"white\",\"gridwidth\":2}},\"shapedefaults\":{\"line\":{\"color\":\"#2a3f5f\"}},\"annotationdefaults\":{\"arrowcolor\":\"#2a3f5f\",\"arrowhead\":0,\"arrowwidth\":1},\"geo\":{\"bgcolor\":\"white\",\"landcolor\":\"#E5ECF6\",\"subunitcolor\":\"white\",\"showland\":true,\"showlakes\":true,\"lakecolor\":\"white\"},\"title\":{\"x\":0.05},\"mapbox\":{\"style\":\"light\"}}},\"xaxis\":{\"anchor\":\"y\",\"domain\":[0.0,1.0],\"title\":{\"text\":\"stars\"},\"categoryorder\":\"array\",\"categoryarray\":[\"1\\u002f10\",\"2\\u002f10\",\"9\\u002f10\",\"10\\u002f10\",\"4\\u002f10\",\"5\\u002f10\",\"3\\u002f10\"]},\"yaxis\":{\"anchor\":\"x\",\"domain\":[0.0,1.0],\"title\":{\"text\":\"count\"}},\"legend\":{\"title\":{\"text\":\"stars\"},\"tracegroupgap\":0},\"title\":{\"text\":\"stars distribution\"},\"barmode\":\"relative\",\"height\":500},                        {\"responsive\": true}                    ).then(function(){\n",
              "                            \n",
              "var gd = document.getElementById('25deffc6-a12e-4048-8c8e-f37c6f67fe67');\n",
              "var x = new MutationObserver(function (mutations, observer) {{\n",
              "        var display = window.getComputedStyle(gd).display;\n",
              "        if (!display || display === 'none') {{\n",
              "            console.log([gd, 'removed!']);\n",
              "            Plotly.purge(gd);\n",
              "            observer.disconnect();\n",
              "        }}\n",
              "}});\n",
              "\n",
              "// Listen for the removal of the full notebook cells\n",
              "var notebookContainer = gd.closest('#notebook-container');\n",
              "if (notebookContainer) {{\n",
              "    x.observe(notebookContainer, {childList: true});\n",
              "}}\n",
              "\n",
              "// Listen for the clearing of the current output cell\n",
              "var outputEl = gd.closest('.output');\n",
              "if (outputEl) {{\n",
              "    x.observe(outputEl, {childList: true});\n",
              "}}\n",
              "\n",
              "                        })                };                            </script>        </div>\n",
              "</body>\n",
              "</html>"
            ]
          },
          "metadata": {}
        }
      ],
      "source": [
        "fig = px.histogram(df,\n",
        "             x='stars',\n",
        "             height=500,\n",
        "             title='stars distribution',\n",
        "             color='stars'\n",
        "            )\n",
        "fig.show()"
      ]
    },
    {
      "cell_type": "code",
      "execution_count": 9,
      "id": "d4956dc4-83fe-4d4d-9f3f-8be1ca42c3a4",
      "metadata": {
        "id": "d4956dc4-83fe-4d4d-9f3f-8be1ca42c3a4"
      },
      "outputs": [],
      "source": [
        "df = df[['review', 'sentiment']]"
      ]
    },
    {
      "cell_type": "markdown",
      "id": "45c0f421-ee6e-41cc-8091-7b4686ab9779",
      "metadata": {
        "id": "45c0f421-ee6e-41cc-8091-7b4686ab9779"
      },
      "source": [
        "## Data Preprocessing"
      ]
    },
    {
      "cell_type": "code",
      "execution_count": 10,
      "id": "87aad1b9-d8b3-4d03-91d2-caed5b291233",
      "metadata": {
        "id": "87aad1b9-d8b3-4d03-91d2-caed5b291233"
      },
      "outputs": [],
      "source": [
        "stop_words = set(stopwords.words('english'))\n",
        "def process_text(text:str):\n",
        "    # Remove \"\\n\" characters as our text has at the very end\n",
        "    text = text.replace(\"\\n\", \"\")\n",
        "\n",
        "    text = re.sub(r'\\d+', '', text)\n",
        "\n",
        "    # removing shite spaces in both ends if exists\n",
        "    text = text.strip()\n",
        "\n",
        "    # Tokenize the text\n",
        "    tokens = word_tokenize(text)\n",
        "\n",
        "    table = str.maketrans('', '', string.punctuation)\n",
        "    tokens = [word.lower() for word in tokens if word.lower() not in stop_words]\n",
        "    tokens = [word.translate(table) for word in tokens]\n",
        "\n",
        "    lemmatizer = WordNetLemmatizer()\n",
        "    tokens = [lemmatizer.lemmatize(word) for word in tokens]\n",
        "\n",
        "    # Join the filtered tokens back into a sentence\n",
        "    filtered_text = ' '.join(tokens)\n",
        "\n",
        "    return filtered_text"
      ]
    },
    {
      "cell_type": "code",
      "execution_count": 13,
      "id": "7c74a3c3-71cf-441e-a313-0d5aaa193770",
      "metadata": {
        "id": "7c74a3c3-71cf-441e-a313-0d5aaa193770"
      },
      "outputs": [],
      "source": [
        "df['review'] = df['review'].apply(process_text)"
      ]
    },
    {
      "cell_type": "code",
      "execution_count": 14,
      "id": "6f74c73d-73c3-4e4b-ab96-b52f10f60987",
      "metadata": {
        "colab": {
          "base_uri": "https://localhost:8080/",
          "height": 466
        },
        "id": "6f74c73d-73c3-4e4b-ab96-b52f10f60987",
        "outputId": "3d01f1a6-4bde-4f2f-a658-c8254dbbe0a1"
      },
      "outputs": [
        {
          "output_type": "execute_result",
          "data": {
            "text/plain": [
              "<Axes: xlabel='sentiment', ylabel='count'>"
            ]
          },
          "metadata": {},
          "execution_count": 14
        },
        {
          "output_type": "display_data",
          "data": {
            "text/plain": [
              "<Figure size 640x480 with 1 Axes>"
            ],
            "image/png": "[encoded data removed]"
          },
          "metadata": {}
        }
      ],
      "source": [
        "sns.countplot(df, x='sentiment')"
      ]
    },
    {
      "cell_type": "code",
      "execution_count": 15,
      "id": "da2f9741-3f46-4555-b647-321b2ea51402",
      "metadata": {
        "id": "da2f9741-3f46-4555-b647-321b2ea51402"
      },
      "outputs": [],
      "source": [
        "from sklearn.feature_extraction.text import TfidfVectorizer\n",
        "from sklearn.model_selection import train_test_split, GridSearchCV\n",
        "from imblearn.over_sampling import SMOTE\n",
        "from sklearn.decomposition import PCA\n",
        "\n",
        "\n",
        "from sklearn.linear_model import LogisticRegression\n",
        "from sklearn.ensemble import RandomForestClassifier\n",
        "from sklearn.metrics import classification_report, confusion_matrix, accuracy_score, ConfusionMatrixDisplay"
      ]
    },
    {
      "cell_type": "code",
      "execution_count": 16,
      "id": "fdadc32d-b150-4962-9737-2ba42a8e8aca",
      "metadata": {
        "id": "fdadc32d-b150-4962-9737-2ba42a8e8aca"
      },
      "outputs": [],
      "source": [
        "X =  df['review']\n",
        "y = df['sentiment']"
      ]
    },
    {
      "cell_type": "code",
      "execution_count": 17,
      "id": "80d4a671-e521-4ab7-9d9d-8be1209f9c02",
      "metadata": {
        "id": "80d4a671-e521-4ab7-9d9d-8be1209f9c02"
      },
      "outputs": [],
      "source": [
        "X_train, X_test, y_train, y_test = train_test_split(X, y, test_size=0.2, random_state=42)"
      ]
    },
    {
      "cell_type": "code",
      "execution_count": 18,
      "id": "2e7342b2-57cb-4f24-a380-5642cfd13696",
      "metadata": {
        "id": "2e7342b2-57cb-4f24-a380-5642cfd13696"
      },
      "outputs": [],
      "source": [
        "tfidf_vectorizer = TfidfVectorizer()\n",
        "X_train_tfidf = tfidf_vectorizer.fit_transform(X_train)\n",
        "X_test_tfidf = tfidf_vectorizer.transform(X_test)"
      ]
    },
    {
      "cell_type": "code",
      "execution_count": 19,
      "id": "1e1dc128-8f9c-44fb-82fd-ce9c540d1aaf",
      "metadata": {
        "id": "1e1dc128-8f9c-44fb-82fd-ce9c540d1aaf"
      },
      "outputs": [],
      "source": [
        "## Using Smote for handling class imbalnace"
      ]
    },
    {
      "cell_type": "code",
      "execution_count": 20,
      "id": "889226de-6526-4e9c-9ad4-138be417ea8d",
      "metadata": {
        "id": "889226de-6526-4e9c-9ad4-138be417ea8d"
      },
      "outputs": [],
      "source": [
        "smote = SMOTE(random_state=42)\n",
        "X_resampled, y_resampled = smote.fit_resample(X_train_tfidf, y_train)"
      ]
    },
    {
      "cell_type": "code",
      "execution_count": 21,
      "id": "4860a792-2cb2-4d6b-b70b-32b03f4186d7",
      "metadata": {
        "colab": {
          "base_uri": "https://localhost:8080/",
          "height": 472
        },
        "id": "4860a792-2cb2-4d6b-b70b-32b03f4186d7",
        "outputId": "77a5eb42-7ff2-46ed-e5a0-08b9a6378d9d"
      },
      "outputs": [
        {
          "output_type": "display_data",
          "data": {
            "text/plain": [
              "<Figure size 640x480 with 1 Axes>"
            ],
            "image/png": "[encoded data removed]"
          },
          "metadata": {}
        }
      ],
      "source": [
        "plt.bar(y_resampled.value_counts().keys(), y_resampled.value_counts())\n",
        "plt.title('Positive and Negetive text count')\n",
        "plt.xlabel(['0', '1'])\n",
        "plt.show()"
      ]
    },
    {
      "cell_type": "code",
      "execution_count": 22,
      "id": "65461fd9-3eaa-4b57-b75b-b0e9a06efaa7",
      "metadata": {
        "colab": {
          "base_uri": "https://localhost:8080/"
        },
        "id": "65461fd9-3eaa-4b57-b75b-b0e9a06efaa7",
        "outputId": "99a510d2-fefc-4bc3-eea6-6daa8edb100b"
      },
      "outputs": [
        {
          "output_type": "execute_result",
          "data": {
            "text/plain": [
              "0.979073756432247"
            ]
          },
          "metadata": {},
          "execution_count": 22
        }
      ],
      "source": [
        "logistic_regression = LogisticRegression()\n",
        "logistic_regression.fit(X_resampled, y_resampled)\n",
        "logistic_regression.score(X_resampled, y_resampled)"
      ]
    },
    {
      "cell_type": "markdown",
      "id": "31eee4a0-5dc2-40d5-8401-1496b717b1ca",
      "metadata": {
        "id": "31eee4a0-5dc2-40d5-8401-1496b717b1ca"
      },
      "source": [
        "### Training result from logistic regression"
      ]
    },
    {
      "cell_type": "code",
      "execution_count": 23,
      "id": "9bbce181-fa6e-48b4-9f49-29a169107654",
      "metadata": {
        "colab": {
          "base_uri": "https://localhost:8080/"
        },
        "id": "9bbce181-fa6e-48b4-9f49-29a169107654",
        "outputId": "f6ff69e2-24af-4043-e65a-e9c345f07d8a"
      },
      "outputs": [
        {
          "output_type": "stream",
          "name": "stdout",
          "text": [
            "              precision    recall  f1-score   support\n",
            "\n",
            "           0       0.98      0.98      0.98      2915\n",
            "           1       0.98      0.98      0.98      2915\n",
            "\n",
            "    accuracy                           0.98      5830\n",
            "   macro avg       0.98      0.98      0.98      5830\n",
            "weighted avg       0.98      0.98      0.98      5830\n",
            "\n"
          ]
        }
      ],
      "source": [
        "logistic_train_pred = logistic_regression.predict(X_resampled)\n",
        "print(classification_report(y_resampled, logistic_train_pred))"
      ]
    },
    {
      "cell_type": "code",
      "execution_count": 24,
      "id": "c611e32a-1ef7-4341-bb02-bf3610d5fc13",
      "metadata": {
        "colab": {
          "base_uri": "https://localhost:8080/"
        },
        "id": "c611e32a-1ef7-4341-bb02-bf3610d5fc13",
        "outputId": "c534e2b3-2f24-49bc-9650-4862035fe8ab"
      },
      "outputs": [
        {
          "output_type": "execute_result",
          "data": {
            "text/plain": [
              "0.9061264822134387"
            ]
          },
          "metadata": {},
          "execution_count": 24
        }
      ],
      "source": [
        "logistic_y_pred = logistic_regression.predict(X_test_tfidf)\n",
        "logistic_accuracy = accuracy_score(y_test, logistic_y_pred)\n",
        "logistic_accuracy"
      ]
    },
    {
      "cell_type": "code",
      "execution_count": 25,
      "id": "284c21a6-f274-414a-9290-e84b271777b0",
      "metadata": {
        "colab": {
          "base_uri": "https://localhost:8080/"
        },
        "id": "284c21a6-f274-414a-9290-e84b271777b0",
        "outputId": "151cd461-cb46-462a-a356-9d91bf80c594"
      },
      "outputs": [
        {
          "output_type": "stream",
          "name": "stdout",
          "text": [
            "              precision    recall  f1-score   support\n",
            "\n",
            "           0       0.89      0.79      0.84       307\n",
            "           1       0.91      0.96      0.93       705\n",
            "\n",
            "    accuracy                           0.91      1012\n",
            "   macro avg       0.90      0.87      0.89      1012\n",
            "weighted avg       0.91      0.91      0.90      1012\n",
            "\n"
          ]
        }
      ],
      "source": [
        "print(classification_report(y_test, logistic_y_pred))"
      ]
    },
    {
      "cell_type": "code",
      "execution_count": 26,
      "id": "39cdd7e0-1b6c-4452-a1f9-bd4b08f963a3",
      "metadata": {
        "colab": {
          "base_uri": "https://localhost:8080/",
          "height": 466
        },
        "id": "39cdd7e0-1b6c-4452-a1f9-bd4b08f963a3",
        "outputId": "2d63101c-d4d1-4caf-fd02-d8c7d82b7ae9"
      },
      "outputs": [
        {
          "output_type": "execute_result",
          "data": {
            "text/plain": [
              "<sklearn.metrics._plot.confusion_matrix.ConfusionMatrixDisplay at 0x7c5eaf7e1000>"
            ]
          },
          "metadata": {},
          "execution_count": 26
        },
        {
          "output_type": "display_data",
          "data": {
            "text/plain": [
              "<Figure size 640x480 with 2 Axes>"
            ],
            "image/png": "[encoded data removed]"
          },
          "metadata": {}
        }
      ],
      "source": [
        "conf_matrix = confusion_matrix(y_test, logistic_y_pred)\n",
        "disp = ConfusionMatrixDisplay(confusion_matrix=conf_matrix, display_labels=logistic_regression.classes_)\n",
        "disp.plot()"
      ]
    },
    {
      "cell_type": "code",
      "execution_count": 27,
      "id": "a9b546d7-26e0-4d95-a393-a209ee9b567a",
      "metadata": {
        "id": "a9b546d7-26e0-4d95-a393-a209ee9b567a"
      },
      "outputs": [],
      "source": [
        "pca = PCA(n_components=20)\n",
        "X_train_pca = pca.fit_transform(X_resampled.toarray())\n",
        "X_test_pca = pca.fit_transform(X_test_tfidf.toarray())"
      ]
    },
    {
      "cell_type": "code",
      "execution_count": 28,
      "id": "cb29eb30-79b7-49bc-996f-d3d6466ab51e",
      "metadata": {
        "colab": {
          "base_uri": "https://localhost:8080/"
        },
        "id": "cb29eb30-79b7-49bc-996f-d3d6466ab51e",
        "outputId": "9aeb6874-05dc-4fee-8238-20416738b6e2"
      },
      "outputs": [
        {
          "output_type": "execute_result",
          "data": {
            "text/plain": [
              "0.8850771869639794"
            ]
          },
          "metadata": {},
          "execution_count": 28
        }
      ],
      "source": [
        "logistic_regression = LogisticRegression()\n",
        "logistic_regression.fit(X_train_pca, y_resampled)\n",
        "\n",
        "logistic_regression.score(X_train_pca, y_resampled)"
      ]
    },
    {
      "cell_type": "code",
      "execution_count": 29,
      "id": "98a7f496-77f0-4472-8d26-4c78cfc2eae7",
      "metadata": {
        "colab": {
          "base_uri": "https://localhost:8080/"
        },
        "id": "98a7f496-77f0-4472-8d26-4c78cfc2eae7",
        "outputId": "d3d61a1d-a80e-44ac-afd3-2cf32e28b67f"
      },
      "outputs": [
        {
          "output_type": "execute_result",
          "data": {
            "text/plain": [
              "0.6254940711462451"
            ]
          },
          "metadata": {},
          "execution_count": 29
        }
      ],
      "source": [
        "logistic_y_pred = logistic_regression.predict(X_test_pca)\n",
        "logistic_accuracy = accuracy_score(y_test, logistic_y_pred)\n",
        "logistic_accuracy"
      ]
    },
    {
      "cell_type": "code",
      "execution_count": 30,
      "id": "16240eff-b2c6-4355-ac0d-845f27376c79",
      "metadata": {
        "colab": {
          "base_uri": "https://localhost:8080/",
          "height": 466
        },
        "id": "16240eff-b2c6-4355-ac0d-845f27376c79",
        "outputId": "d493769c-e86e-4a17-b8bc-eb123fbcc6e6"
      },
      "outputs": [
        {
          "output_type": "execute_result",
          "data": {
            "text/plain": [
              "<sklearn.metrics._plot.confusion_matrix.ConfusionMatrixDisplay at 0x7c5eaf7e12d0>"
            ]
          },
          "metadata": {},
          "execution_count": 30
        },
        {
          "output_type": "display_data",
          "data": {
            "text/plain": [
              "<Figure size 640x480 with 2 Axes>"
            ],
            "image/png": "[encoded data removed]"
          },
          "metadata": {}
        }
      ],
      "source": [
        "conf_matrix = confusion_matrix(y_test, logistic_y_pred)\n",
        "disp = ConfusionMatrixDisplay(confusion_matrix=conf_matrix, display_labels=logistic_regression.classes_)\n",
        "disp.plot()"
      ]
    },
    {
      "cell_type": "markdown",
      "id": "c974a313-fe73-44ee-97f9-66a6e24f1267",
      "metadata": {
        "id": "c974a313-fe73-44ee-97f9-66a6e24f1267"
      },
      "source": [
        "## Random Forest Classifier after PCA"
      ]
    },
    {
      "cell_type": "code",
      "execution_count": 31,
      "id": "ad5febf0-04c7-443a-b8c7-797fbdbe1b68",
      "metadata": {
        "colab": {
          "base_uri": "https://localhost:8080/"
        },
        "id": "ad5febf0-04c7-443a-b8c7-797fbdbe1b68",
        "outputId": "d2d2a9f8-97f9-4454-e810-bb6df18ee4a1"
      },
      "outputs": [
        {
          "output_type": "execute_result",
          "data": {
            "text/plain": [
              "1.0"
            ]
          },
          "metadata": {},
          "execution_count": 31
        }
      ],
      "source": [
        "rf_classifier = RandomForestClassifier()\n",
        "rf_classifier.fit(X_train_pca, y_resampled)\n",
        "rf_classifier.score(X_train_pca, y_resampled)"
      ]
    },
    {
      "cell_type": "code",
      "execution_count": 32,
      "id": "c7c8bf14-3574-4306-a926-163b8e318592",
      "metadata": {
        "colab": {
          "base_uri": "https://localhost:8080/"
        },
        "id": "c7c8bf14-3574-4306-a926-163b8e318592",
        "outputId": "57c12b4e-cb0b-43d1-984a-2057fa38abd3"
      },
      "outputs": [
        {
          "output_type": "stream",
          "name": "stdout",
          "text": [
            "              precision    recall  f1-score   support\n",
            "\n",
            "           0       0.37      0.80      0.51       307\n",
            "           1       0.83      0.42      0.55       705\n",
            "\n",
            "    accuracy                           0.53      1012\n",
            "   macro avg       0.60      0.61      0.53      1012\n",
            "weighted avg       0.69      0.53      0.54      1012\n",
            "\n"
          ]
        }
      ],
      "source": [
        "y_pred = rf_classifier.predict(X_test_pca)\n",
        "accuracy = accuracy_score(y_test, y_pred)\n",
        "print(classification_report(y_test, y_pred))"
      ]
    },
    {
      "cell_type": "code",
      "execution_count": null,
      "id": "4a552aa2-6ca9-4c1a-9434-9149de094563",
      "metadata": {
        "id": "4a552aa2-6ca9-4c1a-9434-9149de094563"
      },
      "outputs": [],
      "source": [
        "\n",
        "# param_grid = {\n",
        "#     'n_estimators': [50, 100, 200],\n",
        "#     'max_depth': [None, 5, 10],\n",
        "#     'min_samples_split': [2, 5, 10],\n",
        "#     'min_samples_leaf': [1, 2, 4],\n",
        "#     'max_features': ['sqrt', 'log2']\n",
        "# }\n",
        "\n",
        "# rf_classifier = RandomForestClassifier(random_state=42)\n",
        "# grid_search = GridSearchCV(estimator=rf_classifier, param_grid=param_grid, cv=5)\n",
        "# grid_search.fit(X_train_pca, y_resampled)"
      ]
    },
    {
      "cell_type": "code",
      "execution_count": null,
      "id": "11345d89-c27b-4554-be5a-7637bba8407d",
      "metadata": {
        "id": "11345d89-c27b-4554-be5a-7637bba8407d"
      },
      "outputs": [],
      "source": [
        "# best_rf_model = grid_search.best_estimator_"
      ]
    },
    {
      "cell_type": "code",
      "execution_count": null,
      "id": "252a688f-ec3b-44d1-9132-b9ef5d9ded3b",
      "metadata": {
        "id": "252a688f-ec3b-44d1-9132-b9ef5d9ded3b"
      },
      "outputs": [],
      "source": [
        "# best_rf_model.score(X_train_pca, y_resampled)"
      ]
    },
    {
      "cell_type": "code",
      "execution_count": null,
      "id": "3f8e11a7-0457-4161-b6f1-e2c51cd2d337",
      "metadata": {
        "id": "3f8e11a7-0457-4161-b6f1-e2c51cd2d337"
      },
      "outputs": [],
      "source": [
        "# y_pred = best_rf_model.predict(X_test_pca)\n",
        "# accuracy = accuracy_score(y_test, y_pred)\n",
        "# accuracy"
      ]
    },
    {
      "cell_type": "code",
      "execution_count": 33,
      "id": "c8930ad2-395d-46ab-a1f5-74cb5624ed55",
      "metadata": {
        "id": "c8930ad2-395d-46ab-a1f5-74cb5624ed55"
      },
      "outputs": [],
      "source": [
        "from keras.models import Sequential\n",
        "from keras.layers import Dense, Dropout\n",
        "from keras.optimizers import Adam"
      ]
    },
    {
      "cell_type": "code",
      "execution_count": 59,
      "id": "0d8e75d4-b10c-416e-b8c2-f962b7ec17b5",
      "metadata": {
        "id": "0d8e75d4-b10c-416e-b8c2-f962b7ec17b5"
      },
      "outputs": [],
      "source": [
        "model = Sequential()\n",
        "model.add(Dense(128, activation='relu', input_shape=(X_train_tfidf.shape[1],)))\n",
        "model.add(Dropout(0.5))\n",
        "model.add(Dense(64, activation='relu'))\n",
        "model.add(Dropout(0.5))\n",
        "model.add(Dense(2, activation='softmax'))"
      ]
    },
    {
      "cell_type": "code",
      "execution_count": 60,
      "id": "67473bcf-693e-42ac-8a8f-49349e6773bb",
      "metadata": {
        "id": "67473bcf-693e-42ac-8a8f-49349e6773bb"
      },
      "outputs": [],
      "source": [
        "model.compile(loss='sparse_categorical_crossentropy', optimizer='Adam', metrics=['accuracy'])"
      ]
    },
    {
      "cell_type": "code",
      "execution_count": 61,
      "id": "e2d38045-6d64-4dc2-8658-9dbfa6640292",
      "metadata": {
        "colab": {
          "base_uri": "https://localhost:8080/"
        },
        "id": "e2d38045-6d64-4dc2-8658-9dbfa6640292",
        "outputId": "0e82fb92-aa6a-4ce4-a22e-aa648c083173"
      },
      "outputs": [
        {
          "output_type": "stream",
          "name": "stdout",
          "text": [
            "Model: \"sequential_2\"\n",
            "_________________________________________________________________\n",
            " Layer (type)                Output Shape              Param #   \n",
            "=================================================================\n",
            " dense_6 (Dense)             (None, 128)               6004736   \n",
            "                                                                 \n",
            " dropout_4 (Dropout)         (None, 128)               0         \n",
            "                                                                 \n",
            " dense_7 (Dense)             (None, 64)                8256      \n",
            "                                                                 \n",
            " dropout_5 (Dropout)         (None, 64)                0         \n",
            "                                                                 \n",
            " dense_8 (Dense)             (None, 2)                 130       \n",
            "                                                                 \n",
            "=================================================================\n",
            "Total params: 6013122 (22.94 MB)\n",
            "Trainable params: 6013122 (22.94 MB)\n",
            "Non-trainable params: 0 (0.00 Byte)\n",
            "_________________________________________________________________\n"
          ]
        }
      ],
      "source": [
        "model.summary()"
      ]
    },
    {
      "cell_type": "code",
      "execution_count": 72,
      "id": "a8b18220-14e5-4b77-9392-f89d8b4c1f53",
      "metadata": {
        "colab": {
          "base_uri": "https://localhost:8080/"
        },
        "id": "a8b18220-14e5-4b77-9392-f89d8b4c1f53",
        "outputId": "1a88da8d-52c0-4ba3-c3a8-db82d1a2dd0e"
      },
      "outputs": [
        {
          "output_type": "stream",
          "name": "stdout",
          "text": [
            "Epoch 1/30\n",
            "183/183 [==============================] - 16s 87ms/step - loss: 1.1426e-04 - accuracy: 1.0000 - val_loss: 0.5166 - val_accuracy: 0.9002\n",
            "Epoch 2/30\n",
            "183/183 [==============================] - 16s 89ms/step - loss: 1.2148e-04 - accuracy: 1.0000 - val_loss: 0.5111 - val_accuracy: 0.9022\n",
            "Epoch 3/30\n",
            "183/183 [==============================] - 15s 82ms/step - loss: 1.1465e-04 - accuracy: 1.0000 - val_loss: 0.5450 - val_accuracy: 0.8972\n",
            "Epoch 4/30\n",
            "183/183 [==============================] - 18s 99ms/step - loss: 6.5592e-05 - accuracy: 1.0000 - val_loss: 0.5471 - val_accuracy: 0.8982\n",
            "Epoch 5/30\n",
            "183/183 [==============================] - 15s 81ms/step - loss: 8.8004e-05 - accuracy: 1.0000 - val_loss: 0.5828 - val_accuracy: 0.8953\n",
            "Epoch 6/30\n",
            "183/183 [==============================] - 15s 84ms/step - loss: 7.9844e-05 - accuracy: 1.0000 - val_loss: 0.6015 - val_accuracy: 0.8962\n",
            "Epoch 7/30\n",
            "183/183 [==============================] - 15s 83ms/step - loss: 4.8797e-05 - accuracy: 1.0000 - val_loss: 0.5669 - val_accuracy: 0.9022\n",
            "Epoch 8/30\n",
            "183/183 [==============================] - 15s 80ms/step - loss: 5.2008e-05 - accuracy: 1.0000 - val_loss: 0.5987 - val_accuracy: 0.8972\n",
            "Epoch 9/30\n",
            "183/183 [==============================] - 15s 82ms/step - loss: 4.0356e-05 - accuracy: 1.0000 - val_loss: 0.6701 - val_accuracy: 0.8933\n",
            "Epoch 10/30\n",
            "183/183 [==============================] - 15s 82ms/step - loss: 3.5645e-05 - accuracy: 1.0000 - val_loss: 0.6142 - val_accuracy: 0.8972\n",
            "Epoch 11/30\n",
            "183/183 [==============================] - 14s 78ms/step - loss: 3.9096e-05 - accuracy: 1.0000 - val_loss: 0.6253 - val_accuracy: 0.8962\n",
            "Epoch 12/30\n",
            "183/183 [==============================] - 14s 78ms/step - loss: 4.3496e-05 - accuracy: 1.0000 - val_loss: 0.6088 - val_accuracy: 0.9012\n",
            "Epoch 13/30\n",
            "183/183 [==============================] - 15s 83ms/step - loss: 1.8595e-05 - accuracy: 1.0000 - val_loss: 0.6616 - val_accuracy: 0.8982\n",
            "Epoch 14/30\n",
            "183/183 [==============================] - 16s 87ms/step - loss: 1.9743e-05 - accuracy: 1.0000 - val_loss: 0.6790 - val_accuracy: 0.8962\n",
            "Epoch 15/30\n",
            "183/183 [==============================] - 15s 82ms/step - loss: 1.3340e-05 - accuracy: 1.0000 - val_loss: 0.6741 - val_accuracy: 0.8962\n",
            "Epoch 16/30\n",
            "183/183 [==============================] - 14s 77ms/step - loss: 1.1706e-05 - accuracy: 1.0000 - val_loss: 0.6926 - val_accuracy: 0.8953\n",
            "Epoch 17/30\n",
            "183/183 [==============================] - 15s 82ms/step - loss: 7.8671e-06 - accuracy: 1.0000 - val_loss: 0.7021 - val_accuracy: 0.8933\n",
            "Epoch 18/30\n",
            "183/183 [==============================] - 15s 84ms/step - loss: 1.4639e-05 - accuracy: 1.0000 - val_loss: 0.6915 - val_accuracy: 0.8972\n",
            "Epoch 19/30\n",
            "183/183 [==============================] - 15s 81ms/step - loss: 1.3748e-05 - accuracy: 1.0000 - val_loss: 0.7312 - val_accuracy: 0.8923\n",
            "Epoch 20/30\n",
            "183/183 [==============================] - 15s 83ms/step - loss: 2.6640e-05 - accuracy: 1.0000 - val_loss: 0.5652 - val_accuracy: 0.9051\n",
            "Epoch 21/30\n",
            "183/183 [==============================] - 16s 86ms/step - loss: 6.0605e-05 - accuracy: 1.0000 - val_loss: 0.9390 - val_accuracy: 0.8824\n",
            "Epoch 22/30\n",
            "183/183 [==============================] - 14s 77ms/step - loss: 1.1661e-05 - accuracy: 1.0000 - val_loss: 0.8020 - val_accuracy: 0.8883\n",
            "Epoch 23/30\n",
            "183/183 [==============================] - 14s 78ms/step - loss: 9.6457e-06 - accuracy: 1.0000 - val_loss: 0.8142 - val_accuracy: 0.8903\n",
            "Epoch 24/30\n",
            "183/183 [==============================] - 16s 87ms/step - loss: 1.3712e-05 - accuracy: 1.0000 - val_loss: 0.8082 - val_accuracy: 0.8913\n",
            "Epoch 25/30\n",
            "183/183 [==============================] - 15s 82ms/step - loss: 4.9713e-06 - accuracy: 1.0000 - val_loss: 0.7720 - val_accuracy: 0.8923\n",
            "Epoch 26/30\n",
            "183/183 [==============================] - 15s 82ms/step - loss: 3.8698e-06 - accuracy: 1.0000 - val_loss: 0.7791 - val_accuracy: 0.8933\n",
            "Epoch 27/30\n",
            "183/183 [==============================] - 14s 78ms/step - loss: 1.2769e-05 - accuracy: 1.0000 - val_loss: 0.8275 - val_accuracy: 0.8903\n",
            "Epoch 28/30\n",
            "183/183 [==============================] - 14s 78ms/step - loss: 6.5432e-06 - accuracy: 1.0000 - val_loss: 0.7674 - val_accuracy: 0.8962\n",
            "Epoch 29/30\n",
            "183/183 [==============================] - 14s 79ms/step - loss: 2.6683e-06 - accuracy: 1.0000 - val_loss: 0.7925 - val_accuracy: 0.8933\n",
            "Epoch 30/30\n",
            "183/183 [==============================] - 15s 84ms/step - loss: 3.6113e-06 - accuracy: 1.0000 - val_loss: 0.8392 - val_accuracy: 0.8903\n"
          ]
        }
      ],
      "source": [
        "history = model.fit(X_resampled.toarray(), y_resampled, epochs=30, batch_size=32, validation_data=(X_test_tfidf.toarray(), y_test))"
      ]
    },
    {
      "cell_type": "code",
      "source": [
        "train_accuracy = history.history['accuracy']\n",
        "test_accuracy = history.history['val_accuracy']\n",
        "epochs = range(1, len(train_accuracy) + 1)"
      ],
      "metadata": {
        "id": "5RYOu9jcF98z"
      },
      "id": "5RYOu9jcF98z",
      "execution_count": 78,
      "outputs": []
    },
    {
      "cell_type": "code",
      "source": [
        "plt.plot(epochs, train_accuracy, 'b', label='Training Accuracy')\n",
        "plt.plot(epochs, test_accuracy, 'r', label='Testing Accuracy')\n",
        "plt.title('Training and Testing Accuracy')\n",
        "plt.xlabel('Epochs')\n",
        "plt.ylabel('Accuracy')\n",
        "plt.legend()\n",
        "plt.show()"
      ],
      "metadata": {
        "colab": {
          "base_uri": "https://localhost:8080/",
          "height": 472
        },
        "id": "004kGLbXF91_",
        "outputId": "0176003f-26e9-4d34-c1af-f7e7cc26059d"
      },
      "id": "004kGLbXF91_",
      "execution_count": 79,
      "outputs": [
        {
          "output_type": "display_data",
          "data": {
            "text/plain": [
              "<Figure size 640x480 with 1 Axes>"
            ],
            "image/png": "[encoded data removed]"
          },
          "metadata": {}
        }
      ]
    },
    {
      "cell_type": "code",
      "source": [
        "_, accuracy = model.evaluate(X_test_tfidf.toarray(), y_test)\n",
        "print(\"Test Accuracy:\", accuracy)"
      ],
      "metadata": {
        "colab": {
          "base_uri": "https://localhost:8080/"
        },
        "id": "q_XmkJGiADU0",
        "outputId": "a075e25a-dbe5-43fa-9498-ae0256d6896a"
      },
      "id": "q_XmkJGiADU0",
      "execution_count": 75,
      "outputs": [
        {
          "output_type": "stream",
          "name": "stdout",
          "text": [
            "32/32 [==============================] - 1s 24ms/step - loss: 0.8392 - accuracy: 0.8903\n",
            "Test Accuracy: 0.8903161883354187\n"
          ]
        }
      ]
    }
  ],
  "metadata": {
    "kernelspec": {
      "display_name": "Python 3 (ipykernel)",
      "language": "python",
      "name": "python3"
    },
    "language_info": {
      "codemirror_mode": {
        "name": "ipython",
        "version": 3
      },
      "file_extension": ".py",
      "mimetype": "text/x-python",
      "name": "python",
      "nbconvert_exporter": "python",
      "pygments_lexer": "ipython3",
      "version": "3.11.7"
    },
    "colab": {
      "provenance": [],
      "include_colab_link": true
    }
  },
  "nbformat": 4,
  "nbformat_minor": 5
}