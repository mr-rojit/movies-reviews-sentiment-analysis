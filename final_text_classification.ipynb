{
  "cells": [
    {
      "cell_type": "markdown",
      "metadata": {
        "id": "view-in-github",
        "colab_type": "text"
      },
      "source": [
        "<a href=\"https://colab.research.google.com/github/mr-rojit/movies-reviews-sentiment-analysis/blob/main/final_text_classification.ipynb\" target=\"_parent\"><img src=\"https://colab.research.google.com/assets/colab-badge.svg\" alt=\"Open In Colab\"/></a>"
      ]
    },
    {
      "cell_type": "code",
      "execution_count": 1,
      "id": "2a34e22f-983e-449d-84fa-a79fcf629ecb",
      "metadata": {
        "id": "2a34e22f-983e-449d-84fa-a79fcf629ecb"
      },
      "outputs": [],
      "source": [
        "import numpy as np\n",
        "import pandas as pd\n",
        "import seaborn as sns\n",
        "import plotly.express as px\n",
        "import matplotlib.pyplot as plt\n",
        "import string\n",
        "import re\n",
        "\n",
        "from nltk.corpus import stopwords\n",
        "from nltk.tokenize import word_tokenize\n",
        "from nltk.stem import WordNetLemmatizer\n",
        "\n",
        "from gensim.models import word2vec"
      ]
    },
    {
      "cell_type": "markdown",
      "id": "fefcfe55-31e2-4aea-aed6-aa91dcc42a21",
      "metadata": {
        "id": "fefcfe55-31e2-4aea-aed6-aa91dcc42a21"
      },
      "source": [
        "### Exploratory Data Analysis"
      ]
    },
    {
      "cell_type": "code",
      "execution_count": 3,
      "id": "5acbe48c-c200-4ced-903d-b5f7a42c6cdf",
      "metadata": {
        "colab": {
          "base_uri": "https://localhost:8080/",
          "height": 363
        },
        "id": "5acbe48c-c200-4ced-903d-b5f7a42c6cdf",
        "outputId": "265d1135-c90b-438c-b77a-44cd1ac5621c"
      },
      "outputs": [
        {
          "output_type": "execute_result",
          "data": {
            "text/plain": [
              "                 user       date_review  stars  \\\n",
              "0        MovieWarfare  17 February 2024   1/10   \n",
              "1             syntory  15 February 2024   2/10   \n",
              "2            AlsExGal  17 February 2024   2/10   \n",
              "3     Orlando_Gardner      19 July 2023   9/10   \n",
              "4          AfricanBro  26 February 2024   9/10   \n",
              "5             her5066  26 February 2024  10/10   \n",
              "6       and_mikkelsen  28 February 2024  10/10   \n",
              "7            parksiet  31 December 2023   4/10   \n",
              "8  Pjtaylor-96-138044   23 January 2024   5/10   \n",
              "9  ThereelscoopwithKK     12 March 2024   1/10   \n",
              "\n",
              "                                        title_review  \\\n",
              "0          Makes Morbius look like The Dark Knight\\n   \n",
              "1   How are bad writers able to continually get h...   \n",
              "2   I had a bad feeling about this one, going in....   \n",
              "3                            Murphy is exceptional\\n   \n",
              "4                           Long live the fighters\\n   \n",
              "5                    This is what Hollywood needs!\\n   \n",
              "6   Ladies and gentleman.. the PEAK of filmmaking...   \n",
              "7                                       Not for me\\n   \n",
              "8   Turns out the real poor things were the audie...   \n",
              "9                            Pompous and Grotesque\\n   \n",
              "\n",
              "                                              review  \n",
              "0  I would absolutely love to be in these Sony me...  \n",
              "1  Look at the profiles for the writers that wrot...  \n",
              "2  ... when I saw Dakota Johnson was starring in ...  \n",
              "3  You'll have to have your wits about you and yo...  \n",
              "4  Phenomenal stuff. I'll probably calm down tomo...  \n",
              "5  This is what Hollywood needs. A great story wi...  \n",
              "6  This is the kind of movie that is impossible t...  \n",
              "7  Poor Things simply just wasn't for me. I reall...  \n",
              "8  Poor Things (2023) is an ostensibly feminist f...  \n",
              "9  A movie that's decorated as something special ...  "
            ],
            "text/html": [
              "\n",
              "  <div id=\"df-7f15bf0e-1de0-4371-858a-fd8adc0978dd\" class=\"colab-df-container\">\n",
              "    <div>\n",
              "<style scoped>\n",
              "    .dataframe tbody tr th:only-of-type {\n",
              "        vertical-align: middle;\n",
              "    }\n",
              "\n",
              "    .dataframe tbody tr th {\n",
              "        vertical-align: top;\n",
              "    }\n",
              "\n",
              "    .dataframe thead th {\n",
              "        text-align: right;\n",
              "    }\n",
              "</style>\n",
              "<table border=\"1\" class=\"dataframe\">\n",
              "  <thead>\n",
              "    <tr style=\"text-align: right;\">\n",
              "      <th></th>\n",
              "      <th>user</th>\n",
              "      <th>date_review</th>\n",
              "      <th>stars</th>\n",
              "      <th>title_review</th>\n",
              "      <th>review</th>\n",
              "    </tr>\n",
              "  </thead>\n",
              "  <tbody>\n",
              "    <tr>\n",
              "      <th>0</th>\n",
              "      <td>MovieWarfare</td>\n",
              "      <td>17 February 2024</td>\n",
              "      <td>1/10</td>\n",
              "      <td>Makes Morbius look like The Dark Knight\\n</td>\n",
              "      <td>I would absolutely love to be in these Sony me...</td>\n",
              "    </tr>\n",
              "    <tr>\n",
              "      <th>1</th>\n",
              "      <td>syntory</td>\n",
              "      <td>15 February 2024</td>\n",
              "      <td>2/10</td>\n",
              "      <td>How are bad writers able to continually get h...</td>\n",
              "      <td>Look at the profiles for the writers that wrot...</td>\n",
              "    </tr>\n",
              "    <tr>\n",
              "      <th>2</th>\n",
              "      <td>AlsExGal</td>\n",
              "      <td>17 February 2024</td>\n",
              "      <td>2/10</td>\n",
              "      <td>I had a bad feeling about this one, going in....</td>\n",
              "      <td>... when I saw Dakota Johnson was starring in ...</td>\n",
              "    </tr>\n",
              "    <tr>\n",
              "      <th>3</th>\n",
              "      <td>Orlando_Gardner</td>\n",
              "      <td>19 July 2023</td>\n",
              "      <td>9/10</td>\n",
              "      <td>Murphy is exceptional\\n</td>\n",
              "      <td>You'll have to have your wits about you and yo...</td>\n",
              "    </tr>\n",
              "    <tr>\n",
              "      <th>4</th>\n",
              "      <td>AfricanBro</td>\n",
              "      <td>26 February 2024</td>\n",
              "      <td>9/10</td>\n",
              "      <td>Long live the fighters\\n</td>\n",
              "      <td>Phenomenal stuff. I'll probably calm down tomo...</td>\n",
              "    </tr>\n",
              "    <tr>\n",
              "      <th>5</th>\n",
              "      <td>her5066</td>\n",
              "      <td>26 February 2024</td>\n",
              "      <td>10/10</td>\n",
              "      <td>This is what Hollywood needs!\\n</td>\n",
              "      <td>This is what Hollywood needs. A great story wi...</td>\n",
              "    </tr>\n",
              "    <tr>\n",
              "      <th>6</th>\n",
              "      <td>and_mikkelsen</td>\n",
              "      <td>28 February 2024</td>\n",
              "      <td>10/10</td>\n",
              "      <td>Ladies and gentleman.. the PEAK of filmmaking...</td>\n",
              "      <td>This is the kind of movie that is impossible t...</td>\n",
              "    </tr>\n",
              "    <tr>\n",
              "      <th>7</th>\n",
              "      <td>parksiet</td>\n",
              "      <td>31 December 2023</td>\n",
              "      <td>4/10</td>\n",
              "      <td>Not for me\\n</td>\n",
              "      <td>Poor Things simply just wasn't for me. I reall...</td>\n",
              "    </tr>\n",
              "    <tr>\n",
              "      <th>8</th>\n",
              "      <td>Pjtaylor-96-138044</td>\n",
              "      <td>23 January 2024</td>\n",
              "      <td>5/10</td>\n",
              "      <td>Turns out the real poor things were the audie...</td>\n",
              "      <td>Poor Things (2023) is an ostensibly feminist f...</td>\n",
              "    </tr>\n",
              "    <tr>\n",
              "      <th>9</th>\n",
              "      <td>ThereelscoopwithKK</td>\n",
              "      <td>12 March 2024</td>\n",
              "      <td>1/10</td>\n",
              "      <td>Pompous and Grotesque\\n</td>\n",
              "      <td>A movie that's decorated as something special ...</td>\n",
              "    </tr>\n",
              "  </tbody>\n",
              "</table>\n",
              "</div>\n",
              "    <div class=\"colab-df-buttons\">\n",
              "\n",
              "  <div class=\"colab-df-container\">\n",
              "    <button class=\"colab-df-convert\" onclick=\"convertToInteractive('df-7f15bf0e-1de0-4371-858a-fd8adc0978dd')\"\n",
              "            title=\"Convert this dataframe to an interactive table.\"\n",
              "            style=\"display:none;\">\n",
              "\n",
              "  <svg xmlns=\"http://www.w3.org/2000/svg\" height=\"24px\" viewBox=\"0 -960 960 960\">\n",
              "    <path d=\"M120-120v-720h720v720H120Zm60-500h600v-160H180v160Zm220 220h160v-160H400v160Zm0 220h160v-160H400v160ZM180-400h160v-160H180v160Zm440 0h160v-160H620v160ZM180-180h160v-160H180v160Zm440 0h160v-160H620v160Z\"/>\n",
              "  </svg>\n",
              "    </button>\n",
              "\n",
              "  <style>\n",
              "    .colab-df-container {\n",
              "      display:flex;\n",
              "      gap: 12px;\n",
              "    }\n",
              "\n",
              "    .colab-df-convert {\n",
              "      background-color: #E8F0FE;\n",
              "      border: none;\n",
              "      border-radius: 50%;\n",
              "      cursor: pointer;\n",
              "      display: none;\n",
              "      fill: #1967D2;\n",
              "      height: 32px;\n",
              "      padding: 0 0 0 0;\n",
              "      width: 32px;\n",
              "    }\n",
              "\n",
              "    .colab-df-convert:hover {\n",
              "      background-color: #E2EBFA;\n",
              "      box-shadow: 0px 1px 2px rgba(60, 64, 67, 0.3), 0px 1px 3px 1px rgba(60, 64, 67, 0.15);\n",
              "      fill: #174EA6;\n",
              "    }\n",
              "\n",
              "    .colab-df-buttons div {\n",
              "      margin-bottom: 4px;\n",
              "    }\n",
              "\n",
              "    [theme=dark] .colab-df-convert {\n",
              "      background-color: #3B4455;\n",
              "      fill: #D2E3FC;\n",
              "    }\n",
              "\n",
              "    [theme=dark] .colab-df-convert:hover {\n",
              "      background-color: #434B5C;\n",
              "      box-shadow: 0px 1px 3px 1px rgba(0, 0, 0, 0.15);\n",
              "      filter: drop-shadow(0px 1px 2px rgba(0, 0, 0, 0.3));\n",
              "      fill: #FFFFFF;\n",
              "    }\n",
              "  </style>\n",
              "\n",
              "    <script>\n",
              "      const buttonEl =\n",
              "        document.querySelector('#df-7f15bf0e-1de0-4371-858a-fd8adc0978dd button.colab-df-convert');\n",
              "      buttonEl.style.display =\n",
              "        google.colab.kernel.accessAllowed ? 'block' : 'none';\n",
              "\n",
              "      async function convertToInteractive(key) {\n",
              "        const element = document.querySelector('#df-7f15bf0e-1de0-4371-858a-fd8adc0978dd');\n",
              "        const dataTable =\n",
              "          await google.colab.kernel.invokeFunction('convertToInteractive',\n",
              "                                                    [key], {});\n",
              "        if (!dataTable) return;\n",
              "\n",
              "        const docLinkHtml = 'Like what you see? Visit the ' +\n",
              "          '<a target=\"_blank\" href=https://colab.research.google.com/notebooks/data_table.ipynb>data table notebook</a>'\n",
              "          + ' to learn more about interactive tables.';\n",
              "        element.innerHTML = '';\n",
              "        dataTable['output_type'] = 'display_data';\n",
              "        await google.colab.output.renderOutput(dataTable, element);\n",
              "        const docLink = document.createElement('div');\n",
              "        docLink.innerHTML = docLinkHtml;\n",
              "        element.appendChild(docLink);\n",
              "      }\n",
              "    </script>\n",
              "  </div>\n",
              "\n",
              "\n",
              "<div id=\"df-0c983168-670b-4773-bed4-2a54b9e9f919\">\n",
              "  <button class=\"colab-df-quickchart\" onclick=\"quickchart('df-0c983168-670b-4773-bed4-2a54b9e9f919')\"\n",
              "            title=\"Suggest charts\"\n",
              "            style=\"display:none;\">\n",
              "\n",
              "<svg xmlns=\"http://www.w3.org/2000/svg\" height=\"24px\"viewBox=\"0 0 24 24\"\n",
              "     width=\"24px\">\n",
              "    <g>\n",
              "        <path d=\"M19 3H5c-1.1 0-2 .9-2 2v14c0 1.1.9 2 2 2h14c1.1 0 2-.9 2-2V5c0-1.1-.9-2-2-2zM9 17H7v-7h2v7zm4 0h-2V7h2v10zm4 0h-2v-4h2v4z\"/>\n",
              "    </g>\n",
              "</svg>\n",
              "  </button>\n",
              "\n",
              "<style>\n",
              "  .colab-df-quickchart {\n",
              "      --bg-color: #E8F0FE;\n",
              "      --fill-color: #1967D2;\n",
              "      --hover-bg-color: #E2EBFA;\n",
              "      --hover-fill-color: #174EA6;\n",
              "      --disabled-fill-color: #AAA;\n",
              "      --disabled-bg-color: #DDD;\n",
              "  }\n",
              "\n",
              "  [theme=dark] .colab-df-quickchart {\n",
              "      --bg-color: #3B4455;\n",
              "      --fill-color: #D2E3FC;\n",
              "      --hover-bg-color: #434B5C;\n",
              "      --hover-fill-color: #FFFFFF;\n",
              "      --disabled-bg-color: #3B4455;\n",
              "      --disabled-fill-color: #666;\n",
              "  }\n",
              "\n",
              "  .colab-df-quickchart {\n",
              "    background-color: var(--bg-color);\n",
              "    border: none;\n",
              "    border-radius: 50%;\n",
              "    cursor: pointer;\n",
              "    display: none;\n",
              "    fill: var(--fill-color);\n",
              "    height: 32px;\n",
              "    padding: 0;\n",
              "    width: 32px;\n",
              "  }\n",
              "\n",
              "  .colab-df-quickchart:hover {\n",
              "    background-color: var(--hover-bg-color);\n",
              "    box-shadow: 0 1px 2px rgba(60, 64, 67, 0.3), 0 1px 3px 1px rgba(60, 64, 67, 0.15);\n",
              "    fill: var(--button-hover-fill-color);\n",
              "  }\n",
              "\n",
              "  .colab-df-quickchart-complete:disabled,\n",
              "  .colab-df-quickchart-complete:disabled:hover {\n",
              "    background-color: var(--disabled-bg-color);\n",
              "    fill: var(--disabled-fill-color);\n",
              "    box-shadow: none;\n",
              "  }\n",
              "\n",
              "  .colab-df-spinner {\n",
              "    border: 2px solid var(--fill-color);\n",
              "    border-color: transparent;\n",
              "    border-bottom-color: var(--fill-color);\n",
              "    animation:\n",
              "      spin 1s steps(1) infinite;\n",
              "  }\n",
              "\n",
              "  @keyframes spin {\n",
              "    0% {\n",
              "      border-color: transparent;\n",
              "      border-bottom-color: var(--fill-color);\n",
              "      border-left-color: var(--fill-color);\n",
              "    }\n",
              "    20% {\n",
              "      border-color: transparent;\n",
              "      border-left-color: var(--fill-color);\n",
              "      border-top-color: var(--fill-color);\n",
              "    }\n",
              "    30% {\n",
              "      border-color: transparent;\n",
              "      border-left-color: var(--fill-color);\n",
              "      border-top-color: var(--fill-color);\n",
              "      border-right-color: var(--fill-color);\n",
              "    }\n",
              "    40% {\n",
              "      border-color: transparent;\n",
              "      border-right-color: var(--fill-color);\n",
              "      border-top-color: var(--fill-color);\n",
              "    }\n",
              "    60% {\n",
              "      border-color: transparent;\n",
              "      border-right-color: var(--fill-color);\n",
              "    }\n",
              "    80% {\n",
              "      border-color: transparent;\n",
              "      border-right-color: var(--fill-color);\n",
              "      border-bottom-color: var(--fill-color);\n",
              "    }\n",
              "    90% {\n",
              "      border-color: transparent;\n",
              "      border-bottom-color: var(--fill-color);\n",
              "    }\n",
              "  }\n",
              "</style>\n",
              "\n",
              "  <script>\n",
              "    async function quickchart(key) {\n",
              "      const quickchartButtonEl =\n",
              "        document.querySelector('#' + key + ' button');\n",
              "      quickchartButtonEl.disabled = true;  // To prevent multiple clicks.\n",
              "      quickchartButtonEl.classList.add('colab-df-spinner');\n",
              "      try {\n",
              "        const charts = await google.colab.kernel.invokeFunction(\n",
              "            'suggestCharts', [key], {});\n",
              "      } catch (error) {\n",
              "        console.error('Error during call to suggestCharts:', error);\n",
              "      }\n",
              "      quickchartButtonEl.classList.remove('colab-df-spinner');\n",
              "      quickchartButtonEl.classList.add('colab-df-quickchart-complete');\n",
              "    }\n",
              "    (() => {\n",
              "      let quickchartButtonEl =\n",
              "        document.querySelector('#df-0c983168-670b-4773-bed4-2a54b9e9f919 button');\n",
              "      quickchartButtonEl.style.display =\n",
              "        google.colab.kernel.accessAllowed ? 'block' : 'none';\n",
              "    })();\n",
              "  </script>\n",
              "</div>\n",
              "\n",
              "    </div>\n",
              "  </div>\n"
            ],
            "application/vnd.google.colaboratory.intrinsic+json": {
              "type": "dataframe",
              "variable_name": "df",
              "summary": "{\n  \"name\": \"df\",\n  \"rows\": 5058,\n  \"fields\": [\n    {\n      \"column\": \"user\",\n      \"properties\": {\n        \"dtype\": \"category\",\n        \"num_unique_values\": 2184,\n        \"samples\": [\n          \"eamon-hennedy\",\n          \"jordynnaef\",\n          \"RJBrez\"\n        ],\n        \"semantic_type\": \"\",\n        \"description\": \"\"\n      }\n    },\n    {\n      \"column\": \"date_review\",\n      \"properties\": {\n        \"dtype\": \"object\",\n        \"num_unique_values\": 3462,\n        \"samples\": [\n          \"31 May 2007\",\n          \"1 July 2005\",\n          \"23 February 2007\"\n        ],\n        \"semantic_type\": \"\",\n        \"description\": \"\"\n      }\n    },\n    {\n      \"column\": \"stars\",\n      \"properties\": {\n        \"dtype\": \"category\",\n        \"num_unique_values\": 7,\n        \"samples\": [\n          \"1/10\",\n          \"2/10\",\n          \"5/10\"\n        ],\n        \"semantic_type\": \"\",\n        \"description\": \"\"\n      }\n    },\n    {\n      \"column\": \"title_review\",\n      \"properties\": {\n        \"dtype\": \"string\",\n        \"num_unique_values\": 4995,\n        \"samples\": [\n          \" Can you really even call it a movie?\\n\",\n          \" Holy . . . one of the best movies I have ever seen.\\n\",\n          \" Utterly depressing...\\n\"\n        ],\n        \"semantic_type\": \"\",\n        \"description\": \"\"\n      }\n    },\n    {\n      \"column\": \"review\",\n      \"properties\": {\n        \"dtype\": \"string\",\n        \"num_unique_values\": 5058,\n        \"samples\": [\n          \"In my 61 years, I have seen many science fiction films. Few have exceeded my expectations as this film did. I remember seeing it in a theater (something I rarely trouble myself with these days), and finding myself at times gripping the armrests in excitement. This film builds like great stories should. However, even the best stories can collapse under the weight of a bad script, poor acting, or shoddy editing. I'm happy to say that none of these issues plagued this film. Ms. Foster delivers an extremely powerful performance and is a wonderful role model for women in science. All of the other actors also deliver memorable performances, but make no mistake, it is Ms. Foster's polished performance you will be thinking about when this film ends.Much has been made of the last 1/4 of this film, with many viewers feeling a let down. I get that. The amazing build up and tension in the third quarter of the film is quite unexpected, but if you approach the final quarter thoughtfully, you'll see that it makes perfect scientific sense. That's rare in any science fiction film pitched to mass audiences. As such, this film makes an amazing contribution to the entire genera.\",\n          \"One word that sums up this whole film is \\\"Magnificent\\\".This was Kaif's one of the best performance I've seen. And, no doubt in Sethupati sir's act as well. The whole cast did an amazing work. Stellar performance from every actors who were seen on the screen.I have always been an enthusiast of crime thriller noir cinema and this is a film which I will add up to my list.The first half of the films was just 2 characters having conversation and some might feel tedious, but that part of the film did okay for me. It was kind of like Before Sunrise. I knew that it was creating an unhurried build-up for the second half. It really tests your ability to stay patience. As it was sir Raghavan's sir film I was pretty sure that the characters were hiding something which we are going to experience with some massive twists and turns in the second half.And when the second half hit the show not even a single person that were watching the film in theater got distracted, they were wholly into the film.The cinematography and the direction of the whole film was top notch. It really was offering a beautiful shots with momentous secrets of the characters.I was expecting more people to be on theater for this film. But, sadly there were only few. And If I am not wrong people will talk more about this film after it comes on OTT.\",\n          \"This was the final film that played at the Fantasy Filmfest in Germany (and will be playing in a few more cities after Berlin and Stuttgart to be more precise, in the next couple of weeks) - and what a film it is. It reminded me of some really good slow paced and creepy horror movies I have seen - and a bit of Stephen King (in more than one way).We got a foreword by the director and she sort of said ... well revealed something major - a twist that is. I will not do that, even though apparently the movie has been misused to spread a certain kind of message. To that I can only say: do not read too much into certain things! This is a horror movie and while it does have something to say overall, this is not (covid) pandemic related.Great actors and if you are like me and do not read anything about this ... quite a few surprises coming your way ... with a lot of Christmas songs to counter the mood - but no Last Christmas or Rudolph the Red Nosed Reindeer ... in case you were wondering.\"\n        ],\n        \"semantic_type\": \"\",\n        \"description\": \"\"\n      }\n    }\n  ]\n}"
            }
          },
          "metadata": {},
          "execution_count": 3
        }
      ],
      "source": [
        "df = pd.read_csv('movies_reviews_final.csv')\n",
        "df.head(10)"
      ]
    },
    {
      "cell_type": "code",
      "execution_count": 4,
      "id": "88a96d11-c0cf-41a2-b89b-0aa7e9593657",
      "metadata": {
        "colab": {
          "base_uri": "https://localhost:8080/"
        },
        "id": "88a96d11-c0cf-41a2-b89b-0aa7e9593657",
        "outputId": "68fbd266-d0b6-4610-8be1-67c68d6771a8"
      },
      "outputs": [
        {
          "output_type": "execute_result",
          "data": {
            "text/plain": [
              "(5058, 5)"
            ]
          },
          "metadata": {},
          "execution_count": 4
        }
      ],
      "source": [
        "df.shape"
      ]
    },
    {
      "cell_type": "code",
      "execution_count": 5,
      "id": "26d6f204-8409-4f3c-a00f-0f81a7bfac39",
      "metadata": {
        "colab": {
          "base_uri": "https://localhost:8080/"
        },
        "id": "26d6f204-8409-4f3c-a00f-0f81a7bfac39",
        "outputId": "a9d3f505-8c4a-4fd3-dfdd-b1aec42eec4b"
      },
      "outputs": [
        {
          "output_type": "stream",
          "name": "stdout",
          "text": [
            "<class 'pandas.core.frame.DataFrame'>\n",
            "RangeIndex: 5058 entries, 0 to 5057\n",
            "Data columns (total 5 columns):\n",
            " #   Column        Non-Null Count  Dtype \n",
            "---  ------        --------------  ----- \n",
            " 0   user          5058 non-null   object\n",
            " 1   date_review   5058 non-null   object\n",
            " 2   stars         5058 non-null   object\n",
            " 3   title_review  5058 non-null   object\n",
            " 4   review        5058 non-null   object\n",
            "dtypes: object(5)\n",
            "memory usage: 197.7+ KB\n"
          ]
        }
      ],
      "source": [
        "df.info()"
      ]
    },
    {
      "cell_type": "markdown",
      "id": "8ac1b158-85f1-45bc-83a4-5b4591f270c4",
      "metadata": {
        "id": "8ac1b158-85f1-45bc-83a4-5b4591f270c4"
      },
      "source": [
        "### Transforming stars column(extracting star provied by user)"
      ]
    },
    {
      "cell_type": "code",
      "execution_count": 6,
      "id": "9d64172b-27c2-496d-87d2-d315cf2213e4",
      "metadata": {
        "id": "9d64172b-27c2-496d-87d2-d315cf2213e4"
      },
      "outputs": [],
      "source": [
        "def extract_stars(data):\n",
        "    star = int(data.split('/')[0])\n",
        "    return 0 if star<=5 else 1\n"
      ]
    },
    {
      "cell_type": "code",
      "execution_count": 7,
      "id": "2b611e67-afae-48b0-9934-7ce350608fcc",
      "metadata": {
        "id": "2b611e67-afae-48b0-9934-7ce350608fcc"
      },
      "outputs": [],
      "source": [
        "df['sentiment'] = df['stars'].apply(extract_stars)"
      ]
    },
    {
      "cell_type": "code",
      "execution_count": 8,
      "id": "42f9b725-565a-46dc-ad9b-a2c854c6482c",
      "metadata": {
        "colab": {
          "base_uri": "https://localhost:8080/",
          "height": 206
        },
        "id": "42f9b725-565a-46dc-ad9b-a2c854c6482c",
        "outputId": "fc7dee95-1c0a-4375-af3c-f9f84d970d76"
      },
      "outputs": [
        {
          "output_type": "execute_result",
          "data": {
            "text/plain": [
              "              user       date_review stars  \\\n",
              "0     MovieWarfare  17 February 2024  1/10   \n",
              "1          syntory  15 February 2024  2/10   \n",
              "2         AlsExGal  17 February 2024  2/10   \n",
              "3  Orlando_Gardner      19 July 2023  9/10   \n",
              "4       AfricanBro  26 February 2024  9/10   \n",
              "\n",
              "                                        title_review  \\\n",
              "0          Makes Morbius look like The Dark Knight\\n   \n",
              "1   How are bad writers able to continually get h...   \n",
              "2   I had a bad feeling about this one, going in....   \n",
              "3                            Murphy is exceptional\\n   \n",
              "4                           Long live the fighters\\n   \n",
              "\n",
              "                                              review  sentiment  \n",
              "0  I would absolutely love to be in these Sony me...          0  \n",
              "1  Look at the profiles for the writers that wrot...          0  \n",
              "2  ... when I saw Dakota Johnson was starring in ...          0  \n",
              "3  You'll have to have your wits about you and yo...          1  \n",
              "4  Phenomenal stuff. I'll probably calm down tomo...          1  "
            ],
            "text/html": [
              "\n",
              "  <div id=\"df-6cc76c62-b040-4db0-b280-23ba81f6ad07\" class=\"colab-df-container\">\n",
              "    <div>\n",
              "<style scoped>\n",
              "    .dataframe tbody tr th:only-of-type {\n",
              "        vertical-align: middle;\n",
              "    }\n",
              "\n",
              "    .dataframe tbody tr th {\n",
              "        vertical-align: top;\n",
              "    }\n",
              "\n",
              "    .dataframe thead th {\n",
              "        text-align: right;\n",
              "    }\n",
              "</style>\n",
              "<table border=\"1\" class=\"dataframe\">\n",
              "  <thead>\n",
              "    <tr style=\"text-align: right;\">\n",
              "      <th></th>\n",
              "      <th>user</th>\n",
              "      <th>date_review</th>\n",
              "      <th>stars</th>\n",
              "      <th>title_review</th>\n",
              "      <th>review</th>\n",
              "      <th>sentiment</th>\n",
              "    </tr>\n",
              "  </thead>\n",
              "  <tbody>\n",
              "    <tr>\n",
              "      <th>0</th>\n",
              "      <td>MovieWarfare</td>\n",
              "      <td>17 February 2024</td>\n",
              "      <td>1/10</td>\n",
              "      <td>Makes Morbius look like The Dark Knight\\n</td>\n",
              "      <td>I would absolutely love to be in these Sony me...</td>\n",
              "      <td>0</td>\n",
              "    </tr>\n",
              "    <tr>\n",
              "      <th>1</th>\n",
              "      <td>syntory</td>\n",
              "      <td>15 February 2024</td>\n",
              "      <td>2/10</td>\n",
              "      <td>How are bad writers able to continually get h...</td>\n",
              "      <td>Look at the profiles for the writers that wrot...</td>\n",
              "      <td>0</td>\n",
              "    </tr>\n",
              "    <tr>\n",
              "      <th>2</th>\n",
              "      <td>AlsExGal</td>\n",
              "      <td>17 February 2024</td>\n",
              "      <td>2/10</td>\n",
              "      <td>I had a bad feeling about this one, going in....</td>\n",
              "      <td>... when I saw Dakota Johnson was starring in ...</td>\n",
              "      <td>0</td>\n",
              "    </tr>\n",
              "    <tr>\n",
              "      <th>3</th>\n",
              "      <td>Orlando_Gardner</td>\n",
              "      <td>19 July 2023</td>\n",
              "      <td>9/10</td>\n",
              "      <td>Murphy is exceptional\\n</td>\n",
              "      <td>You'll have to have your wits about you and yo...</td>\n",
              "      <td>1</td>\n",
              "    </tr>\n",
              "    <tr>\n",
              "      <th>4</th>\n",
              "      <td>AfricanBro</td>\n",
              "      <td>26 February 2024</td>\n",
              "      <td>9/10</td>\n",
              "      <td>Long live the fighters\\n</td>\n",
              "      <td>Phenomenal stuff. I'll probably calm down tomo...</td>\n",
              "      <td>1</td>\n",
              "    </tr>\n",
              "  </tbody>\n",
              "</table>\n",
              "</div>\n",
              "    <div class=\"colab-df-buttons\">\n",
              "\n",
              "  <div class=\"colab-df-container\">\n",
              "    <button class=\"colab-df-convert\" onclick=\"convertToInteractive('df-6cc76c62-b040-4db0-b280-23ba81f6ad07')\"\n",
              "            title=\"Convert this dataframe to an interactive table.\"\n",
              "            style=\"display:none;\">\n",
              "\n",
              "  <svg xmlns=\"http://www.w3.org/2000/svg\" height=\"24px\" viewBox=\"0 -960 960 960\">\n",
              "    <path d=\"M120-120v-720h720v720H120Zm60-500h600v-160H180v160Zm220 220h160v-160H400v160Zm0 220h160v-160H400v160ZM180-400h160v-160H180v160Zm440 0h160v-160H620v160ZM180-180h160v-160H180v160Zm440 0h160v-160H620v160Z\"/>\n",
              "  </svg>\n",
              "    </button>\n",
              "\n",
              "  <style>\n",
              "    .colab-df-container {\n",
              "      display:flex;\n",
              "      gap: 12px;\n",
              "    }\n",
              "\n",
              "    .colab-df-convert {\n",
              "      background-color: #E8F0FE;\n",
              "      border: none;\n",
              "      border-radius: 50%;\n",
              "      cursor: pointer;\n",
              "      display: none;\n",
              "      fill: #1967D2;\n",
              "      height: 32px;\n",
              "      padding: 0 0 0 0;\n",
              "      width: 32px;\n",
              "    }\n",
              "\n",
              "    .colab-df-convert:hover {\n",
              "      background-color: #E2EBFA;\n",
              "      box-shadow: 0px 1px 2px rgba(60, 64, 67, 0.3), 0px 1px 3px 1px rgba(60, 64, 67, 0.15);\n",
              "      fill: #174EA6;\n",
              "    }\n",
              "\n",
              "    .colab-df-buttons div {\n",
              "      margin-bottom: 4px;\n",
              "    }\n",
              "\n",
              "    [theme=dark] .colab-df-convert {\n",
              "      background-color: #3B4455;\n",
              "      fill: #D2E3FC;\n",
              "    }\n",
              "\n",
              "    [theme=dark] .colab-df-convert:hover {\n",
              "      background-color: #434B5C;\n",
              "      box-shadow: 0px 1px 3px 1px rgba(0, 0, 0, 0.15);\n",
              "      filter: drop-shadow(0px 1px 2px rgba(0, 0, 0, 0.3));\n",
              "      fill: #FFFFFF;\n",
              "    }\n",
              "  </style>\n",
              "\n",
              "    <script>\n",
              "      const buttonEl =\n",
              "        document.querySelector('#df-6cc76c62-b040-4db0-b280-23ba81f6ad07 button.colab-df-convert');\n",
              "      buttonEl.style.display =\n",
              "        google.colab.kernel.accessAllowed ? 'block' : 'none';\n",
              "\n",
              "      async function convertToInteractive(key) {\n",
              "        const element = document.querySelector('#df-6cc76c62-b040-4db0-b280-23ba81f6ad07');\n",
              "        const dataTable =\n",
              "          await google.colab.kernel.invokeFunction('convertToInteractive',\n",
              "                                                    [key], {});\n",
              "        if (!dataTable) return;\n",
              "\n",
              "        const docLinkHtml = 'Like what you see? Visit the ' +\n",
              "          '<a target=\"_blank\" href=https://colab.research.google.com/notebooks/data_table.ipynb>data table notebook</a>'\n",
              "          + ' to learn more about interactive tables.';\n",
              "        element.innerHTML = '';\n",
              "        dataTable['output_type'] = 'display_data';\n",
              "        await google.colab.output.renderOutput(dataTable, element);\n",
              "        const docLink = document.createElement('div');\n",
              "        docLink.innerHTML = docLinkHtml;\n",
              "        element.appendChild(docLink);\n",
              "      }\n",
              "    </script>\n",
              "  </div>\n",
              "\n",
              "\n",
              "<div id=\"df-02313769-0850-46d3-a396-98588e2bd441\">\n",
              "  <button class=\"colab-df-quickchart\" onclick=\"quickchart('df-02313769-0850-46d3-a396-98588e2bd441')\"\n",
              "            title=\"Suggest charts\"\n",
              "            style=\"display:none;\">\n",
              "\n",
              "<svg xmlns=\"http://www.w3.org/2000/svg\" height=\"24px\"viewBox=\"0 0 24 24\"\n",
              "     width=\"24px\">\n",
              "    <g>\n",
              "        <path d=\"M19 3H5c-1.1 0-2 .9-2 2v14c0 1.1.9 2 2 2h14c1.1 0 2-.9 2-2V5c0-1.1-.9-2-2-2zM9 17H7v-7h2v7zm4 0h-2V7h2v10zm4 0h-2v-4h2v4z\"/>\n",
              "    </g>\n",
              "</svg>\n",
              "  </button>\n",
              "\n",
              "<style>\n",
              "  .colab-df-quickchart {\n",
              "      --bg-color: #E8F0FE;\n",
              "      --fill-color: #1967D2;\n",
              "      --hover-bg-color: #E2EBFA;\n",
              "      --hover-fill-color: #174EA6;\n",
              "      --disabled-fill-color: #AAA;\n",
              "      --disabled-bg-color: #DDD;\n",
              "  }\n",
              "\n",
              "  [theme=dark] .colab-df-quickchart {\n",
              "      --bg-color: #3B4455;\n",
              "      --fill-color: #D2E3FC;\n",
              "      --hover-bg-color: #434B5C;\n",
              "      --hover-fill-color: #FFFFFF;\n",
              "      --disabled-bg-color: #3B4455;\n",
              "      --disabled-fill-color: #666;\n",
              "  }\n",
              "\n",
              "  .colab-df-quickchart {\n",
              "    background-color: var(--bg-color);\n",
              "    border: none;\n",
              "    border-radius: 50%;\n",
              "    cursor: pointer;\n",
              "    display: none;\n",
              "    fill: var(--fill-color);\n",
              "    height: 32px;\n",
              "    padding: 0;\n",
              "    width: 32px;\n",
              "  }\n",
              "\n",
              "  .colab-df-quickchart:hover {\n",
              "    background-color: var(--hover-bg-color);\n",
              "    box-shadow: 0 1px 2px rgba(60, 64, 67, 0.3), 0 1px 3px 1px rgba(60, 64, 67, 0.15);\n",
              "    fill: var(--button-hover-fill-color);\n",
              "  }\n",
              "\n",
              "  .colab-df-quickchart-complete:disabled,\n",
              "  .colab-df-quickchart-complete:disabled:hover {\n",
              "    background-color: var(--disabled-bg-color);\n",
              "    fill: var(--disabled-fill-color);\n",
              "    box-shadow: none;\n",
              "  }\n",
              "\n",
              "  .colab-df-spinner {\n",
              "    border: 2px solid var(--fill-color);\n",
              "    border-color: transparent;\n",
              "    border-bottom-color: var(--fill-color);\n",
              "    animation:\n",
              "      spin 1s steps(1) infinite;\n",
              "  }\n",
              "\n",
              "  @keyframes spin {\n",
              "    0% {\n",
              "      border-color: transparent;\n",
              "      border-bottom-color: var(--fill-color);\n",
              "      border-left-color: var(--fill-color);\n",
              "    }\n",
              "    20% {\n",
              "      border-color: transparent;\n",
              "      border-left-color: var(--fill-color);\n",
              "      border-top-color: var(--fill-color);\n",
              "    }\n",
              "    30% {\n",
              "      border-color: transparent;\n",
              "      border-left-color: var(--fill-color);\n",
              "      border-top-color: var(--fill-color);\n",
              "      border-right-color: var(--fill-color);\n",
              "    }\n",
              "    40% {\n",
              "      border-color: transparent;\n",
              "      border-right-color: var(--fill-color);\n",
              "      border-top-color: var(--fill-color);\n",
              "    }\n",
              "    60% {\n",
              "      border-color: transparent;\n",
              "      border-right-color: var(--fill-color);\n",
              "    }\n",
              "    80% {\n",
              "      border-color: transparent;\n",
              "      border-right-color: var(--fill-color);\n",
              "      border-bottom-color: var(--fill-color);\n",
              "    }\n",
              "    90% {\n",
              "      border-color: transparent;\n",
              "      border-bottom-color: var(--fill-color);\n",
              "    }\n",
              "  }\n",
              "</style>\n",
              "\n",
              "  <script>\n",
              "    async function quickchart(key) {\n",
              "      const quickchartButtonEl =\n",
              "        document.querySelector('#' + key + ' button');\n",
              "      quickchartButtonEl.disabled = true;  // To prevent multiple clicks.\n",
              "      quickchartButtonEl.classList.add('colab-df-spinner');\n",
              "      try {\n",
              "        const charts = await google.colab.kernel.invokeFunction(\n",
              "            'suggestCharts', [key], {});\n",
              "      } catch (error) {\n",
              "        console.error('Error during call to suggestCharts:', error);\n",
              "      }\n",
              "      quickchartButtonEl.classList.remove('colab-df-spinner');\n",
              "      quickchartButtonEl.classList.add('colab-df-quickchart-complete');\n",
              "    }\n",
              "    (() => {\n",
              "      let quickchartButtonEl =\n",
              "        document.querySelector('#df-02313769-0850-46d3-a396-98588e2bd441 button');\n",
              "      quickchartButtonEl.style.display =\n",
              "        google.colab.kernel.accessAllowed ? 'block' : 'none';\n",
              "    })();\n",
              "  </script>\n",
              "</div>\n",
              "\n",
              "    </div>\n",
              "  </div>\n"
            ],
            "application/vnd.google.colaboratory.intrinsic+json": {
              "type": "dataframe",
              "variable_name": "df",
              "summary": "{\n  \"name\": \"df\",\n  \"rows\": 5058,\n  \"fields\": [\n    {\n      \"column\": \"user\",\n      \"properties\": {\n        \"dtype\": \"category\",\n        \"num_unique_values\": 2184,\n        \"samples\": [\n          \"eamon-hennedy\",\n          \"jordynnaef\",\n          \"RJBrez\"\n        ],\n        \"semantic_type\": \"\",\n        \"description\": \"\"\n      }\n    },\n    {\n      \"column\": \"date_review\",\n      \"properties\": {\n        \"dtype\": \"object\",\n        \"num_unique_values\": 3462,\n        \"samples\": [\n          \"31 May 2007\",\n          \"1 July 2005\",\n          \"23 February 2007\"\n        ],\n        \"semantic_type\": \"\",\n        \"description\": \"\"\n      }\n    },\n    {\n      \"column\": \"stars\",\n      \"properties\": {\n        \"dtype\": \"category\",\n        \"num_unique_values\": 7,\n        \"samples\": [\n          \"1/10\",\n          \"2/10\",\n          \"5/10\"\n        ],\n        \"semantic_type\": \"\",\n        \"description\": \"\"\n      }\n    },\n    {\n      \"column\": \"title_review\",\n      \"properties\": {\n        \"dtype\": \"string\",\n        \"num_unique_values\": 4995,\n        \"samples\": [\n          \" Can you really even call it a movie?\\n\",\n          \" Holy . . . one of the best movies I have ever seen.\\n\",\n          \" Utterly depressing...\\n\"\n        ],\n        \"semantic_type\": \"\",\n        \"description\": \"\"\n      }\n    },\n    {\n      \"column\": \"review\",\n      \"properties\": {\n        \"dtype\": \"string\",\n        \"num_unique_values\": 5058,\n        \"samples\": [\n          \"In my 61 years, I have seen many science fiction films. Few have exceeded my expectations as this film did. I remember seeing it in a theater (something I rarely trouble myself with these days), and finding myself at times gripping the armrests in excitement. This film builds like great stories should. However, even the best stories can collapse under the weight of a bad script, poor acting, or shoddy editing. I'm happy to say that none of these issues plagued this film. Ms. Foster delivers an extremely powerful performance and is a wonderful role model for women in science. All of the other actors also deliver memorable performances, but make no mistake, it is Ms. Foster's polished performance you will be thinking about when this film ends.Much has been made of the last 1/4 of this film, with many viewers feeling a let down. I get that. The amazing build up and tension in the third quarter of the film is quite unexpected, but if you approach the final quarter thoughtfully, you'll see that it makes perfect scientific sense. That's rare in any science fiction film pitched to mass audiences. As such, this film makes an amazing contribution to the entire genera.\",\n          \"One word that sums up this whole film is \\\"Magnificent\\\".This was Kaif's one of the best performance I've seen. And, no doubt in Sethupati sir's act as well. The whole cast did an amazing work. Stellar performance from every actors who were seen on the screen.I have always been an enthusiast of crime thriller noir cinema and this is a film which I will add up to my list.The first half of the films was just 2 characters having conversation and some might feel tedious, but that part of the film did okay for me. It was kind of like Before Sunrise. I knew that it was creating an unhurried build-up for the second half. It really tests your ability to stay patience. As it was sir Raghavan's sir film I was pretty sure that the characters were hiding something which we are going to experience with some massive twists and turns in the second half.And when the second half hit the show not even a single person that were watching the film in theater got distracted, they were wholly into the film.The cinematography and the direction of the whole film was top notch. It really was offering a beautiful shots with momentous secrets of the characters.I was expecting more people to be on theater for this film. But, sadly there were only few. And If I am not wrong people will talk more about this film after it comes on OTT.\",\n          \"This was the final film that played at the Fantasy Filmfest in Germany (and will be playing in a few more cities after Berlin and Stuttgart to be more precise, in the next couple of weeks) - and what a film it is. It reminded me of some really good slow paced and creepy horror movies I have seen - and a bit of Stephen King (in more than one way).We got a foreword by the director and she sort of said ... well revealed something major - a twist that is. I will not do that, even though apparently the movie has been misused to spread a certain kind of message. To that I can only say: do not read too much into certain things! This is a horror movie and while it does have something to say overall, this is not (covid) pandemic related.Great actors and if you are like me and do not read anything about this ... quite a few surprises coming your way ... with a lot of Christmas songs to counter the mood - but no Last Christmas or Rudolph the Red Nosed Reindeer ... in case you were wondering.\"\n        ],\n        \"semantic_type\": \"\",\n        \"description\": \"\"\n      }\n    },\n    {\n      \"column\": \"sentiment\",\n      \"properties\": {\n        \"dtype\": \"number\",\n        \"std\": 0,\n        \"min\": 0,\n        \"max\": 1,\n        \"num_unique_values\": 2,\n        \"samples\": [\n          1,\n          0\n        ],\n        \"semantic_type\": \"\",\n        \"description\": \"\"\n      }\n    }\n  ]\n}"
            }
          },
          "metadata": {},
          "execution_count": 8
        }
      ],
      "source": [
        "df.head()"
      ]
    },
    {
      "cell_type": "code",
      "execution_count": 9,
      "id": "9924372d-1cea-4022-841e-adfb97757d8b",
      "metadata": {
        "colab": {
          "base_uri": "https://localhost:8080/",
          "height": 517
        },
        "id": "9924372d-1cea-4022-841e-adfb97757d8b",
        "outputId": "d7f5a156-5b72-47dd-c4f5-e2d22210d22c"
      },
      "outputs": [
        {
          "output_type": "display_data",
          "data": {
            "text/html": [
              "<html>\n",
              "<head><meta charset=\"utf-8\" /></head>\n",
              "<body>\n",
              "    <div>            <script src=\"https://cdnjs.cloudflare.com/ajax/libs/mathjax/2.7.5/MathJax.js?config=TeX-AMS-MML_SVG\"></script><script type=\"text/javascript\">if (window.MathJax && window.MathJax.Hub && window.MathJax.Hub.Config) {window.MathJax.Hub.Config({SVG: {font: \"STIX-Web\"}});}</script>                <script type=\"text/javascript\">window.PlotlyConfig = {MathJaxConfig: 'local'};</script>\n",
              "        <script charset=\"utf-8\" src=\"https://cdn.plot.ly/plotly-2.24.1.min.js\"></script>                <div id=\"9822f082-951a-4f2c-ac43-fe941e98a445\" class=\"plotly-graph-div\" style=\"height:500px; width:100%;\"></div>            <script type=\"text/javascript\">                                    window.PLOTLYENV=window.PLOTLYENV || {};                                    if (document.getElementById(\"9822f082-951a-4f2c-ac43-fe941e98a445\")) {                    Plotly.newPlot(                        \"9822f082-951a-4f2c-ac43-fe941e98a445\",                        [{\"alignmentgroup\":\"True\",\"bingroup\":\"x\",\"hovertemplate\":\"stars=%{x}\\u003cbr\\u003ecount=%{y}\\u003cextra\\u003e\\u003c\\u002fextra\\u003e\",\"legendgroup\":\"1\\u002f10\",\"marker\":{\"color\":\"#636efa\",\"pattern\":{\"shape\":\"\"}},\"name\":\"1\\u002f10\",\"offsetgroup\":\"1\\u002f10\",\"orientation\":\"v\",\"showlegend\":true,\"x\":[\"1\\u002f10\",\"1\\u002f10\",\"1\\u002f10\",\"1\\u002f10\",\"1\\u002f10\",\"1\\u002f10\",\"1\\u002f10\",\"1\\u002f10\",\"1\\u002f10\",\"1\\u002f10\",\"1\\u002f10\",\"1\\u002f10\",\"1\\u002f10\",\"1\\u002f10\",\"1\\u002f10\",\"1\\u002f10\",\"1\\u002f10\",\"1\\u002f10\",\"1\\u002f10\",\"1\\u002f10\",\"1\\u002f10\",\"1\\u002f10\",\"1\\u002f10\",\"1\\u002f10\",\"1\\u002f10\",\"1\\u002f10\",\"1\\u002f10\",\"1\\u002f10\",\"1\\u002f10\",\"1\\u002f10\",\"1\\u002f10\",\"1\\u002f10\",\"1\\u002f10\",\"1\\u002f10\",\"1\\u002f10\",\"1\\u002f10\",\"1\\u002f10\",\"1\\u002f10\",\"1\\u002f10\",\"1\\u002f10\",\"1\\u002f10\",\"1\\u002f10\",\"1\\u002f10\",\"1\\u002f10\",\"1\\u002f10\",\"1\\u002f10\",\"1\\u002f10\",\"1\\u002f10\",\"1\\u002f10\",\"1\\u002f10\",\"1\\u002f10\",\"1\\u002f10\",\"1\\u002f10\",\"1\\u002f10\",\"1\\u002f10\",\"1\\u002f10\",\"1\\u002f10\",\"1\\u002f10\",\"1\\u002f10\",\"1\\u002f10\",\"1\\u002f10\",\"1\\u002f10\",\"1\\u002f10\",\"1\\u002f10\",\"1\\u002f10\",\"1\\u002f10\",\"1\\u002f10\",\"1\\u002f10\",\"1\\u002f10\",\"1\\u002f10\",\"1\\u002f10\",\"1\\u002f10\",\"1\\u002f10\",\"1\\u002f10\",\"1\\u002f10\",\"1\\u002f10\",\"1\\u002f10\",\"1\\u002f10\",\"1\\u002f10\",\"1\\u002f10\",\"1\\u002f10\",\"1\\u002f10\",\"1\\u002f10\",\"1\\u002f10\",\"1\\u002f10\",\"1\\u002f10\",\"1\\u002f10\",\"1\\u002f10\",\"1\\u002f10\",\"1\\u002f10\",\"1\\u002f10\",\"1\\u002f10\",\"1\\u002f10\",\"1\\u002f10\",\"1\\u002f10\",\"1\\u002f10\",\"1\\u002f10\",\"1\\u002f10\",\"1\\u002f10\",\"1\\u002f10\",\"1\\u002f10\",\"1\\u002f10\",\"1\\u002f10\",\"1\\u002f10\",\"1\\u002f10\",\"1\\u002f10\",\"1\\u002f10\",\"1\\u002f10\",\"1\\u002f10\",\"1\\u002f10\",\"1\\u002f10\",\"1\\u002f10\",\"1\\u002f10\",\"1\\u002f10\",\"1\\u002f10\",\"1\\u002f10\",\"1\\u002f10\",\"1\\u002f10\",\"1\\u002f10\",\"1\\u002f10\",\"1\\u002f10\",\"1\\u002f10\",\"1\\u002f10\",\"1\\u002f10\",\"1\\u002f10\",\"1\\u002f10\",\"1\\u002f10\",\"1\\u002f10\",\"1\\u002f10\",\"1\\u002f10\",\"1\\u002f10\",\"1\\u002f10\",\"1\\u002f10\",\"1\\u002f10\",\"1\\u002f10\",\"1\\u002f10\",\"1\\u002f10\",\"1\\u002f10\",\"1\\u002f10\",\"1\\u002f10\",\"1\\u002f10\",\"1\\u002f10\",\"1\\u002f10\",\"1\\u002f10\",\"1\\u002f10\",\"1\\u002f10\",\"1\\u002f10\",\"1\\u002f10\",\"1\\u002f10\",\"1\\u002f10\",\"1\\u002f10\",\"1\\u002f10\",\"1\\u002f10\",\"1\\u002f10\",\"1\\u002f10\",\"1\\u002f10\",\"1\\u002f10\",\"1\\u002f10\",\"1\\u002f10\",\"1\\u002f10\",\"1\\u002f10\",\"1\\u002f10\",\"1\\u002f10\",\"1\\u002f10\",\"1\\u002f10\",\"1\\u002f10\",\"1\\u002f10\",\"1\\u002f10\",\"1\\u002f10\",\"1\\u002f10\",\"1\\u002f10\",\"1\\u002f10\",\"1\\u002f10\",\"1\\u002f10\",\"1\\u002f10\",\"1\\u002f10\",\"1\\u002f10\",\"1\\u002f10\",\"1\\u002f10\",\"1\\u002f10\",\"1\\u002f10\",\"1\\u002f10\",\"1\\u002f10\",\"1\\u002f10\",\"1\\u002f10\",\"1\\u002f10\",\"1\\u002f10\",\"1\\u002f10\",\"1\\u002f10\",\"1\\u002f10\",\"1\\u002f10\",\"1\\u002f10\",\"1\\u002f10\",\"1\\u002f10\",\"1\\u002f10\",\"1\\u002f10\",\"1\\u002f10\",\"1\\u002f10\",\"1\\u002f10\",\"1\\u002f10\",\"1\\u002f10\",\"1\\u002f10\",\"1\\u002f10\"],\"xaxis\":\"x\",\"yaxis\":\"y\",\"type\":\"histogram\"},{\"alignmentgroup\":\"True\",\"bingroup\":\"x\",\"hovertemplate\":\"stars=%{x}\\u003cbr\\u003ecount=%{y}\\u003cextra\\u003e\\u003c\\u002fextra\\u003e\",\"legendgroup\":\"2\\u002f10\",\"marker\":{\"color\":\"#EF553B\",\"pattern\":{\"shape\":\"\"}},\"name\":\"2\\u002f10\",\"offsetgroup\":\"2\\u002f10\",\"orientation\":\"v\",\"showlegend\":true,\"x\":[\"2\\u002f10\",\"2\\u002f10\",\"2\\u002f10\",\"2\\u002f10\",\"2\\u002f10\",\"2\\u002f10\",\"2\\u002f10\",\"2\\u002f10\",\"2\\u002f10\",\"2\\u002f10\",\"2\\u002f10\",\"2\\u002f10\",\"2\\u002f10\",\"2\\u002f10\",\"2\\u002f10\",\"2\\u002f10\",\"2\\u002f10\",\"2\\u002f10\",\"2\\u002f10\",\"2\\u002f10\",\"2\\u002f10\",\"2\\u002f10\",\"2\\u002f10\",\"2\\u002f10\",\"2\\u002f10\",\"2\\u002f10\",\"2\\u002f10\",\"2\\u002f10\",\"2\\u002f10\",\"2\\u002f10\",\"2\\u002f10\",\"2\\u002f10\",\"2\\u002f10\",\"2\\u002f10\",\"2\\u002f10\",\"2\\u002f10\",\"2\\u002f10\",\"2\\u002f10\",\"2\\u002f10\",\"2\\u002f10\",\"2\\u002f10\",\"2\\u002f10\",\"2\\u002f10\",\"2\\u002f10\",\"2\\u002f10\",\"2\\u002f10\",\"2\\u002f10\",\"2\\u002f10\",\"2\\u002f10\",\"2\\u002f10\",\"2\\u002f10\",\"2\\u002f10\",\"2\\u002f10\",\"2\\u002f10\",\"2\\u002f10\",\"2\\u002f10\",\"2\\u002f10\",\"2\\u002f10\",\"2\\u002f10\",\"2\\u002f10\",\"2\\u002f10\",\"2\\u002f10\",\"2\\u002f10\",\"2\\u002f10\",\"2\\u002f10\",\"2\\u002f10\",\"2\\u002f10\",\"2\\u002f10\",\"2\\u002f10\",\"2\\u002f10\",\"2\\u002f10\",\"2\\u002f10\",\"2\\u002f10\",\"2\\u002f10\",\"2\\u002f10\",\"2\\u002f10\",\"2\\u002f10\",\"2\\u002f10\",\"2\\u002f10\",\"2\\u002f10\",\"2\\u002f10\",\"2\\u002f10\",\"2\\u002f10\",\"2\\u002f10\",\"2\\u002f10\",\"2\\u002f10\",\"2\\u002f10\",\"2\\u002f10\",\"2\\u002f10\",\"2\\u002f10\",\"2\\u002f10\",\"2\\u002f10\",\"2\\u002f10\",\"2\\u002f10\",\"2\\u002f10\",\"2\\u002f10\",\"2\\u002f10\",\"2\\u002f10\",\"2\\u002f10\",\"2\\u002f10\",\"2\\u002f10\",\"2\\u002f10\",\"2\\u002f10\",\"2\\u002f10\",\"2\\u002f10\",\"2\\u002f10\",\"2\\u002f10\",\"2\\u002f10\",\"2\\u002f10\",\"2\\u002f10\",\"2\\u002f10\",\"2\\u002f10\",\"2\\u002f10\",\"2\\u002f10\",\"2\\u002f10\",\"2\\u002f10\",\"2\\u002f10\",\"2\\u002f10\",\"2\\u002f10\",\"2\\u002f10\",\"2\\u002f10\",\"2\\u002f10\",\"2\\u002f10\",\"2\\u002f10\",\"2\\u002f10\",\"2\\u002f10\",\"2\\u002f10\",\"2\\u002f10\",\"2\\u002f10\",\"2\\u002f10\",\"2\\u002f10\",\"2\\u002f10\",\"2\\u002f10\",\"2\\u002f10\",\"2\\u002f10\",\"2\\u002f10\",\"2\\u002f10\",\"2\\u002f10\",\"2\\u002f10\",\"2\\u002f10\",\"2\\u002f10\",\"2\\u002f10\",\"2\\u002f10\",\"2\\u002f10\",\"2\\u002f10\",\"2\\u002f10\",\"2\\u002f10\",\"2\\u002f10\",\"2\\u002f10\",\"2\\u002f10\",\"2\\u002f10\",\"2\\u002f10\",\"2\\u002f10\",\"2\\u002f10\",\"2\\u002f10\",\"2\\u002f10\",\"2\\u002f10\",\"2\\u002f10\",\"2\\u002f10\",\"2\\u002f10\",\"2\\u002f10\",\"2\\u002f10\",\"2\\u002f10\",\"2\\u002f10\",\"2\\u002f10\",\"2\\u002f10\",\"2\\u002f10\",\"2\\u002f10\",\"2\\u002f10\",\"2\\u002f10\",\"2\\u002f10\",\"2\\u002f10\",\"2\\u002f10\",\"2\\u002f10\",\"2\\u002f10\",\"2\\u002f10\",\"2\\u002f10\",\"2\\u002f10\",\"2\\u002f10\",\"2\\u002f10\",\"2\\u002f10\",\"2\\u002f10\",\"2\\u002f10\",\"2\\u002f10\",\"2\\u002f10\",\"2\\u002f10\"],\"xaxis\":\"x\",\"yaxis\":\"y\",\"type\":\"histogram\"},{\"alignmentgroup\":\"True\",\"bingroup\":\"x\",\"hovertemplate\":\"stars=%{x}\\u003cbr\\u003ecount=%{y}\\u003cextra\\u003e\\u003c\\u002fextra\\u003e\",\"legendgroup\":\"9\\u002f10\",\"marker\":{\"color\":\"#00cc96\",\"pattern\":{\"shape\":\"\"}},\"name\":\"9\\u002f10\",\"offsetgroup\":\"9\\u002f10\",\"orientation\":\"v\",\"showlegend\":true,\"x\":[\"9\\u002f10\",\"9\\u002f10\",\"9\\u002f10\",\"9\\u002f10\",\"9\\u002f10\",\"9\\u002f10\",\"9\\u002f10\",\"9\\u002f10\",\"9\\u002f10\",\"9\\u002f10\",\"9\\u002f10\",\"9\\u002f10\",\"9\\u002f10\",\"9\\u002f10\",\"9\\u002f10\",\"9\\u002f10\",\"9\\u002f10\",\"9\\u002f10\",\"9\\u002f10\",\"9\\u002f10\",\"9\\u002f10\",\"9\\u002f10\",\"9\\u002f10\",\"9\\u002f10\",\"9\\u002f10\",\"9\\u002f10\",\"9\\u002f10\",\"9\\u002f10\",\"9\\u002f10\",\"9\\u002f10\",\"9\\u002f10\",\"9\\u002f10\",\"9\\u002f10\",\"9\\u002f10\",\"9\\u002f10\",\"9\\u002f10\",\"9\\u002f10\",\"9\\u002f10\",\"9\\u002f10\",\"9\\u002f10\",\"9\\u002f10\",\"9\\u002f10\",\"9\\u002f10\",\"9\\u002f10\",\"9\\u002f10\",\"9\\u002f10\",\"9\\u002f10\",\"9\\u002f10\",\"9\\u002f10\",\"9\\u002f10\",\"9\\u002f10\",\"9\\u002f10\",\"9\\u002f10\",\"9\\u002f10\",\"9\\u002f10\",\"9\\u002f10\",\"9\\u002f10\",\"9\\u002f10\",\"9\\u002f10\",\"9\\u002f10\",\"9\\u002f10\",\"9\\u002f10\",\"9\\u002f10\",\"9\\u002f10\",\"9\\u002f10\",\"9\\u002f10\",\"9\\u002f10\",\"9\\u002f10\",\"9\\u002f10\",\"9\\u002f10\",\"9\\u002f10\",\"9\\u002f10\",\"9\\u002f10\",\"9\\u002f10\",\"9\\u002f10\",\"9\\u002f10\",\"9\\u002f10\",\"9\\u002f10\",\"9\\u002f10\",\"9\\u002f10\",\"9\\u002f10\",\"9\\u002f10\",\"9\\u002f10\",\"9\\u002f10\",\"9\\u002f10\",\"9\\u002f10\",\"9\\u002f10\",\"9\\u002f10\",\"9\\u002f10\",\"9\\u002f10\",\"9\\u002f10\",\"9\\u002f10\",\"9\\u002f10\",\"9\\u002f10\",\"9\\u002f10\",\"9\\u002f10\",\"9\\u002f10\",\"9\\u002f10\",\"9\\u002f10\",\"9\\u002f10\",\"9\\u002f10\",\"9\\u002f10\",\"9\\u002f10\",\"9\\u002f10\",\"9\\u002f10\",\"9\\u002f10\",\"9\\u002f10\",\"9\\u002f10\",\"9\\u002f10\",\"9\\u002f10\",\"9\\u002f10\",\"9\\u002f10\",\"9\\u002f10\",\"9\\u002f10\",\"9\\u002f10\",\"9\\u002f10\",\"9\\u002f10\",\"9\\u002f10\",\"9\\u002f10\",\"9\\u002f10\",\"9\\u002f10\",\"9\\u002f10\",\"9\\u002f10\",\"9\\u002f10\",\"9\\u002f10\",\"9\\u002f10\",\"9\\u002f10\",\"9\\u002f10\",\"9\\u002f10\",\"9\\u002f10\",\"9\\u002f10\",\"9\\u002f10\",\"9\\u002f10\",\"9\\u002f10\",\"9\\u002f10\",\"9\\u002f10\",\"9\\u002f10\",\"9\\u002f10\",\"9\\u002f10\",\"9\\u002f10\",\"9\\u002f10\",\"9\\u002f10\",\"9\\u002f10\",\"9\\u002f10\",\"9\\u002f10\",\"9\\u002f10\",\"9\\u002f10\",\"9\\u002f10\",\"9\\u002f10\",\"9\\u002f10\",\"9\\u002f10\",\"9\\u002f10\",\"9\\u002f10\",\"9\\u002f10\",\"9\\u002f10\",\"9\\u002f10\",\"9\\u002f10\",\"9\\u002f10\",\"9\\u002f10\",\"9\\u002f10\",\"9\\u002f10\",\"9\\u002f10\",\"9\\u002f10\",\"9\\u002f10\",\"9\\u002f10\",\"9\\u002f10\",\"9\\u002f10\",\"9\\u002f10\",\"9\\u002f10\",\"9\\u002f10\",\"9\\u002f10\",\"9\\u002f10\",\"9\\u002f10\",\"9\\u002f10\",\"9\\u002f10\",\"9\\u002f10\",\"9\\u002f10\",\"9\\u002f10\",\"9\\u002f10\",\"9\\u002f10\",\"9\\u002f10\",\"9\\u002f10\",\"9\\u002f10\",\"9\\u002f10\",\"9\\u002f10\",\"9\\u002f10\",\"9\\u002f10\",\"9\\u002f10\",\"9\\u002f10\",\"9\\u002f10\",\"9\\u002f10\",\"9\\u002f10\",\"9\\u002f10\",\"9\\u002f10\",\"9\\u002f10\",\"9\\u002f10\",\"9\\u002f10\",\"9\\u002f10\",\"9\\u002f10\",\"9\\u002f10\",\"9\\u002f10\",\"9\\u002f10\",\"9\\u002f10\",\"9\\u002f10\",\"9\\u002f10\",\"9\\u002f10\",\"9\\u002f10\",\"9\\u002f10\",\"9\\u002f10\",\"9\\u002f10\",\"9\\u002f10\",\"9\\u002f10\",\"9\\u002f10\",\"9\\u002f10\",\"9\\u002f10\",\"9\\u002f10\",\"9\\u002f10\",\"9\\u002f10\",\"9\\u002f10\",\"9\\u002f10\",\"9\\u002f10\",\"9\\u002f10\",\"9\\u002f10\",\"9\\u002f10\",\"9\\u002f10\",\"9\\u002f10\",\"9\\u002f10\",\"9\\u002f10\",\"9\\u002f10\",\"9\\u002f10\",\"9\\u002f10\",\"9\\u002f10\",\"9\\u002f10\",\"9\\u002f10\",\"9\\u002f10\",\"9\\u002f10\",\"9\\u002f10\",\"9\\u002f10\",\"9\\u002f10\",\"9\\u002f10\",\"9\\u002f10\",\"9\\u002f10\",\"9\\u002f10\",\"9\\u002f10\",\"9\\u002f10\",\"9\\u002f10\",\"9\\u002f10\",\"9\\u002f10\",\"9\\u002f10\",\"9\\u002f10\",\"9\\u002f10\",\"9\\u002f10\",\"9\\u002f10\",\"9\\u002f10\",\"9\\u002f10\",\"9\\u002f10\",\"9\\u002f10\",\"9\\u002f10\",\"9\\u002f10\",\"9\\u002f10\",\"9\\u002f10\",\"9\\u002f10\",\"9\\u002f10\",\"9\\u002f10\",\"9\\u002f10\",\"9\\u002f10\",\"9\\u002f10\",\"9\\u002f10\",\"9\\u002f10\",\"9\\u002f10\",\"9\\u002f10\",\"9\\u002f10\",\"9\\u002f10\",\"9\\u002f10\",\"9\\u002f10\",\"9\\u002f10\",\"9\\u002f10\",\"9\\u002f10\",\"9\\u002f10\",\"9\\u002f10\",\"9\\u002f10\",\"9\\u002f10\",\"9\\u002f10\",\"9\\u002f10\",\"9\\u002f10\",\"9\\u002f10\",\"9\\u002f10\",\"9\\u002f10\",\"9\\u002f10\",\"9\\u002f10\",\"9\\u002f10\",\"9\\u002f10\",\"9\\u002f10\",\"9\\u002f10\",\"9\\u002f10\",\"9\\u002f10\",\"9\\u002f10\",\"9\\u002f10\",\"9\\u002f10\",\"9\\u002f10\",\"9\\u002f10\",\"9\\u002f10\",\"9\\u002f10\",\"9\\u002f10\",\"9\\u002f10\",\"9\\u002f10\",\"9\\u002f10\",\"9\\u002f10\",\"9\\u002f10\",\"9\\u002f10\",\"9\\u002f10\",\"9\\u002f10\",\"9\\u002f10\",\"9\\u002f10\",\"9\\u002f10\",\"9\\u002f10\",\"9\\u002f10\",\"9\\u002f10\",\"9\\u002f10\",\"9\\u002f10\",\"9\\u002f10\",\"9\\u002f10\",\"9\\u002f10\",\"9\\u002f10\",\"9\\u002f10\",\"9\\u002f10\",\"9\\u002f10\",\"9\\u002f10\",\"9\\u002f10\",\"9\\u002f10\",\"9\\u002f10\",\"9\\u002f10\",\"9\\u002f10\",\"9\\u002f10\",\"9\\u002f10\",\"9\\u002f10\",\"9\\u002f10\",\"9\\u002f10\",\"9\\u002f10\",\"9\\u002f10\",\"9\\u002f10\",\"9\\u002f10\",\"9\\u002f10\",\"9\\u002f10\",\"9\\u002f10\",\"9\\u002f10\",\"9\\u002f10\",\"9\\u002f10\",\"9\\u002f10\",\"9\\u002f10\",\"9\\u002f10\",\"9\\u002f10\",\"9\\u002f10\",\"9\\u002f10\",\"9\\u002f10\",\"9\\u002f10\",\"9\\u002f10\",\"9\\u002f10\",\"9\\u002f10\",\"9\\u002f10\",\"9\\u002f10\",\"9\\u002f10\",\"9\\u002f10\",\"9\\u002f10\",\"9\\u002f10\",\"9\\u002f10\",\"9\\u002f10\",\"9\\u002f10\",\"9\\u002f10\",\"9\\u002f10\",\"9\\u002f10\",\"9\\u002f10\",\"9\\u002f10\",\"9\\u002f10\",\"9\\u002f10\",\"9\\u002f10\",\"9\\u002f10\",\"9\\u002f10\",\"9\\u002f10\",\"9\\u002f10\",\"9\\u002f10\",\"9\\u002f10\",\"9\\u002f10\",\"9\\u002f10\",\"9\\u002f10\",\"9\\u002f10\",\"9\\u002f10\",\"9\\u002f10\",\"9\\u002f10\",\"9\\u002f10\",\"9\\u002f10\",\"9\\u002f10\",\"9\\u002f10\",\"9\\u002f10\",\"9\\u002f10\",\"9\\u002f10\",\"9\\u002f10\",\"9\\u002f10\",\"9\\u002f10\",\"9\\u002f10\",\"9\\u002f10\",\"9\\u002f10\",\"9\\u002f10\",\"9\\u002f10\",\"9\\u002f10\",\"9\\u002f10\",\"9\\u002f10\",\"9\\u002f10\",\"9\\u002f10\",\"9\\u002f10\",\"9\\u002f10\",\"9\\u002f10\",\"9\\u002f10\",\"9\\u002f10\",\"9\\u002f10\",\"9\\u002f10\",\"9\\u002f10\",\"9\\u002f10\",\"9\\u002f10\",\"9\\u002f10\",\"9\\u002f10\",\"9\\u002f10\",\"9\\u002f10\",\"9\\u002f10\",\"9\\u002f10\",\"9\\u002f10\",\"9\\u002f10\",\"9\\u002f10\",\"9\\u002f10\",\"9\\u002f10\",\"9\\u002f10\",\"9\\u002f10\",\"9\\u002f10\",\"9\\u002f10\",\"9\\u002f10\",\"9\\u002f10\",\"9\\u002f10\",\"9\\u002f10\",\"9\\u002f10\",\"9\\u002f10\",\"9\\u002f10\",\"9\\u002f10\",\"9\\u002f10\",\"9\\u002f10\",\"9\\u002f10\",\"9\\u002f10\",\"9\\u002f10\",\"9\\u002f10\",\"9\\u002f10\",\"9\\u002f10\",\"9\\u002f10\",\"9\\u002f10\",\"9\\u002f10\",\"9\\u002f10\",\"9\\u002f10\",\"9\\u002f10\",\"9\\u002f10\",\"9\\u002f10\",\"9\\u002f10\",\"9\\u002f10\",\"9\\u002f10\",\"9\\u002f10\",\"9\\u002f10\",\"9\\u002f10\",\"9\\u002f10\",\"9\\u002f10\",\"9\\u002f10\",\"9\\u002f10\",\"9\\u002f10\",\"9\\u002f10\",\"9\\u002f10\",\"9\\u002f10\",\"9\\u002f10\",\"9\\u002f10\",\"9\\u002f10\",\"9\\u002f10\",\"9\\u002f10\",\"9\\u002f10\",\"9\\u002f10\",\"9\\u002f10\",\"9\\u002f10\",\"9\\u002f10\",\"9\\u002f10\",\"9\\u002f10\",\"9\\u002f10\",\"9\\u002f10\",\"9\\u002f10\",\"9\\u002f10\",\"9\\u002f10\",\"9\\u002f10\",\"9\\u002f10\",\"9\\u002f10\",\"9\\u002f10\",\"9\\u002f10\",\"9\\u002f10\",\"9\\u002f10\",\"9\\u002f10\",\"9\\u002f10\",\"9\\u002f10\",\"9\\u002f10\",\"9\\u002f10\",\"9\\u002f10\",\"9\\u002f10\",\"9\\u002f10\",\"9\\u002f10\",\"9\\u002f10\",\"9\\u002f10\",\"9\\u002f10\",\"9\\u002f10\",\"9\\u002f10\",\"9\\u002f10\",\"9\\u002f10\",\"9\\u002f10\",\"9\\u002f10\",\"9\\u002f10\",\"9\\u002f10\",\"9\\u002f10\",\"9\\u002f10\",\"9\\u002f10\",\"9\\u002f10\",\"9\\u002f10\",\"9\\u002f10\",\"9\\u002f10\",\"9\\u002f10\",\"9\\u002f10\",\"9\\u002f10\",\"9\\u002f10\",\"9\\u002f10\",\"9\\u002f10\",\"9\\u002f10\",\"9\\u002f10\",\"9\\u002f10\",\"9\\u002f10\",\"9\\u002f10\",\"9\\u002f10\",\"9\\u002f10\",\"9\\u002f10\",\"9\\u002f10\",\"9\\u002f10\",\"9\\u002f10\",\"9\\u002f10\",\"9\\u002f10\",\"9\\u002f10\",\"9\\u002f10\",\"9\\u002f10\",\"9\\u002f10\",\"9\\u002f10\",\"9\\u002f10\",\"9\\u002f10\",\"9\\u002f10\",\"9\\u002f10\",\"9\\u002f10\",\"9\\u002f10\",\"9\\u002f10\",\"9\\u002f10\",\"9\\u002f10\",\"9\\u002f10\",\"9\\u002f10\",\"9\\u002f10\",\"9\\u002f10\",\"9\\u002f10\",\"9\\u002f10\",\"9\\u002f10\",\"9\\u002f10\",\"9\\u002f10\",\"9\\u002f10\",\"9\\u002f10\",\"9\\u002f10\",\"9\\u002f10\",\"9\\u002f10\",\"9\\u002f10\",\"9\\u002f10\",\"9\\u002f10\",\"9\\u002f10\",\"9\\u002f10\",\"9\\u002f10\",\"9\\u002f10\",\"9\\u002f10\",\"9\\u002f10\",\"9\\u002f10\",\"9\\u002f10\",\"9\\u002f10\",\"9\\u002f10\",\"9\\u002f10\",\"9\\u002f10\",\"9\\u002f10\",\"9\\u002f10\",\"9\\u002f10\",\"9\\u002f10\",\"9\\u002f10\",\"9\\u002f10\",\"9\\u002f10\",\"9\\u002f10\",\"9\\u002f10\",\"9\\u002f10\",\"9\\u002f10\",\"9\\u002f10\",\"9\\u002f10\",\"9\\u002f10\",\"9\\u002f10\",\"9\\u002f10\",\"9\\u002f10\",\"9\\u002f10\",\"9\\u002f10\",\"9\\u002f10\",\"9\\u002f10\",\"9\\u002f10\",\"9\\u002f10\",\"9\\u002f10\",\"9\\u002f10\",\"9\\u002f10\",\"9\\u002f10\",\"9\\u002f10\",\"9\\u002f10\",\"9\\u002f10\",\"9\\u002f10\",\"9\\u002f10\",\"9\\u002f10\",\"9\\u002f10\",\"9\\u002f10\",\"9\\u002f10\",\"9\\u002f10\",\"9\\u002f10\",\"9\\u002f10\",\"9\\u002f10\",\"9\\u002f10\",\"9\\u002f10\",\"9\\u002f10\",\"9\\u002f10\",\"9\\u002f10\",\"9\\u002f10\",\"9\\u002f10\",\"9\\u002f10\",\"9\\u002f10\",\"9\\u002f10\",\"9\\u002f10\",\"9\\u002f10\",\"9\\u002f10\",\"9\\u002f10\",\"9\\u002f10\",\"9\\u002f10\",\"9\\u002f10\",\"9\\u002f10\",\"9\\u002f10\",\"9\\u002f10\",\"9\\u002f10\",\"9\\u002f10\",\"9\\u002f10\",\"9\\u002f10\",\"9\\u002f10\",\"9\\u002f10\",\"9\\u002f10\",\"9\\u002f10\",\"9\\u002f10\",\"9\\u002f10\",\"9\\u002f10\",\"9\\u002f10\",\"9\\u002f10\",\"9\\u002f10\",\"9\\u002f10\",\"9\\u002f10\",\"9\\u002f10\",\"9\\u002f10\",\"9\\u002f10\",\"9\\u002f10\",\"9\\u002f10\",\"9\\u002f10\",\"9\\u002f10\",\"9\\u002f10\",\"9\\u002f10\",\"9\\u002f10\",\"9\\u002f10\",\"9\\u002f10\",\"9\\u002f10\",\"9\\u002f10\",\"9\\u002f10\",\"9\\u002f10\",\"9\\u002f10\",\"9\\u002f10\",\"9\\u002f10\",\"9\\u002f10\",\"9\\u002f10\",\"9\\u002f10\",\"9\\u002f10\",\"9\\u002f10\",\"9\\u002f10\",\"9\\u002f10\",\"9\\u002f10\",\"9\\u002f10\",\"9\\u002f10\",\"9\\u002f10\",\"9\\u002f10\",\"9\\u002f10\",\"9\\u002f10\",\"9\\u002f10\",\"9\\u002f10\",\"9\\u002f10\",\"9\\u002f10\",\"9\\u002f10\",\"9\\u002f10\",\"9\\u002f10\",\"9\\u002f10\",\"9\\u002f10\",\"9\\u002f10\",\"9\\u002f10\",\"9\\u002f10\",\"9\\u002f10\",\"9\\u002f10\",\"9\\u002f10\",\"9\\u002f10\",\"9\\u002f10\",\"9\\u002f10\",\"9\\u002f10\",\"9\\u002f10\",\"9\\u002f10\",\"9\\u002f10\",\"9\\u002f10\",\"9\\u002f10\",\"9\\u002f10\",\"9\\u002f10\",\"9\\u002f10\",\"9\\u002f10\",\"9\\u002f10\",\"9\\u002f10\",\"9\\u002f10\",\"9\\u002f10\",\"9\\u002f10\",\"9\\u002f10\",\"9\\u002f10\",\"9\\u002f10\",\"9\\u002f10\",\"9\\u002f10\",\"9\\u002f10\",\"9\\u002f10\",\"9\\u002f10\",\"9\\u002f10\",\"9\\u002f10\",\"9\\u002f10\",\"9\\u002f10\",\"9\\u002f10\",\"9\\u002f10\",\"9\\u002f10\",\"9\\u002f10\",\"9\\u002f10\",\"9\\u002f10\",\"9\\u002f10\",\"9\\u002f10\",\"9\\u002f10\",\"9\\u002f10\",\"9\\u002f10\",\"9\\u002f10\",\"9\\u002f10\",\"9\\u002f10\",\"9\\u002f10\",\"9\\u002f10\",\"9\\u002f10\",\"9\\u002f10\",\"9\\u002f10\",\"9\\u002f10\",\"9\\u002f10\",\"9\\u002f10\",\"9\\u002f10\",\"9\\u002f10\",\"9\\u002f10\",\"9\\u002f10\",\"9\\u002f10\",\"9\\u002f10\",\"9\\u002f10\",\"9\\u002f10\",\"9\\u002f10\",\"9\\u002f10\",\"9\\u002f10\",\"9\\u002f10\",\"9\\u002f10\",\"9\\u002f10\",\"9\\u002f10\",\"9\\u002f10\",\"9\\u002f10\",\"9\\u002f10\",\"9\\u002f10\",\"9\\u002f10\",\"9\\u002f10\",\"9\\u002f10\",\"9\\u002f10\",\"9\\u002f10\",\"9\\u002f10\",\"9\\u002f10\",\"9\\u002f10\",\"9\\u002f10\",\"9\\u002f10\",\"9\\u002f10\",\"9\\u002f10\",\"9\\u002f10\",\"9\\u002f10\",\"9\\u002f10\",\"9\\u002f10\",\"9\\u002f10\",\"9\\u002f10\",\"9\\u002f10\",\"9\\u002f10\",\"9\\u002f10\",\"9\\u002f10\",\"9\\u002f10\",\"9\\u002f10\",\"9\\u002f10\",\"9\\u002f10\",\"9\\u002f10\",\"9\\u002f10\",\"9\\u002f10\",\"9\\u002f10\",\"9\\u002f10\",\"9\\u002f10\",\"9\\u002f10\",\"9\\u002f10\",\"9\\u002f10\",\"9\\u002f10\",\"9\\u002f10\",\"9\\u002f10\",\"9\\u002f10\",\"9\\u002f10\",\"9\\u002f10\",\"9\\u002f10\",\"9\\u002f10\",\"9\\u002f10\",\"9\\u002f10\",\"9\\u002f10\",\"9\\u002f10\",\"9\\u002f10\",\"9\\u002f10\",\"9\\u002f10\",\"9\\u002f10\",\"9\\u002f10\",\"9\\u002f10\",\"9\\u002f10\",\"9\\u002f10\",\"9\\u002f10\",\"9\\u002f10\",\"9\\u002f10\",\"9\\u002f10\",\"9\\u002f10\",\"9\\u002f10\",\"9\\u002f10\",\"9\\u002f10\",\"9\\u002f10\",\"9\\u002f10\",\"9\\u002f10\",\"9\\u002f10\",\"9\\u002f10\",\"9\\u002f10\",\"9\\u002f10\",\"9\\u002f10\",\"9\\u002f10\",\"9\\u002f10\",\"9\\u002f10\",\"9\\u002f10\",\"9\\u002f10\",\"9\\u002f10\",\"9\\u002f10\",\"9\\u002f10\",\"9\\u002f10\",\"9\\u002f10\",\"9\\u002f10\",\"9\\u002f10\",\"9\\u002f10\",\"9\\u002f10\",\"9\\u002f10\",\"9\\u002f10\",\"9\\u002f10\",\"9\\u002f10\",\"9\\u002f10\",\"9\\u002f10\",\"9\\u002f10\",\"9\\u002f10\",\"9\\u002f10\",\"9\\u002f10\",\"9\\u002f10\",\"9\\u002f10\",\"9\\u002f10\",\"9\\u002f10\",\"9\\u002f10\",\"9\\u002f10\",\"9\\u002f10\",\"9\\u002f10\",\"9\\u002f10\",\"9\\u002f10\",\"9\\u002f10\",\"9\\u002f10\",\"9\\u002f10\",\"9\\u002f10\",\"9\\u002f10\",\"9\\u002f10\",\"9\\u002f10\",\"9\\u002f10\",\"9\\u002f10\",\"9\\u002f10\",\"9\\u002f10\",\"9\\u002f10\",\"9\\u002f10\",\"9\\u002f10\",\"9\\u002f10\",\"9\\u002f10\",\"9\\u002f10\",\"9\\u002f10\",\"9\\u002f10\",\"9\\u002f10\",\"9\\u002f10\",\"9\\u002f10\",\"9\\u002f10\",\"9\\u002f10\",\"9\\u002f10\",\"9\\u002f10\",\"9\\u002f10\",\"9\\u002f10\",\"9\\u002f10\",\"9\\u002f10\",\"9\\u002f10\",\"9\\u002f10\",\"9\\u002f10\",\"9\\u002f10\",\"9\\u002f10\",\"9\\u002f10\",\"9\\u002f10\",\"9\\u002f10\",\"9\\u002f10\",\"9\\u002f10\",\"9\\u002f10\",\"9\\u002f10\",\"9\\u002f10\",\"9\\u002f10\",\"9\\u002f10\",\"9\\u002f10\",\"9\\u002f10\",\"9\\u002f10\",\"9\\u002f10\",\"9\\u002f10\",\"9\\u002f10\",\"9\\u002f10\",\"9\\u002f10\",\"9\\u002f10\",\"9\\u002f10\",\"9\\u002f10\",\"9\\u002f10\",\"9\\u002f10\",\"9\\u002f10\",\"9\\u002f10\",\"9\\u002f10\",\"9\\u002f10\",\"9\\u002f10\",\"9\\u002f10\",\"9\\u002f10\",\"9\\u002f10\",\"9\\u002f10\",\"9\\u002f10\",\"9\\u002f10\",\"9\\u002f10\",\"9\\u002f10\",\"9\\u002f10\",\"9\\u002f10\",\"9\\u002f10\",\"9\\u002f10\",\"9\\u002f10\",\"9\\u002f10\",\"9\\u002f10\",\"9\\u002f10\",\"9\\u002f10\",\"9\\u002f10\",\"9\\u002f10\",\"9\\u002f10\",\"9\\u002f10\",\"9\\u002f10\",\"9\\u002f10\",\"9\\u002f10\",\"9\\u002f10\",\"9\\u002f10\",\"9\\u002f10\",\"9\\u002f10\",\"9\\u002f10\",\"9\\u002f10\",\"9\\u002f10\",\"9\\u002f10\",\"9\\u002f10\",\"9\\u002f10\",\"9\\u002f10\",\"9\\u002f10\",\"9\\u002f10\",\"9\\u002f10\",\"9\\u002f10\",\"9\\u002f10\",\"9\\u002f10\",\"9\\u002f10\",\"9\\u002f10\",\"9\\u002f10\",\"9\\u002f10\",\"9\\u002f10\",\"9\\u002f10\",\"9\\u002f10\",\"9\\u002f10\",\"9\\u002f10\",\"9\\u002f10\",\"9\\u002f10\",\"9\\u002f10\",\"9\\u002f10\",\"9\\u002f10\",\"9\\u002f10\",\"9\\u002f10\",\"9\\u002f10\",\"9\\u002f10\",\"9\\u002f10\",\"9\\u002f10\",\"9\\u002f10\",\"9\\u002f10\",\"9\\u002f10\",\"9\\u002f10\",\"9\\u002f10\",\"9\\u002f10\",\"9\\u002f10\",\"9\\u002f10\",\"9\\u002f10\",\"9\\u002f10\",\"9\\u002f10\",\"9\\u002f10\",\"9\\u002f10\",\"9\\u002f10\",\"9\\u002f10\",\"9\\u002f10\",\"9\\u002f10\",\"9\\u002f10\",\"9\\u002f10\",\"9\\u002f10\",\"9\\u002f10\",\"9\\u002f10\",\"9\\u002f10\",\"9\\u002f10\",\"9\\u002f10\",\"9\\u002f10\",\"9\\u002f10\",\"9\\u002f10\",\"9\\u002f10\",\"9\\u002f10\",\"9\\u002f10\",\"9\\u002f10\",\"9\\u002f10\",\"9\\u002f10\",\"9\\u002f10\",\"9\\u002f10\",\"9\\u002f10\",\"9\\u002f10\",\"9\\u002f10\",\"9\\u002f10\",\"9\\u002f10\",\"9\\u002f10\",\"9\\u002f10\",\"9\\u002f10\",\"9\\u002f10\",\"9\\u002f10\",\"9\\u002f10\",\"9\\u002f10\",\"9\\u002f10\",\"9\\u002f10\",\"9\\u002f10\",\"9\\u002f10\",\"9\\u002f10\",\"9\\u002f10\",\"9\\u002f10\",\"9\\u002f10\",\"9\\u002f10\",\"9\\u002f10\",\"9\\u002f10\",\"9\\u002f10\",\"9\\u002f10\",\"9\\u002f10\",\"9\\u002f10\",\"9\\u002f10\",\"9\\u002f10\",\"9\\u002f10\",\"9\\u002f10\",\"9\\u002f10\",\"9\\u002f10\",\"9\\u002f10\",\"9\\u002f10\",\"9\\u002f10\",\"9\\u002f10\",\"9\\u002f10\",\"9\\u002f10\",\"9\\u002f10\",\"9\\u002f10\",\"9\\u002f10\",\"9\\u002f10\",\"9\\u002f10\",\"9\\u002f10\",\"9\\u002f10\",\"9\\u002f10\",\"9\\u002f10\",\"9\\u002f10\",\"9\\u002f10\",\"9\\u002f10\",\"9\\u002f10\",\"9\\u002f10\",\"9\\u002f10\",\"9\\u002f10\",\"9\\u002f10\",\"9\\u002f10\",\"9\\u002f10\",\"9\\u002f10\",\"9\\u002f10\",\"9\\u002f10\",\"9\\u002f10\",\"9\\u002f10\",\"9\\u002f10\",\"9\\u002f10\",\"9\\u002f10\",\"9\\u002f10\",\"9\\u002f10\",\"9\\u002f10\",\"9\\u002f10\",\"9\\u002f10\",\"9\\u002f10\",\"9\\u002f10\",\"9\\u002f10\",\"9\\u002f10\",\"9\\u002f10\",\"9\\u002f10\",\"9\\u002f10\",\"9\\u002f10\",\"9\\u002f10\",\"9\\u002f10\",\"9\\u002f10\",\"9\\u002f10\",\"9\\u002f10\",\"9\\u002f10\",\"9\\u002f10\",\"9\\u002f10\",\"9\\u002f10\",\"9\\u002f10\",\"9\\u002f10\",\"9\\u002f10\",\"9\\u002f10\",\"9\\u002f10\",\"9\\u002f10\",\"9\\u002f10\",\"9\\u002f10\",\"9\\u002f10\",\"9\\u002f10\",\"9\\u002f10\",\"9\\u002f10\",\"9\\u002f10\",\"9\\u002f10\",\"9\\u002f10\",\"9\\u002f10\",\"9\\u002f10\",\"9\\u002f10\",\"9\\u002f10\",\"9\\u002f10\",\"9\\u002f10\",\"9\\u002f10\",\"9\\u002f10\",\"9\\u002f10\",\"9\\u002f10\",\"9\\u002f10\",\"9\\u002f10\",\"9\\u002f10\",\"9\\u002f10\",\"9\\u002f10\",\"9\\u002f10\",\"9\\u002f10\",\"9\\u002f10\",\"9\\u002f10\",\"9\\u002f10\",\"9\\u002f10\",\"9\\u002f10\",\"9\\u002f10\",\"9\\u002f10\",\"9\\u002f10\",\"9\\u002f10\",\"9\\u002f10\",\"9\\u002f10\",\"9\\u002f10\",\"9\\u002f10\",\"9\\u002f10\",\"9\\u002f10\",\"9\\u002f10\",\"9\\u002f10\",\"9\\u002f10\",\"9\\u002f10\",\"9\\u002f10\",\"9\\u002f10\",\"9\\u002f10\",\"9\\u002f10\",\"9\\u002f10\",\"9\\u002f10\",\"9\\u002f10\",\"9\\u002f10\",\"9\\u002f10\",\"9\\u002f10\",\"9\\u002f10\",\"9\\u002f10\",\"9\\u002f10\",\"9\\u002f10\",\"9\\u002f10\",\"9\\u002f10\",\"9\\u002f10\",\"9\\u002f10\",\"9\\u002f10\",\"9\\u002f10\",\"9\\u002f10\",\"9\\u002f10\",\"9\\u002f10\",\"9\\u002f10\",\"9\\u002f10\",\"9\\u002f10\",\"9\\u002f10\",\"9\\u002f10\",\"9\\u002f10\",\"9\\u002f10\",\"9\\u002f10\",\"9\\u002f10\",\"9\\u002f10\",\"9\\u002f10\",\"9\\u002f10\",\"9\\u002f10\",\"9\\u002f10\",\"9\\u002f10\",\"9\\u002f10\",\"9\\u002f10\",\"9\\u002f10\",\"9\\u002f10\",\"9\\u002f10\",\"9\\u002f10\",\"9\\u002f10\",\"9\\u002f10\",\"9\\u002f10\",\"9\\u002f10\",\"9\\u002f10\",\"9\\u002f10\",\"9\\u002f10\",\"9\\u002f10\",\"9\\u002f10\",\"9\\u002f10\",\"9\\u002f10\",\"9\\u002f10\",\"9\\u002f10\",\"9\\u002f10\",\"9\\u002f10\",\"9\\u002f10\",\"9\\u002f10\",\"9\\u002f10\",\"9\\u002f10\",\"9\\u002f10\",\"9\\u002f10\",\"9\\u002f10\",\"9\\u002f10\",\"9\\u002f10\",\"9\\u002f10\",\"9\\u002f10\",\"9\\u002f10\",\"9\\u002f10\",\"9\\u002f10\",\"9\\u002f10\",\"9\\u002f10\",\"9\\u002f10\",\"9\\u002f10\",\"9\\u002f10\",\"9\\u002f10\",\"9\\u002f10\",\"9\\u002f10\",\"9\\u002f10\",\"9\\u002f10\",\"9\\u002f10\",\"9\\u002f10\",\"9\\u002f10\",\"9\\u002f10\",\"9\\u002f10\",\"9\\u002f10\",\"9\\u002f10\",\"9\\u002f10\",\"9\\u002f10\",\"9\\u002f10\",\"9\\u002f10\",\"9\\u002f10\",\"9\\u002f10\",\"9\\u002f10\",\"9\\u002f10\",\"9\\u002f10\",\"9\\u002f10\",\"9\\u002f10\",\"9\\u002f10\",\"9\\u002f10\",\"9\\u002f10\",\"9\\u002f10\",\"9\\u002f10\",\"9\\u002f10\",\"9\\u002f10\",\"9\\u002f10\",\"9\\u002f10\",\"9\\u002f10\",\"9\\u002f10\",\"9\\u002f10\",\"9\\u002f10\",\"9\\u002f10\",\"9\\u002f10\",\"9\\u002f10\",\"9\\u002f10\",\"9\\u002f10\",\"9\\u002f10\",\"9\\u002f10\",\"9\\u002f10\",\"9\\u002f10\",\"9\\u002f10\",\"9\\u002f10\",\"9\\u002f10\",\"9\\u002f10\",\"9\\u002f10\",\"9\\u002f10\",\"9\\u002f10\",\"9\\u002f10\",\"9\\u002f10\",\"9\\u002f10\",\"9\\u002f10\",\"9\\u002f10\",\"9\\u002f10\",\"9\\u002f10\",\"9\\u002f10\",\"9\\u002f10\",\"9\\u002f10\",\"9\\u002f10\",\"9\\u002f10\",\"9\\u002f10\",\"9\\u002f10\",\"9\\u002f10\",\"9\\u002f10\",\"9\\u002f10\",\"9\\u002f10\",\"9\\u002f10\",\"9\\u002f10\",\"9\\u002f10\",\"9\\u002f10\",\"9\\u002f10\",\"9\\u002f10\",\"9\\u002f10\",\"9\\u002f10\",\"9\\u002f10\",\"9\\u002f10\",\"9\\u002f10\",\"9\\u002f10\",\"9\\u002f10\",\"9\\u002f10\",\"9\\u002f10\",\"9\\u002f10\",\"9\\u002f10\",\"9\\u002f10\",\"9\\u002f10\",\"9\\u002f10\",\"9\\u002f10\",\"9\\u002f10\",\"9\\u002f10\",\"9\\u002f10\",\"9\\u002f10\",\"9\\u002f10\",\"9\\u002f10\",\"9\\u002f10\",\"9\\u002f10\",\"9\\u002f10\",\"9\\u002f10\",\"9\\u002f10\",\"9\\u002f10\",\"9\\u002f10\",\"9\\u002f10\",\"9\\u002f10\",\"9\\u002f10\",\"9\\u002f10\",\"9\\u002f10\",\"9\\u002f10\",\"9\\u002f10\",\"9\\u002f10\",\"9\\u002f10\",\"9\\u002f10\",\"9\\u002f10\",\"9\\u002f10\",\"9\\u002f10\",\"9\\u002f10\",\"9\\u002f10\",\"9\\u002f10\",\"9\\u002f10\",\"9\\u002f10\",\"9\\u002f10\",\"9\\u002f10\",\"9\\u002f10\",\"9\\u002f10\",\"9\\u002f10\",\"9\\u002f10\",\"9\\u002f10\",\"9\\u002f10\",\"9\\u002f10\",\"9\\u002f10\",\"9\\u002f10\",\"9\\u002f10\",\"9\\u002f10\",\"9\\u002f10\",\"9\\u002f10\",\"9\\u002f10\",\"9\\u002f10\",\"9\\u002f10\",\"9\\u002f10\",\"9\\u002f10\",\"9\\u002f10\",\"9\\u002f10\",\"9\\u002f10\",\"9\\u002f10\",\"9\\u002f10\",\"9\\u002f10\",\"9\\u002f10\",\"9\\u002f10\",\"9\\u002f10\",\"9\\u002f10\",\"9\\u002f10\",\"9\\u002f10\",\"9\\u002f10\",\"9\\u002f10\",\"9\\u002f10\",\"9\\u002f10\",\"9\\u002f10\",\"9\\u002f10\",\"9\\u002f10\",\"9\\u002f10\",\"9\\u002f10\",\"9\\u002f10\",\"9\\u002f10\",\"9\\u002f10\",\"9\\u002f10\",\"9\\u002f10\",\"9\\u002f10\",\"9\\u002f10\",\"9\\u002f10\",\"9\\u002f10\",\"9\\u002f10\",\"9\\u002f10\",\"9\\u002f10\",\"9\\u002f10\",\"9\\u002f10\",\"9\\u002f10\",\"9\\u002f10\",\"9\\u002f10\",\"9\\u002f10\",\"9\\u002f10\",\"9\\u002f10\",\"9\\u002f10\",\"9\\u002f10\",\"9\\u002f10\",\"9\\u002f10\",\"9\\u002f10\",\"9\\u002f10\",\"9\\u002f10\",\"9\\u002f10\",\"9\\u002f10\",\"9\\u002f10\",\"9\\u002f10\",\"9\\u002f10\",\"9\\u002f10\",\"9\\u002f10\",\"9\\u002f10\",\"9\\u002f10\",\"9\\u002f10\",\"9\\u002f10\",\"9\\u002f10\",\"9\\u002f10\",\"9\\u002f10\",\"9\\u002f10\",\"9\\u002f10\",\"9\\u002f10\",\"9\\u002f10\",\"9\\u002f10\",\"9\\u002f10\",\"9\\u002f10\",\"9\\u002f10\",\"9\\u002f10\",\"9\\u002f10\",\"9\\u002f10\",\"9\\u002f10\",\"9\\u002f10\",\"9\\u002f10\",\"9\\u002f10\",\"9\\u002f10\",\"9\\u002f10\",\"9\\u002f10\",\"9\\u002f10\",\"9\\u002f10\",\"9\\u002f10\",\"9\\u002f10\",\"9\\u002f10\",\"9\\u002f10\",\"9\\u002f10\",\"9\\u002f10\",\"9\\u002f10\",\"9\\u002f10\",\"9\\u002f10\",\"9\\u002f10\",\"9\\u002f10\",\"9\\u002f10\",\"9\\u002f10\",\"9\\u002f10\",\"9\\u002f10\",\"9\\u002f10\",\"9\\u002f10\",\"9\\u002f10\",\"9\\u002f10\",\"9\\u002f10\",\"9\\u002f10\",\"9\\u002f10\",\"9\\u002f10\",\"9\\u002f10\",\"9\\u002f10\",\"9\\u002f10\",\"9\\u002f10\",\"9\\u002f10\",\"9\\u002f10\",\"9\\u002f10\",\"9\\u002f10\",\"9\\u002f10\",\"9\\u002f10\",\"9\\u002f10\",\"9\\u002f10\",\"9\\u002f10\",\"9\\u002f10\",\"9\\u002f10\",\"9\\u002f10\",\"9\\u002f10\",\"9\\u002f10\",\"9\\u002f10\",\"9\\u002f10\",\"9\\u002f10\",\"9\\u002f10\",\"9\\u002f10\",\"9\\u002f10\",\"9\\u002f10\",\"9\\u002f10\",\"9\\u002f10\",\"9\\u002f10\",\"9\\u002f10\",\"9\\u002f10\",\"9\\u002f10\",\"9\\u002f10\",\"9\\u002f10\",\"9\\u002f10\",\"9\\u002f10\",\"9\\u002f10\",\"9\\u002f10\",\"9\\u002f10\",\"9\\u002f10\",\"9\\u002f10\",\"9\\u002f10\",\"9\\u002f10\",\"9\\u002f10\",\"9\\u002f10\",\"9\\u002f10\",\"9\\u002f10\",\"9\\u002f10\",\"9\\u002f10\",\"9\\u002f10\",\"9\\u002f10\",\"9\\u002f10\",\"9\\u002f10\",\"9\\u002f10\",\"9\\u002f10\",\"9\\u002f10\",\"9\\u002f10\",\"9\\u002f10\",\"9\\u002f10\",\"9\\u002f10\",\"9\\u002f10\",\"9\\u002f10\",\"9\\u002f10\",\"9\\u002f10\",\"9\\u002f10\",\"9\\u002f10\",\"9\\u002f10\",\"9\\u002f10\",\"9\\u002f10\",\"9\\u002f10\",\"9\\u002f10\",\"9\\u002f10\",\"9\\u002f10\",\"9\\u002f10\",\"9\\u002f10\",\"9\\u002f10\",\"9\\u002f10\",\"9\\u002f10\",\"9\\u002f10\",\"9\\u002f10\",\"9\\u002f10\",\"9\\u002f10\",\"9\\u002f10\",\"9\\u002f10\",\"9\\u002f10\",\"9\\u002f10\",\"9\\u002f10\",\"9\\u002f10\",\"9\\u002f10\",\"9\\u002f10\",\"9\\u002f10\",\"9\\u002f10\",\"9\\u002f10\",\"9\\u002f10\",\"9\\u002f10\",\"9\\u002f10\",\"9\\u002f10\",\"9\\u002f10\",\"9\\u002f10\",\"9\\u002f10\",\"9\\u002f10\",\"9\\u002f10\",\"9\\u002f10\",\"9\\u002f10\",\"9\\u002f10\",\"9\\u002f10\",\"9\\u002f10\",\"9\\u002f10\",\"9\\u002f10\",\"9\\u002f10\",\"9\\u002f10\",\"9\\u002f10\",\"9\\u002f10\",\"9\\u002f10\",\"9\\u002f10\",\"9\\u002f10\",\"9\\u002f10\",\"9\\u002f10\",\"9\\u002f10\",\"9\\u002f10\",\"9\\u002f10\",\"9\\u002f10\",\"9\\u002f10\",\"9\\u002f10\",\"9\\u002f10\",\"9\\u002f10\",\"9\\u002f10\",\"9\\u002f10\",\"9\\u002f10\",\"9\\u002f10\",\"9\\u002f10\",\"9\\u002f10\",\"9\\u002f10\",\"9\\u002f10\",\"9\\u002f10\",\"9\\u002f10\",\"9\\u002f10\",\"9\\u002f10\",\"9\\u002f10\",\"9\\u002f10\",\"9\\u002f10\",\"9\\u002f10\",\"9\\u002f10\",\"9\\u002f10\",\"9\\u002f10\",\"9\\u002f10\",\"9\\u002f10\",\"9\\u002f10\",\"9\\u002f10\",\"9\\u002f10\",\"9\\u002f10\",\"9\\u002f10\",\"9\\u002f10\",\"9\\u002f10\",\"9\\u002f10\",\"9\\u002f10\",\"9\\u002f10\",\"9\\u002f10\",\"9\\u002f10\",\"9\\u002f10\",\"9\\u002f10\",\"9\\u002f10\",\"9\\u002f10\",\"9\\u002f10\",\"9\\u002f10\",\"9\\u002f10\",\"9\\u002f10\",\"9\\u002f10\",\"9\\u002f10\",\"9\\u002f10\",\"9\\u002f10\",\"9\\u002f10\",\"9\\u002f10\",\"9\\u002f10\",\"9\\u002f10\",\"9\\u002f10\",\"9\\u002f10\",\"9\\u002f10\",\"9\\u002f10\",\"9\\u002f10\",\"9\\u002f10\",\"9\\u002f10\",\"9\\u002f10\",\"9\\u002f10\",\"9\\u002f10\",\"9\\u002f10\",\"9\\u002f10\",\"9\\u002f10\",\"9\\u002f10\",\"9\\u002f10\",\"9\\u002f10\",\"9\\u002f10\",\"9\\u002f10\",\"9\\u002f10\",\"9\\u002f10\",\"9\\u002f10\",\"9\\u002f10\",\"9\\u002f10\",\"9\\u002f10\",\"9\\u002f10\",\"9\\u002f10\",\"9\\u002f10\",\"9\\u002f10\",\"9\\u002f10\",\"9\\u002f10\",\"9\\u002f10\",\"9\\u002f10\",\"9\\u002f10\",\"9\\u002f10\",\"9\\u002f10\",\"9\\u002f10\",\"9\\u002f10\",\"9\\u002f10\",\"9\\u002f10\",\"9\\u002f10\",\"9\\u002f10\",\"9\\u002f10\",\"9\\u002f10\",\"9\\u002f10\",\"9\\u002f10\",\"9\\u002f10\",\"9\\u002f10\",\"9\\u002f10\",\"9\\u002f10\",\"9\\u002f10\",\"9\\u002f10\",\"9\\u002f10\",\"9\\u002f10\",\"9\\u002f10\",\"9\\u002f10\",\"9\\u002f10\",\"9\\u002f10\",\"9\\u002f10\",\"9\\u002f10\",\"9\\u002f10\",\"9\\u002f10\",\"9\\u002f10\",\"9\\u002f10\",\"9\\u002f10\",\"9\\u002f10\",\"9\\u002f10\",\"9\\u002f10\",\"9\\u002f10\",\"9\\u002f10\",\"9\\u002f10\",\"9\\u002f10\",\"9\\u002f10\",\"9\\u002f10\",\"9\\u002f10\",\"9\\u002f10\",\"9\\u002f10\",\"9\\u002f10\",\"9\\u002f10\",\"9\\u002f10\"],\"xaxis\":\"x\",\"yaxis\":\"y\",\"type\":\"histogram\"},{\"alignmentgroup\":\"True\",\"bingroup\":\"x\",\"hovertemplate\":\"stars=%{x}\\u003cbr\\u003ecount=%{y}\\u003cextra\\u003e\\u003c\\u002fextra\\u003e\",\"legendgroup\":\"10\\u002f10\",\"marker\":{\"color\":\"#ab63fa\",\"pattern\":{\"shape\":\"\"}},\"name\":\"10\\u002f10\",\"offsetgroup\":\"10\\u002f10\",\"orientation\":\"v\",\"showlegend\":true,\"x\":[\"10\\u002f10\",\"10\\u002f10\",\"10\\u002f10\",\"10\\u002f10\",\"10\\u002f10\",\"10\\u002f10\",\"10\\u002f10\",\"10\\u002f10\",\"10\\u002f10\",\"10\\u002f10\",\"10\\u002f10\",\"10\\u002f10\",\"10\\u002f10\",\"10\\u002f10\",\"10\\u002f10\",\"10\\u002f10\",\"10\\u002f10\",\"10\\u002f10\",\"10\\u002f10\",\"10\\u002f10\",\"10\\u002f10\",\"10\\u002f10\",\"10\\u002f10\",\"10\\u002f10\",\"10\\u002f10\",\"10\\u002f10\",\"10\\u002f10\",\"10\\u002f10\",\"10\\u002f10\",\"10\\u002f10\",\"10\\u002f10\",\"10\\u002f10\",\"10\\u002f10\",\"10\\u002f10\",\"10\\u002f10\",\"10\\u002f10\",\"10\\u002f10\",\"10\\u002f10\",\"10\\u002f10\",\"10\\u002f10\",\"10\\u002f10\",\"10\\u002f10\",\"10\\u002f10\",\"10\\u002f10\",\"10\\u002f10\",\"10\\u002f10\",\"10\\u002f10\",\"10\\u002f10\",\"10\\u002f10\",\"10\\u002f10\",\"10\\u002f10\",\"10\\u002f10\",\"10\\u002f10\",\"10\\u002f10\",\"10\\u002f10\",\"10\\u002f10\",\"10\\u002f10\",\"10\\u002f10\",\"10\\u002f10\",\"10\\u002f10\",\"10\\u002f10\",\"10\\u002f10\",\"10\\u002f10\",\"10\\u002f10\",\"10\\u002f10\",\"10\\u002f10\",\"10\\u002f10\",\"10\\u002f10\",\"10\\u002f10\",\"10\\u002f10\",\"10\\u002f10\",\"10\\u002f10\",\"10\\u002f10\",\"10\\u002f10\",\"10\\u002f10\",\"10\\u002f10\",\"10\\u002f10\",\"10\\u002f10\",\"10\\u002f10\",\"10\\u002f10\",\"10\\u002f10\",\"10\\u002f10\",\"10\\u002f10\",\"10\\u002f10\",\"10\\u002f10\",\"10\\u002f10\",\"10\\u002f10\",\"10\\u002f10\",\"10\\u002f10\",\"10\\u002f10\",\"10\\u002f10\",\"10\\u002f10\",\"10\\u002f10\",\"10\\u002f10\",\"10\\u002f10\",\"10\\u002f10\",\"10\\u002f10\",\"10\\u002f10\",\"10\\u002f10\",\"10\\u002f10\",\"10\\u002f10\",\"10\\u002f10\",\"10\\u002f10\",\"10\\u002f10\",\"10\\u002f10\",\"10\\u002f10\",\"10\\u002f10\",\"10\\u002f10\",\"10\\u002f10\",\"10\\u002f10\",\"10\\u002f10\",\"10\\u002f10\",\"10\\u002f10\",\"10\\u002f10\",\"10\\u002f10\",\"10\\u002f10\",\"10\\u002f10\",\"10\\u002f10\",\"10\\u002f10\",\"10\\u002f10\",\"10\\u002f10\",\"10\\u002f10\",\"10\\u002f10\",\"10\\u002f10\",\"10\\u002f10\",\"10\\u002f10\",\"10\\u002f10\",\"10\\u002f10\",\"10\\u002f10\",\"10\\u002f10\",\"10\\u002f10\",\"10\\u002f10\",\"10\\u002f10\",\"10\\u002f10\",\"10\\u002f10\",\"10\\u002f10\",\"10\\u002f10\",\"10\\u002f10\",\"10\\u002f10\",\"10\\u002f10\",\"10\\u002f10\",\"10\\u002f10\",\"10\\u002f10\",\"10\\u002f10\",\"10\\u002f10\",\"10\\u002f10\",\"10\\u002f10\",\"10\\u002f10\",\"10\\u002f10\",\"10\\u002f10\",\"10\\u002f10\",\"10\\u002f10\",\"10\\u002f10\",\"10\\u002f10\",\"10\\u002f10\",\"10\\u002f10\",\"10\\u002f10\",\"10\\u002f10\",\"10\\u002f10\",\"10\\u002f10\",\"10\\u002f10\",\"10\\u002f10\",\"10\\u002f10\",\"10\\u002f10\",\"10\\u002f10\",\"10\\u002f10\",\"10\\u002f10\",\"10\\u002f10\",\"10\\u002f10\",\"10\\u002f10\",\"10\\u002f10\",\"10\\u002f10\",\"10\\u002f10\",\"10\\u002f10\",\"10\\u002f10\",\"10\\u002f10\",\"10\\u002f10\",\"10\\u002f10\",\"10\\u002f10\",\"10\\u002f10\",\"10\\u002f10\",\"10\\u002f10\",\"10\\u002f10\",\"10\\u002f10\",\"10\\u002f10\",\"10\\u002f10\",\"10\\u002f10\",\"10\\u002f10\",\"10\\u002f10\",\"10\\u002f10\",\"10\\u002f10\",\"10\\u002f10\",\"10\\u002f10\",\"10\\u002f10\",\"10\\u002f10\",\"10\\u002f10\",\"10\\u002f10\",\"10\\u002f10\",\"10\\u002f10\",\"10\\u002f10\",\"10\\u002f10\",\"10\\u002f10\",\"10\\u002f10\",\"10\\u002f10\",\"10\\u002f10\",\"10\\u002f10\",\"10\\u002f10\",\"10\\u002f10\",\"10\\u002f10\",\"10\\u002f10\",\"10\\u002f10\",\"10\\u002f10\",\"10\\u002f10\",\"10\\u002f10\",\"10\\u002f10\",\"10\\u002f10\",\"10\\u002f10\",\"10\\u002f10\",\"10\\u002f10\",\"10\\u002f10\",\"10\\u002f10\",\"10\\u002f10\",\"10\\u002f10\",\"10\\u002f10\",\"10\\u002f10\",\"10\\u002f10\",\"10\\u002f10\",\"10\\u002f10\",\"10\\u002f10\",\"10\\u002f10\",\"10\\u002f10\",\"10\\u002f10\",\"10\\u002f10\",\"10\\u002f10\",\"10\\u002f10\",\"10\\u002f10\",\"10\\u002f10\",\"10\\u002f10\",\"10\\u002f10\",\"10\\u002f10\",\"10\\u002f10\",\"10\\u002f10\",\"10\\u002f10\",\"10\\u002f10\",\"10\\u002f10\",\"10\\u002f10\",\"10\\u002f10\",\"10\\u002f10\",\"10\\u002f10\",\"10\\u002f10\",\"10\\u002f10\",\"10\\u002f10\",\"10\\u002f10\",\"10\\u002f10\",\"10\\u002f10\",\"10\\u002f10\",\"10\\u002f10\",\"10\\u002f10\",\"10\\u002f10\",\"10\\u002f10\",\"10\\u002f10\",\"10\\u002f10\",\"10\\u002f10\",\"10\\u002f10\",\"10\\u002f10\",\"10\\u002f10\",\"10\\u002f10\",\"10\\u002f10\",\"10\\u002f10\",\"10\\u002f10\",\"10\\u002f10\",\"10\\u002f10\",\"10\\u002f10\",\"10\\u002f10\",\"10\\u002f10\",\"10\\u002f10\",\"10\\u002f10\",\"10\\u002f10\",\"10\\u002f10\",\"10\\u002f10\",\"10\\u002f10\",\"10\\u002f10\",\"10\\u002f10\",\"10\\u002f10\",\"10\\u002f10\",\"10\\u002f10\",\"10\\u002f10\",\"10\\u002f10\",\"10\\u002f10\",\"10\\u002f10\",\"10\\u002f10\",\"10\\u002f10\",\"10\\u002f10\",\"10\\u002f10\",\"10\\u002f10\",\"10\\u002f10\",\"10\\u002f10\",\"10\\u002f10\",\"10\\u002f10\",\"10\\u002f10\",\"10\\u002f10\",\"10\\u002f10\",\"10\\u002f10\",\"10\\u002f10\",\"10\\u002f10\",\"10\\u002f10\",\"10\\u002f10\",\"10\\u002f10\",\"10\\u002f10\",\"10\\u002f10\",\"10\\u002f10\",\"10\\u002f10\",\"10\\u002f10\",\"10\\u002f10\",\"10\\u002f10\",\"10\\u002f10\",\"10\\u002f10\",\"10\\u002f10\",\"10\\u002f10\",\"10\\u002f10\",\"10\\u002f10\",\"10\\u002f10\",\"10\\u002f10\",\"10\\u002f10\",\"10\\u002f10\",\"10\\u002f10\",\"10\\u002f10\",\"10\\u002f10\",\"10\\u002f10\",\"10\\u002f10\",\"10\\u002f10\",\"10\\u002f10\",\"10\\u002f10\",\"10\\u002f10\",\"10\\u002f10\",\"10\\u002f10\",\"10\\u002f10\",\"10\\u002f10\",\"10\\u002f10\",\"10\\u002f10\",\"10\\u002f10\",\"10\\u002f10\",\"10\\u002f10\",\"10\\u002f10\",\"10\\u002f10\",\"10\\u002f10\",\"10\\u002f10\",\"10\\u002f10\",\"10\\u002f10\",\"10\\u002f10\",\"10\\u002f10\",\"10\\u002f10\",\"10\\u002f10\",\"10\\u002f10\",\"10\\u002f10\",\"10\\u002f10\",\"10\\u002f10\",\"10\\u002f10\",\"10\\u002f10\",\"10\\u002f10\",\"10\\u002f10\",\"10\\u002f10\",\"10\\u002f10\",\"10\\u002f10\",\"10\\u002f10\",\"10\\u002f10\",\"10\\u002f10\",\"10\\u002f10\",\"10\\u002f10\",\"10\\u002f10\",\"10\\u002f10\",\"10\\u002f10\",\"10\\u002f10\",\"10\\u002f10\",\"10\\u002f10\",\"10\\u002f10\",\"10\\u002f10\",\"10\\u002f10\",\"10\\u002f10\",\"10\\u002f10\",\"10\\u002f10\",\"10\\u002f10\",\"10\\u002f10\",\"10\\u002f10\",\"10\\u002f10\",\"10\\u002f10\",\"10\\u002f10\",\"10\\u002f10\",\"10\\u002f10\",\"10\\u002f10\",\"10\\u002f10\",\"10\\u002f10\",\"10\\u002f10\",\"10\\u002f10\",\"10\\u002f10\",\"10\\u002f10\",\"10\\u002f10\",\"10\\u002f10\",\"10\\u002f10\",\"10\\u002f10\",\"10\\u002f10\",\"10\\u002f10\",\"10\\u002f10\",\"10\\u002f10\",\"10\\u002f10\",\"10\\u002f10\",\"10\\u002f10\",\"10\\u002f10\",\"10\\u002f10\",\"10\\u002f10\",\"10\\u002f10\",\"10\\u002f10\",\"10\\u002f10\",\"10\\u002f10\",\"10\\u002f10\",\"10\\u002f10\",\"10\\u002f10\",\"10\\u002f10\",\"10\\u002f10\",\"10\\u002f10\",\"10\\u002f10\",\"10\\u002f10\",\"10\\u002f10\",\"10\\u002f10\",\"10\\u002f10\",\"10\\u002f10\",\"10\\u002f10\",\"10\\u002f10\",\"10\\u002f10\",\"10\\u002f10\",\"10\\u002f10\",\"10\\u002f10\",\"10\\u002f10\",\"10\\u002f10\",\"10\\u002f10\",\"10\\u002f10\",\"10\\u002f10\",\"10\\u002f10\",\"10\\u002f10\",\"10\\u002f10\",\"10\\u002f10\",\"10\\u002f10\",\"10\\u002f10\",\"10\\u002f10\",\"10\\u002f10\",\"10\\u002f10\",\"10\\u002f10\",\"10\\u002f10\",\"10\\u002f10\",\"10\\u002f10\",\"10\\u002f10\",\"10\\u002f10\",\"10\\u002f10\",\"10\\u002f10\",\"10\\u002f10\",\"10\\u002f10\",\"10\\u002f10\",\"10\\u002f10\",\"10\\u002f10\",\"10\\u002f10\",\"10\\u002f10\",\"10\\u002f10\",\"10\\u002f10\",\"10\\u002f10\",\"10\\u002f10\",\"10\\u002f10\",\"10\\u002f10\",\"10\\u002f10\",\"10\\u002f10\",\"10\\u002f10\",\"10\\u002f10\",\"10\\u002f10\",\"10\\u002f10\",\"10\\u002f10\",\"10\\u002f10\",\"10\\u002f10\",\"10\\u002f10\",\"10\\u002f10\",\"10\\u002f10\",\"10\\u002f10\",\"10\\u002f10\",\"10\\u002f10\",\"10\\u002f10\",\"10\\u002f10\",\"10\\u002f10\",\"10\\u002f10\",\"10\\u002f10\",\"10\\u002f10\",\"10\\u002f10\",\"10\\u002f10\",\"10\\u002f10\",\"10\\u002f10\",\"10\\u002f10\",\"10\\u002f10\",\"10\\u002f10\",\"10\\u002f10\",\"10\\u002f10\",\"10\\u002f10\",\"10\\u002f10\",\"10\\u002f10\",\"10\\u002f10\",\"10\\u002f10\",\"10\\u002f10\",\"10\\u002f10\",\"10\\u002f10\",\"10\\u002f10\",\"10\\u002f10\",\"10\\u002f10\",\"10\\u002f10\",\"10\\u002f10\",\"10\\u002f10\",\"10\\u002f10\",\"10\\u002f10\",\"10\\u002f10\",\"10\\u002f10\",\"10\\u002f10\",\"10\\u002f10\",\"10\\u002f10\",\"10\\u002f10\",\"10\\u002f10\",\"10\\u002f10\",\"10\\u002f10\",\"10\\u002f10\",\"10\\u002f10\",\"10\\u002f10\",\"10\\u002f10\",\"10\\u002f10\",\"10\\u002f10\",\"10\\u002f10\",\"10\\u002f10\",\"10\\u002f10\",\"10\\u002f10\",\"10\\u002f10\",\"10\\u002f10\",\"10\\u002f10\",\"10\\u002f10\",\"10\\u002f10\",\"10\\u002f10\",\"10\\u002f10\",\"10\\u002f10\",\"10\\u002f10\",\"10\\u002f10\",\"10\\u002f10\",\"10\\u002f10\",\"10\\u002f10\",\"10\\u002f10\",\"10\\u002f10\",\"10\\u002f10\",\"10\\u002f10\",\"10\\u002f10\",\"10\\u002f10\",\"10\\u002f10\",\"10\\u002f10\",\"10\\u002f10\",\"10\\u002f10\",\"10\\u002f10\",\"10\\u002f10\",\"10\\u002f10\",\"10\\u002f10\",\"10\\u002f10\",\"10\\u002f10\",\"10\\u002f10\",\"10\\u002f10\",\"10\\u002f10\",\"10\\u002f10\",\"10\\u002f10\",\"10\\u002f10\",\"10\\u002f10\",\"10\\u002f10\",\"10\\u002f10\",\"10\\u002f10\",\"10\\u002f10\",\"10\\u002f10\",\"10\\u002f10\",\"10\\u002f10\",\"10\\u002f10\",\"10\\u002f10\",\"10\\u002f10\",\"10\\u002f10\",\"10\\u002f10\",\"10\\u002f10\",\"10\\u002f10\",\"10\\u002f10\",\"10\\u002f10\",\"10\\u002f10\",\"10\\u002f10\",\"10\\u002f10\",\"10\\u002f10\",\"10\\u002f10\",\"10\\u002f10\",\"10\\u002f10\",\"10\\u002f10\",\"10\\u002f10\",\"10\\u002f10\",\"10\\u002f10\",\"10\\u002f10\",\"10\\u002f10\",\"10\\u002f10\",\"10\\u002f10\",\"10\\u002f10\",\"10\\u002f10\",\"10\\u002f10\",\"10\\u002f10\",\"10\\u002f10\",\"10\\u002f10\",\"10\\u002f10\",\"10\\u002f10\",\"10\\u002f10\",\"10\\u002f10\",\"10\\u002f10\",\"10\\u002f10\",\"10\\u002f10\",\"10\\u002f10\",\"10\\u002f10\",\"10\\u002f10\",\"10\\u002f10\",\"10\\u002f10\",\"10\\u002f10\",\"10\\u002f10\",\"10\\u002f10\",\"10\\u002f10\",\"10\\u002f10\",\"10\\u002f10\",\"10\\u002f10\",\"10\\u002f10\",\"10\\u002f10\",\"10\\u002f10\",\"10\\u002f10\",\"10\\u002f10\",\"10\\u002f10\",\"10\\u002f10\",\"10\\u002f10\",\"10\\u002f10\",\"10\\u002f10\",\"10\\u002f10\",\"10\\u002f10\",\"10\\u002f10\",\"10\\u002f10\",\"10\\u002f10\",\"10\\u002f10\",\"10\\u002f10\",\"10\\u002f10\",\"10\\u002f10\",\"10\\u002f10\",\"10\\u002f10\",\"10\\u002f10\",\"10\\u002f10\",\"10\\u002f10\",\"10\\u002f10\",\"10\\u002f10\",\"10\\u002f10\",\"10\\u002f10\",\"10\\u002f10\",\"10\\u002f10\",\"10\\u002f10\",\"10\\u002f10\",\"10\\u002f10\",\"10\\u002f10\",\"10\\u002f10\",\"10\\u002f10\",\"10\\u002f10\",\"10\\u002f10\",\"10\\u002f10\",\"10\\u002f10\",\"10\\u002f10\",\"10\\u002f10\",\"10\\u002f10\",\"10\\u002f10\",\"10\\u002f10\",\"10\\u002f10\",\"10\\u002f10\",\"10\\u002f10\",\"10\\u002f10\",\"10\\u002f10\",\"10\\u002f10\",\"10\\u002f10\",\"10\\u002f10\",\"10\\u002f10\",\"10\\u002f10\",\"10\\u002f10\",\"10\\u002f10\",\"10\\u002f10\",\"10\\u002f10\",\"10\\u002f10\",\"10\\u002f10\",\"10\\u002f10\",\"10\\u002f10\",\"10\\u002f10\",\"10\\u002f10\",\"10\\u002f10\",\"10\\u002f10\",\"10\\u002f10\",\"10\\u002f10\",\"10\\u002f10\",\"10\\u002f10\",\"10\\u002f10\",\"10\\u002f10\",\"10\\u002f10\",\"10\\u002f10\",\"10\\u002f10\",\"10\\u002f10\",\"10\\u002f10\",\"10\\u002f10\",\"10\\u002f10\",\"10\\u002f10\",\"10\\u002f10\",\"10\\u002f10\",\"10\\u002f10\",\"10\\u002f10\",\"10\\u002f10\",\"10\\u002f10\",\"10\\u002f10\",\"10\\u002f10\",\"10\\u002f10\",\"10\\u002f10\",\"10\\u002f10\",\"10\\u002f10\",\"10\\u002f10\",\"10\\u002f10\",\"10\\u002f10\",\"10\\u002f10\",\"10\\u002f10\",\"10\\u002f10\",\"10\\u002f10\",\"10\\u002f10\",\"10\\u002f10\",\"10\\u002f10\",\"10\\u002f10\",\"10\\u002f10\",\"10\\u002f10\",\"10\\u002f10\",\"10\\u002f10\",\"10\\u002f10\",\"10\\u002f10\",\"10\\u002f10\",\"10\\u002f10\",\"10\\u002f10\",\"10\\u002f10\",\"10\\u002f10\",\"10\\u002f10\",\"10\\u002f10\",\"10\\u002f10\",\"10\\u002f10\",\"10\\u002f10\",\"10\\u002f10\",\"10\\u002f10\",\"10\\u002f10\",\"10\\u002f10\",\"10\\u002f10\",\"10\\u002f10\",\"10\\u002f10\",\"10\\u002f10\",\"10\\u002f10\",\"10\\u002f10\",\"10\\u002f10\",\"10\\u002f10\",\"10\\u002f10\",\"10\\u002f10\",\"10\\u002f10\",\"10\\u002f10\",\"10\\u002f10\",\"10\\u002f10\",\"10\\u002f10\",\"10\\u002f10\",\"10\\u002f10\",\"10\\u002f10\",\"10\\u002f10\",\"10\\u002f10\",\"10\\u002f10\",\"10\\u002f10\",\"10\\u002f10\",\"10\\u002f10\",\"10\\u002f10\",\"10\\u002f10\",\"10\\u002f10\",\"10\\u002f10\",\"10\\u002f10\",\"10\\u002f10\",\"10\\u002f10\",\"10\\u002f10\",\"10\\u002f10\",\"10\\u002f10\",\"10\\u002f10\",\"10\\u002f10\",\"10\\u002f10\",\"10\\u002f10\",\"10\\u002f10\",\"10\\u002f10\",\"10\\u002f10\",\"10\\u002f10\",\"10\\u002f10\",\"10\\u002f10\",\"10\\u002f10\",\"10\\u002f10\",\"10\\u002f10\",\"10\\u002f10\",\"10\\u002f10\",\"10\\u002f10\",\"10\\u002f10\",\"10\\u002f10\",\"10\\u002f10\",\"10\\u002f10\",\"10\\u002f10\",\"10\\u002f10\",\"10\\u002f10\",\"10\\u002f10\",\"10\\u002f10\",\"10\\u002f10\",\"10\\u002f10\",\"10\\u002f10\",\"10\\u002f10\",\"10\\u002f10\",\"10\\u002f10\",\"10\\u002f10\",\"10\\u002f10\",\"10\\u002f10\",\"10\\u002f10\",\"10\\u002f10\",\"10\\u002f10\",\"10\\u002f10\",\"10\\u002f10\",\"10\\u002f10\",\"10\\u002f10\",\"10\\u002f10\",\"10\\u002f10\",\"10\\u002f10\",\"10\\u002f10\",\"10\\u002f10\",\"10\\u002f10\",\"10\\u002f10\",\"10\\u002f10\",\"10\\u002f10\",\"10\\u002f10\",\"10\\u002f10\",\"10\\u002f10\",\"10\\u002f10\",\"10\\u002f10\",\"10\\u002f10\",\"10\\u002f10\",\"10\\u002f10\",\"10\\u002f10\",\"10\\u002f10\",\"10\\u002f10\",\"10\\u002f10\",\"10\\u002f10\",\"10\\u002f10\",\"10\\u002f10\",\"10\\u002f10\",\"10\\u002f10\",\"10\\u002f10\",\"10\\u002f10\",\"10\\u002f10\",\"10\\u002f10\",\"10\\u002f10\",\"10\\u002f10\",\"10\\u002f10\",\"10\\u002f10\",\"10\\u002f10\",\"10\\u002f10\",\"10\\u002f10\",\"10\\u002f10\",\"10\\u002f10\",\"10\\u002f10\",\"10\\u002f10\",\"10\\u002f10\",\"10\\u002f10\",\"10\\u002f10\",\"10\\u002f10\",\"10\\u002f10\",\"10\\u002f10\",\"10\\u002f10\",\"10\\u002f10\",\"10\\u002f10\",\"10\\u002f10\",\"10\\u002f10\",\"10\\u002f10\",\"10\\u002f10\",\"10\\u002f10\",\"10\\u002f10\",\"10\\u002f10\",\"10\\u002f10\",\"10\\u002f10\",\"10\\u002f10\",\"10\\u002f10\",\"10\\u002f10\",\"10\\u002f10\",\"10\\u002f10\",\"10\\u002f10\",\"10\\u002f10\",\"10\\u002f10\",\"10\\u002f10\",\"10\\u002f10\",\"10\\u002f10\",\"10\\u002f10\",\"10\\u002f10\",\"10\\u002f10\",\"10\\u002f10\",\"10\\u002f10\",\"10\\u002f10\",\"10\\u002f10\",\"10\\u002f10\",\"10\\u002f10\",\"10\\u002f10\",\"10\\u002f10\",\"10\\u002f10\",\"10\\u002f10\",\"10\\u002f10\",\"10\\u002f10\",\"10\\u002f10\",\"10\\u002f10\",\"10\\u002f10\",\"10\\u002f10\",\"10\\u002f10\",\"10\\u002f10\",\"10\\u002f10\",\"10\\u002f10\",\"10\\u002f10\",\"10\\u002f10\",\"10\\u002f10\",\"10\\u002f10\",\"10\\u002f10\",\"10\\u002f10\",\"10\\u002f10\",\"10\\u002f10\",\"10\\u002f10\",\"10\\u002f10\",\"10\\u002f10\",\"10\\u002f10\",\"10\\u002f10\",\"10\\u002f10\",\"10\\u002f10\",\"10\\u002f10\",\"10\\u002f10\",\"10\\u002f10\",\"10\\u002f10\",\"10\\u002f10\",\"10\\u002f10\",\"10\\u002f10\",\"10\\u002f10\",\"10\\u002f10\",\"10\\u002f10\",\"10\\u002f10\",\"10\\u002f10\",\"10\\u002f10\",\"10\\u002f10\",\"10\\u002f10\",\"10\\u002f10\",\"10\\u002f10\",\"10\\u002f10\",\"10\\u002f10\",\"10\\u002f10\",\"10\\u002f10\",\"10\\u002f10\",\"10\\u002f10\",\"10\\u002f10\",\"10\\u002f10\",\"10\\u002f10\",\"10\\u002f10\",\"10\\u002f10\",\"10\\u002f10\",\"10\\u002f10\",\"10\\u002f10\",\"10\\u002f10\",\"10\\u002f10\",\"10\\u002f10\",\"10\\u002f10\",\"10\\u002f10\",\"10\\u002f10\",\"10\\u002f10\",\"10\\u002f10\",\"10\\u002f10\",\"10\\u002f10\",\"10\\u002f10\",\"10\\u002f10\",\"10\\u002f10\",\"10\\u002f10\",\"10\\u002f10\",\"10\\u002f10\",\"10\\u002f10\",\"10\\u002f10\",\"10\\u002f10\",\"10\\u002f10\",\"10\\u002f10\",\"10\\u002f10\",\"10\\u002f10\",\"10\\u002f10\",\"10\\u002f10\",\"10\\u002f10\",\"10\\u002f10\",\"10\\u002f10\",\"10\\u002f10\",\"10\\u002f10\",\"10\\u002f10\",\"10\\u002f10\",\"10\\u002f10\",\"10\\u002f10\",\"10\\u002f10\",\"10\\u002f10\",\"10\\u002f10\",\"10\\u002f10\",\"10\\u002f10\",\"10\\u002f10\",\"10\\u002f10\",\"10\\u002f10\",\"10\\u002f10\",\"10\\u002f10\",\"10\\u002f10\",\"10\\u002f10\",\"10\\u002f10\",\"10\\u002f10\",\"10\\u002f10\",\"10\\u002f10\",\"10\\u002f10\",\"10\\u002f10\",\"10\\u002f10\",\"10\\u002f10\",\"10\\u002f10\",\"10\\u002f10\",\"10\\u002f10\",\"10\\u002f10\",\"10\\u002f10\",\"10\\u002f10\",\"10\\u002f10\",\"10\\u002f10\",\"10\\u002f10\",\"10\\u002f10\",\"10\\u002f10\",\"10\\u002f10\",\"10\\u002f10\",\"10\\u002f10\",\"10\\u002f10\",\"10\\u002f10\",\"10\\u002f10\",\"10\\u002f10\",\"10\\u002f10\",\"10\\u002f10\",\"10\\u002f10\",\"10\\u002f10\",\"10\\u002f10\",\"10\\u002f10\",\"10\\u002f10\",\"10\\u002f10\",\"10\\u002f10\",\"10\\u002f10\",\"10\\u002f10\",\"10\\u002f10\",\"10\\u002f10\",\"10\\u002f10\",\"10\\u002f10\",\"10\\u002f10\",\"10\\u002f10\",\"10\\u002f10\",\"10\\u002f10\",\"10\\u002f10\",\"10\\u002f10\",\"10\\u002f10\",\"10\\u002f10\",\"10\\u002f10\",\"10\\u002f10\",\"10\\u002f10\",\"10\\u002f10\",\"10\\u002f10\",\"10\\u002f10\",\"10\\u002f10\",\"10\\u002f10\",\"10\\u002f10\",\"10\\u002f10\",\"10\\u002f10\",\"10\\u002f10\",\"10\\u002f10\",\"10\\u002f10\",\"10\\u002f10\",\"10\\u002f10\",\"10\\u002f10\",\"10\\u002f10\",\"10\\u002f10\",\"10\\u002f10\",\"10\\u002f10\",\"10\\u002f10\",\"10\\u002f10\",\"10\\u002f10\",\"10\\u002f10\",\"10\\u002f10\",\"10\\u002f10\",\"10\\u002f10\",\"10\\u002f10\",\"10\\u002f10\",\"10\\u002f10\",\"10\\u002f10\",\"10\\u002f10\",\"10\\u002f10\",\"10\\u002f10\",\"10\\u002f10\",\"10\\u002f10\",\"10\\u002f10\",\"10\\u002f10\",\"10\\u002f10\",\"10\\u002f10\",\"10\\u002f10\",\"10\\u002f10\",\"10\\u002f10\",\"10\\u002f10\",\"10\\u002f10\",\"10\\u002f10\",\"10\\u002f10\",\"10\\u002f10\",\"10\\u002f10\",\"10\\u002f10\",\"10\\u002f10\",\"10\\u002f10\",\"10\\u002f10\",\"10\\u002f10\",\"10\\u002f10\",\"10\\u002f10\",\"10\\u002f10\",\"10\\u002f10\",\"10\\u002f10\",\"10\\u002f10\",\"10\\u002f10\",\"10\\u002f10\",\"10\\u002f10\",\"10\\u002f10\",\"10\\u002f10\",\"10\\u002f10\",\"10\\u002f10\",\"10\\u002f10\",\"10\\u002f10\",\"10\\u002f10\",\"10\\u002f10\",\"10\\u002f10\",\"10\\u002f10\",\"10\\u002f10\",\"10\\u002f10\",\"10\\u002f10\",\"10\\u002f10\",\"10\\u002f10\",\"10\\u002f10\",\"10\\u002f10\",\"10\\u002f10\",\"10\\u002f10\",\"10\\u002f10\",\"10\\u002f10\",\"10\\u002f10\",\"10\\u002f10\",\"10\\u002f10\",\"10\\u002f10\",\"10\\u002f10\",\"10\\u002f10\",\"10\\u002f10\",\"10\\u002f10\",\"10\\u002f10\",\"10\\u002f10\",\"10\\u002f10\",\"10\\u002f10\",\"10\\u002f10\",\"10\\u002f10\",\"10\\u002f10\",\"10\\u002f10\",\"10\\u002f10\",\"10\\u002f10\",\"10\\u002f10\",\"10\\u002f10\",\"10\\u002f10\",\"10\\u002f10\",\"10\\u002f10\",\"10\\u002f10\",\"10\\u002f10\",\"10\\u002f10\",\"10\\u002f10\",\"10\\u002f10\",\"10\\u002f10\",\"10\\u002f10\",\"10\\u002f10\",\"10\\u002f10\",\"10\\u002f10\",\"10\\u002f10\",\"10\\u002f10\",\"10\\u002f10\",\"10\\u002f10\",\"10\\u002f10\",\"10\\u002f10\",\"10\\u002f10\",\"10\\u002f10\",\"10\\u002f10\",\"10\\u002f10\",\"10\\u002f10\",\"10\\u002f10\",\"10\\u002f10\",\"10\\u002f10\",\"10\\u002f10\",\"10\\u002f10\",\"10\\u002f10\",\"10\\u002f10\",\"10\\u002f10\",\"10\\u002f10\",\"10\\u002f10\",\"10\\u002f10\",\"10\\u002f10\",\"10\\u002f10\",\"10\\u002f10\",\"10\\u002f10\",\"10\\u002f10\",\"10\\u002f10\",\"10\\u002f10\",\"10\\u002f10\",\"10\\u002f10\",\"10\\u002f10\",\"10\\u002f10\",\"10\\u002f10\",\"10\\u002f10\",\"10\\u002f10\",\"10\\u002f10\",\"10\\u002f10\",\"10\\u002f10\",\"10\\u002f10\",\"10\\u002f10\",\"10\\u002f10\",\"10\\u002f10\",\"10\\u002f10\",\"10\\u002f10\",\"10\\u002f10\",\"10\\u002f10\",\"10\\u002f10\",\"10\\u002f10\",\"10\\u002f10\",\"10\\u002f10\",\"10\\u002f10\",\"10\\u002f10\",\"10\\u002f10\",\"10\\u002f10\",\"10\\u002f10\",\"10\\u002f10\",\"10\\u002f10\",\"10\\u002f10\",\"10\\u002f10\",\"10\\u002f10\",\"10\\u002f10\",\"10\\u002f10\",\"10\\u002f10\",\"10\\u002f10\",\"10\\u002f10\",\"10\\u002f10\",\"10\\u002f10\",\"10\\u002f10\",\"10\\u002f10\",\"10\\u002f10\",\"10\\u002f10\",\"10\\u002f10\",\"10\\u002f10\",\"10\\u002f10\",\"10\\u002f10\",\"10\\u002f10\",\"10\\u002f10\",\"10\\u002f10\",\"10\\u002f10\",\"10\\u002f10\",\"10\\u002f10\",\"10\\u002f10\",\"10\\u002f10\",\"10\\u002f10\",\"10\\u002f10\",\"10\\u002f10\",\"10\\u002f10\",\"10\\u002f10\",\"10\\u002f10\",\"10\\u002f10\",\"10\\u002f10\",\"10\\u002f10\",\"10\\u002f10\",\"10\\u002f10\",\"10\\u002f10\",\"10\\u002f10\",\"10\\u002f10\",\"10\\u002f10\",\"10\\u002f10\",\"10\\u002f10\",\"10\\u002f10\",\"10\\u002f10\",\"10\\u002f10\",\"10\\u002f10\",\"10\\u002f10\",\"10\\u002f10\",\"10\\u002f10\",\"10\\u002f10\",\"10\\u002f10\",\"10\\u002f10\",\"10\\u002f10\",\"10\\u002f10\",\"10\\u002f10\",\"10\\u002f10\",\"10\\u002f10\",\"10\\u002f10\",\"10\\u002f10\",\"10\\u002f10\",\"10\\u002f10\",\"10\\u002f10\",\"10\\u002f10\",\"10\\u002f10\",\"10\\u002f10\",\"10\\u002f10\",\"10\\u002f10\",\"10\\u002f10\",\"10\\u002f10\",\"10\\u002f10\",\"10\\u002f10\",\"10\\u002f10\",\"10\\u002f10\",\"10\\u002f10\",\"10\\u002f10\",\"10\\u002f10\",\"10\\u002f10\",\"10\\u002f10\",\"10\\u002f10\",\"10\\u002f10\",\"10\\u002f10\",\"10\\u002f10\",\"10\\u002f10\",\"10\\u002f10\",\"10\\u002f10\",\"10\\u002f10\",\"10\\u002f10\",\"10\\u002f10\",\"10\\u002f10\",\"10\\u002f10\",\"10\\u002f10\",\"10\\u002f10\",\"10\\u002f10\",\"10\\u002f10\",\"10\\u002f10\",\"10\\u002f10\",\"10\\u002f10\",\"10\\u002f10\",\"10\\u002f10\",\"10\\u002f10\",\"10\\u002f10\",\"10\\u002f10\",\"10\\u002f10\",\"10\\u002f10\",\"10\\u002f10\",\"10\\u002f10\",\"10\\u002f10\",\"10\\u002f10\",\"10\\u002f10\",\"10\\u002f10\",\"10\\u002f10\",\"10\\u002f10\",\"10\\u002f10\",\"10\\u002f10\",\"10\\u002f10\",\"10\\u002f10\",\"10\\u002f10\",\"10\\u002f10\",\"10\\u002f10\",\"10\\u002f10\",\"10\\u002f10\",\"10\\u002f10\",\"10\\u002f10\",\"10\\u002f10\",\"10\\u002f10\",\"10\\u002f10\",\"10\\u002f10\",\"10\\u002f10\",\"10\\u002f10\",\"10\\u002f10\",\"10\\u002f10\",\"10\\u002f10\",\"10\\u002f10\",\"10\\u002f10\",\"10\\u002f10\",\"10\\u002f10\",\"10\\u002f10\",\"10\\u002f10\",\"10\\u002f10\",\"10\\u002f10\",\"10\\u002f10\",\"10\\u002f10\",\"10\\u002f10\",\"10\\u002f10\",\"10\\u002f10\",\"10\\u002f10\",\"10\\u002f10\",\"10\\u002f10\",\"10\\u002f10\",\"10\\u002f10\",\"10\\u002f10\",\"10\\u002f10\",\"10\\u002f10\",\"10\\u002f10\",\"10\\u002f10\",\"10\\u002f10\",\"10\\u002f10\",\"10\\u002f10\",\"10\\u002f10\",\"10\\u002f10\",\"10\\u002f10\",\"10\\u002f10\",\"10\\u002f10\",\"10\\u002f10\",\"10\\u002f10\",\"10\\u002f10\",\"10\\u002f10\",\"10\\u002f10\",\"10\\u002f10\",\"10\\u002f10\",\"10\\u002f10\",\"10\\u002f10\",\"10\\u002f10\",\"10\\u002f10\",\"10\\u002f10\",\"10\\u002f10\",\"10\\u002f10\",\"10\\u002f10\",\"10\\u002f10\",\"10\\u002f10\",\"10\\u002f10\",\"10\\u002f10\",\"10\\u002f10\",\"10\\u002f10\",\"10\\u002f10\",\"10\\u002f10\",\"10\\u002f10\",\"10\\u002f10\",\"10\\u002f10\",\"10\\u002f10\",\"10\\u002f10\",\"10\\u002f10\",\"10\\u002f10\",\"10\\u002f10\",\"10\\u002f10\",\"10\\u002f10\",\"10\\u002f10\",\"10\\u002f10\",\"10\\u002f10\",\"10\\u002f10\",\"10\\u002f10\",\"10\\u002f10\",\"10\\u002f10\",\"10\\u002f10\",\"10\\u002f10\",\"10\\u002f10\",\"10\\u002f10\",\"10\\u002f10\",\"10\\u002f10\",\"10\\u002f10\",\"10\\u002f10\",\"10\\u002f10\",\"10\\u002f10\",\"10\\u002f10\",\"10\\u002f10\",\"10\\u002f10\",\"10\\u002f10\",\"10\\u002f10\",\"10\\u002f10\",\"10\\u002f10\",\"10\\u002f10\",\"10\\u002f10\",\"10\\u002f10\",\"10\\u002f10\",\"10\\u002f10\",\"10\\u002f10\",\"10\\u002f10\",\"10\\u002f10\",\"10\\u002f10\",\"10\\u002f10\",\"10\\u002f10\",\"10\\u002f10\",\"10\\u002f10\",\"10\\u002f10\",\"10\\u002f10\",\"10\\u002f10\",\"10\\u002f10\",\"10\\u002f10\",\"10\\u002f10\",\"10\\u002f10\",\"10\\u002f10\",\"10\\u002f10\",\"10\\u002f10\",\"10\\u002f10\",\"10\\u002f10\",\"10\\u002f10\",\"10\\u002f10\",\"10\\u002f10\",\"10\\u002f10\",\"10\\u002f10\",\"10\\u002f10\",\"10\\u002f10\",\"10\\u002f10\",\"10\\u002f10\",\"10\\u002f10\",\"10\\u002f10\",\"10\\u002f10\",\"10\\u002f10\",\"10\\u002f10\",\"10\\u002f10\",\"10\\u002f10\",\"10\\u002f10\",\"10\\u002f10\",\"10\\u002f10\",\"10\\u002f10\",\"10\\u002f10\",\"10\\u002f10\",\"10\\u002f10\",\"10\\u002f10\",\"10\\u002f10\",\"10\\u002f10\",\"10\\u002f10\",\"10\\u002f10\",\"10\\u002f10\",\"10\\u002f10\",\"10\\u002f10\",\"10\\u002f10\",\"10\\u002f10\",\"10\\u002f10\",\"10\\u002f10\",\"10\\u002f10\",\"10\\u002f10\",\"10\\u002f10\",\"10\\u002f10\",\"10\\u002f10\",\"10\\u002f10\",\"10\\u002f10\",\"10\\u002f10\",\"10\\u002f10\",\"10\\u002f10\",\"10\\u002f10\",\"10\\u002f10\",\"10\\u002f10\",\"10\\u002f10\",\"10\\u002f10\",\"10\\u002f10\",\"10\\u002f10\",\"10\\u002f10\",\"10\\u002f10\",\"10\\u002f10\",\"10\\u002f10\",\"10\\u002f10\",\"10\\u002f10\",\"10\\u002f10\",\"10\\u002f10\",\"10\\u002f10\",\"10\\u002f10\",\"10\\u002f10\",\"10\\u002f10\",\"10\\u002f10\",\"10\\u002f10\",\"10\\u002f10\",\"10\\u002f10\",\"10\\u002f10\",\"10\\u002f10\",\"10\\u002f10\",\"10\\u002f10\",\"10\\u002f10\",\"10\\u002f10\",\"10\\u002f10\",\"10\\u002f10\",\"10\\u002f10\",\"10\\u002f10\",\"10\\u002f10\",\"10\\u002f10\",\"10\\u002f10\",\"10\\u002f10\",\"10\\u002f10\",\"10\\u002f10\",\"10\\u002f10\",\"10\\u002f10\",\"10\\u002f10\",\"10\\u002f10\",\"10\\u002f10\",\"10\\u002f10\",\"10\\u002f10\",\"10\\u002f10\",\"10\\u002f10\",\"10\\u002f10\",\"10\\u002f10\",\"10\\u002f10\",\"10\\u002f10\",\"10\\u002f10\",\"10\\u002f10\",\"10\\u002f10\",\"10\\u002f10\",\"10\\u002f10\",\"10\\u002f10\",\"10\\u002f10\",\"10\\u002f10\",\"10\\u002f10\",\"10\\u002f10\",\"10\\u002f10\",\"10\\u002f10\",\"10\\u002f10\",\"10\\u002f10\",\"10\\u002f10\",\"10\\u002f10\",\"10\\u002f10\",\"10\\u002f10\",\"10\\u002f10\",\"10\\u002f10\",\"10\\u002f10\",\"10\\u002f10\",\"10\\u002f10\",\"10\\u002f10\",\"10\\u002f10\",\"10\\u002f10\",\"10\\u002f10\",\"10\\u002f10\",\"10\\u002f10\",\"10\\u002f10\",\"10\\u002f10\",\"10\\u002f10\",\"10\\u002f10\",\"10\\u002f10\",\"10\\u002f10\",\"10\\u002f10\",\"10\\u002f10\",\"10\\u002f10\",\"10\\u002f10\",\"10\\u002f10\",\"10\\u002f10\",\"10\\u002f10\",\"10\\u002f10\",\"10\\u002f10\",\"10\\u002f10\",\"10\\u002f10\",\"10\\u002f10\",\"10\\u002f10\",\"10\\u002f10\",\"10\\u002f10\",\"10\\u002f10\",\"10\\u002f10\",\"10\\u002f10\",\"10\\u002f10\",\"10\\u002f10\",\"10\\u002f10\",\"10\\u002f10\",\"10\\u002f10\",\"10\\u002f10\",\"10\\u002f10\",\"10\\u002f10\",\"10\\u002f10\",\"10\\u002f10\",\"10\\u002f10\",\"10\\u002f10\",\"10\\u002f10\",\"10\\u002f10\",\"10\\u002f10\",\"10\\u002f10\",\"10\\u002f10\",\"10\\u002f10\",\"10\\u002f10\",\"10\\u002f10\",\"10\\u002f10\",\"10\\u002f10\",\"10\\u002f10\",\"10\\u002f10\",\"10\\u002f10\",\"10\\u002f10\",\"10\\u002f10\",\"10\\u002f10\",\"10\\u002f10\",\"10\\u002f10\",\"10\\u002f10\",\"10\\u002f10\",\"10\\u002f10\",\"10\\u002f10\",\"10\\u002f10\",\"10\\u002f10\",\"10\\u002f10\",\"10\\u002f10\",\"10\\u002f10\",\"10\\u002f10\",\"10\\u002f10\",\"10\\u002f10\",\"10\\u002f10\",\"10\\u002f10\",\"10\\u002f10\",\"10\\u002f10\",\"10\\u002f10\",\"10\\u002f10\",\"10\\u002f10\",\"10\\u002f10\",\"10\\u002f10\",\"10\\u002f10\",\"10\\u002f10\",\"10\\u002f10\",\"10\\u002f10\",\"10\\u002f10\",\"10\\u002f10\",\"10\\u002f10\",\"10\\u002f10\",\"10\\u002f10\",\"10\\u002f10\",\"10\\u002f10\",\"10\\u002f10\",\"10\\u002f10\",\"10\\u002f10\",\"10\\u002f10\",\"10\\u002f10\",\"10\\u002f10\",\"10\\u002f10\",\"10\\u002f10\",\"10\\u002f10\",\"10\\u002f10\",\"10\\u002f10\",\"10\\u002f10\",\"10\\u002f10\",\"10\\u002f10\",\"10\\u002f10\",\"10\\u002f10\",\"10\\u002f10\",\"10\\u002f10\",\"10\\u002f10\",\"10\\u002f10\",\"10\\u002f10\",\"10\\u002f10\",\"10\\u002f10\",\"10\\u002f10\",\"10\\u002f10\",\"10\\u002f10\",\"10\\u002f10\",\"10\\u002f10\",\"10\\u002f10\",\"10\\u002f10\",\"10\\u002f10\",\"10\\u002f10\",\"10\\u002f10\",\"10\\u002f10\",\"10\\u002f10\",\"10\\u002f10\",\"10\\u002f10\",\"10\\u002f10\",\"10\\u002f10\",\"10\\u002f10\",\"10\\u002f10\",\"10\\u002f10\",\"10\\u002f10\",\"10\\u002f10\",\"10\\u002f10\",\"10\\u002f10\",\"10\\u002f10\",\"10\\u002f10\",\"10\\u002f10\",\"10\\u002f10\",\"10\\u002f10\",\"10\\u002f10\",\"10\\u002f10\",\"10\\u002f10\",\"10\\u002f10\",\"10\\u002f10\",\"10\\u002f10\",\"10\\u002f10\",\"10\\u002f10\",\"10\\u002f10\",\"10\\u002f10\",\"10\\u002f10\",\"10\\u002f10\",\"10\\u002f10\",\"10\\u002f10\",\"10\\u002f10\",\"10\\u002f10\",\"10\\u002f10\",\"10\\u002f10\",\"10\\u002f10\",\"10\\u002f10\",\"10\\u002f10\",\"10\\u002f10\",\"10\\u002f10\",\"10\\u002f10\",\"10\\u002f10\",\"10\\u002f10\",\"10\\u002f10\",\"10\\u002f10\",\"10\\u002f10\",\"10\\u002f10\",\"10\\u002f10\",\"10\\u002f10\",\"10\\u002f10\",\"10\\u002f10\",\"10\\u002f10\",\"10\\u002f10\",\"10\\u002f10\",\"10\\u002f10\",\"10\\u002f10\",\"10\\u002f10\",\"10\\u002f10\",\"10\\u002f10\",\"10\\u002f10\",\"10\\u002f10\",\"10\\u002f10\",\"10\\u002f10\",\"10\\u002f10\",\"10\\u002f10\",\"10\\u002f10\",\"10\\u002f10\",\"10\\u002f10\",\"10\\u002f10\",\"10\\u002f10\",\"10\\u002f10\",\"10\\u002f10\",\"10\\u002f10\",\"10\\u002f10\",\"10\\u002f10\",\"10\\u002f10\",\"10\\u002f10\",\"10\\u002f10\",\"10\\u002f10\",\"10\\u002f10\",\"10\\u002f10\",\"10\\u002f10\",\"10\\u002f10\",\"10\\u002f10\",\"10\\u002f10\",\"10\\u002f10\",\"10\\u002f10\",\"10\\u002f10\",\"10\\u002f10\",\"10\\u002f10\",\"10\\u002f10\",\"10\\u002f10\",\"10\\u002f10\",\"10\\u002f10\",\"10\\u002f10\",\"10\\u002f10\",\"10\\u002f10\",\"10\\u002f10\",\"10\\u002f10\",\"10\\u002f10\",\"10\\u002f10\",\"10\\u002f10\",\"10\\u002f10\",\"10\\u002f10\",\"10\\u002f10\",\"10\\u002f10\",\"10\\u002f10\",\"10\\u002f10\",\"10\\u002f10\",\"10\\u002f10\",\"10\\u002f10\",\"10\\u002f10\",\"10\\u002f10\",\"10\\u002f10\",\"10\\u002f10\",\"10\\u002f10\",\"10\\u002f10\",\"10\\u002f10\",\"10\\u002f10\",\"10\\u002f10\",\"10\\u002f10\",\"10\\u002f10\",\"10\\u002f10\",\"10\\u002f10\",\"10\\u002f10\",\"10\\u002f10\",\"10\\u002f10\",\"10\\u002f10\",\"10\\u002f10\",\"10\\u002f10\",\"10\\u002f10\",\"10\\u002f10\",\"10\\u002f10\"],\"xaxis\":\"x\",\"yaxis\":\"y\",\"type\":\"histogram\"},{\"alignmentgroup\":\"True\",\"bingroup\":\"x\",\"hovertemplate\":\"stars=%{x}\\u003cbr\\u003ecount=%{y}\\u003cextra\\u003e\\u003c\\u002fextra\\u003e\",\"legendgroup\":\"4\\u002f10\",\"marker\":{\"color\":\"#FFA15A\",\"pattern\":{\"shape\":\"\"}},\"name\":\"4\\u002f10\",\"offsetgroup\":\"4\\u002f10\",\"orientation\":\"v\",\"showlegend\":true,\"x\":[\"4\\u002f10\",\"4\\u002f10\",\"4\\u002f10\",\"4\\u002f10\",\"4\\u002f10\",\"4\\u002f10\",\"4\\u002f10\",\"4\\u002f10\",\"4\\u002f10\",\"4\\u002f10\",\"4\\u002f10\",\"4\\u002f10\",\"4\\u002f10\",\"4\\u002f10\",\"4\\u002f10\",\"4\\u002f10\",\"4\\u002f10\",\"4\\u002f10\",\"4\\u002f10\",\"4\\u002f10\",\"4\\u002f10\",\"4\\u002f10\",\"4\\u002f10\",\"4\\u002f10\",\"4\\u002f10\",\"4\\u002f10\",\"4\\u002f10\",\"4\\u002f10\",\"4\\u002f10\",\"4\\u002f10\",\"4\\u002f10\",\"4\\u002f10\",\"4\\u002f10\",\"4\\u002f10\",\"4\\u002f10\",\"4\\u002f10\",\"4\\u002f10\",\"4\\u002f10\",\"4\\u002f10\",\"4\\u002f10\",\"4\\u002f10\",\"4\\u002f10\",\"4\\u002f10\",\"4\\u002f10\",\"4\\u002f10\",\"4\\u002f10\",\"4\\u002f10\",\"4\\u002f10\",\"4\\u002f10\",\"4\\u002f10\",\"4\\u002f10\",\"4\\u002f10\",\"4\\u002f10\",\"4\\u002f10\",\"4\\u002f10\",\"4\\u002f10\",\"4\\u002f10\",\"4\\u002f10\",\"4\\u002f10\",\"4\\u002f10\",\"4\\u002f10\",\"4\\u002f10\",\"4\\u002f10\",\"4\\u002f10\",\"4\\u002f10\",\"4\\u002f10\",\"4\\u002f10\",\"4\\u002f10\",\"4\\u002f10\",\"4\\u002f10\",\"4\\u002f10\",\"4\\u002f10\",\"4\\u002f10\",\"4\\u002f10\",\"4\\u002f10\",\"4\\u002f10\",\"4\\u002f10\",\"4\\u002f10\",\"4\\u002f10\",\"4\\u002f10\",\"4\\u002f10\",\"4\\u002f10\",\"4\\u002f10\",\"4\\u002f10\",\"4\\u002f10\",\"4\\u002f10\",\"4\\u002f10\",\"4\\u002f10\",\"4\\u002f10\",\"4\\u002f10\",\"4\\u002f10\",\"4\\u002f10\",\"4\\u002f10\",\"4\\u002f10\",\"4\\u002f10\",\"4\\u002f10\",\"4\\u002f10\",\"4\\u002f10\",\"4\\u002f10\",\"4\\u002f10\",\"4\\u002f10\",\"4\\u002f10\",\"4\\u002f10\",\"4\\u002f10\",\"4\\u002f10\",\"4\\u002f10\",\"4\\u002f10\",\"4\\u002f10\",\"4\\u002f10\",\"4\\u002f10\",\"4\\u002f10\",\"4\\u002f10\",\"4\\u002f10\",\"4\\u002f10\",\"4\\u002f10\",\"4\\u002f10\",\"4\\u002f10\",\"4\\u002f10\",\"4\\u002f10\",\"4\\u002f10\",\"4\\u002f10\",\"4\\u002f10\",\"4\\u002f10\",\"4\\u002f10\",\"4\\u002f10\",\"4\\u002f10\",\"4\\u002f10\",\"4\\u002f10\",\"4\\u002f10\",\"4\\u002f10\",\"4\\u002f10\",\"4\\u002f10\",\"4\\u002f10\",\"4\\u002f10\",\"4\\u002f10\",\"4\\u002f10\",\"4\\u002f10\",\"4\\u002f10\",\"4\\u002f10\",\"4\\u002f10\",\"4\\u002f10\",\"4\\u002f10\",\"4\\u002f10\",\"4\\u002f10\",\"4\\u002f10\",\"4\\u002f10\",\"4\\u002f10\",\"4\\u002f10\",\"4\\u002f10\",\"4\\u002f10\",\"4\\u002f10\",\"4\\u002f10\",\"4\\u002f10\",\"4\\u002f10\",\"4\\u002f10\",\"4\\u002f10\",\"4\\u002f10\",\"4\\u002f10\",\"4\\u002f10\",\"4\\u002f10\",\"4\\u002f10\",\"4\\u002f10\",\"4\\u002f10\",\"4\\u002f10\",\"4\\u002f10\",\"4\\u002f10\",\"4\\u002f10\",\"4\\u002f10\",\"4\\u002f10\",\"4\\u002f10\",\"4\\u002f10\",\"4\\u002f10\",\"4\\u002f10\",\"4\\u002f10\",\"4\\u002f10\",\"4\\u002f10\",\"4\\u002f10\",\"4\\u002f10\",\"4\\u002f10\",\"4\\u002f10\",\"4\\u002f10\",\"4\\u002f10\",\"4\\u002f10\",\"4\\u002f10\",\"4\\u002f10\",\"4\\u002f10\",\"4\\u002f10\",\"4\\u002f10\",\"4\\u002f10\",\"4\\u002f10\",\"4\\u002f10\",\"4\\u002f10\",\"4\\u002f10\",\"4\\u002f10\",\"4\\u002f10\",\"4\\u002f10\",\"4\\u002f10\",\"4\\u002f10\",\"4\\u002f10\",\"4\\u002f10\",\"4\\u002f10\",\"4\\u002f10\",\"4\\u002f10\",\"4\\u002f10\",\"4\\u002f10\",\"4\\u002f10\",\"4\\u002f10\",\"4\\u002f10\",\"4\\u002f10\",\"4\\u002f10\",\"4\\u002f10\",\"4\\u002f10\",\"4\\u002f10\",\"4\\u002f10\",\"4\\u002f10\",\"4\\u002f10\",\"4\\u002f10\",\"4\\u002f10\",\"4\\u002f10\",\"4\\u002f10\",\"4\\u002f10\",\"4\\u002f10\",\"4\\u002f10\",\"4\\u002f10\",\"4\\u002f10\",\"4\\u002f10\",\"4\\u002f10\",\"4\\u002f10\",\"4\\u002f10\",\"4\\u002f10\",\"4\\u002f10\",\"4\\u002f10\",\"4\\u002f10\",\"4\\u002f10\",\"4\\u002f10\",\"4\\u002f10\",\"4\\u002f10\",\"4\\u002f10\",\"4\\u002f10\",\"4\\u002f10\",\"4\\u002f10\",\"4\\u002f10\",\"4\\u002f10\",\"4\\u002f10\",\"4\\u002f10\",\"4\\u002f10\",\"4\\u002f10\",\"4\\u002f10\",\"4\\u002f10\",\"4\\u002f10\",\"4\\u002f10\",\"4\\u002f10\",\"4\\u002f10\",\"4\\u002f10\",\"4\\u002f10\",\"4\\u002f10\",\"4\\u002f10\",\"4\\u002f10\",\"4\\u002f10\",\"4\\u002f10\",\"4\\u002f10\",\"4\\u002f10\",\"4\\u002f10\",\"4\\u002f10\",\"4\\u002f10\",\"4\\u002f10\",\"4\\u002f10\",\"4\\u002f10\",\"4\\u002f10\",\"4\\u002f10\",\"4\\u002f10\",\"4\\u002f10\",\"4\\u002f10\",\"4\\u002f10\",\"4\\u002f10\",\"4\\u002f10\",\"4\\u002f10\",\"4\\u002f10\",\"4\\u002f10\",\"4\\u002f10\",\"4\\u002f10\",\"4\\u002f10\",\"4\\u002f10\",\"4\\u002f10\",\"4\\u002f10\",\"4\\u002f10\",\"4\\u002f10\",\"4\\u002f10\",\"4\\u002f10\",\"4\\u002f10\",\"4\\u002f10\",\"4\\u002f10\",\"4\\u002f10\",\"4\\u002f10\",\"4\\u002f10\",\"4\\u002f10\",\"4\\u002f10\",\"4\\u002f10\",\"4\\u002f10\",\"4\\u002f10\",\"4\\u002f10\",\"4\\u002f10\",\"4\\u002f10\",\"4\\u002f10\",\"4\\u002f10\",\"4\\u002f10\",\"4\\u002f10\",\"4\\u002f10\",\"4\\u002f10\",\"4\\u002f10\",\"4\\u002f10\",\"4\\u002f10\",\"4\\u002f10\",\"4\\u002f10\",\"4\\u002f10\",\"4\\u002f10\",\"4\\u002f10\",\"4\\u002f10\",\"4\\u002f10\",\"4\\u002f10\",\"4\\u002f10\",\"4\\u002f10\",\"4\\u002f10\",\"4\\u002f10\",\"4\\u002f10\"],\"xaxis\":\"x\",\"yaxis\":\"y\",\"type\":\"histogram\"},{\"alignmentgroup\":\"True\",\"bingroup\":\"x\",\"hovertemplate\":\"stars=%{x}\\u003cbr\\u003ecount=%{y}\\u003cextra\\u003e\\u003c\\u002fextra\\u003e\",\"legendgroup\":\"5\\u002f10\",\"marker\":{\"color\":\"#19d3f3\",\"pattern\":{\"shape\":\"\"}},\"name\":\"5\\u002f10\",\"offsetgroup\":\"5\\u002f10\",\"orientation\":\"v\",\"showlegend\":true,\"x\":[\"5\\u002f10\",\"5\\u002f10\",\"5\\u002f10\",\"5\\u002f10\",\"5\\u002f10\",\"5\\u002f10\",\"5\\u002f10\",\"5\\u002f10\",\"5\\u002f10\",\"5\\u002f10\",\"5\\u002f10\",\"5\\u002f10\",\"5\\u002f10\",\"5\\u002f10\",\"5\\u002f10\",\"5\\u002f10\",\"5\\u002f10\",\"5\\u002f10\",\"5\\u002f10\",\"5\\u002f10\",\"5\\u002f10\",\"5\\u002f10\",\"5\\u002f10\",\"5\\u002f10\",\"5\\u002f10\",\"5\\u002f10\",\"5\\u002f10\",\"5\\u002f10\",\"5\\u002f10\",\"5\\u002f10\",\"5\\u002f10\",\"5\\u002f10\",\"5\\u002f10\",\"5\\u002f10\",\"5\\u002f10\",\"5\\u002f10\",\"5\\u002f10\",\"5\\u002f10\",\"5\\u002f10\",\"5\\u002f10\",\"5\\u002f10\",\"5\\u002f10\",\"5\\u002f10\",\"5\\u002f10\",\"5\\u002f10\",\"5\\u002f10\",\"5\\u002f10\",\"5\\u002f10\",\"5\\u002f10\",\"5\\u002f10\",\"5\\u002f10\",\"5\\u002f10\",\"5\\u002f10\",\"5\\u002f10\",\"5\\u002f10\",\"5\\u002f10\",\"5\\u002f10\",\"5\\u002f10\",\"5\\u002f10\",\"5\\u002f10\",\"5\\u002f10\",\"5\\u002f10\",\"5\\u002f10\",\"5\\u002f10\",\"5\\u002f10\",\"5\\u002f10\",\"5\\u002f10\",\"5\\u002f10\",\"5\\u002f10\",\"5\\u002f10\",\"5\\u002f10\",\"5\\u002f10\",\"5\\u002f10\",\"5\\u002f10\",\"5\\u002f10\",\"5\\u002f10\",\"5\\u002f10\",\"5\\u002f10\",\"5\\u002f10\",\"5\\u002f10\",\"5\\u002f10\",\"5\\u002f10\",\"5\\u002f10\",\"5\\u002f10\",\"5\\u002f10\",\"5\\u002f10\",\"5\\u002f10\",\"5\\u002f10\",\"5\\u002f10\",\"5\\u002f10\",\"5\\u002f10\",\"5\\u002f10\",\"5\\u002f10\",\"5\\u002f10\",\"5\\u002f10\",\"5\\u002f10\",\"5\\u002f10\",\"5\\u002f10\",\"5\\u002f10\",\"5\\u002f10\",\"5\\u002f10\",\"5\\u002f10\",\"5\\u002f10\",\"5\\u002f10\",\"5\\u002f10\",\"5\\u002f10\",\"5\\u002f10\",\"5\\u002f10\",\"5\\u002f10\",\"5\\u002f10\",\"5\\u002f10\",\"5\\u002f10\",\"5\\u002f10\",\"5\\u002f10\",\"5\\u002f10\",\"5\\u002f10\",\"5\\u002f10\",\"5\\u002f10\",\"5\\u002f10\",\"5\\u002f10\",\"5\\u002f10\",\"5\\u002f10\",\"5\\u002f10\",\"5\\u002f10\",\"5\\u002f10\",\"5\\u002f10\",\"5\\u002f10\",\"5\\u002f10\",\"5\\u002f10\",\"5\\u002f10\",\"5\\u002f10\",\"5\\u002f10\",\"5\\u002f10\",\"5\\u002f10\",\"5\\u002f10\",\"5\\u002f10\",\"5\\u002f10\",\"5\\u002f10\",\"5\\u002f10\",\"5\\u002f10\",\"5\\u002f10\",\"5\\u002f10\",\"5\\u002f10\",\"5\\u002f10\",\"5\\u002f10\",\"5\\u002f10\",\"5\\u002f10\",\"5\\u002f10\",\"5\\u002f10\",\"5\\u002f10\",\"5\\u002f10\",\"5\\u002f10\",\"5\\u002f10\",\"5\\u002f10\",\"5\\u002f10\",\"5\\u002f10\",\"5\\u002f10\",\"5\\u002f10\",\"5\\u002f10\",\"5\\u002f10\",\"5\\u002f10\",\"5\\u002f10\",\"5\\u002f10\",\"5\\u002f10\",\"5\\u002f10\",\"5\\u002f10\",\"5\\u002f10\",\"5\\u002f10\",\"5\\u002f10\",\"5\\u002f10\",\"5\\u002f10\",\"5\\u002f10\",\"5\\u002f10\",\"5\\u002f10\",\"5\\u002f10\",\"5\\u002f10\",\"5\\u002f10\",\"5\\u002f10\",\"5\\u002f10\",\"5\\u002f10\",\"5\\u002f10\",\"5\\u002f10\",\"5\\u002f10\",\"5\\u002f10\",\"5\\u002f10\",\"5\\u002f10\",\"5\\u002f10\",\"5\\u002f10\",\"5\\u002f10\",\"5\\u002f10\",\"5\\u002f10\",\"5\\u002f10\",\"5\\u002f10\",\"5\\u002f10\",\"5\\u002f10\",\"5\\u002f10\",\"5\\u002f10\",\"5\\u002f10\",\"5\\u002f10\",\"5\\u002f10\",\"5\\u002f10\",\"5\\u002f10\",\"5\\u002f10\",\"5\\u002f10\",\"5\\u002f10\",\"5\\u002f10\",\"5\\u002f10\",\"5\\u002f10\",\"5\\u002f10\",\"5\\u002f10\",\"5\\u002f10\",\"5\\u002f10\",\"5\\u002f10\",\"5\\u002f10\",\"5\\u002f10\",\"5\\u002f10\",\"5\\u002f10\",\"5\\u002f10\",\"5\\u002f10\",\"5\\u002f10\",\"5\\u002f10\",\"5\\u002f10\",\"5\\u002f10\",\"5\\u002f10\",\"5\\u002f10\",\"5\\u002f10\",\"5\\u002f10\",\"5\\u002f10\",\"5\\u002f10\",\"5\\u002f10\",\"5\\u002f10\",\"5\\u002f10\",\"5\\u002f10\",\"5\\u002f10\",\"5\\u002f10\",\"5\\u002f10\",\"5\\u002f10\",\"5\\u002f10\",\"5\\u002f10\",\"5\\u002f10\",\"5\\u002f10\",\"5\\u002f10\",\"5\\u002f10\",\"5\\u002f10\",\"5\\u002f10\",\"5\\u002f10\",\"5\\u002f10\",\"5\\u002f10\",\"5\\u002f10\",\"5\\u002f10\",\"5\\u002f10\",\"5\\u002f10\",\"5\\u002f10\",\"5\\u002f10\",\"5\\u002f10\",\"5\\u002f10\",\"5\\u002f10\",\"5\\u002f10\",\"5\\u002f10\",\"5\\u002f10\",\"5\\u002f10\",\"5\\u002f10\",\"5\\u002f10\",\"5\\u002f10\",\"5\\u002f10\",\"5\\u002f10\",\"5\\u002f10\",\"5\\u002f10\",\"5\\u002f10\",\"5\\u002f10\",\"5\\u002f10\",\"5\\u002f10\",\"5\\u002f10\",\"5\\u002f10\",\"5\\u002f10\",\"5\\u002f10\",\"5\\u002f10\",\"5\\u002f10\",\"5\\u002f10\",\"5\\u002f10\",\"5\\u002f10\",\"5\\u002f10\",\"5\\u002f10\",\"5\\u002f10\",\"5\\u002f10\",\"5\\u002f10\",\"5\\u002f10\",\"5\\u002f10\",\"5\\u002f10\",\"5\\u002f10\",\"5\\u002f10\",\"5\\u002f10\",\"5\\u002f10\",\"5\\u002f10\",\"5\\u002f10\",\"5\\u002f10\",\"5\\u002f10\",\"5\\u002f10\",\"5\\u002f10\",\"5\\u002f10\",\"5\\u002f10\",\"5\\u002f10\",\"5\\u002f10\",\"5\\u002f10\",\"5\\u002f10\",\"5\\u002f10\",\"5\\u002f10\",\"5\\u002f10\",\"5\\u002f10\",\"5\\u002f10\",\"5\\u002f10\",\"5\\u002f10\",\"5\\u002f10\",\"5\\u002f10\",\"5\\u002f10\",\"5\\u002f10\",\"5\\u002f10\",\"5\\u002f10\",\"5\\u002f10\",\"5\\u002f10\",\"5\\u002f10\",\"5\\u002f10\",\"5\\u002f10\",\"5\\u002f10\",\"5\\u002f10\",\"5\\u002f10\",\"5\\u002f10\",\"5\\u002f10\",\"5\\u002f10\",\"5\\u002f10\",\"5\\u002f10\",\"5\\u002f10\",\"5\\u002f10\",\"5\\u002f10\",\"5\\u002f10\",\"5\\u002f10\",\"5\\u002f10\",\"5\\u002f10\",\"5\\u002f10\",\"5\\u002f10\",\"5\\u002f10\",\"5\\u002f10\",\"5\\u002f10\",\"5\\u002f10\",\"5\\u002f10\",\"5\\u002f10\",\"5\\u002f10\",\"5\\u002f10\",\"5\\u002f10\",\"5\\u002f10\",\"5\\u002f10\",\"5\\u002f10\",\"5\\u002f10\",\"5\\u002f10\",\"5\\u002f10\",\"5\\u002f10\",\"5\\u002f10\",\"5\\u002f10\",\"5\\u002f10\",\"5\\u002f10\",\"5\\u002f10\",\"5\\u002f10\",\"5\\u002f10\",\"5\\u002f10\",\"5\\u002f10\",\"5\\u002f10\",\"5\\u002f10\",\"5\\u002f10\",\"5\\u002f10\",\"5\\u002f10\",\"5\\u002f10\",\"5\\u002f10\",\"5\\u002f10\",\"5\\u002f10\",\"5\\u002f10\",\"5\\u002f10\",\"5\\u002f10\",\"5\\u002f10\",\"5\\u002f10\",\"5\\u002f10\",\"5\\u002f10\",\"5\\u002f10\",\"5\\u002f10\",\"5\\u002f10\",\"5\\u002f10\",\"5\\u002f10\",\"5\\u002f10\",\"5\\u002f10\",\"5\\u002f10\",\"5\\u002f10\",\"5\\u002f10\",\"5\\u002f10\",\"5\\u002f10\",\"5\\u002f10\",\"5\\u002f10\",\"5\\u002f10\",\"5\\u002f10\",\"5\\u002f10\",\"5\\u002f10\",\"5\\u002f10\",\"5\\u002f10\",\"5\\u002f10\",\"5\\u002f10\",\"5\\u002f10\",\"5\\u002f10\",\"5\\u002f10\",\"5\\u002f10\",\"5\\u002f10\",\"5\\u002f10\",\"5\\u002f10\",\"5\\u002f10\",\"5\\u002f10\",\"5\\u002f10\",\"5\\u002f10\",\"5\\u002f10\",\"5\\u002f10\",\"5\\u002f10\",\"5\\u002f10\",\"5\\u002f10\",\"5\\u002f10\",\"5\\u002f10\",\"5\\u002f10\",\"5\\u002f10\",\"5\\u002f10\",\"5\\u002f10\",\"5\\u002f10\",\"5\\u002f10\",\"5\\u002f10\",\"5\\u002f10\",\"5\\u002f10\",\"5\\u002f10\",\"5\\u002f10\",\"5\\u002f10\",\"5\\u002f10\",\"5\\u002f10\",\"5\\u002f10\",\"5\\u002f10\",\"5\\u002f10\",\"5\\u002f10\",\"5\\u002f10\",\"5\\u002f10\",\"5\\u002f10\",\"5\\u002f10\",\"5\\u002f10\",\"5\\u002f10\",\"5\\u002f10\",\"5\\u002f10\",\"5\\u002f10\",\"5\\u002f10\",\"5\\u002f10\",\"5\\u002f10\",\"5\\u002f10\",\"5\\u002f10\",\"5\\u002f10\",\"5\\u002f10\",\"5\\u002f10\",\"5\\u002f10\",\"5\\u002f10\",\"5\\u002f10\",\"5\\u002f10\",\"5\\u002f10\",\"5\\u002f10\",\"5\\u002f10\",\"5\\u002f10\",\"5\\u002f10\",\"5\\u002f10\",\"5\\u002f10\",\"5\\u002f10\",\"5\\u002f10\",\"5\\u002f10\",\"5\\u002f10\",\"5\\u002f10\",\"5\\u002f10\"],\"xaxis\":\"x\",\"yaxis\":\"y\",\"type\":\"histogram\"},{\"alignmentgroup\":\"True\",\"bingroup\":\"x\",\"hovertemplate\":\"stars=%{x}\\u003cbr\\u003ecount=%{y}\\u003cextra\\u003e\\u003c\\u002fextra\\u003e\",\"legendgroup\":\"3\\u002f10\",\"marker\":{\"color\":\"#FF6692\",\"pattern\":{\"shape\":\"\"}},\"name\":\"3\\u002f10\",\"offsetgroup\":\"3\\u002f10\",\"orientation\":\"v\",\"showlegend\":true,\"x\":[\"3\\u002f10\",\"3\\u002f10\",\"3\\u002f10\",\"3\\u002f10\",\"3\\u002f10\",\"3\\u002f10\",\"3\\u002f10\",\"3\\u002f10\",\"3\\u002f10\",\"3\\u002f10\",\"3\\u002f10\",\"3\\u002f10\",\"3\\u002f10\",\"3\\u002f10\",\"3\\u002f10\",\"3\\u002f10\",\"3\\u002f10\",\"3\\u002f10\",\"3\\u002f10\",\"3\\u002f10\",\"3\\u002f10\",\"3\\u002f10\",\"3\\u002f10\",\"3\\u002f10\",\"3\\u002f10\",\"3\\u002f10\",\"3\\u002f10\",\"3\\u002f10\",\"3\\u002f10\",\"3\\u002f10\",\"3\\u002f10\",\"3\\u002f10\",\"3\\u002f10\",\"3\\u002f10\",\"3\\u002f10\",\"3\\u002f10\",\"3\\u002f10\",\"3\\u002f10\",\"3\\u002f10\",\"3\\u002f10\",\"3\\u002f10\",\"3\\u002f10\",\"3\\u002f10\",\"3\\u002f10\",\"3\\u002f10\",\"3\\u002f10\",\"3\\u002f10\",\"3\\u002f10\",\"3\\u002f10\",\"3\\u002f10\",\"3\\u002f10\",\"3\\u002f10\",\"3\\u002f10\",\"3\\u002f10\",\"3\\u002f10\",\"3\\u002f10\",\"3\\u002f10\",\"3\\u002f10\",\"3\\u002f10\",\"3\\u002f10\",\"3\\u002f10\",\"3\\u002f10\",\"3\\u002f10\",\"3\\u002f10\",\"3\\u002f10\",\"3\\u002f10\",\"3\\u002f10\",\"3\\u002f10\",\"3\\u002f10\",\"3\\u002f10\",\"3\\u002f10\",\"3\\u002f10\",\"3\\u002f10\",\"3\\u002f10\",\"3\\u002f10\",\"3\\u002f10\",\"3\\u002f10\",\"3\\u002f10\",\"3\\u002f10\",\"3\\u002f10\",\"3\\u002f10\",\"3\\u002f10\",\"3\\u002f10\",\"3\\u002f10\",\"3\\u002f10\",\"3\\u002f10\",\"3\\u002f10\",\"3\\u002f10\",\"3\\u002f10\",\"3\\u002f10\",\"3\\u002f10\",\"3\\u002f10\",\"3\\u002f10\",\"3\\u002f10\",\"3\\u002f10\",\"3\\u002f10\",\"3\\u002f10\",\"3\\u002f10\",\"3\\u002f10\",\"3\\u002f10\",\"3\\u002f10\",\"3\\u002f10\",\"3\\u002f10\",\"3\\u002f10\",\"3\\u002f10\",\"3\\u002f10\",\"3\\u002f10\",\"3\\u002f10\",\"3\\u002f10\",\"3\\u002f10\",\"3\\u002f10\",\"3\\u002f10\",\"3\\u002f10\",\"3\\u002f10\",\"3\\u002f10\",\"3\\u002f10\",\"3\\u002f10\",\"3\\u002f10\",\"3\\u002f10\",\"3\\u002f10\",\"3\\u002f10\",\"3\\u002f10\",\"3\\u002f10\",\"3\\u002f10\",\"3\\u002f10\",\"3\\u002f10\",\"3\\u002f10\",\"3\\u002f10\",\"3\\u002f10\",\"3\\u002f10\",\"3\\u002f10\",\"3\\u002f10\",\"3\\u002f10\",\"3\\u002f10\",\"3\\u002f10\",\"3\\u002f10\",\"3\\u002f10\",\"3\\u002f10\",\"3\\u002f10\",\"3\\u002f10\",\"3\\u002f10\",\"3\\u002f10\",\"3\\u002f10\",\"3\\u002f10\",\"3\\u002f10\",\"3\\u002f10\",\"3\\u002f10\",\"3\\u002f10\",\"3\\u002f10\",\"3\\u002f10\",\"3\\u002f10\",\"3\\u002f10\",\"3\\u002f10\",\"3\\u002f10\",\"3\\u002f10\",\"3\\u002f10\",\"3\\u002f10\",\"3\\u002f10\",\"3\\u002f10\",\"3\\u002f10\",\"3\\u002f10\",\"3\\u002f10\",\"3\\u002f10\",\"3\\u002f10\",\"3\\u002f10\",\"3\\u002f10\",\"3\\u002f10\",\"3\\u002f10\",\"3\\u002f10\",\"3\\u002f10\",\"3\\u002f10\",\"3\\u002f10\",\"3\\u002f10\",\"3\\u002f10\",\"3\\u002f10\",\"3\\u002f10\",\"3\\u002f10\",\"3\\u002f10\",\"3\\u002f10\",\"3\\u002f10\",\"3\\u002f10\",\"3\\u002f10\",\"3\\u002f10\",\"3\\u002f10\",\"3\\u002f10\",\"3\\u002f10\",\"3\\u002f10\",\"3\\u002f10\",\"3\\u002f10\",\"3\\u002f10\",\"3\\u002f10\",\"3\\u002f10\",\"3\\u002f10\",\"3\\u002f10\",\"3\\u002f10\",\"3\\u002f10\",\"3\\u002f10\",\"3\\u002f10\",\"3\\u002f10\",\"3\\u002f10\",\"3\\u002f10\",\"3\\u002f10\",\"3\\u002f10\",\"3\\u002f10\",\"3\\u002f10\",\"3\\u002f10\",\"3\\u002f10\",\"3\\u002f10\",\"3\\u002f10\",\"3\\u002f10\",\"3\\u002f10\",\"3\\u002f10\",\"3\\u002f10\",\"3\\u002f10\",\"3\\u002f10\",\"3\\u002f10\",\"3\\u002f10\",\"3\\u002f10\",\"3\\u002f10\",\"3\\u002f10\",\"3\\u002f10\",\"3\\u002f10\",\"3\\u002f10\",\"3\\u002f10\",\"3\\u002f10\",\"3\\u002f10\",\"3\\u002f10\",\"3\\u002f10\",\"3\\u002f10\",\"3\\u002f10\",\"3\\u002f10\",\"3\\u002f10\",\"3\\u002f10\",\"3\\u002f10\",\"3\\u002f10\",\"3\\u002f10\",\"3\\u002f10\",\"3\\u002f10\",\"3\\u002f10\",\"3\\u002f10\",\"3\\u002f10\",\"3\\u002f10\",\"3\\u002f10\",\"3\\u002f10\",\"3\\u002f10\",\"3\\u002f10\",\"3\\u002f10\",\"3\\u002f10\",\"3\\u002f10\",\"3\\u002f10\",\"3\\u002f10\"],\"xaxis\":\"x\",\"yaxis\":\"y\",\"type\":\"histogram\"}],                        {\"template\":{\"data\":{\"histogram2dcontour\":[{\"type\":\"histogram2dcontour\",\"colorbar\":{\"outlinewidth\":0,\"ticks\":\"\"},\"colorscale\":[[0.0,\"#0d0887\"],[0.1111111111111111,\"#46039f\"],[0.2222222222222222,\"#7201a8\"],[0.3333333333333333,\"#9c179e\"],[0.4444444444444444,\"#bd3786\"],[0.5555555555555556,\"#d8576b\"],[0.6666666666666666,\"#ed7953\"],[0.7777777777777778,\"#fb9f3a\"],[0.8888888888888888,\"#fdca26\"],[1.0,\"#f0f921\"]]}],\"choropleth\":[{\"type\":\"choropleth\",\"colorbar\":{\"outlinewidth\":0,\"ticks\":\"\"}}],\"histogram2d\":[{\"type\":\"histogram2d\",\"colorbar\":{\"outlinewidth\":0,\"ticks\":\"\"},\"colorscale\":[[0.0,\"#0d0887\"],[0.1111111111111111,\"#46039f\"],[0.2222222222222222,\"#7201a8\"],[0.3333333333333333,\"#9c179e\"],[0.4444444444444444,\"#bd3786\"],[0.5555555555555556,\"#d8576b\"],[0.6666666666666666,\"#ed7953\"],[0.7777777777777778,\"#fb9f3a\"],[0.8888888888888888,\"#fdca26\"],[1.0,\"#f0f921\"]]}],\"heatmap\":[{\"type\":\"heatmap\",\"colorbar\":{\"outlinewidth\":0,\"ticks\":\"\"},\"colorscale\":[[0.0,\"#0d0887\"],[0.1111111111111111,\"#46039f\"],[0.2222222222222222,\"#7201a8\"],[0.3333333333333333,\"#9c179e\"],[0.4444444444444444,\"#bd3786\"],[0.5555555555555556,\"#d8576b\"],[0.6666666666666666,\"#ed7953\"],[0.7777777777777778,\"#fb9f3a\"],[0.8888888888888888,\"#fdca26\"],[1.0,\"#f0f921\"]]}],\"heatmapgl\":[{\"type\":\"heatmapgl\",\"colorbar\":{\"outlinewidth\":0,\"ticks\":\"\"},\"colorscale\":[[0.0,\"#0d0887\"],[0.1111111111111111,\"#46039f\"],[0.2222222222222222,\"#7201a8\"],[0.3333333333333333,\"#9c179e\"],[0.4444444444444444,\"#bd3786\"],[0.5555555555555556,\"#d8576b\"],[0.6666666666666666,\"#ed7953\"],[0.7777777777777778,\"#fb9f3a\"],[0.8888888888888888,\"#fdca26\"],[1.0,\"#f0f921\"]]}],\"contourcarpet\":[{\"type\":\"contourcarpet\",\"colorbar\":{\"outlinewidth\":0,\"ticks\":\"\"}}],\"contour\":[{\"type\":\"contour\",\"colorbar\":{\"outlinewidth\":0,\"ticks\":\"\"},\"colorscale\":[[0.0,\"#0d0887\"],[0.1111111111111111,\"#46039f\"],[0.2222222222222222,\"#7201a8\"],[0.3333333333333333,\"#9c179e\"],[0.4444444444444444,\"#bd3786\"],[0.5555555555555556,\"#d8576b\"],[0.6666666666666666,\"#ed7953\"],[0.7777777777777778,\"#fb9f3a\"],[0.8888888888888888,\"#fdca26\"],[1.0,\"#f0f921\"]]}],\"surface\":[{\"type\":\"surface\",\"colorbar\":{\"outlinewidth\":0,\"ticks\":\"\"},\"colorscale\":[[0.0,\"#0d0887\"],[0.1111111111111111,\"#46039f\"],[0.2222222222222222,\"#7201a8\"],[0.3333333333333333,\"#9c179e\"],[0.4444444444444444,\"#bd3786\"],[0.5555555555555556,\"#d8576b\"],[0.6666666666666666,\"#ed7953\"],[0.7777777777777778,\"#fb9f3a\"],[0.8888888888888888,\"#fdca26\"],[1.0,\"#f0f921\"]]}],\"mesh3d\":[{\"type\":\"mesh3d\",\"colorbar\":{\"outlinewidth\":0,\"ticks\":\"\"}}],\"scatter\":[{\"fillpattern\":{\"fillmode\":\"overlay\",\"size\":10,\"solidity\":0.2},\"type\":\"scatter\"}],\"parcoords\":[{\"type\":\"parcoords\",\"line\":{\"colorbar\":{\"outlinewidth\":0,\"ticks\":\"\"}}}],\"scatterpolargl\":[{\"type\":\"scatterpolargl\",\"marker\":{\"colorbar\":{\"outlinewidth\":0,\"ticks\":\"\"}}}],\"bar\":[{\"error_x\":{\"color\":\"#2a3f5f\"},\"error_y\":{\"color\":\"#2a3f5f\"},\"marker\":{\"line\":{\"color\":\"#E5ECF6\",\"width\":0.5},\"pattern\":{\"fillmode\":\"overlay\",\"size\":10,\"solidity\":0.2}},\"type\":\"bar\"}],\"scattergeo\":[{\"type\":\"scattergeo\",\"marker\":{\"colorbar\":{\"outlinewidth\":0,\"ticks\":\"\"}}}],\"scatterpolar\":[{\"type\":\"scatterpolar\",\"marker\":{\"colorbar\":{\"outlinewidth\":0,\"ticks\":\"\"}}}],\"histogram\":[{\"marker\":{\"pattern\":{\"fillmode\":\"overlay\",\"size\":10,\"solidity\":0.2}},\"type\":\"histogram\"}],\"scattergl\":[{\"type\":\"scattergl\",\"marker\":{\"colorbar\":{\"outlinewidth\":0,\"ticks\":\"\"}}}],\"scatter3d\":[{\"type\":\"scatter3d\",\"line\":{\"colorbar\":{\"outlinewidth\":0,\"ticks\":\"\"}},\"marker\":{\"colorbar\":{\"outlinewidth\":0,\"ticks\":\"\"}}}],\"scattermapbox\":[{\"type\":\"scattermapbox\",\"marker\":{\"colorbar\":{\"outlinewidth\":0,\"ticks\":\"\"}}}],\"scatterternary\":[{\"type\":\"scatterternary\",\"marker\":{\"colorbar\":{\"outlinewidth\":0,\"ticks\":\"\"}}}],\"scattercarpet\":[{\"type\":\"scattercarpet\",\"marker\":{\"colorbar\":{\"outlinewidth\":0,\"ticks\":\"\"}}}],\"carpet\":[{\"aaxis\":{\"endlinecolor\":\"#2a3f5f\",\"gridcolor\":\"white\",\"linecolor\":\"white\",\"minorgridcolor\":\"white\",\"startlinecolor\":\"#2a3f5f\"},\"baxis\":{\"endlinecolor\":\"#2a3f5f\",\"gridcolor\":\"white\",\"linecolor\":\"white\",\"minorgridcolor\":\"white\",\"startlinecolor\":\"#2a3f5f\"},\"type\":\"carpet\"}],\"table\":[{\"cells\":{\"fill\":{\"color\":\"#EBF0F8\"},\"line\":{\"color\":\"white\"}},\"header\":{\"fill\":{\"color\":\"#C8D4E3\"},\"line\":{\"color\":\"white\"}},\"type\":\"table\"}],\"barpolar\":[{\"marker\":{\"line\":{\"color\":\"#E5ECF6\",\"width\":0.5},\"pattern\":{\"fillmode\":\"overlay\",\"size\":10,\"solidity\":0.2}},\"type\":\"barpolar\"}],\"pie\":[{\"automargin\":true,\"type\":\"pie\"}]},\"layout\":{\"autotypenumbers\":\"strict\",\"colorway\":[\"#636efa\",\"#EF553B\",\"#00cc96\",\"#ab63fa\",\"#FFA15A\",\"#19d3f3\",\"#FF6692\",\"#B6E880\",\"#FF97FF\",\"#FECB52\"],\"font\":{\"color\":\"#2a3f5f\"},\"hovermode\":\"closest\",\"hoverlabel\":{\"align\":\"left\"},\"paper_bgcolor\":\"white\",\"plot_bgcolor\":\"#E5ECF6\",\"polar\":{\"bgcolor\":\"#E5ECF6\",\"angularaxis\":{\"gridcolor\":\"white\",\"linecolor\":\"white\",\"ticks\":\"\"},\"radialaxis\":{\"gridcolor\":\"white\",\"linecolor\":\"white\",\"ticks\":\"\"}},\"ternary\":{\"bgcolor\":\"#E5ECF6\",\"aaxis\":{\"gridcolor\":\"white\",\"linecolor\":\"white\",\"ticks\":\"\"},\"baxis\":{\"gridcolor\":\"white\",\"linecolor\":\"white\",\"ticks\":\"\"},\"caxis\":{\"gridcolor\":\"white\",\"linecolor\":\"white\",\"ticks\":\"\"}},\"coloraxis\":{\"colorbar\":{\"outlinewidth\":0,\"ticks\":\"\"}},\"colorscale\":{\"sequential\":[[0.0,\"#0d0887\"],[0.1111111111111111,\"#46039f\"],[0.2222222222222222,\"#7201a8\"],[0.3333333333333333,\"#9c179e\"],[0.4444444444444444,\"#bd3786\"],[0.5555555555555556,\"#d8576b\"],[0.6666666666666666,\"#ed7953\"],[0.7777777777777778,\"#fb9f3a\"],[0.8888888888888888,\"#fdca26\"],[1.0,\"#f0f921\"]],\"sequentialminus\":[[0.0,\"#0d0887\"],[0.1111111111111111,\"#46039f\"],[0.2222222222222222,\"#7201a8\"],[0.3333333333333333,\"#9c179e\"],[0.4444444444444444,\"#bd3786\"],[0.5555555555555556,\"#d8576b\"],[0.6666666666666666,\"#ed7953\"],[0.7777777777777778,\"#fb9f3a\"],[0.8888888888888888,\"#fdca26\"],[1.0,\"#f0f921\"]],\"diverging\":[[0,\"#8e0152\"],[0.1,\"#c51b7d\"],[0.2,\"#de77ae\"],[0.3,\"#f1b6da\"],[0.4,\"#fde0ef\"],[0.5,\"#f7f7f7\"],[0.6,\"#e6f5d0\"],[0.7,\"#b8e186\"],[0.8,\"#7fbc41\"],[0.9,\"#4d9221\"],[1,\"#276419\"]]},\"xaxis\":{\"gridcolor\":\"white\",\"linecolor\":\"white\",\"ticks\":\"\",\"title\":{\"standoff\":15},\"zerolinecolor\":\"white\",\"automargin\":true,\"zerolinewidth\":2},\"yaxis\":{\"gridcolor\":\"white\",\"linecolor\":\"white\",\"ticks\":\"\",\"title\":{\"standoff\":15},\"zerolinecolor\":\"white\",\"automargin\":true,\"zerolinewidth\":2},\"scene\":{\"xaxis\":{\"backgroundcolor\":\"#E5ECF6\",\"gridcolor\":\"white\",\"linecolor\":\"white\",\"showbackground\":true,\"ticks\":\"\",\"zerolinecolor\":\"white\",\"gridwidth\":2},\"yaxis\":{\"backgroundcolor\":\"#E5ECF6\",\"gridcolor\":\"white\",\"linecolor\":\"white\",\"showbackground\":true,\"ticks\":\"\",\"zerolinecolor\":\"white\",\"gridwidth\":2},\"zaxis\":{\"backgroundcolor\":\"#E5ECF6\",\"gridcolor\":\"white\",\"linecolor\":\"white\",\"showbackground\":true,\"ticks\":\"\",\"zerolinecolor\":\"white\",\"gridwidth\":2}},\"shapedefaults\":{\"line\":{\"color\":\"#2a3f5f\"}},\"annotationdefaults\":{\"arrowcolor\":\"#2a3f5f\",\"arrowhead\":0,\"arrowwidth\":1},\"geo\":{\"bgcolor\":\"white\",\"landcolor\":\"#E5ECF6\",\"subunitcolor\":\"white\",\"showland\":true,\"showlakes\":true,\"lakecolor\":\"white\"},\"title\":{\"x\":0.05},\"mapbox\":{\"style\":\"light\"}}},\"xaxis\":{\"anchor\":\"y\",\"domain\":[0.0,1.0],\"title\":{\"text\":\"stars\"},\"categoryorder\":\"array\",\"categoryarray\":[\"1\\u002f10\",\"2\\u002f10\",\"9\\u002f10\",\"10\\u002f10\",\"4\\u002f10\",\"5\\u002f10\",\"3\\u002f10\"]},\"yaxis\":{\"anchor\":\"x\",\"domain\":[0.0,1.0],\"title\":{\"text\":\"count\"}},\"legend\":{\"title\":{\"text\":\"stars\"},\"tracegroupgap\":0},\"title\":{\"text\":\"stars distribution\"},\"barmode\":\"relative\",\"height\":500},                        {\"responsive\": true}                    ).then(function(){\n",
              "                            \n",
              "var gd = document.getElementById('9822f082-951a-4f2c-ac43-fe941e98a445');\n",
              "var x = new MutationObserver(function (mutations, observer) {{\n",
              "        var display = window.getComputedStyle(gd).display;\n",
              "        if (!display || display === 'none') {{\n",
              "            console.log([gd, 'removed!']);\n",
              "            Plotly.purge(gd);\n",
              "            observer.disconnect();\n",
              "        }}\n",
              "}});\n",
              "\n",
              "// Listen for the removal of the full notebook cells\n",
              "var notebookContainer = gd.closest('#notebook-container');\n",
              "if (notebookContainer) {{\n",
              "    x.observe(notebookContainer, {childList: true});\n",
              "}}\n",
              "\n",
              "// Listen for the clearing of the current output cell\n",
              "var outputEl = gd.closest('.output');\n",
              "if (outputEl) {{\n",
              "    x.observe(outputEl, {childList: true});\n",
              "}}\n",
              "\n",
              "                        })                };                            </script>        </div>\n",
              "</body>\n",
              "</html>"
            ]
          },
          "metadata": {}
        }
      ],
      "source": [
        "fig = px.histogram(df,\n",
        "             x='stars',\n",
        "             height=500,\n",
        "             title='stars distribution',\n",
        "             color='stars'\n",
        "            )\n",
        "fig.show()"
      ]
    },
    {
      "cell_type": "code",
      "execution_count": 10,
      "id": "d4956dc4-83fe-4d4d-9f3f-8be1ca42c3a4",
      "metadata": {
        "id": "d4956dc4-83fe-4d4d-9f3f-8be1ca42c3a4"
      },
      "outputs": [],
      "source": [
        "df = df[['review', 'sentiment']]"
      ]
    },
    {
      "cell_type": "markdown",
      "id": "45c0f421-ee6e-41cc-8091-7b4686ab9779",
      "metadata": {
        "id": "45c0f421-ee6e-41cc-8091-7b4686ab9779"
      },
      "source": [
        "## Data Preprocessing"
      ]
    },
    {
      "cell_type": "code",
      "source": [
        "import nltk\n",
        "nltk.download('stopwords')\n",
        "nltk.download('punkt')\n",
        "nltk.download('wordnet')"
      ],
      "metadata": {
        "colab": {
          "base_uri": "https://localhost:8080/"
        },
        "id": "DDFs7cPSEv_c",
        "outputId": "a2261cea-9697-4f93-c39f-60fafbfc4247"
      },
      "id": "DDFs7cPSEv_c",
      "execution_count": 18,
      "outputs": [
        {
          "output_type": "stream",
          "name": "stderr",
          "text": [
            "[nltk_data] Downloading package stopwords to /root/nltk_data...\n",
            "[nltk_data]   Package stopwords is already up-to-date!\n",
            "[nltk_data] Downloading package punkt to /root/nltk_data...\n",
            "[nltk_data]   Package punkt is already up-to-date!\n",
            "[nltk_data] Downloading package wordnet to /root/nltk_data...\n"
          ]
        },
        {
          "output_type": "execute_result",
          "data": {
            "text/plain": [
              "True"
            ]
          },
          "metadata": {},
          "execution_count": 18
        }
      ]
    },
    {
      "cell_type": "code",
      "execution_count": 16,
      "id": "87aad1b9-d8b3-4d03-91d2-caed5b291233",
      "metadata": {
        "id": "87aad1b9-d8b3-4d03-91d2-caed5b291233"
      },
      "outputs": [],
      "source": [
        "stop_words = set(stopwords.words('english'))\n",
        "def process_text(text:str):\n",
        "    # Remove \"\\n\" characters as our text has at the very end\n",
        "    text = text.replace(\"\\n\", \"\")\n",
        "\n",
        "    text = re.sub(r'\\d+', '', text)\n",
        "\n",
        "    # removing shite spaces in both ends if exists\n",
        "    text = text.strip()\n",
        "\n",
        "    # Tokenize the text\n",
        "    tokens = word_tokenize(text)\n",
        "\n",
        "    table = str.maketrans('', '', string.punctuation)\n",
        "    tokens = [word.lower() for word in tokens if word.lower() not in stop_words]\n",
        "    tokens = [word.translate(table) for word in tokens]\n",
        "\n",
        "    lemmatizer = WordNetLemmatizer()\n",
        "    tokens = [lemmatizer.lemmatize(word) for word in tokens]\n",
        "\n",
        "    # Join the filtered tokens back into a sentence\n",
        "    filtered_text = ' '.join(tokens)\n",
        "\n",
        "    return filtered_text"
      ]
    },
    {
      "cell_type": "code",
      "execution_count": 20,
      "id": "7c74a3c3-71cf-441e-a313-0d5aaa193770",
      "metadata": {
        "id": "7c74a3c3-71cf-441e-a313-0d5aaa193770"
      },
      "outputs": [],
      "source": [
        "df['review'] = df['review'].apply(process_text)"
      ]
    },
    {
      "cell_type": "code",
      "execution_count": 21,
      "id": "6f74c73d-73c3-4e4b-ab96-b52f10f60987",
      "metadata": {
        "colab": {
          "base_uri": "https://localhost:8080/",
          "height": 466
        },
        "id": "6f74c73d-73c3-4e4b-ab96-b52f10f60987",
        "outputId": "e95692a3-d15f-46a5-f3a1-a2d36468b8fb"
      },
      "outputs": [
        {
          "output_type": "execute_result",
          "data": {
            "text/plain": [
              "<Axes: xlabel='sentiment', ylabel='count'>"
            ]
          },
          "metadata": {},
          "execution_count": 21
        },
        {
          "output_type": "display_data",
          "data": {
            "text/plain": [
              "<Figure size 640x480 with 1 Axes>"
            ],
            "image/png": "[encoded data removed]"
          },
          "metadata": {}
        }
      ],
      "source": [
        "sns.countplot(df, x='sentiment')"
      ]
    },
    {
      "cell_type": "code",
      "execution_count": 23,
      "id": "da2f9741-3f46-4555-b647-321b2ea51402",
      "metadata": {
        "id": "da2f9741-3f46-4555-b647-321b2ea51402"
      },
      "outputs": [],
      "source": [
        "from sklearn.feature_extraction.text import TfidfVectorizer\n",
        "from sklearn.model_selection import train_test_split, GridSearchCV\n",
        "from imblearn.over_sampling import SMOTE\n",
        "from sklearn.decomposition import PCA\n",
        "\n",
        "\n",
        "from sklearn.linear_model import LogisticRegression\n",
        "from sklearn.ensemble import RandomForestClassifier\n",
        "from sklearn.metrics import classification_report, confusion_matrix, accuracy_score, ConfusionMatrixDisplay"
      ]
    },
    {
      "cell_type": "code",
      "execution_count": 24,
      "id": "fdadc32d-b150-4962-9737-2ba42a8e8aca",
      "metadata": {
        "id": "fdadc32d-b150-4962-9737-2ba42a8e8aca"
      },
      "outputs": [],
      "source": [
        "X =  df['review']\n",
        "y = df['sentiment']"
      ]
    },
    {
      "cell_type": "code",
      "source": [],
      "metadata": {
        "id": "PinZmYQBFv7w"
      },
      "id": "PinZmYQBFv7w",
      "execution_count": 29,
      "outputs": []
    },
    {
      "cell_type": "code",
      "execution_count": 30,
      "id": "2e7342b2-57cb-4f24-a380-5642cfd13696",
      "metadata": {
        "id": "2e7342b2-57cb-4f24-a380-5642cfd13696"
      },
      "outputs": [],
      "source": [
        "tfidf_vectorizer = TfidfVectorizer()\n",
        "X_tfidf = tfidf_vectorizer.fit_transform(X)"
      ]
    },
    {
      "cell_type": "code",
      "execution_count": 32,
      "id": "1e1dc128-8f9c-44fb-82fd-ce9c540d1aaf",
      "metadata": {
        "id": "1e1dc128-8f9c-44fb-82fd-ce9c540d1aaf"
      },
      "outputs": [],
      "source": [
        "## Using Smote for handling class imbalnace"
      ]
    },
    {
      "cell_type": "code",
      "execution_count": 33,
      "id": "889226de-6526-4e9c-9ad4-138be417ea8d",
      "metadata": {
        "id": "889226de-6526-4e9c-9ad4-138be417ea8d"
      },
      "outputs": [],
      "source": [
        "smote = SMOTE(random_state=42)\n",
        "X_resampled, y_resampled = smote.fit_resample(X_tfidf, y)"
      ]
    },
    {
      "cell_type": "code",
      "execution_count": 34,
      "id": "4860a792-2cb2-4d6b-b70b-32b03f4186d7",
      "metadata": {
        "colab": {
          "base_uri": "https://localhost:8080/",
          "height": 472
        },
        "id": "4860a792-2cb2-4d6b-b70b-32b03f4186d7",
        "outputId": "77f413b9-c1c9-43cb-a25d-fb82739097d0"
      },
      "outputs": [
        {
          "output_type": "display_data",
          "data": {
            "text/plain": [
              "<Figure size 640x480 with 1 Axes>"
            ],
            "image/png": "[encoded data removed]"
          },
          "metadata": {}
        }
      ],
      "source": [
        "plt.bar(y_resampled.value_counts().keys(), y_resampled.value_counts())\n",
        "plt.title('Positive and Negetive text count')\n",
        "plt.xlabel(['0', '1'])\n",
        "plt.show()"
      ]
    },
    {
      "cell_type": "code",
      "source": [
        "X_train, X_test, y_train, y_test = train_test_split(X_resampled, y_resampled, test_size=0.3, random_state=42)"
      ],
      "metadata": {
        "id": "aoE-66A3GW1c"
      },
      "id": "aoE-66A3GW1c",
      "execution_count": 37,
      "outputs": []
    },
    {
      "cell_type": "code",
      "execution_count": 39,
      "id": "65461fd9-3eaa-4b57-b75b-b0e9a06efaa7",
      "metadata": {
        "colab": {
          "base_uri": "https://localhost:8080/"
        },
        "id": "65461fd9-3eaa-4b57-b75b-b0e9a06efaa7",
        "outputId": "32dcf155-2e81-479c-87a2-bb75d3399aa8"
      },
      "outputs": [
        {
          "output_type": "execute_result",
          "data": {
            "text/plain": [
              "0.9775059194948698"
            ]
          },
          "metadata": {},
          "execution_count": 39
        }
      ],
      "source": [
        "logistic_regression = LogisticRegression()\n",
        "logistic_regression.fit(X_train, y_train)\n",
        "logistic_regression.score(X_train, y_train)"
      ]
    },
    {
      "cell_type": "markdown",
      "id": "31eee4a0-5dc2-40d5-8401-1496b717b1ca",
      "metadata": {
        "id": "31eee4a0-5dc2-40d5-8401-1496b717b1ca"
      },
      "source": [
        "### Training result from logistic regression"
      ]
    },
    {
      "cell_type": "code",
      "execution_count": 41,
      "id": "9bbce181-fa6e-48b4-9f49-29a169107654",
      "metadata": {
        "colab": {
          "base_uri": "https://localhost:8080/"
        },
        "id": "9bbce181-fa6e-48b4-9f49-29a169107654",
        "outputId": "61a2125e-f8e7-4e1a-ac2a-bda60a3274f0"
      },
      "outputs": [
        {
          "output_type": "stream",
          "name": "stdout",
          "text": [
            "              precision    recall  f1-score   support\n",
            "\n",
            "           0       0.98      0.97      0.98      2558\n",
            "           1       0.97      0.98      0.98      2510\n",
            "\n",
            "    accuracy                           0.98      5068\n",
            "   macro avg       0.98      0.98      0.98      5068\n",
            "weighted avg       0.98      0.98      0.98      5068\n",
            "\n"
          ]
        }
      ],
      "source": [
        "logistic_train_pred = logistic_regression.predict(X_train)\n",
        "print(classification_report(y_train, logistic_train_pred))"
      ]
    },
    {
      "cell_type": "code",
      "execution_count": 42,
      "id": "c611e32a-1ef7-4341-bb02-bf3610d5fc13",
      "metadata": {
        "colab": {
          "base_uri": "https://localhost:8080/"
        },
        "id": "c611e32a-1ef7-4341-bb02-bf3610d5fc13",
        "outputId": "7f7bb149-481b-41cd-8cfb-8f4ecffc375b"
      },
      "outputs": [
        {
          "output_type": "execute_result",
          "data": {
            "text/plain": [
              "0.9387661141804788"
            ]
          },
          "metadata": {},
          "execution_count": 42
        }
      ],
      "source": [
        "logistic_y_pred = logistic_regression.predict(X_test)\n",
        "logistic_accuracy = accuracy_score(y_test, logistic_y_pred)\n",
        "logistic_accuracy"
      ]
    },
    {
      "cell_type": "code",
      "execution_count": 43,
      "id": "284c21a6-f274-414a-9290-e84b271777b0",
      "metadata": {
        "colab": {
          "base_uri": "https://localhost:8080/"
        },
        "id": "284c21a6-f274-414a-9290-e84b271777b0",
        "outputId": "860af013-d4f7-4211-884e-990ca7e649be"
      },
      "outputs": [
        {
          "output_type": "stream",
          "name": "stdout",
          "text": [
            "              precision    recall  f1-score   support\n",
            "\n",
            "           0       0.93      0.94      0.94      1062\n",
            "           1       0.94      0.94      0.94      1110\n",
            "\n",
            "    accuracy                           0.94      2172\n",
            "   macro avg       0.94      0.94      0.94      2172\n",
            "weighted avg       0.94      0.94      0.94      2172\n",
            "\n"
          ]
        }
      ],
      "source": [
        "print(classification_report(y_test, logistic_y_pred))"
      ]
    },
    {
      "cell_type": "code",
      "execution_count": 44,
      "id": "39cdd7e0-1b6c-4452-a1f9-bd4b08f963a3",
      "metadata": {
        "colab": {
          "base_uri": "https://localhost:8080/",
          "height": 466
        },
        "id": "39cdd7e0-1b6c-4452-a1f9-bd4b08f963a3",
        "outputId": "2bf41e62-a7e5-4286-fe9d-5afe9156fd86"
      },
      "outputs": [
        {
          "output_type": "execute_result",
          "data": {
            "text/plain": [
              "<sklearn.metrics._plot.confusion_matrix.ConfusionMatrixDisplay at 0x794389583ca0>"
            ]
          },
          "metadata": {},
          "execution_count": 44
        },
        {
          "output_type": "display_data",
          "data": {
            "text/plain": [
              "<Figure size 640x480 with 2 Axes>"
            ],
            "image/png": "[encoded data removed]"
          },
          "metadata": {}
        }
      ],
      "source": [
        "conf_matrix = confusion_matrix(y_test, logistic_y_pred)\n",
        "disp = ConfusionMatrixDisplay(confusion_matrix=conf_matrix, display_labels=logistic_regression.classes_)\n",
        "disp.plot()"
      ]
    },
    {
      "cell_type": "code",
      "execution_count": 72,
      "id": "a9b546d7-26e0-4d95-a393-a209ee9b567a",
      "metadata": {
        "id": "a9b546d7-26e0-4d95-a393-a209ee9b567a"
      },
      "outputs": [],
      "source": [
        "pca = PCA(n_components=10)\n",
        "X_train_pca = pca.fit_transform(X_train.toarray())\n",
        "X_test_pca = pca.fit_transform(X_test.toarray())"
      ]
    },
    {
      "cell_type": "code",
      "execution_count": 73,
      "id": "cb29eb30-79b7-49bc-996f-d3d6466ab51e",
      "metadata": {
        "colab": {
          "base_uri": "https://localhost:8080/"
        },
        "id": "cb29eb30-79b7-49bc-996f-d3d6466ab51e",
        "outputId": "3b7aca9e-3187-48a5-9f90-f6c0b716e722"
      },
      "outputs": [
        {
          "output_type": "execute_result",
          "data": {
            "text/plain": [
              "0.8559589581689029"
            ]
          },
          "metadata": {},
          "execution_count": 73
        }
      ],
      "source": [
        "logistic_regression = LogisticRegression()\n",
        "logistic_regression.fit(X_train_pca, y_train)\n",
        "\n",
        "logistic_regression.score(X_train_pca, y_train)"
      ]
    },
    {
      "cell_type": "code",
      "execution_count": 74,
      "id": "98a7f496-77f0-4472-8d26-4c78cfc2eae7",
      "metadata": {
        "colab": {
          "base_uri": "https://localhost:8080/"
        },
        "id": "98a7f496-77f0-4472-8d26-4c78cfc2eae7",
        "outputId": "65d6c07d-5f59-4991-f398-61a0107ae8d4"
      },
      "outputs": [
        {
          "output_type": "execute_result",
          "data": {
            "text/plain": [
              "0.7380294659300184"
            ]
          },
          "metadata": {},
          "execution_count": 74
        }
      ],
      "source": [
        "logistic_y_pred = logistic_regression.predict(X_test_pca)\n",
        "logistic_accuracy = accuracy_score(y_test, logistic_y_pred)\n",
        "logistic_accuracy"
      ]
    },
    {
      "cell_type": "code",
      "execution_count": 75,
      "id": "16240eff-b2c6-4355-ac0d-845f27376c79",
      "metadata": {
        "colab": {
          "base_uri": "https://localhost:8080/",
          "height": 466
        },
        "id": "16240eff-b2c6-4355-ac0d-845f27376c79",
        "outputId": "76a947e4-6fcb-4ebb-d9df-66838527a938"
      },
      "outputs": [
        {
          "output_type": "execute_result",
          "data": {
            "text/plain": [
              "<sklearn.metrics._plot.confusion_matrix.ConfusionMatrixDisplay at 0x79432fda3a00>"
            ]
          },
          "metadata": {},
          "execution_count": 75
        },
        {
          "output_type": "display_data",
          "data": {
            "text/plain": [
              "<Figure size 640x480 with 2 Axes>"
            ],
            "image/png": "[encoded data removed]"
          },
          "metadata": {}
        }
      ],
      "source": [
        "conf_matrix = confusion_matrix(y_test, logistic_y_pred)\n",
        "disp = ConfusionMatrixDisplay(confusion_matrix=conf_matrix, display_labels=logistic_regression.classes_)\n",
        "disp.plot()"
      ]
    },
    {
      "cell_type": "markdown",
      "id": "c974a313-fe73-44ee-97f9-66a6e24f1267",
      "metadata": {
        "id": "c974a313-fe73-44ee-97f9-66a6e24f1267"
      },
      "source": [
        "## Random Forest Classifier after PCA"
      ]
    },
    {
      "cell_type": "code",
      "execution_count": 76,
      "id": "ad5febf0-04c7-443a-b8c7-797fbdbe1b68",
      "metadata": {
        "colab": {
          "base_uri": "https://localhost:8080/"
        },
        "id": "ad5febf0-04c7-443a-b8c7-797fbdbe1b68",
        "outputId": "61bb87eb-4e74-4066-9292-abfe7354235e"
      },
      "outputs": [
        {
          "output_type": "execute_result",
          "data": {
            "text/plain": [
              "0.999802683504341"
            ]
          },
          "metadata": {},
          "execution_count": 76
        }
      ],
      "source": [
        "rf_classifier = RandomForestClassifier()\n",
        "rf_classifier.fit(X_train_pca, y_train)\n",
        "rf_classifier.score(X_train_pca, y_train)"
      ]
    },
    {
      "cell_type": "code",
      "execution_count": 77,
      "id": "c7c8bf14-3574-4306-a926-163b8e318592",
      "metadata": {
        "colab": {
          "base_uri": "https://localhost:8080/"
        },
        "id": "c7c8bf14-3574-4306-a926-163b8e318592",
        "outputId": "a52638de-cf75-4d95-ac04-e4f4eb07de62"
      },
      "outputs": [
        {
          "output_type": "stream",
          "name": "stdout",
          "text": [
            "              precision    recall  f1-score   support\n",
            "\n",
            "           0       0.72      0.76      0.74      1062\n",
            "           1       0.76      0.72      0.74      1110\n",
            "\n",
            "    accuracy                           0.74      2172\n",
            "   macro avg       0.74      0.74      0.74      2172\n",
            "weighted avg       0.74      0.74      0.74      2172\n",
            "\n"
          ]
        }
      ],
      "source": [
        "y_pred = rf_classifier.predict(X_test_pca)\n",
        "accuracy = accuracy_score(y_test, y_pred)\n",
        "print(classification_report(y_test, y_pred))"
      ]
    },
    {
      "cell_type": "markdown",
      "source": [
        "RFC with hyperparameter tuning"
      ],
      "metadata": {
        "id": "Weun2yBKQ_o1"
      },
      "id": "Weun2yBKQ_o1"
    },
    {
      "cell_type": "code",
      "execution_count": 105,
      "id": "4a552aa2-6ca9-4c1a-9434-9149de094563",
      "metadata": {
        "id": "4a552aa2-6ca9-4c1a-9434-9149de094563",
        "colab": {
          "base_uri": "https://localhost:8080/",
          "height": 116
        },
        "outputId": "0f96cc78-87ca-48ac-b8a4-1f4ba3af2a91"
      },
      "outputs": [
        {
          "output_type": "execute_result",
          "data": {
            "text/plain": [
              "GridSearchCV(cv=5, estimator=RandomForestClassifier(random_state=42),\n",
              "             param_grid={'max_depth': [None, 5, 10],\n",
              "                         'max_features': ['sqrt', 'log2'],\n",
              "                         'min_samples_leaf': [1, 2, 4],\n",
              "                         'min_samples_split': [2, 5, 10],\n",
              "                         'n_estimators': [50, 100, 200]})"
            ],
            "text/html": [
              "<style>#sk-container-id-1 {color: black;background-color: white;}#sk-container-id-1 pre{padding: 0;}#sk-container-id-1 div.sk-toggleable {background-color: white;}#sk-container-id-1 label.sk-toggleable__label {cursor: pointer;display: block;width: 100%;margin-bottom: 0;padding: 0.3em;box-sizing: border-box;text-align: center;}#sk-container-id-1 label.sk-toggleable__label-arrow:before {content: \"▸\";float: left;margin-right: 0.25em;color: #696969;}#sk-container-id-1 label.sk-toggleable__label-arrow:hover:before {color: black;}#sk-container-id-1 div.sk-estimator:hover label.sk-toggleable__label-arrow:before {color: black;}#sk-container-id-1 div.sk-toggleable__content {max-height: 0;max-width: 0;overflow: hidden;text-align: left;background-color: #f0f8ff;}#sk-container-id-1 div.sk-toggleable__content pre {margin: 0.2em;color: black;border-radius: 0.25em;background-color: #f0f8ff;}#sk-container-id-1 input.sk-toggleable__control:checked~div.sk-toggleable__content {max-height: 200px;max-width: 100%;overflow: auto;}#sk-container-id-1 input.sk-toggleable__control:checked~label.sk-toggleable__label-arrow:before {content: \"▾\";}#sk-container-id-1 div.sk-estimator input.sk-toggleable__control:checked~label.sk-toggleable__label {background-color: #d4ebff;}#sk-container-id-1 div.sk-label input.sk-toggleable__control:checked~label.sk-toggleable__label {background-color: #d4ebff;}#sk-container-id-1 input.sk-hidden--visually {border: 0;clip: rect(1px 1px 1px 1px);clip: rect(1px, 1px, 1px, 1px);height: 1px;margin: -1px;overflow: hidden;padding: 0;position: absolute;width: 1px;}#sk-container-id-1 div.sk-estimator {font-family: monospace;background-color: #f0f8ff;border: 1px dotted black;border-radius: 0.25em;box-sizing: border-box;margin-bottom: 0.5em;}#sk-container-id-1 div.sk-estimator:hover {background-color: #d4ebff;}#sk-container-id-1 div.sk-parallel-item::after {content: \"\";width: 100%;border-bottom: 1px solid gray;flex-grow: 1;}#sk-container-id-1 div.sk-label:hover label.sk-toggleable__label {background-color: #d4ebff;}#sk-container-id-1 div.sk-serial::before {content: \"\";position: absolute;border-left: 1px solid gray;box-sizing: border-box;top: 0;bottom: 0;left: 50%;z-index: 0;}#sk-container-id-1 div.sk-serial {display: flex;flex-direction: column;align-items: center;background-color: white;padding-right: 0.2em;padding-left: 0.2em;position: relative;}#sk-container-id-1 div.sk-item {position: relative;z-index: 1;}#sk-container-id-1 div.sk-parallel {display: flex;align-items: stretch;justify-content: center;background-color: white;position: relative;}#sk-container-id-1 div.sk-item::before, #sk-container-id-1 div.sk-parallel-item::before {content: \"\";position: absolute;border-left: 1px solid gray;box-sizing: border-box;top: 0;bottom: 0;left: 50%;z-index: -1;}#sk-container-id-1 div.sk-parallel-item {display: flex;flex-direction: column;z-index: 1;position: relative;background-color: white;}#sk-container-id-1 div.sk-parallel-item:first-child::after {align-self: flex-end;width: 50%;}#sk-container-id-1 div.sk-parallel-item:last-child::after {align-self: flex-start;width: 50%;}#sk-container-id-1 div.sk-parallel-item:only-child::after {width: 0;}#sk-container-id-1 div.sk-dashed-wrapped {border: 1px dashed gray;margin: 0 0.4em 0.5em 0.4em;box-sizing: border-box;padding-bottom: 0.4em;background-color: white;}#sk-container-id-1 div.sk-label label {font-family: monospace;font-weight: bold;display: inline-block;line-height: 1.2em;}#sk-container-id-1 div.sk-label-container {text-align: center;}#sk-container-id-1 div.sk-container {/* jupyter's `normalize.less` sets `[hidden] { display: none; }` but bootstrap.min.css set `[hidden] { display: none !important; }` so we also need the `!important` here to be able to override the default hidden behavior on the sphinx rendered scikit-learn.org. See: https://github.com/scikit-learn/scikit-learn/issues/21755 */display: inline-block !important;position: relative;}#sk-container-id-1 div.sk-text-repr-fallback {display: none;}</style><div id=\"sk-container-id-1\" class=\"sk-top-container\"><div class=\"sk-text-repr-fallback\"><pre>GridSearchCV(cv=5, estimator=RandomForestClassifier(random_state=42),\n",
              "             param_grid={&#x27;max_depth&#x27;: [None, 5, 10],\n",
              "                         &#x27;max_features&#x27;: [&#x27;sqrt&#x27;, &#x27;log2&#x27;],\n",
              "                         &#x27;min_samples_leaf&#x27;: [1, 2, 4],\n",
              "                         &#x27;min_samples_split&#x27;: [2, 5, 10],\n",
              "                         &#x27;n_estimators&#x27;: [50, 100, 200]})</pre><b>In a Jupyter environment, please rerun this cell to show the HTML representation or trust the notebook. <br />On GitHub, the HTML representation is unable to render, please try loading this page with nbviewer.org.</b></div><div class=\"sk-container\" hidden><div class=\"sk-item sk-dashed-wrapped\"><div class=\"sk-label-container\"><div class=\"sk-label sk-toggleable\"><input class=\"sk-toggleable__control sk-hidden--visually\" id=\"sk-estimator-id-1\" type=\"checkbox\" ><label for=\"sk-estimator-id-1\" class=\"sk-toggleable__label sk-toggleable__label-arrow\">GridSearchCV</label><div class=\"sk-toggleable__content\"><pre>GridSearchCV(cv=5, estimator=RandomForestClassifier(random_state=42),\n",
              "             param_grid={&#x27;max_depth&#x27;: [None, 5, 10],\n",
              "                         &#x27;max_features&#x27;: [&#x27;sqrt&#x27;, &#x27;log2&#x27;],\n",
              "                         &#x27;min_samples_leaf&#x27;: [1, 2, 4],\n",
              "                         &#x27;min_samples_split&#x27;: [2, 5, 10],\n",
              "                         &#x27;n_estimators&#x27;: [50, 100, 200]})</pre></div></div></div><div class=\"sk-parallel\"><div class=\"sk-parallel-item\"><div class=\"sk-item\"><div class=\"sk-label-container\"><div class=\"sk-label sk-toggleable\"><input class=\"sk-toggleable__control sk-hidden--visually\" id=\"sk-estimator-id-2\" type=\"checkbox\" ><label for=\"sk-estimator-id-2\" class=\"sk-toggleable__label sk-toggleable__label-arrow\">estimator: RandomForestClassifier</label><div class=\"sk-toggleable__content\"><pre>RandomForestClassifier(random_state=42)</pre></div></div></div><div class=\"sk-serial\"><div class=\"sk-item\"><div class=\"sk-estimator sk-toggleable\"><input class=\"sk-toggleable__control sk-hidden--visually\" id=\"sk-estimator-id-3\" type=\"checkbox\" ><label for=\"sk-estimator-id-3\" class=\"sk-toggleable__label sk-toggleable__label-arrow\">RandomForestClassifier</label><div class=\"sk-toggleable__content\"><pre>RandomForestClassifier(random_state=42)</pre></div></div></div></div></div></div></div></div></div></div>"
            ]
          },
          "metadata": {},
          "execution_count": 105
        }
      ],
      "source": [
        "\n",
        "param_grid = {\n",
        "    'n_estimators': [50, 100, 200],\n",
        "    'max_depth': [None, 5, 10],\n",
        "    'min_samples_split': [2, 5, 10],\n",
        "    'min_samples_leaf': [1, 2, 4],\n",
        "    'max_features': ['sqrt', 'log2']\n",
        "}\n",
        "\n",
        "rf_classifier = RandomForestClassifier(random_state=42)\n",
        "grid_search = GridSearchCV(estimator=rf_classifier, param_grid=param_grid, cv=5)\n",
        "grid_search.fit(X_train_pca, y_train)"
      ]
    },
    {
      "cell_type": "code",
      "source": [
        "best_params = grid_search.best_params_\n",
        "best_params"
      ],
      "metadata": {
        "colab": {
          "base_uri": "https://localhost:8080/"
        },
        "id": "UEaUf3J4RSNs",
        "outputId": "a32322cb-5e8c-4d14-dcb5-58b113655f4a"
      },
      "id": "UEaUf3J4RSNs",
      "execution_count": 109,
      "outputs": [
        {
          "output_type": "execute_result",
          "data": {
            "text/plain": [
              "{'max_depth': None,\n",
              " 'max_features': 'sqrt',\n",
              " 'min_samples_leaf': 1,\n",
              " 'min_samples_split': 2,\n",
              " 'n_estimators': 200}"
            ]
          },
          "metadata": {},
          "execution_count": 109
        }
      ]
    },
    {
      "cell_type": "code",
      "execution_count": 106,
      "id": "11345d89-c27b-4554-be5a-7637bba8407d",
      "metadata": {
        "id": "11345d89-c27b-4554-be5a-7637bba8407d"
      },
      "outputs": [],
      "source": [
        "best_rf_model = grid_search.best_estimator_"
      ]
    },
    {
      "cell_type": "code",
      "execution_count": 107,
      "id": "252a688f-ec3b-44d1-9132-b9ef5d9ded3b",
      "metadata": {
        "id": "252a688f-ec3b-44d1-9132-b9ef5d9ded3b",
        "colab": {
          "base_uri": "https://localhost:8080/"
        },
        "outputId": "0a3d86f5-840f-46b1-fc25-dd988d68cdd2"
      },
      "outputs": [
        {
          "output_type": "execute_result",
          "data": {
            "text/plain": [
              "1.0"
            ]
          },
          "metadata": {},
          "execution_count": 107
        }
      ],
      "source": [
        "best_rf_model.score(X_train_pca, y_train)"
      ]
    },
    {
      "cell_type": "code",
      "execution_count": 108,
      "id": "3f8e11a7-0457-4161-b6f1-e2c51cd2d337",
      "metadata": {
        "id": "3f8e11a7-0457-4161-b6f1-e2c51cd2d337",
        "colab": {
          "base_uri": "https://localhost:8080/"
        },
        "outputId": "272e1319-3f68-4292-e6d9-89d93bfc52ff"
      },
      "outputs": [
        {
          "output_type": "execute_result",
          "data": {
            "text/plain": [
              "0.7394106813996317"
            ]
          },
          "metadata": {},
          "execution_count": 108
        }
      ],
      "source": [
        "y_pred = best_rf_model.predict(X_test_pca)\n",
        "accuracy = accuracy_score(y_test, y_pred)\n",
        "accuracy"
      ]
    },
    {
      "cell_type": "markdown",
      "source": [
        "Using ANN"
      ],
      "metadata": {
        "id": "e1DvG8YpQ8xl"
      },
      "id": "e1DvG8YpQ8xl"
    },
    {
      "cell_type": "code",
      "execution_count": 83,
      "id": "c8930ad2-395d-46ab-a1f5-74cb5624ed55",
      "metadata": {
        "id": "c8930ad2-395d-46ab-a1f5-74cb5624ed55"
      },
      "outputs": [],
      "source": [
        "from keras.models import Sequential\n",
        "from keras.layers import Dense, Dropout\n",
        "from keras.optimizers import Adam\n",
        "from tensorflow.keras import regularizers"
      ]
    },
    {
      "cell_type": "code",
      "execution_count": 84,
      "id": "0d8e75d4-b10c-416e-b8c2-f962b7ec17b5",
      "metadata": {
        "id": "0d8e75d4-b10c-416e-b8c2-f962b7ec17b5"
      },
      "outputs": [],
      "source": [
        "model = Sequential()\n",
        "model.add(Dense(128, activation='relu',  kernel_regularizer=regularizers.l2(0.01), input_shape=(X_test_pca.shape[1],)))\n",
        "model.add(Dropout(0.5))\n",
        "model.add(Dense(64, activation='relu', kernel_regularizer=regularizers.l2(0.01)))\n",
        "model.add(Dropout(0.5))\n",
        "model.add(Dense(2, activation='softmax'))"
      ]
    },
    {
      "cell_type": "code",
      "execution_count": 85,
      "id": "67473bcf-693e-42ac-8a8f-49349e6773bb",
      "metadata": {
        "id": "67473bcf-693e-42ac-8a8f-49349e6773bb"
      },
      "outputs": [],
      "source": [
        "model.compile(loss='sparse_categorical_crossentropy', optimizer='Adam', metrics=['accuracy'])"
      ]
    },
    {
      "cell_type": "code",
      "execution_count": 86,
      "id": "e2d38045-6d64-4dc2-8658-9dbfa6640292",
      "metadata": {
        "colab": {
          "base_uri": "https://localhost:8080/"
        },
        "id": "e2d38045-6d64-4dc2-8658-9dbfa6640292",
        "outputId": "fe0b6cae-f3c7-4e9f-9cc2-6e6f6b268287"
      },
      "outputs": [
        {
          "output_type": "stream",
          "name": "stdout",
          "text": [
            "Model: \"sequential_3\"\n",
            "_________________________________________________________________\n",
            " Layer (type)                Output Shape              Param #   \n",
            "=================================================================\n",
            " dense_8 (Dense)             (None, 128)               1408      \n",
            "                                                                 \n",
            " dropout_5 (Dropout)         (None, 128)               0         \n",
            "                                                                 \n",
            " dense_9 (Dense)             (None, 64)                8256      \n",
            "                                                                 \n",
            " dropout_6 (Dropout)         (None, 64)                0         \n",
            "                                                                 \n",
            " dense_10 (Dense)            (None, 2)                 130       \n",
            "                                                                 \n",
            "=================================================================\n",
            "Total params: 9794 (38.26 KB)\n",
            "Trainable params: 9794 (38.26 KB)\n",
            "Non-trainable params: 0 (0.00 Byte)\n",
            "_________________________________________________________________\n"
          ]
        }
      ],
      "source": [
        "model.summary()"
      ]
    },
    {
      "cell_type": "code",
      "execution_count": 98,
      "id": "a8b18220-14e5-4b77-9392-f89d8b4c1f53",
      "metadata": {
        "colab": {
          "base_uri": "https://localhost:8080/"
        },
        "id": "a8b18220-14e5-4b77-9392-f89d8b4c1f53",
        "outputId": "76d42e9c-6741-4f5e-901f-885a9b8f94ad"
      },
      "outputs": [
        {
          "output_type": "stream",
          "name": "stdout",
          "text": [
            "Epoch 1/100\n",
            "159/159 [==============================] - 1s 8ms/step - loss: 0.4037 - accuracy: 0.8500 - val_loss: 0.6063 - val_accuracy: 0.7514\n",
            "Epoch 2/100\n",
            "159/159 [==============================] - 1s 7ms/step - loss: 0.4063 - accuracy: 0.8496 - val_loss: 0.5849 - val_accuracy: 0.7574\n",
            "Epoch 3/100\n",
            "159/159 [==============================] - 1s 6ms/step - loss: 0.4064 - accuracy: 0.8467 - val_loss: 0.5822 - val_accuracy: 0.7528\n",
            "Epoch 4/100\n",
            "159/159 [==============================] - 1s 5ms/step - loss: 0.4048 - accuracy: 0.8473 - val_loss: 0.6112 - val_accuracy: 0.7486\n",
            "Epoch 5/100\n",
            "159/159 [==============================] - 1s 5ms/step - loss: 0.4022 - accuracy: 0.8510 - val_loss: 0.6131 - val_accuracy: 0.7514\n",
            "Epoch 6/100\n",
            "159/159 [==============================] - 1s 5ms/step - loss: 0.3997 - accuracy: 0.8548 - val_loss: 0.5973 - val_accuracy: 0.7587\n",
            "Epoch 7/100\n",
            "159/159 [==============================] - 1s 4ms/step - loss: 0.4044 - accuracy: 0.8465 - val_loss: 0.5943 - val_accuracy: 0.7505\n",
            "Epoch 8/100\n",
            "159/159 [==============================] - 1s 4ms/step - loss: 0.3947 - accuracy: 0.8575 - val_loss: 0.5974 - val_accuracy: 0.7532\n",
            "Epoch 9/100\n",
            "159/159 [==============================] - 1s 4ms/step - loss: 0.4077 - accuracy: 0.8475 - val_loss: 0.6113 - val_accuracy: 0.7551\n",
            "Epoch 10/100\n",
            "159/159 [==============================] - 1s 6ms/step - loss: 0.4013 - accuracy: 0.8528 - val_loss: 0.5872 - val_accuracy: 0.7551\n",
            "Epoch 11/100\n",
            "159/159 [==============================] - 1s 3ms/step - loss: 0.4030 - accuracy: 0.8489 - val_loss: 0.6047 - val_accuracy: 0.7459\n",
            "Epoch 12/100\n",
            "159/159 [==============================] - 1s 3ms/step - loss: 0.4015 - accuracy: 0.8500 - val_loss: 0.6517 - val_accuracy: 0.7403\n",
            "Epoch 13/100\n",
            "159/159 [==============================] - 0s 3ms/step - loss: 0.3983 - accuracy: 0.8518 - val_loss: 0.5964 - val_accuracy: 0.7583\n",
            "Epoch 14/100\n",
            "159/159 [==============================] - 0s 3ms/step - loss: 0.4024 - accuracy: 0.8473 - val_loss: 0.6128 - val_accuracy: 0.7436\n",
            "Epoch 15/100\n",
            "159/159 [==============================] - 0s 3ms/step - loss: 0.3980 - accuracy: 0.8493 - val_loss: 0.6204 - val_accuracy: 0.7518\n",
            "Epoch 16/100\n",
            "159/159 [==============================] - 0s 3ms/step - loss: 0.3997 - accuracy: 0.8548 - val_loss: 0.5852 - val_accuracy: 0.7587\n",
            "Epoch 17/100\n",
            "159/159 [==============================] - 0s 3ms/step - loss: 0.3982 - accuracy: 0.8494 - val_loss: 0.6243 - val_accuracy: 0.7472\n",
            "Epoch 18/100\n",
            "159/159 [==============================] - 0s 3ms/step - loss: 0.3954 - accuracy: 0.8514 - val_loss: 0.5839 - val_accuracy: 0.7491\n",
            "Epoch 19/100\n",
            "159/159 [==============================] - 0s 3ms/step - loss: 0.3996 - accuracy: 0.8554 - val_loss: 0.6198 - val_accuracy: 0.7560\n",
            "Epoch 20/100\n",
            "159/159 [==============================] - 1s 4ms/step - loss: 0.3954 - accuracy: 0.8558 - val_loss: 0.5908 - val_accuracy: 0.7500\n",
            "Epoch 21/100\n",
            "159/159 [==============================] - 1s 4ms/step - loss: 0.3987 - accuracy: 0.8483 - val_loss: 0.6070 - val_accuracy: 0.7477\n",
            "Epoch 22/100\n",
            "159/159 [==============================] - 1s 4ms/step - loss: 0.3991 - accuracy: 0.8487 - val_loss: 0.6136 - val_accuracy: 0.7532\n",
            "Epoch 23/100\n",
            "159/159 [==============================] - 1s 4ms/step - loss: 0.3961 - accuracy: 0.8569 - val_loss: 0.5886 - val_accuracy: 0.7569\n",
            "Epoch 24/100\n",
            "159/159 [==============================] - 1s 4ms/step - loss: 0.3970 - accuracy: 0.8487 - val_loss: 0.6041 - val_accuracy: 0.7546\n",
            "Epoch 25/100\n",
            "159/159 [==============================] - 0s 3ms/step - loss: 0.3962 - accuracy: 0.8496 - val_loss: 0.5900 - val_accuracy: 0.7569\n",
            "Epoch 26/100\n",
            "159/159 [==============================] - 0s 3ms/step - loss: 0.4015 - accuracy: 0.8494 - val_loss: 0.6107 - val_accuracy: 0.7500\n",
            "Epoch 27/100\n",
            "159/159 [==============================] - 0s 3ms/step - loss: 0.3941 - accuracy: 0.8516 - val_loss: 0.6016 - val_accuracy: 0.7523\n",
            "Epoch 28/100\n",
            "159/159 [==============================] - 0s 3ms/step - loss: 0.3899 - accuracy: 0.8552 - val_loss: 0.6451 - val_accuracy: 0.7505\n",
            "Epoch 29/100\n",
            "159/159 [==============================] - 0s 3ms/step - loss: 0.3994 - accuracy: 0.8510 - val_loss: 0.5980 - val_accuracy: 0.7546\n",
            "Epoch 30/100\n",
            "159/159 [==============================] - 0s 3ms/step - loss: 0.4005 - accuracy: 0.8556 - val_loss: 0.5855 - val_accuracy: 0.7541\n",
            "Epoch 31/100\n",
            "159/159 [==============================] - 0s 3ms/step - loss: 0.3959 - accuracy: 0.8506 - val_loss: 0.5988 - val_accuracy: 0.7459\n",
            "Epoch 32/100\n",
            "159/159 [==============================] - 1s 3ms/step - loss: 0.3900 - accuracy: 0.8510 - val_loss: 0.6177 - val_accuracy: 0.7500\n",
            "Epoch 33/100\n",
            "159/159 [==============================] - 0s 3ms/step - loss: 0.3970 - accuracy: 0.8524 - val_loss: 0.6520 - val_accuracy: 0.7256\n",
            "Epoch 34/100\n",
            "159/159 [==============================] - 0s 3ms/step - loss: 0.4044 - accuracy: 0.8455 - val_loss: 0.5972 - val_accuracy: 0.7546\n",
            "Epoch 35/100\n",
            "159/159 [==============================] - 0s 3ms/step - loss: 0.4028 - accuracy: 0.8487 - val_loss: 0.5929 - val_accuracy: 0.7495\n",
            "Epoch 36/100\n",
            "159/159 [==============================] - 0s 3ms/step - loss: 0.4019 - accuracy: 0.8453 - val_loss: 0.6048 - val_accuracy: 0.7537\n",
            "Epoch 37/100\n",
            "159/159 [==============================] - 1s 3ms/step - loss: 0.3951 - accuracy: 0.8571 - val_loss: 0.5996 - val_accuracy: 0.7541\n",
            "159/159 [==============================] - 0s 3ms/step - loss: 0.3964 - accuracy: 0.8518 - val_loss: 0.6094 - val_accuracy: 0.7523\n",
            "Epoch 39/100\n",
            "159/159 [==============================] - 0s 3ms/step - loss: 0.3945 - accuracy: 0.8489 - val_loss: 0.6101 - val_accuracy: 0.7509\n",
            "Epoch 40/100\n",
            "159/159 [==============================] - 0s 3ms/step - loss: 0.3947 - accuracy: 0.8577 - val_loss: 0.5973 - val_accuracy: 0.7537\n",
            "Epoch 41/100\n",
            "159/159 [==============================] - 1s 3ms/step - loss: 0.3931 - accuracy: 0.8532 - val_loss: 0.5916 - val_accuracy: 0.7541\n",
            "Epoch 42/100\n",
            "159/159 [==============================] - 0s 3ms/step - loss: 0.3915 - accuracy: 0.8532 - val_loss: 0.6069 - val_accuracy: 0.7472\n",
            "Epoch 43/100\n",
            "159/159 [==============================] - 0s 3ms/step - loss: 0.3984 - accuracy: 0.8526 - val_loss: 0.5895 - val_accuracy: 0.7606\n",
            "Epoch 44/100\n",
            "159/159 [==============================] - 0s 3ms/step - loss: 0.3961 - accuracy: 0.8516 - val_loss: 0.6163 - val_accuracy: 0.7551\n",
            "Epoch 45/100\n",
            "159/159 [==============================] - 1s 4ms/step - loss: 0.3949 - accuracy: 0.8520 - val_loss: 0.6343 - val_accuracy: 0.7523\n",
            "Epoch 46/100\n",
            "159/159 [==============================] - 1s 4ms/step - loss: 0.3946 - accuracy: 0.8520 - val_loss: 0.5980 - val_accuracy: 0.7514\n",
            "Epoch 47/100\n",
            "159/159 [==============================] - 1s 4ms/step - loss: 0.3980 - accuracy: 0.8520 - val_loss: 0.6160 - val_accuracy: 0.7528\n",
            "Epoch 48/100\n",
            "159/159 [==============================] - 1s 6ms/step - loss: 0.3991 - accuracy: 0.8504 - val_loss: 0.5854 - val_accuracy: 0.7569\n",
            "Epoch 49/100\n",
            "159/159 [==============================] - 1s 3ms/step - loss: 0.3956 - accuracy: 0.8487 - val_loss: 0.6061 - val_accuracy: 0.7592\n",
            "Epoch 50/100\n",
            "159/159 [==============================] - 1s 3ms/step - loss: 0.3932 - accuracy: 0.8512 - val_loss: 0.6106 - val_accuracy: 0.7505\n",
            "Epoch 51/100\n",
            "159/159 [==============================] - 0s 3ms/step - loss: 0.3945 - accuracy: 0.8558 - val_loss: 0.5947 - val_accuracy: 0.7537\n",
            "Epoch 52/100\n",
            "159/159 [==============================] - 1s 3ms/step - loss: 0.3936 - accuracy: 0.8577 - val_loss: 0.5930 - val_accuracy: 0.7657\n",
            "Epoch 53/100\n",
            "159/159 [==============================] - 0s 3ms/step - loss: 0.3939 - accuracy: 0.8538 - val_loss: 0.6005 - val_accuracy: 0.7597\n",
            "Epoch 54/100\n",
            "159/159 [==============================] - 1s 3ms/step - loss: 0.3947 - accuracy: 0.8498 - val_loss: 0.5923 - val_accuracy: 0.7518\n",
            "Epoch 55/100\n",
            "159/159 [==============================] - 1s 3ms/step - loss: 0.3965 - accuracy: 0.8526 - val_loss: 0.5954 - val_accuracy: 0.7551\n",
            "Epoch 56/100\n",
            "159/159 [==============================] - 0s 3ms/step - loss: 0.3920 - accuracy: 0.8581 - val_loss: 0.5999 - val_accuracy: 0.7583\n",
            "Epoch 57/100\n",
            "159/159 [==============================] - 0s 3ms/step - loss: 0.3964 - accuracy: 0.8566 - val_loss: 0.5980 - val_accuracy: 0.7528\n",
            "Epoch 58/100\n",
            "159/159 [==============================] - 0s 3ms/step - loss: 0.3944 - accuracy: 0.8489 - val_loss: 0.5855 - val_accuracy: 0.7564\n",
            "Epoch 59/100\n",
            "159/159 [==============================] - 0s 3ms/step - loss: 0.3950 - accuracy: 0.8500 - val_loss: 0.5781 - val_accuracy: 0.7620\n",
            "Epoch 60/100\n",
            "159/159 [==============================] - 0s 3ms/step - loss: 0.3917 - accuracy: 0.8571 - val_loss: 0.6051 - val_accuracy: 0.7546\n",
            "Epoch 61/100\n",
            "159/159 [==============================] - 0s 3ms/step - loss: 0.3930 - accuracy: 0.8556 - val_loss: 0.5748 - val_accuracy: 0.7551\n",
            "Epoch 62/100\n",
            "159/159 [==============================] - 0s 3ms/step - loss: 0.3974 - accuracy: 0.8483 - val_loss: 0.6231 - val_accuracy: 0.7537\n",
            "Epoch 63/100\n",
            "159/159 [==============================] - 1s 3ms/step - loss: 0.3920 - accuracy: 0.8546 - val_loss: 0.5886 - val_accuracy: 0.7578\n",
            "Epoch 64/100\n",
            "159/159 [==============================] - 0s 3ms/step - loss: 0.3914 - accuracy: 0.8524 - val_loss: 0.5969 - val_accuracy: 0.7532\n",
            "Epoch 65/100\n",
            "159/159 [==============================] - 0s 3ms/step - loss: 0.3973 - accuracy: 0.8506 - val_loss: 0.5791 - val_accuracy: 0.7523\n",
            "Epoch 66/100\n",
            "159/159 [==============================] - 0s 3ms/step - loss: 0.3950 - accuracy: 0.8496 - val_loss: 0.5977 - val_accuracy: 0.7532\n",
            "Epoch 67/100\n",
            "159/159 [==============================] - 0s 3ms/step - loss: 0.3926 - accuracy: 0.8514 - val_loss: 0.5838 - val_accuracy: 0.7578\n",
            "Epoch 68/100\n",
            "159/159 [==============================] - 0s 3ms/step - loss: 0.3967 - accuracy: 0.8538 - val_loss: 0.6151 - val_accuracy: 0.7578\n",
            "Epoch 69/100\n",
            "159/159 [==============================] - 1s 3ms/step - loss: 0.4085 - accuracy: 0.8510 - val_loss: 0.5812 - val_accuracy: 0.7601\n",
            "Epoch 70/100\n",
            "159/159 [==============================] - 1s 4ms/step - loss: 0.3933 - accuracy: 0.8514 - val_loss: 0.5874 - val_accuracy: 0.7601\n",
            "Epoch 71/100\n",
            "159/159 [==============================] - 1s 4ms/step - loss: 0.3880 - accuracy: 0.8512 - val_loss: 0.5895 - val_accuracy: 0.7560\n",
            "Epoch 72/100\n",
            "159/159 [==============================] - 1s 5ms/step - loss: 0.3917 - accuracy: 0.8554 - val_loss: 0.6212 - val_accuracy: 0.7560\n",
            "Epoch 73/100\n",
            "159/159 [==============================] - 1s 4ms/step - loss: 0.3901 - accuracy: 0.8575 - val_loss: 0.5983 - val_accuracy: 0.7518\n",
            "Epoch 74/100\n",
            "159/159 [==============================] - 1s 3ms/step - loss: 0.3954 - accuracy: 0.8532 - val_loss: 0.5872 - val_accuracy: 0.7523\n",
            "Epoch 75/100\n",
            "159/159 [==============================] - 1s 3ms/step - loss: 0.3958 - accuracy: 0.8467 - val_loss: 0.5855 - val_accuracy: 0.7560\n",
            "Epoch 76/100\n",
            "159/159 [==============================] - 1s 3ms/step - loss: 0.3904 - accuracy: 0.8556 - val_loss: 0.6067 - val_accuracy: 0.7509\n",
            "Epoch 77/100\n",
            "159/159 [==============================] - 0s 3ms/step - loss: 0.3962 - accuracy: 0.8504 - val_loss: 0.5982 - val_accuracy: 0.7560\n",
            "Epoch 78/100\n",
            "159/159 [==============================] - 1s 3ms/step - loss: 0.3901 - accuracy: 0.8516 - val_loss: 0.5763 - val_accuracy: 0.7587\n",
            "Epoch 79/100\n",
            "159/159 [==============================] - 0s 3ms/step - loss: 0.3930 - accuracy: 0.8500 - val_loss: 0.5849 - val_accuracy: 0.7574\n",
            "Epoch 80/100\n",
            "159/159 [==============================] - 1s 3ms/step - loss: 0.4025 - accuracy: 0.8542 - val_loss: 0.5772 - val_accuracy: 0.7537\n",
            "Epoch 81/100\n",
            "159/159 [==============================] - 1s 3ms/step - loss: 0.3941 - accuracy: 0.8548 - val_loss: 0.5805 - val_accuracy: 0.7541\n",
            "Epoch 82/100\n",
            "159/159 [==============================] - 0s 3ms/step - loss: 0.3938 - accuracy: 0.8494 - val_loss: 0.5828 - val_accuracy: 0.7555\n",
            "Epoch 83/100\n",
            "159/159 [==============================] - 0s 3ms/step - loss: 0.3901 - accuracy: 0.8526 - val_loss: 0.5995 - val_accuracy: 0.7546\n",
            "Epoch 84/100\n",
            "159/159 [==============================] - 0s 3ms/step - loss: 0.3937 - accuracy: 0.8487 - val_loss: 0.5927 - val_accuracy: 0.7486\n",
            "Epoch 85/100\n",
            "159/159 [==============================] - 0s 3ms/step - loss: 0.3894 - accuracy: 0.8567 - val_loss: 0.5997 - val_accuracy: 0.7560\n",
            "Epoch 86/100\n",
            "159/159 [==============================] - 1s 3ms/step - loss: 0.3872 - accuracy: 0.8550 - val_loss: 0.6088 - val_accuracy: 0.7551\n",
            "Epoch 87/100\n",
            "159/159 [==============================] - 1s 3ms/step - loss: 0.3888 - accuracy: 0.8520 - val_loss: 0.5784 - val_accuracy: 0.7578\n",
            "Epoch 88/100\n",
            "159/159 [==============================] - 1s 3ms/step - loss: 0.3966 - accuracy: 0.8522 - val_loss: 0.6006 - val_accuracy: 0.7440\n",
            "Epoch 89/100\n",
            "159/159 [==============================] - 0s 3ms/step - loss: 0.3906 - accuracy: 0.8587 - val_loss: 0.5975 - val_accuracy: 0.7518\n",
            "Epoch 90/100\n",
            "159/159 [==============================] - 0s 3ms/step - loss: 0.3932 - accuracy: 0.8538 - val_loss: 0.5932 - val_accuracy: 0.7597\n",
            "Epoch 91/100\n",
            "159/159 [==============================] - 0s 3ms/step - loss: 0.3982 - accuracy: 0.8518 - val_loss: 0.5848 - val_accuracy: 0.7528\n",
            "Epoch 92/100\n",
            "159/159 [==============================] - 0s 3ms/step - loss: 0.3918 - accuracy: 0.8522 - val_loss: 0.6124 - val_accuracy: 0.7578\n",
            "Epoch 93/100\n",
            "159/159 [==============================] - 0s 3ms/step - loss: 0.3970 - accuracy: 0.8577 - val_loss: 0.6280 - val_accuracy: 0.7463\n",
            "Epoch 94/100\n",
            "159/159 [==============================] - 1s 4ms/step - loss: 0.3957 - accuracy: 0.8493 - val_loss: 0.6212 - val_accuracy: 0.7472\n",
            "Epoch 95/100\n",
            "159/159 [==============================] - 1s 4ms/step - loss: 0.3923 - accuracy: 0.8520 - val_loss: 0.5921 - val_accuracy: 0.7583\n",
            "Epoch 96/100\n",
            "159/159 [==============================] - 1s 4ms/step - loss: 0.3928 - accuracy: 0.8560 - val_loss: 0.5860 - val_accuracy: 0.7620\n",
            "Epoch 97/100\n",
            "159/159 [==============================] - 1s 4ms/step - loss: 0.3916 - accuracy: 0.8518 - val_loss: 0.6015 - val_accuracy: 0.7578\n",
            "Epoch 98/100\n",
            "159/159 [==============================] - 1s 4ms/step - loss: 0.3878 - accuracy: 0.8538 - val_loss: 0.5866 - val_accuracy: 0.7551\n",
            "Epoch 99/100\n",
            "159/159 [==============================] - 0s 3ms/step - loss: 0.3973 - accuracy: 0.8506 - val_loss: 0.5676 - val_accuracy: 0.7574\n",
            "Epoch 100/100\n",
            "159/159 [==============================] - 0s 3ms/step - loss: 0.3952 - accuracy: 0.8558 - val_loss: 0.5907 - val_accuracy: 0.7564\n"
          ]
        }
      ],
      "source": [
        "history = model.fit(X_train_pca, y_train, epochs=100, validation_data=(X_test_pca, y_test))"
      ]
    },
    {
      "cell_type": "code",
      "source": [
        "train_accuracy = history.history['accuracy']\n",
        "test_accuracy = history.history['val_accuracy']\n",
        "epochs = range(1, len(train_accuracy) + 1)"
      ],
      "metadata": {
        "id": "5RYOu9jcF98z"
      },
      "id": "5RYOu9jcF98z",
      "execution_count": 99,
      "outputs": []
    },
    {
      "cell_type": "code",
      "source": [
        "plt.plot(epochs, train_accuracy, 'b', label='Training Accuracy')\n",
        "plt.plot(epochs, test_accuracy, 'r', label='Testing Accuracy')\n",
        "plt.title('Training and Testing Accuracy')\n",
        "plt.xlabel('Epochs')\n",
        "plt.ylabel('Accuracy')\n",
        "plt.legend()\n",
        "plt.show()"
      ],
      "metadata": {
        "colab": {
          "base_uri": "https://localhost:8080/",
          "height": 472
        },
        "id": "004kGLbXF91_",
        "outputId": "9930a3d7-c35f-458c-acc8-8e341467bde5"
      },
      "id": "004kGLbXF91_",
      "execution_count": 100,
      "outputs": [
        {
          "output_type": "display_data",
          "data": {
            "text/plain": [
              "<Figure size 640x480 with 1 Axes>"
            ],
            "image/png": "[encoded data removed]"
          },
          "metadata": {}
        }
      ]
    },
    {
      "cell_type": "code",
      "source": [
        "_, accuracy = model.evaluate(X_test_pca, y_test)\n",
        "print(\"Test Accuracy:\", accuracy)"
      ],
      "metadata": {
        "colab": {
          "base_uri": "https://localhost:8080/"
        },
        "id": "q_XmkJGiADU0",
        "outputId": "536cb7ad-e25d-4cfb-9609-dec2d66134da"
      },
      "id": "q_XmkJGiADU0",
      "execution_count": 101,
      "outputs": [
        {
          "output_type": "stream",
          "name": "stdout",
          "text": [
            "68/68 [==============================] - 0s 2ms/step - loss: 0.5907 - accuracy: 0.7564\n",
            "Test Accuracy: 0.7564456462860107\n"
          ]
        }
      ]
    },
    {
      "cell_type": "code",
      "source": [
        "train_loss = history.history['loss']\n",
        "val_loss = history.history['val_loss']\n",
        "epochs = range(1, len(train_loss) + 1)"
      ],
      "metadata": {
        "id": "Tt5JRQvQJ9GN"
      },
      "id": "Tt5JRQvQJ9GN",
      "execution_count": 102,
      "outputs": []
    },
    {
      "cell_type": "code",
      "source": [
        "plt.plot(epochs, train_loss, 'b', label='Training Loss')\n",
        "plt.plot(epochs, val_loss, 'r', label='Validation Loss')\n",
        "plt.title('Training and Validation Loss')\n",
        "plt.xlabel('Epochs')\n",
        "plt.ylabel('Loss')\n",
        "plt.legend()\n",
        "plt.show()"
      ],
      "metadata": {
        "colab": {
          "base_uri": "https://localhost:8080/",
          "height": 472
        },
        "id": "wbYqduYTLLvA",
        "outputId": "01f452b0-3cf0-40c6-9843-53e1c73bb3d0"
      },
      "id": "wbYqduYTLLvA",
      "execution_count": 103,
      "outputs": [
        {
          "output_type": "display_data",
          "data": {
            "text/plain": [
              "<Figure size 640x480 with 1 Axes>"
            ],
            "image/png": "[encoded data removed]"
          },
          "metadata": {}
        }
      ]
    },
    {
      "cell_type": "code",
      "source": [],
      "metadata": {
        "id": "pfKu6SF7LOr5"
      },
      "id": "pfKu6SF7LOr5",
      "execution_count": null,
      "outputs": []
    }
  ],
  "metadata": {
    "kernelspec": {
      "display_name": "Python 3 (ipykernel)",
      "language": "python",
      "name": "python3"
    },
    "language_info": {
      "codemirror_mode": {
        "name": "ipython",
        "version": 3
      },
      "file_extension": ".py",
      "mimetype": "text/x-python",
      "name": "python",
      "nbconvert_exporter": "python",
      "pygments_lexer": "ipython3",
      "version": "3.11.7"
    },
    "colab": {
      "provenance": [],
      "include_colab_link": true
    }
  },
  "nbformat": 4,
  "nbformat_minor": 5
}